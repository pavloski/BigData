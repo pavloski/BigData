{
 "cells": [
  {
   "cell_type": "markdown",
   "id": "7c159399",
   "metadata": {},
   "source": [
    "# Exercise: Capital City Quizzer"
   ]
  },
  {
   "cell_type": "markdown",
   "id": "eaacf3e2",
   "metadata": {},
   "source": [
    "Given a dictionary of country and capital city pairs, write a program, called world_capitals.py, that queries a user to guess the capital city of a randomly selected country.  Quiz the user five times, provide feedback on correct and incorrect guesses, then exit the program. \n",
    "\n",
    "Some of the Python commands that you'll use:\n",
    "\n",
    "* `choice(countries)`\n",
    "* `input(...)`\n",
    "* `list(capitals_dict.keys())`\n",
    "\n",
    "Take a look at documentation to understand the syntax of each."
   ]
  },
  {
   "cell_type": "markdown",
   "id": "e165d8f9",
   "metadata": {},
   "source": [
    "* Use a `for` loop to manage user queries\n",
    "\n",
    "* Query the user in the following manner:\n",
    "\n",
    "      capital_guess = input(\"What is the capital of \" + country + \"? \")\n",
    "      \n",
    "* If the user guesses correctly, print: \"Correct! Nice job.\"\n",
    "\n",
    "* If the user incorrectly guesses the answer, print: \"Incorrect. The capital of \" + country + \" is \" + capital + \".\"\n",
    "\n",
    "* After five queries, terminate the loop and print: \"All done!\"\n"
   ]
  },
  {
   "cell_type": "markdown",
   "id": "90434eb7",
   "metadata": {},
   "source": [
    "A sampling of the dictionary of country (key), capital city (value) pairs follows:\n",
    "\n",
    "                capitals_dict = {\n",
    "                'Afghanistan' : 'Kabul',\n",
    "                'Albania' : 'Tirana',\n",
    "                'Algeria' : 'Algiers',\n",
    "                'Andorra' : 'Andorra la Vella',\n",
    "                'Angola' :  'Luanda', ...\n",
    "                }"
   ]
  }
 ],
 "metadata": {
  "kernelspec": {
   "display_name": "Python 3 (ipykernel)",
   "language": "python",
   "name": "python3"
  },
  "language_info": {
   "codemirror_mode": {
    "name": "ipython",
    "version": 3
   },
   "file_extension": ".py",
   "mimetype": "text/x-python",
   "name": "python",
   "nbconvert_exporter": "python",
   "pygments_lexer": "ipython3",
   "version": "3.9.7"
  }
 },
 "nbformat": 4,
 "nbformat_minor": 5
}
