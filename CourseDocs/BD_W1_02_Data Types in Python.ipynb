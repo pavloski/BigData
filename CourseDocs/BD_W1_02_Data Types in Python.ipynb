{
 "cells": [
  {
   "cell_type": "markdown",
   "id": "2da6915d",
   "metadata": {},
   "source": [
    "## Data Types\n",
    "\n",
    "### Numbers\n",
    "* From arithmetic discussion, learned about two data types\n",
    "    * integers\n",
    "    * floats (decimals)\n",
    "* `type` is a *function*\n",
    "* a function is a name with inputs which encapsulates a useful bit of work\n",
    "* This function returns the *data type* of an argument, the object in the parenthesis."
   ]
  },
  {
   "cell_type": "code",
   "execution_count": null,
   "id": "7981b040",
   "metadata": {},
   "outputs": [],
   "source": [
    "type(1)"
   ]
  },
  {
   "cell_type": "code",
   "execution_count": null,
   "id": "fa28d75e",
   "metadata": {},
   "outputs": [],
   "source": [
    "type(1.0)"
   ]
  },
  {
   "cell_type": "markdown",
   "id": "2cff84c8",
   "metadata": {},
   "source": [
    "Note that `=` is the *assignment* operator.  Assigns value of right side of expression to left side operand.\n",
    "\n",
    "So we can use a single equal sign to do a variable assignment, so we can say `x` equals 4, and now we can use the variable name `x` in further computation."
   ]
  },
  {
   "cell_type": "code",
   "execution_count": null,
   "id": "f9ad9351",
   "metadata": {},
   "outputs": [],
   "source": [
    "x = 7"
   ]
  },
  {
   "cell_type": "code",
   "execution_count": null,
   "id": "4faf0f43",
   "metadata": {},
   "outputs": [],
   "source": [
    "print(x)"
   ]
  },
  {
   "cell_type": "code",
   "execution_count": null,
   "id": "3d7c0863",
   "metadata": {},
   "outputs": [],
   "source": [
    "type(x)"
   ]
  },
  {
   "cell_type": "markdown",
   "id": "0f5808f3",
   "metadata": {},
   "source": [
    "`type` takes as input some objects like the number 7, and it spits out what data type that object is."
   ]
  },
  {
   "cell_type": "markdown",
   "id": "33e1870a",
   "metadata": {},
   "source": [
    "### Strings\n",
    "Another data type, is called a *string*.\n",
    "* It is an array of sequenced characters written inside single or double quotes"
   ]
  },
  {
   "cell_type": "code",
   "execution_count": null,
   "id": "fb8871fe",
   "metadata": {},
   "outputs": [],
   "source": [
    "\"Hello\""
   ]
  },
  {
   "cell_type": "code",
   "execution_count": null,
   "id": "4de52d96",
   "metadata": {},
   "outputs": [],
   "source": [
    "type(\"Hello\")"
   ]
  },
  {
   "cell_type": "markdown",
   "id": "9495b493",
   "metadata": {},
   "source": [
    "Strings are important as they allow us to print and communicate with the outside world."
   ]
  },
  {
   "cell_type": "markdown",
   "id": "ca5e2cb0",
   "metadata": {},
   "source": [
    "An important operation on strings is concatentation."
   ]
  },
  {
   "cell_type": "code",
   "execution_count": null,
   "id": "ac121f8e",
   "metadata": {},
   "outputs": [],
   "source": [
    "\"Hello\" + \"World\""
   ]
  },
  {
   "cell_type": "code",
   "execution_count": null,
   "id": "de603bf9",
   "metadata": {},
   "outputs": [],
   "source": [
    "\"Hello\" + \" \" + \"World\""
   ]
  },
  {
   "cell_type": "markdown",
   "id": "e72805f6",
   "metadata": {},
   "source": [
    "In Python you can assign any data type to a variable, so strings are no exception."
   ]
  },
  {
   "cell_type": "code",
   "execution_count": null,
   "id": "908bdcf9",
   "metadata": {},
   "outputs": [],
   "source": [
    "name = \"Santiago\""
   ]
  },
  {
   "cell_type": "code",
   "execution_count": null,
   "id": "5bc8d360",
   "metadata": {},
   "outputs": [],
   "source": [
    "type(name)"
   ]
  },
  {
   "cell_type": "code",
   "execution_count": null,
   "id": "817cd37e",
   "metadata": {},
   "outputs": [],
   "source": [
    "\"Hello \" + name"
   ]
  },
  {
   "cell_type": "markdown",
   "id": "d59a626c",
   "metadata": {},
   "source": [
    "What about double vs. single quotes?"
   ]
  },
  {
   "cell_type": "code",
   "execution_count": null,
   "id": "98037c68",
   "metadata": {},
   "outputs": [],
   "source": [
    "'Santiago' == \"Santiago\"  \n",
    "# if the values of two operands are equal, then the condition becomes true."
   ]
  },
  {
   "cell_type": "markdown",
   "id": "2de10138",
   "metadata": {},
   "source": [
    "What is this, \"1\" ? And, what about this, \"1.0\" ?  "
   ]
  },
  {
   "cell_type": "code",
   "execution_count": null,
   "id": "6e3034c3",
   "metadata": {},
   "outputs": [],
   "source": [
    "type(\"1\")"
   ]
  },
  {
   "cell_type": "code",
   "execution_count": null,
   "id": "fdebd062",
   "metadata": {},
   "outputs": [],
   "source": [
    "type(\"1.0\")"
   ]
  },
  {
   "cell_type": "markdown",
   "id": "7606fb7c",
   "metadata": {},
   "source": [
    "The addition operator is used to add numbers and to concatenate strings.  Can we add a string to an integer?"
   ]
  },
  {
   "cell_type": "code",
   "execution_count": null,
   "id": "2ea00530",
   "metadata": {},
   "outputs": [],
   "source": [
    "4 + \"pitter patter\""
   ]
  },
  {
   "cell_type": "markdown",
   "id": "9c470c2f",
   "metadata": {},
   "source": [
    "We get a traceback, indicating something is wrong.  Here we have a *type error*.  We can't add a string and an integer, and we can't concatenate them.  Python doesn't know how to do what we've asked.\n",
    "\n",
    "We can fix this with a new function, called the `str` function"
   ]
  },
  {
   "cell_type": "code",
   "execution_count": null,
   "id": "4f7a13d0",
   "metadata": {
    "scrolled": false
   },
   "outputs": [],
   "source": [
    "# get help on this function, show shift-tab on str\n",
    "str?"
   ]
  },
  {
   "cell_type": "code",
   "execution_count": null,
   "id": "0da5926b",
   "metadata": {},
   "outputs": [],
   "source": [
    "str(1)"
   ]
  },
  {
   "cell_type": "markdown",
   "id": "0e701620",
   "metadata": {},
   "source": [
    "What will happen with? \n",
    "\n",
    "                    \"Hello \" + str(1)\n",
    "                    "
   ]
  },
  {
   "cell_type": "markdown",
   "id": "af6d9ff0",
   "metadata": {},
   "source": [
    "We know we can concatenate strings, and we know that the `str` function turns a number into a string, so this should work.\n"
   ]
  },
  {
   "cell_type": "code",
   "execution_count": null,
   "id": "a07265bd",
   "metadata": {},
   "outputs": [],
   "source": [
    "\"Hello \" + str(1)"
   ]
  },
  {
   "cell_type": "markdown",
   "id": "a0a827e0",
   "metadata": {},
   "source": [
    "Strings have a notion of length.  How do we measure?  The `len` function."
   ]
  },
  {
   "cell_type": "code",
   "execution_count": null,
   "id": "d3e7581d",
   "metadata": {},
   "outputs": [],
   "source": [
    "len?"
   ]
  },
  {
   "cell_type": "code",
   "execution_count": null,
   "id": "bcf09357",
   "metadata": {},
   "outputs": [],
   "source": [
    "len(\"Hello\")"
   ]
  },
  {
   "cell_type": "markdown",
   "id": "40af8796",
   "metadata": {},
   "source": [
    "We can multiply a string by a number?  Why would we do this?"
   ]
  },
  {
   "cell_type": "code",
   "execution_count": null,
   "id": "f282d81c",
   "metadata": {},
   "outputs": [],
   "source": [
    "'A' * 40"
   ]
  },
  {
   "cell_type": "markdown",
   "id": "b8900456",
   "metadata": {},
   "source": [
    "Algebra with strings "
   ]
  },
  {
   "cell_type": "code",
   "execution_count": null,
   "id": "35396f18",
   "metadata": {},
   "outputs": [],
   "source": [
    "h = 'Happy'\n",
    "b = 'Birthday'\n",
    "(h + b)*10"
   ]
  },
  {
   "cell_type": "code",
   "execution_count": null,
   "id": "61fd9569",
   "metadata": {},
   "outputs": [],
   "source": [
    "len((h + b)*10)  # 13 * 10"
   ]
  },
  {
   "cell_type": "markdown",
   "id": "010c987d",
   "metadata": {},
   "source": [
    "## The `print` function"
   ]
  },
  {
   "cell_type": "code",
   "execution_count": null,
   "id": "026cf740",
   "metadata": {
    "scrolled": false
   },
   "outputs": [],
   "source": [
    "\"Hello\""
   ]
  },
  {
   "cell_type": "markdown",
   "id": "baab19a0",
   "metadata": {},
   "source": [
    "When we type \"Hello\" in jupyter or in Python interactive mode (from a terminal) the string is returned to the screen.  When we write scripts and run them, we need a way to return output like this."
   ]
  },
  {
   "cell_type": "markdown",
   "id": "70fbb6c0",
   "metadata": {},
   "source": [
    "If we type in `z = 4` into a cell, then `z`, 4 is returned to the screen"
   ]
  },
  {
   "cell_type": "code",
   "execution_count": null,
   "id": "d6b1eb9c",
   "metadata": {},
   "outputs": [],
   "source": [
    "z = 4"
   ]
  },
  {
   "cell_type": "code",
   "execution_count": null,
   "id": "0c183017",
   "metadata": {},
   "outputs": [],
   "source": [
    "z"
   ]
  },
  {
   "cell_type": "markdown",
   "id": "6e91681a",
   "metadata": {},
   "source": [
    "This only works interactively, it doesn't work in files.  Thus, we need a more explicit way to handle output.\n",
    "\n",
    "This is where the `print` function becomes important. \n",
    "\n",
    "`print(\"Hello\")`, ensures that the string is displayed when you run a file.\n",
    "\n",
    "Note that the input can be as complex as you want."
   ]
  },
  {
   "cell_type": "code",
   "execution_count": null,
   "id": "3c71ab91",
   "metadata": {},
   "outputs": [],
   "source": [
    "# show help for print\n",
    "print?"
   ]
  },
  {
   "cell_type": "code",
   "execution_count": null,
   "id": "b770d3f9",
   "metadata": {},
   "outputs": [],
   "source": [
    "name = 'Santiago'"
   ]
  },
  {
   "cell_type": "code",
   "execution_count": null,
   "id": "d24c02fd",
   "metadata": {},
   "outputs": [],
   "source": [
    "print(\"Hello \" + name)"
   ]
  }
 ],
 "metadata": {
  "kernelspec": {
   "display_name": "Python 3 (ipykernel)",
   "language": "python",
   "name": "python3"
  },
  "language_info": {
   "codemirror_mode": {
    "name": "ipython",
    "version": 3
   },
   "file_extension": ".py",
   "mimetype": "text/x-python",
   "name": "python",
   "nbconvert_exporter": "python",
   "pygments_lexer": "ipython3",
   "version": "3.9.7"
  }
 },
 "nbformat": 4,
 "nbformat_minor": 5
}
