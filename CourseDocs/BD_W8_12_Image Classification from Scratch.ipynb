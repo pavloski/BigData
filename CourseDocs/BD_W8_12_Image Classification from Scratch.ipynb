{
 "cells": [
  {
   "cell_type": "markdown",
   "id": "a9a3127d",
   "metadata": {},
   "source": [
    "# Image Classification from Scratch (adapted from [1])"
   ]
  },
  {
   "cell_type": "markdown",
   "id": "b66129a6",
   "metadata": {},
   "source": [
    "***\n",
    "# Introduction\n",
    "\n",
    "This example shows how to do image classification from scratch, starting from JPEG image files on disk, without leveraging pre-trained weights or a pre-made Keras Application model. We demonstrate the workflow on the Kaggle Cats vs. Dogs binary classification dataset.\n",
    "\n",
    "We use the `image_dataset_from_directory` utility to generate the datasets, and we use Keras image preprocessing layers for image standardization and data augmentation."
   ]
  },
  {
   "cell_type": "markdown",
   "id": "666c91c5",
   "metadata": {},
   "source": [
    "***\n",
    "# Setup"
   ]
  },
  {
   "cell_type": "code",
   "execution_count": null,
   "id": "a50dca9d",
   "metadata": {},
   "outputs": [],
   "source": [
    "# Load libraries\n",
    "import tensorflow as tf\n",
    "from tensorflow import keras\n",
    "from tensorflow.keras import layers"
   ]
  },
  {
   "cell_type": "markdown",
   "id": "685d43b2",
   "metadata": {},
   "source": [
    "***\n",
    "# Load the data: the Cats vs. Dogs dataset\n",
    "\n",
    "Raw data download\n",
    "\n",
    "First, let's download the 786M ZIP archive of the raw data:"
   ]
  },
  {
   "cell_type": "code",
   "execution_count": null,
   "id": "61d74ee1",
   "metadata": {},
   "outputs": [],
   "source": [
    "!curl -O https://download.microsoft.com/download/3/E/1/3E1C3F21-ECDB-4869-8368-6DEBA77B919F/kagglecatsanddogs_5340.zip"
   ]
  },
  {
   "cell_type": "code",
   "execution_count": null,
   "id": "bc43ceab",
   "metadata": {},
   "outputs": [],
   "source": [
    "#!unzip -q kagglecatsanddogs_5340.zip\n",
    "!tar -xf kagglecatsanddogs_5340.zip\n",
    "!dir"
   ]
  },
  {
   "cell_type": "markdown",
   "id": "52ffd65d",
   "metadata": {},
   "source": [
    "Now we have a PetImages folder which contain two subfolders, Cat and Dog. Each subfolder contains image files for each category."
   ]
  },
  {
   "cell_type": "code",
   "execution_count": null,
   "id": "4469e749",
   "metadata": {},
   "outputs": [],
   "source": [
    "!dir PetImages"
   ]
  },
  {
   "cell_type": "markdown",
   "id": "a1fa5372",
   "metadata": {},
   "source": [
    "***\n",
    "# Filter out corrupted images\n",
    "\n",
    "When working with lots of real-world image data, corrupted images are a common occurence. Let's filter out badly-encoded images that do not feature the string \"JFIF\" in their header."
   ]
  },
  {
   "cell_type": "code",
   "execution_count": null,
   "id": "2f15356f",
   "metadata": {},
   "outputs": [],
   "source": [
    "import os\n",
    "\n",
    "num_skipped = 0\n",
    "for folder_name in (\"Cat\", \"Dog\"):\n",
    "    folder_path = os.path.join(\"PetImages\", folder_name)\n",
    "    for fname in os.listdir(folder_path):\n",
    "        fpath = os.path.join(folder_path, fname)\n",
    "        try:\n",
    "            fobj = open(fpath, \"rb\")\n",
    "            is_jfif = tf.compat.as_bytes(\"JFIF\") in fobj.peek(10)\n",
    "        finally:\n",
    "            fobj.close()\n",
    "\n",
    "        if not is_jfif:\n",
    "            num_skipped += 1\n",
    "            # Delete corrupted image\n",
    "            os.remove(fpath)\n",
    "\n",
    "print(\"Deleted %d images\" % num_skipped)"
   ]
  },
  {
   "cell_type": "markdown",
   "id": "93f0c9f5",
   "metadata": {},
   "source": [
    "***\n",
    "# Generate a dataset"
   ]
  },
  {
   "cell_type": "code",
   "execution_count": null,
   "id": "6dfb493c",
   "metadata": {},
   "outputs": [],
   "source": [
    "image_size = (180, 180)\n",
    "batch_size = 32\n",
    "\n",
    "train_ds = tf.keras.preprocessing.image_dataset_from_directory(\n",
    "    \"PetImages\",\n",
    "    validation_split=0.2,\n",
    "    subset=\"training\",\n",
    "    seed=1337,\n",
    "    image_size=image_size,\n",
    "    batch_size=batch_size,\n",
    ")\n",
    "val_ds = tf.keras.preprocessing.image_dataset_from_directory(\n",
    "    \"PetImages\",\n",
    "    validation_split=0.2,\n",
    "    subset=\"validation\",\n",
    "    seed=1337,\n",
    "    image_size=image_size,\n",
    "    batch_size=batch_size,\n",
    ")"
   ]
  },
  {
   "cell_type": "markdown",
   "id": "b851d043",
   "metadata": {},
   "source": [
    "***\n",
    "# Visualize the data\n",
    "\n",
    "Here are the first 9 images in the training dataset. As you can see, label 1 is \"dog\" and label 0 is \"cat\"."
   ]
  },
  {
   "cell_type": "code",
   "execution_count": null,
   "id": "d0453fa7",
   "metadata": {},
   "outputs": [],
   "source": [
    "import matplotlib.pyplot as plt\n",
    "\n",
    "plt.figure(figsize=(10, 10))\n",
    "for images, labels in train_ds.take(1):\n",
    "    for i in range(9):\n",
    "        ax = plt.subplot(3, 3, i + 1)\n",
    "        plt.imshow(images[i].numpy().astype(\"uint8\"))\n",
    "        plt.title(int(labels[i]))\n",
    "        plt.axis(\"off\")"
   ]
  },
  {
   "cell_type": "markdown",
   "id": "661ac042",
   "metadata": {},
   "source": [
    "***\n",
    "# Using image data augmentation\n",
    "\n",
    "When you don't have a large image dataset, it's a good practice to artificially introduce sample diversity by applying random yet realistic transformations to the training images, such as random horizontal flipping or small random rotations. This helps expose the model to different aspects of the training data while slowing down overfitting."
   ]
  },
  {
   "cell_type": "code",
   "execution_count": null,
   "id": "2c4df70f",
   "metadata": {},
   "outputs": [],
   "source": [
    "data_augmentation = keras.Sequential(\n",
    "    [\n",
    "        layers.experimental.preprocessing.RandomFlip(\"horizontal\"),\n",
    "        layers.experimental.preprocessing.RandomRotation(0.1),\n",
    "    ]\n",
    ")"
   ]
  },
  {
   "cell_type": "markdown",
   "id": "3cec470a",
   "metadata": {},
   "source": [
    "Let's visualize what the augmented samples look like, by applying data_augmentation repeatedly to the first image in the dataset:"
   ]
  },
  {
   "cell_type": "code",
   "execution_count": null,
   "id": "2a05bf2b",
   "metadata": {},
   "outputs": [],
   "source": [
    "plt.figure(figsize=(10, 10))\n",
    "for images, _ in train_ds.take(1):\n",
    "    for i in range(9):\n",
    "        augmented_images = data_augmentation(images)\n",
    "        ax = plt.subplot(3, 3, i + 1)\n",
    "        plt.imshow(augmented_images[0].numpy().astype(\"uint8\"))\n",
    "        plt.axis(\"off\")"
   ]
  },
  {
   "cell_type": "markdown",
   "id": "8af7729e",
   "metadata": {},
   "source": [
    "***\n",
    "# Standardizing the data\n",
    "\n",
    "Our image are already in a standard size (180x180), as they are being yielded as contiguous `float32` batches by our dataset. However, their RGB channel values are in the [0, 255] range. This is not ideal for a neural network; in general you should seek to make your input values small. Here, we will standardize values to be in the [0, 1] by using a Rescaling layer at the start of our model."
   ]
  },
  {
   "cell_type": "code",
   "execution_count": null,
   "id": "1863c7c4",
   "metadata": {},
   "outputs": [],
   "source": [
    "augmented_train_ds = train_ds.map(\n",
    "  lambda x, y: (data_augmentation(x, training=True), y))"
   ]
  },
  {
   "cell_type": "markdown",
   "id": "c9721349",
   "metadata": {},
   "source": [
    "***\n",
    "# Configure the dataset for performance\n",
    "\n",
    "Let's make sure to use buffered prefetching so we can yield data from disk without having I/O becoming blocking:"
   ]
  },
  {
   "cell_type": "code",
   "execution_count": null,
   "id": "3989ac33",
   "metadata": {},
   "outputs": [],
   "source": [
    "train_ds = train_ds.prefetch(buffer_size=32)\n",
    "val_ds = val_ds.prefetch(buffer_size=32)"
   ]
  },
  {
   "cell_type": "markdown",
   "id": "1dc36103",
   "metadata": {},
   "source": [
    "***\n",
    "# Build a model\n",
    "\n",
    "We'll build a small version of the Xception network. We haven't particularly tried to optimize the architecture; if you want to do a systematic search for the best model configuration, consider using Keras Tuner.\n",
    "\n",
    "Note that:\n",
    "\n",
    "* We start the model with the `data_augmentation` preprocessor, followed by a Rescaling layer.\n",
    "* We include a Dropout layer before the final classification layer.\n",
    "\n",
    "### See Also\n",
    "* [Xception: Deep Learning with Depthwise Separable Convolutions](https://arxiv.org/abs/1610.02357)\n"
   ]
  },
  {
   "cell_type": "code",
   "execution_count": null,
   "id": "f5bc2bfe",
   "metadata": {},
   "outputs": [],
   "source": [
    "def make_model(input_shape, num_classes):\n",
    "    inputs = keras.Input(shape=input_shape)\n",
    "    # Image augmentation block\n",
    "    x = data_augmentation(inputs)\n",
    "\n",
    "    # Entry block\n",
    "    x = layers.experimental.preprocessing.Rescaling(1.0 / 255)(x)\n",
    "    x = layers.Conv2D(32, 3, strides=2, padding=\"same\")(x)\n",
    "    x = layers.BatchNormalization()(x)\n",
    "    x = layers.Activation(\"relu\")(x)\n",
    "\n",
    "    x = layers.Conv2D(64, 3, padding=\"same\")(x)\n",
    "    x = layers.BatchNormalization()(x)\n",
    "    x = layers.Activation(\"relu\")(x)\n",
    "\n",
    "    previous_block_activation = x  # Set aside residual\n",
    "\n",
    "    for size in [128, 256, 512, 728]:\n",
    "        x = layers.Activation(\"relu\")(x)\n",
    "        x = layers.SeparableConv2D(size, 3, padding=\"same\")(x)\n",
    "        x = layers.BatchNormalization()(x)\n",
    "\n",
    "        x = layers.Activation(\"relu\")(x)\n",
    "        x = layers.SeparableConv2D(size, 3, padding=\"same\")(x)\n",
    "        x = layers.BatchNormalization()(x)\n",
    "\n",
    "        x = layers.MaxPooling2D(3, strides=2, padding=\"same\")(x)\n",
    "\n",
    "        # Project residual\n",
    "        residual = layers.Conv2D(size, 1, strides=2, padding=\"same\")(\n",
    "            previous_block_activation\n",
    "        )\n",
    "        x = layers.add([x, residual])  # Add back residual\n",
    "        previous_block_activation = x  # Set aside next residual\n",
    "\n",
    "    x = layers.SeparableConv2D(1024, 3, padding=\"same\")(x)\n",
    "    x = layers.BatchNormalization()(x)\n",
    "    x = layers.Activation(\"relu\")(x)\n",
    "\n",
    "    x = layers.GlobalAveragePooling2D()(x)\n",
    "    if num_classes == 2:\n",
    "        activation = \"sigmoid\"\n",
    "        units = 1\n",
    "    else:\n",
    "        activation = \"softmax\"\n",
    "        units = num_classes\n",
    "\n",
    "    x = layers.Dropout(0.5)(x)\n",
    "    outputs = layers.Dense(units, activation=activation)(x)\n",
    "    return keras.Model(inputs, outputs)\n",
    "\n",
    "\n",
    "model = make_model(input_shape=image_size + (3,), num_classes=2)\n",
    "keras.utils.plot_model(model, show_shapes=True)"
   ]
  },
  {
   "cell_type": "markdown",
   "id": "fe2f53f2",
   "metadata": {},
   "source": [
    "***\n",
    "# Train the model"
   ]
  },
  {
   "cell_type": "code",
   "execution_count": null,
   "id": "2bafe7b6",
   "metadata": {},
   "outputs": [],
   "source": [
    "#epochs = 50 # This will take a long time (several hours).  Try something smaller to start off with.\n",
    "epochs = 2\n",
    "\n",
    "callbacks = [\n",
    "    keras.callbacks.ModelCheckpoint(\"save_at_{epoch}.h5\"),\n",
    "]\n",
    "model.compile(\n",
    "    optimizer=keras.optimizers.Adam(1e-3),\n",
    "    loss=\"binary_crossentropy\",\n",
    "    metrics=[\"accuracy\"],\n",
    ")\n",
    "model.fit(\n",
    "    train_ds, epochs=epochs, callbacks=callbacks, validation_data=val_ds,\n",
    ")\n"
   ]
  },
  {
   "cell_type": "markdown",
   "id": "f501d647",
   "metadata": {},
   "source": [
    "We get to ~96% validation accuracy after training for 50 epochs on the full dataset.\n",
    "***\n",
    "# Run inference on new data\n",
    "\n",
    "Note that data augmentation and dropout are inactive at inference time."
   ]
  },
  {
   "cell_type": "code",
   "execution_count": null,
   "id": "93c89597",
   "metadata": {},
   "outputs": [],
   "source": [
    "img = keras.preprocessing.image.load_img(\n",
    "    \"PetImages/Cat/6775.jpg\", target_size=image_size\n",
    ")\n",
    "img_array = keras.preprocessing.image.img_to_array(img)\n",
    "img_array = tf.expand_dims(img_array, 0)  # Create batch axis\n",
    "\n",
    "predictions = model.predict(img_array)\n",
    "score = predictions[0]\n",
    "print(\n",
    "    \"This image is %.2f percent cat and %.2f percent dog.\"\n",
    "    % (100 * (1 - score), 100 * score)\n",
    ")"
   ]
  },
  {
   "cell_type": "code",
   "execution_count": null,
   "id": "86b3d0be",
   "metadata": {},
   "outputs": [],
   "source": [
    "# Display inference image\n",
    "plt.figure(figsize=(10, 10))\n",
    "plt.imshow(img)\n",
    "plt.title('This image is %.2f percent cat and %.2f percent dog.'% (100 * (1 - score), 100 * score))\n",
    "plt.axis(\"off\")\n",
    "plt.show()"
   ]
  },
  {
   "cell_type": "markdown",
   "id": "7b5c8ba6",
   "metadata": {},
   "source": [
    "# References\n",
    "* [1] [Image Classification from Scratch, Keras](https://keras.io/examples/vision/image_classification_from_scratch/) (Source Document)\n",
    "* [2] [Xception: Deep Learning with Depthwise Separable Convolutions](https://arxiv.org/abs/1610.02357)"
   ]
  }
 ],
 "metadata": {
  "kernelspec": {
   "display_name": "Python 3 (ipykernel)",
   "language": "python",
   "name": "python3"
  },
  "language_info": {
   "codemirror_mode": {
    "name": "ipython",
    "version": 3
   },
   "file_extension": ".py",
   "mimetype": "text/x-python",
   "name": "python",
   "nbconvert_exporter": "python",
   "pygments_lexer": "ipython3",
   "version": "3.9.7"
  }
 },
 "nbformat": 4,
 "nbformat_minor": 5
}
