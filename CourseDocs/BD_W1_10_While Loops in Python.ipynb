{
 "cells": [
  {
   "cell_type": "markdown",
   "id": "08293d41",
   "metadata": {},
   "source": [
    "# While Loops"
   ]
  },
  {
   "cell_type": "markdown",
   "id": "2ab8f220",
   "metadata": {},
   "source": [
    "We've seen some looping constructs already using the `for` loop.  We were able to iterate over a list and also iterate through a loop a fixed number of times.\n",
    "\n",
    "1. iterate over a list\n",
    "\n",
    "\t\t\tnames = ['Alice', 'Bob', 'Cara']\n",
    "\t\t\tfor name in names:\n",
    "\t\t\t    print(\"Hello \" + name)\n",
    "\n",
    "\n",
    "Here, given a list of `names`, for every `name` in list we do indented work.\n",
    "\n",
    "2. iterate a fixed number of times\n",
    "\n",
    "\t\t\tfor i in [0, 1, 2, 3, 4]:\n",
    "\t\t\t    print(\"Hello \" + str(1))\n",
    "\n",
    "Here, `i` is a loop counter,  and we loop a fixed number of times."
   ]
  },
  {
   "cell_type": "markdown",
   "id": "1dae8687",
   "metadata": {},
   "source": [
    "A third conceptual way to loop is to loop an unknown number of times while some condition is true.  We can do this with a construct called a  `while` loop.\n",
    "\n",
    "It is like an `if` statement, because `while` takes a condition that is either `True` or `False`.\n",
    "\n",
    "\n",
    "We have `while` loop:\n",
    "\n",
    "* The construct is the `while` keyword, a condition, then a colon.  This is followed by the body of the loop.\n",
    "* The condition will either evaluate to a Boolean `True` or `False`.\n",
    "* As long as the condition is True, we keep looping.\n",
    "\t* There is something inside the `while` loop body that will change the condition to False.\n",
    "\t* This could be a counter that is incrementing at each step of the loop.\n",
    "    * Condition could be: \n",
    "    \n",
    "                    counter < 5\n",
    "                    \n",
    "    * and in the body of the `while` loop we increment this counter by one:\n",
    "    \n",
    "                     counter = counter + 1\n",
    "                     \n",
    "    * When counter exceeds 4, the while loop is terminated.                 "
   ]
  },
  {
   "cell_type": "markdown",
   "id": "229db94c",
   "metadata": {},
   "source": [
    "## Example: Iterate over a list"
   ]
  },
  {
   "cell_type": "code",
   "execution_count": null,
   "id": "95d932c8",
   "metadata": {},
   "outputs": [],
   "source": [
    "names = ['Alice', 'Bob', 'Cara']\n",
    "for name in names:\n",
    "    print(\"Hello \" + name)"
   ]
  },
  {
   "cell_type": "markdown",
   "id": "c690b81b",
   "metadata": {},
   "source": [
    "## Example: Iterate a fixed number of times"
   ]
  },
  {
   "cell_type": "code",
   "execution_count": null,
   "id": "e3ead377",
   "metadata": {},
   "outputs": [],
   "source": [
    "for i in [0, 1, 2, 3, 4]:\n",
    "    print(\"Hello \" + str(1))"
   ]
  },
  {
   "cell_type": "markdown",
   "id": "7f608e53",
   "metadata": {},
   "source": [
    "## Example: A `while` loop construct\n",
    "\n",
    "We construct a `while` loop.\n",
    "\n",
    "* First we initialized a counter to zero.\n",
    "\n",
    "* Then we enter the while loop, and evaluate our condition, is the value of counter less than 5 true?\n",
    "\n",
    "* If it is true, we execute indented code inside `while` loop, i.e., print hello and value of counter.\n",
    "\n",
    "* Then we increment the counter by one --> take current value of counter and add 1 to it, store it back in counter.  Thus, counter is now equal to 1.\n",
    "\n",
    "* We go back to top of the `while` loop and check the condition again.\n",
    "\n",
    "\n",
    "* Now the counter is equal to 1, which is still less than 5, so we go back into the body of `while` loop and execute the indented code again. Print statement and increment counter.\n",
    "\n",
    "* We keep doing that loop until counter becomes 5.\n",
    "\n",
    "* When the counter becomes 5, 5 is not less than 5, so the condition is false, thus, we are done with `while` loop.\n",
    "\n",
    "* We jump to the bottom, continue execution."
   ]
  },
  {
   "cell_type": "code",
   "execution_count": 1,
   "id": "cb401fe8",
   "metadata": {},
   "outputs": [
    {
     "name": "stdout",
     "output_type": "stream",
     "text": [
      "Hello 0\n",
      "Hello 1\n",
      "Hello 2\n",
      "Hello 3\n",
      "Hello 4\n"
     ]
    }
   ],
   "source": [
    "counter =  0\n",
    "while counter < 5:\n",
    "    print(\"Hello \" + str(counter))\n",
    "    counter = counter + 1"
   ]
  },
  {
   "cell_type": "markdown",
   "id": "6d1d582c",
   "metadata": {},
   "source": [
    "## Example: Another `while` loop construct\n",
    "\n",
    "* Another implementation:\n",
    "\n",
    "\t\t\tcounter = 0\n",
    "\t\t\twhile True:\n",
    "            ...\n",
    "            \n",
    "* this condition is always going to evaluate as true.\n",
    "* check a condition inside the `while` loop, a condition on the counter perhaps.\n",
    "* Use a new key word `break`\n",
    "* Equivalent behavior as prior example"
   ]
  },
  {
   "cell_type": "code",
   "execution_count": null,
   "id": "567e992f",
   "metadata": {},
   "outputs": [],
   "source": [
    "counter = 0\n",
    "while True:\n",
    "    print(\"Hello \" + str(counter))\n",
    "    counter = counter + 1\n",
    "    if counter >= 5:\n",
    "        break"
   ]
  },
  {
   "cell_type": "markdown",
   "id": "a6cb6097",
   "metadata": {},
   "source": [
    "Thus, we have two choices when designing `while` loops\n",
    "\t\n",
    "1. Condition after keyword `while` that becomes `False`. \n",
    "\n",
    "2. `while True:` and then use `break` keyword inside `while` loop to break out once a condition that we check inside the `while` loop is met. \n",
    "\n",
    "We can now loop an undefined number of times.  It depends on what the data says as to when we're actually done with our while loop.\n"
   ]
  },
  {
   "cell_type": "markdown",
   "id": "02a90d57",
   "metadata": {},
   "source": [
    "## Exercise: Country Quizzer Redux\n",
    "\n",
    "In our previous implementation of the Country Quizzer, we queried a user a fixed number of times.  Let's allow the user to interact with our program as long as the user would like.\n",
    "\n",
    "* Change country quizzer.\n",
    "* Allow user to play as long as desired.\n",
    "* Termination condition: \n",
    "\n",
    "            if capital_guess == \"quit\":"
   ]
  }
 ],
 "metadata": {
  "kernelspec": {
   "display_name": "Python 3 (ipykernel)",
   "language": "python",
   "name": "python3"
  },
  "language_info": {
   "codemirror_mode": {
    "name": "ipython",
    "version": 3
   },
   "file_extension": ".py",
   "mimetype": "text/x-python",
   "name": "python",
   "nbconvert_exporter": "python",
   "pygments_lexer": "ipython3",
   "version": "3.9.7"
  }
 },
 "nbformat": 4,
 "nbformat_minor": 5
}
