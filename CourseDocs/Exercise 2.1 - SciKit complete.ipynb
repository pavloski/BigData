{
 "cells": [
  {
   "cell_type": "markdown",
   "metadata": {},
   "source": [
    "Now we are using data from real malware samples.\n",
    "\n",
    "Can we build a classifier for the polymorphic AllAple family?"
   ]
  },
  {
   "cell_type": "code",
   "execution_count": 44,
   "metadata": {},
   "outputs": [],
   "source": [
    "import pandas as pd\n",
    "from sklearn import svm\n",
    "from sklearn import model_selection\n",
    "from sklearn import metrics\n",
    "import numpy as np\n",
    "import seaborn as sns\n",
    "from sklearn import tree\n",
    "import matplotlib.pyplot as plt\n",
    "from sklearn.metrics import roc_curve, roc_auc_score\n",
    "from sklearn.model_selection import train_test_split\n",
    "from sklearn.metrics import classification_report\n",
    "from sklearn.model_selection import cross_val_score\n"
   ]
  },
  {
   "cell_type": "markdown",
   "metadata": {},
   "source": [
    "Experiment 1: Use the CLINICAL set of AllAple (these are verified AllAple samples)\n",
    "\n",
    "Experiment 2: Use the COMPLETE set of AllAple (everything labeled AllAple on VirusTotal)"
   ]
  },
  {
   "cell_type": "code",
   "execution_count": 51,
   "metadata": {},
   "outputs": [],
   "source": [
    "raw_data = pandas.read_csv('/rodata/exercise02/total_complete.csv', index_col=None)"
   ]
  },
  {
   "cell_type": "markdown",
   "metadata": {},
   "source": [
    "Split features and classes"
   ]
  },
  {
   "cell_type": "code",
   "execution_count": 52,
   "metadata": {},
   "outputs": [],
   "source": [
    "learn_data = raw_data.copy()\n",
    "classes = list(raw_data['class'])\n",
    "del learn_data['class']"
   ]
  },
  {
   "cell_type": "code",
   "execution_count": 86,
   "metadata": {},
   "outputs": [
    {
     "data": {
      "text/html": [
       "<div>\n",
       "<style scoped>\n",
       "    .dataframe tbody tr th:only-of-type {\n",
       "        vertical-align: middle;\n",
       "    }\n",
       "\n",
       "    .dataframe tbody tr th {\n",
       "        vertical-align: top;\n",
       "    }\n",
       "\n",
       "    .dataframe thead th {\n",
       "        text-align: right;\n",
       "    }\n",
       "</style>\n",
       "<table border=\"1\" class=\"dataframe\">\n",
       "  <thead>\n",
       "    <tr style=\"text-align: right;\">\n",
       "      <th></th>\n",
       "      <th>pe_FILE_HEADER_IMAGE_FILE_DLL</th>\n",
       "      <th>pe_FILE_HEADER_IMAGE_FILE_EXECUTABLE_IMAGE</th>\n",
       "      <th>pe_FILE_HEADER_NumberOfSections</th>\n",
       "      <th>pe_OPTIONAL_HEADER_BaseOfCode</th>\n",
       "      <th>pe_OPTIONAL_HEADER_BaseOfData</th>\n",
       "      <th>pe_OPTIONAL_HEADER_Subsystem</th>\n",
       "      <th>pe_OPTIONAL_HEADER_SizeOfStackCommit</th>\n",
       "      <th>pe_OPTIONAL_HEADER_SizeOfHeapCommit</th>\n",
       "      <th>pe_OPTIONAL_HEADER_SizeOfImage</th>\n",
       "      <th>pe_OPTIONAL_HEADER_MajorLinkerVersion</th>\n",
       "    </tr>\n",
       "  </thead>\n",
       "  <tbody>\n",
       "    <tr>\n",
       "      <th>0</th>\n",
       "      <td>0</td>\n",
       "      <td>1</td>\n",
       "      <td>5</td>\n",
       "      <td>4096</td>\n",
       "      <td>20480</td>\n",
       "      <td>2</td>\n",
       "      <td>4096</td>\n",
       "      <td>4096</td>\n",
       "      <td>401408</td>\n",
       "      <td>6</td>\n",
       "    </tr>\n",
       "    <tr>\n",
       "      <th>1</th>\n",
       "      <td>0</td>\n",
       "      <td>1</td>\n",
       "      <td>3</td>\n",
       "      <td>4096</td>\n",
       "      <td>12288</td>\n",
       "      <td>2</td>\n",
       "      <td>4096</td>\n",
       "      <td>4096</td>\n",
       "      <td>131072</td>\n",
       "      <td>5</td>\n",
       "    </tr>\n",
       "    <tr>\n",
       "      <th>2</th>\n",
       "      <td>0</td>\n",
       "      <td>1</td>\n",
       "      <td>5</td>\n",
       "      <td>4096</td>\n",
       "      <td>20480</td>\n",
       "      <td>2</td>\n",
       "      <td>4096</td>\n",
       "      <td>4096</td>\n",
       "      <td>401408</td>\n",
       "      <td>6</td>\n",
       "    </tr>\n",
       "    <tr>\n",
       "      <th>3</th>\n",
       "      <td>0</td>\n",
       "      <td>1</td>\n",
       "      <td>5</td>\n",
       "      <td>4096</td>\n",
       "      <td>20480</td>\n",
       "      <td>2</td>\n",
       "      <td>4096</td>\n",
       "      <td>4096</td>\n",
       "      <td>401408</td>\n",
       "      <td>6</td>\n",
       "    </tr>\n",
       "    <tr>\n",
       "      <th>4</th>\n",
       "      <td>0</td>\n",
       "      <td>1</td>\n",
       "      <td>4</td>\n",
       "      <td>4096</td>\n",
       "      <td>20480</td>\n",
       "      <td>2</td>\n",
       "      <td>4096</td>\n",
       "      <td>4096</td>\n",
       "      <td>176128</td>\n",
       "      <td>5</td>\n",
       "    </tr>\n",
       "    <tr>\n",
       "      <th>...</th>\n",
       "      <td>...</td>\n",
       "      <td>...</td>\n",
       "      <td>...</td>\n",
       "      <td>...</td>\n",
       "      <td>...</td>\n",
       "      <td>...</td>\n",
       "      <td>...</td>\n",
       "      <td>...</td>\n",
       "      <td>...</td>\n",
       "      <td>...</td>\n",
       "    </tr>\n",
       "    <tr>\n",
       "      <th>478</th>\n",
       "      <td>0</td>\n",
       "      <td>1</td>\n",
       "      <td>3</td>\n",
       "      <td>1617920</td>\n",
       "      <td>2211840</td>\n",
       "      <td>2</td>\n",
       "      <td>4096</td>\n",
       "      <td>4096</td>\n",
       "      <td>2240512</td>\n",
       "      <td>8</td>\n",
       "    </tr>\n",
       "    <tr>\n",
       "      <th>479</th>\n",
       "      <td>0</td>\n",
       "      <td>1</td>\n",
       "      <td>3</td>\n",
       "      <td>8192</td>\n",
       "      <td>16384</td>\n",
       "      <td>2</td>\n",
       "      <td>4096</td>\n",
       "      <td>4096</td>\n",
       "      <td>32768</td>\n",
       "      <td>48</td>\n",
       "    </tr>\n",
       "    <tr>\n",
       "      <th>480</th>\n",
       "      <td>0</td>\n",
       "      <td>1</td>\n",
       "      <td>1</td>\n",
       "      <td>4096</td>\n",
       "      <td>12</td>\n",
       "      <td>2</td>\n",
       "      <td>4096</td>\n",
       "      <td>4096</td>\n",
       "      <td>86016</td>\n",
       "      <td>6</td>\n",
       "    </tr>\n",
       "    <tr>\n",
       "      <th>481</th>\n",
       "      <td>0</td>\n",
       "      <td>1</td>\n",
       "      <td>4</td>\n",
       "      <td>4096</td>\n",
       "      <td>8192</td>\n",
       "      <td>2</td>\n",
       "      <td>4096</td>\n",
       "      <td>4096</td>\n",
       "      <td>28672</td>\n",
       "      <td>1</td>\n",
       "    </tr>\n",
       "    <tr>\n",
       "      <th>482</th>\n",
       "      <td>0</td>\n",
       "      <td>1</td>\n",
       "      <td>4</td>\n",
       "      <td>4096</td>\n",
       "      <td>16384</td>\n",
       "      <td>2</td>\n",
       "      <td>4096</td>\n",
       "      <td>4096</td>\n",
       "      <td>28672</td>\n",
       "      <td>6</td>\n",
       "    </tr>\n",
       "  </tbody>\n",
       "</table>\n",
       "<p>483 rows × 10 columns</p>\n",
       "</div>"
      ],
      "text/plain": [
       "     pe_FILE_HEADER_IMAGE_FILE_DLL  \\\n",
       "0                                0   \n",
       "1                                0   \n",
       "2                                0   \n",
       "3                                0   \n",
       "4                                0   \n",
       "..                             ...   \n",
       "478                              0   \n",
       "479                              0   \n",
       "480                              0   \n",
       "481                              0   \n",
       "482                              0   \n",
       "\n",
       "     pe_FILE_HEADER_IMAGE_FILE_EXECUTABLE_IMAGE  \\\n",
       "0                                             1   \n",
       "1                                             1   \n",
       "2                                             1   \n",
       "3                                             1   \n",
       "4                                             1   \n",
       "..                                          ...   \n",
       "478                                           1   \n",
       "479                                           1   \n",
       "480                                           1   \n",
       "481                                           1   \n",
       "482                                           1   \n",
       "\n",
       "     pe_FILE_HEADER_NumberOfSections  pe_OPTIONAL_HEADER_BaseOfCode  \\\n",
       "0                                  5                           4096   \n",
       "1                                  3                           4096   \n",
       "2                                  5                           4096   \n",
       "3                                  5                           4096   \n",
       "4                                  4                           4096   \n",
       "..                               ...                            ...   \n",
       "478                                3                        1617920   \n",
       "479                                3                           8192   \n",
       "480                                1                           4096   \n",
       "481                                4                           4096   \n",
       "482                                4                           4096   \n",
       "\n",
       "     pe_OPTIONAL_HEADER_BaseOfData  pe_OPTIONAL_HEADER_Subsystem  \\\n",
       "0                            20480                             2   \n",
       "1                            12288                             2   \n",
       "2                            20480                             2   \n",
       "3                            20480                             2   \n",
       "4                            20480                             2   \n",
       "..                             ...                           ...   \n",
       "478                        2211840                             2   \n",
       "479                          16384                             2   \n",
       "480                             12                             2   \n",
       "481                           8192                             2   \n",
       "482                          16384                             2   \n",
       "\n",
       "     pe_OPTIONAL_HEADER_SizeOfStackCommit  \\\n",
       "0                                    4096   \n",
       "1                                    4096   \n",
       "2                                    4096   \n",
       "3                                    4096   \n",
       "4                                    4096   \n",
       "..                                    ...   \n",
       "478                                  4096   \n",
       "479                                  4096   \n",
       "480                                  4096   \n",
       "481                                  4096   \n",
       "482                                  4096   \n",
       "\n",
       "     pe_OPTIONAL_HEADER_SizeOfHeapCommit  pe_OPTIONAL_HEADER_SizeOfImage  \\\n",
       "0                                   4096                          401408   \n",
       "1                                   4096                          131072   \n",
       "2                                   4096                          401408   \n",
       "3                                   4096                          401408   \n",
       "4                                   4096                          176128   \n",
       "..                                   ...                             ...   \n",
       "478                                 4096                         2240512   \n",
       "479                                 4096                           32768   \n",
       "480                                 4096                           86016   \n",
       "481                                 4096                           28672   \n",
       "482                                 4096                           28672   \n",
       "\n",
       "     pe_OPTIONAL_HEADER_MajorLinkerVersion  \n",
       "0                                        6  \n",
       "1                                        5  \n",
       "2                                        6  \n",
       "3                                        6  \n",
       "4                                        5  \n",
       "..                                     ...  \n",
       "478                                      8  \n",
       "479                                     48  \n",
       "480                                      6  \n",
       "481                                      1  \n",
       "482                                      6  \n",
       "\n",
       "[483 rows x 10 columns]"
      ]
     },
     "execution_count": 86,
     "metadata": {},
     "output_type": "execute_result"
    }
   ],
   "source": [
    "learn_data"
   ]
  },
  {
   "cell_type": "code",
   "execution_count": 9,
   "metadata": {},
   "outputs": [
    {
     "name": "stdout",
     "output_type": "stream",
     "text": [
      "\u001b[1mData types of the dataset: \u001b[0m\n",
      "pe_FILE_HEADER_IMAGE_FILE_DLL                 int64\n",
      "pe_FILE_HEADER_IMAGE_FILE_EXECUTABLE_IMAGE    int64\n",
      "pe_FILE_HEADER_NumberOfSections               int64\n",
      "pe_OPTIONAL_HEADER_BaseOfCode                 int64\n",
      "pe_OPTIONAL_HEADER_BaseOfData                 int64\n",
      "pe_OPTIONAL_HEADER_Subsystem                  int64\n",
      "pe_OPTIONAL_HEADER_SizeOfStackCommit          int64\n",
      "pe_OPTIONAL_HEADER_SizeOfHeapCommit           int64\n",
      "pe_OPTIONAL_HEADER_SizeOfImage                int64\n",
      "pe_OPTIONAL_HEADER_MajorLinkerVersion         int64\n",
      "dtype: object\n",
      "\u001b[1mNumber of Rows: \u001b[0m358\n",
      "\u001b[1mNumber of Columns: \u001b[0m10\n",
      "\u001b[1mIndex Range: \u001b[0m358\n",
      "\u001b[1mColumn names: \u001b[0m\n",
      "pe_FILE_HEADER_IMAGE_FILE_DLL, \n",
      "pe_FILE_HEADER_IMAGE_FILE_EXECUTABLE_IMAGE, \n",
      "pe_FILE_HEADER_NumberOfSections, \n",
      "pe_OPTIONAL_HEADER_BaseOfCode, \n",
      "pe_OPTIONAL_HEADER_BaseOfData, \n",
      "pe_OPTIONAL_HEADER_Subsystem, \n",
      "pe_OPTIONAL_HEADER_SizeOfStackCommit, \n",
      "pe_OPTIONAL_HEADER_SizeOfHeapCommit, \n",
      "pe_OPTIONAL_HEADER_SizeOfImage, \n",
      "pe_OPTIONAL_HEADER_MajorLinkerVersion, \n",
      "\n",
      "\u001b[1mNumber of null values: \u001b[0m0\n",
      "\u001b[1mMean values: \u001b[0mpe_FILE_HEADER_IMAGE_FILE_DLL                      0.000000\n",
      "pe_FILE_HEADER_IMAGE_FILE_EXECUTABLE_IMAGE         1.000000\n",
      "pe_FILE_HEADER_NumberOfSections                    4.843575\n",
      "pe_OPTIONAL_HEADER_BaseOfCode                  60032.715084\n",
      "pe_OPTIONAL_HEADER_BaseOfData                 435457.530726\n",
      "pe_OPTIONAL_HEADER_Subsystem                       2.011173\n",
      "pe_OPTIONAL_HEADER_SizeOfStackCommit            5474.681564\n",
      "pe_OPTIONAL_HEADER_SizeOfHeapCommit             4084.558659\n",
      "pe_OPTIONAL_HEADER_SizeOfImage                825328.977654\n",
      "pe_OPTIONAL_HEADER_MajorLinkerVersion              6.181564\n",
      "dtype: float64\n",
      "\u001b[1mStandard deviations: \u001b[0mpe_FILE_HEADER_IMAGE_FILE_DLL                 0.000000e+00\n",
      "pe_FILE_HEADER_IMAGE_FILE_EXECUTABLE_IMAGE    0.000000e+00\n",
      "pe_FILE_HEADER_NumberOfSections               1.579584e+00\n",
      "pe_OPTIONAL_HEADER_BaseOfCode                 3.822115e+05\n",
      "pe_OPTIONAL_HEADER_BaseOfData                 2.946918e+06\n",
      "pe_OPTIONAL_HEADER_Subsystem                  1.289765e-01\n",
      "pe_OPTIONAL_HEADER_SizeOfStackCommit          3.777973e+03\n",
      "pe_OPTIONAL_HEADER_SizeOfHeapCommit           2.161778e+02\n",
      "pe_OPTIONAL_HEADER_SizeOfImage                3.061902e+06\n",
      "pe_OPTIONAL_HEADER_MajorLinkerVersion         5.023186e+00\n",
      "dtype: float64\n",
      "\u001b[1mAbsolute Average Deviation (AAD): \u001b[0mpe_FILE_HEADER_IMAGE_FILE_DLL                      0.000000\n",
      "pe_FILE_HEADER_IMAGE_FILE_EXECUTABLE_IMAGE         0.000000\n",
      "pe_FILE_HEADER_NumberOfSections                    0.952935\n",
      "pe_OPTIONAL_HEADER_BaseOfCode                 103648.448425\n",
      "pe_OPTIONAL_HEADER_BaseOfData                 677378.484067\n",
      "pe_OPTIONAL_HEADER_Subsystem                       0.027621\n",
      "pe_OPTIONAL_HEADER_SizeOfStackCommit            2421.984832\n",
      "pe_OPTIONAL_HEADER_SizeOfHeapCommit               22.818763\n",
      "pe_OPTIONAL_HEADER_SizeOfImage                859887.788490\n",
      "pe_OPTIONAL_HEADER_MajorLinkerVersion              1.679114\n",
      "dtype: float64\n",
      "\n"
     ]
    },
    {
     "name": "stderr",
     "output_type": "stream",
     "text": [
      "/opt/conda/lib/python3.10/site-packages/numpy/core/fromnumeric.py:3438: FutureWarning: In a future version, DataFrame.mean(axis=None) will return a scalar mean over the entire DataFrame. To retain the old behavior, use 'frame.mean(axis=0)' or just 'frame.mean()'\n",
      "  return mean(axis=axis, dtype=dtype, out=out, **kwargs)\n"
     ]
    }
   ],
   "source": [
    "# do some EDA\n",
    "def quick_analysis(df):\n",
    "    st = '\\033[1m' + 'Data types of the dataset: ' + '\\033[0m' + '\\n'\n",
    "    st = st + str(df.dtypes)\n",
    "    st = st + '\\n'\n",
    "    st = st + '\\033[1m' + 'Number of Rows: ' + '\\033[0m' + str(df.shape[0]) + '\\n'\n",
    "    st = st + '\\033[1m' + 'Number of Columns: ' + '\\033[0m' + str(df.shape[1]) + '\\n'\n",
    "    st = st + '\\033[1m' + 'Index Range: ' + '\\033[0m' + str(len(df.index)) + '\\n'\n",
    "    st = st + '\\033[1m' + 'Column names: ' + '\\033[0m' + '\\n'\n",
    "    \n",
    "    for name in df.columns:\n",
    "        st = st + str(name +', ' + '\\n')\n",
    "    \n",
    "    #number of null values\n",
    "    nv = df.isnull().sum().sum()\n",
    "    st = st + '\\n'\n",
    "    st = st + '\\033[1m' + 'Number of null values: ' + '\\033[0m' + str(nv) + '\\n'\n",
    "    st = st + '\\033[1m' + 'Mean values: ' + '\\033[0m' + str(np.mean(df)) + '\\n'\n",
    "    st = st + '\\033[1m' + 'Standard deviations: ' + '\\033[0m' + str(np.std(df)) + '\\n'\n",
    "    st = st + '\\033[1m' + 'Absolute Average Deviation (AAD): ' + '\\033[0m' + str(df.mad()) + '\\n'\n",
    "\n",
    "    return st\n",
    "\n",
    "print(quick_analysis(learn_data))"
   ]
  },
  {
   "cell_type": "code",
   "execution_count": 55,
   "metadata": {},
   "outputs": [
    {
     "data": {
      "image/png": "[encoded data removed]",
      "text/plain": [
       "<Figure size 432x288 with 2 Axes>"
      ]
     },
     "metadata": {
      "needs_background": "light"
     },
     "output_type": "display_data"
    }
   ],
   "source": [
    "# get the corr matrix\n",
    "corrMatrix = raw_data.corr()\n",
    "sns.heatmap(corrMatrix, annot=True)\n",
    "plt.show()"
   ]
  },
  {
   "cell_type": "code",
   "execution_count": 66,
   "metadata": {},
   "outputs": [],
   "source": [
    "# lets standardize the data\n",
    "from sklearn.preprocessing import StandardScaler\n",
    "\n",
    "# Standardize features\n",
    "scaler = StandardScaler()\n",
    "features_standardized = scaler.fit_transform(learn_data)"
   ]
  },
  {
   "cell_type": "code",
   "execution_count": 57,
   "metadata": {},
   "outputs": [
    {
     "data": {
      "text/plain": [
       "array([0, 1])"
      ]
     },
     "execution_count": 57,
     "metadata": {},
     "output_type": "execute_result"
    }
   ],
   "source": [
    "np.unique(classes)\n"
   ]
  },
  {
   "cell_type": "code",
   "execution_count": 77,
   "metadata": {},
   "outputs": [],
   "source": [
    "# Split data into training and test set\n",
    "features_train, features_test, target_train, target_test = train_test_split(\n",
    "    features_standardized, classes, test_size=0.2, random_state=18)"
   ]
  },
  {
   "cell_type": "markdown",
   "metadata": {},
   "source": [
    "We use a Support Vector Classifier"
   ]
  },
  {
   "cell_type": "code",
   "execution_count": 78,
   "metadata": {},
   "outputs": [
    {
     "data": {
      "text/html": [
       "<style>#sk-container-id-4 {color: black;background-color: white;}#sk-container-id-4 pre{padding: 0;}#sk-container-id-4 div.sk-toggleable {background-color: white;}#sk-container-id-4 label.sk-toggleable__label {cursor: pointer;display: block;width: 100%;margin-bottom: 0;padding: 0.3em;box-sizing: border-box;text-align: center;}#sk-container-id-4 label.sk-toggleable__label-arrow:before {content: \"▸\";float: left;margin-right: 0.25em;color: #696969;}#sk-container-id-4 label.sk-toggleable__label-arrow:hover:before {color: black;}#sk-container-id-4 div.sk-estimator:hover label.sk-toggleable__label-arrow:before {color: black;}#sk-container-id-4 div.sk-toggleable__content {max-height: 0;max-width: 0;overflow: hidden;text-align: left;background-color: #f0f8ff;}#sk-container-id-4 div.sk-toggleable__content pre {margin: 0.2em;color: black;border-radius: 0.25em;background-color: #f0f8ff;}#sk-container-id-4 input.sk-toggleable__control:checked~div.sk-toggleable__content {max-height: 200px;max-width: 100%;overflow: auto;}#sk-container-id-4 input.sk-toggleable__control:checked~label.sk-toggleable__label-arrow:before {content: \"▾\";}#sk-container-id-4 div.sk-estimator input.sk-toggleable__control:checked~label.sk-toggleable__label {background-color: #d4ebff;}#sk-container-id-4 div.sk-label input.sk-toggleable__control:checked~label.sk-toggleable__label {background-color: #d4ebff;}#sk-container-id-4 input.sk-hidden--visually {border: 0;clip: rect(1px 1px 1px 1px);clip: rect(1px, 1px, 1px, 1px);height: 1px;margin: -1px;overflow: hidden;padding: 0;position: absolute;width: 1px;}#sk-container-id-4 div.sk-estimator {font-family: monospace;background-color: #f0f8ff;border: 1px dotted black;border-radius: 0.25em;box-sizing: border-box;margin-bottom: 0.5em;}#sk-container-id-4 div.sk-estimator:hover {background-color: #d4ebff;}#sk-container-id-4 div.sk-parallel-item::after {content: \"\";width: 100%;border-bottom: 1px solid gray;flex-grow: 1;}#sk-container-id-4 div.sk-label:hover label.sk-toggleable__label {background-color: #d4ebff;}#sk-container-id-4 div.sk-serial::before {content: \"\";position: absolute;border-left: 1px solid gray;box-sizing: border-box;top: 0;bottom: 0;left: 50%;z-index: 0;}#sk-container-id-4 div.sk-serial {display: flex;flex-direction: column;align-items: center;background-color: white;padding-right: 0.2em;padding-left: 0.2em;position: relative;}#sk-container-id-4 div.sk-item {position: relative;z-index: 1;}#sk-container-id-4 div.sk-parallel {display: flex;align-items: stretch;justify-content: center;background-color: white;position: relative;}#sk-container-id-4 div.sk-item::before, #sk-container-id-4 div.sk-parallel-item::before {content: \"\";position: absolute;border-left: 1px solid gray;box-sizing: border-box;top: 0;bottom: 0;left: 50%;z-index: -1;}#sk-container-id-4 div.sk-parallel-item {display: flex;flex-direction: column;z-index: 1;position: relative;background-color: white;}#sk-container-id-4 div.sk-parallel-item:first-child::after {align-self: flex-end;width: 50%;}#sk-container-id-4 div.sk-parallel-item:last-child::after {align-self: flex-start;width: 50%;}#sk-container-id-4 div.sk-parallel-item:only-child::after {width: 0;}#sk-container-id-4 div.sk-dashed-wrapped {border: 1px dashed gray;margin: 0 0.4em 0.5em 0.4em;box-sizing: border-box;padding-bottom: 0.4em;background-color: white;}#sk-container-id-4 div.sk-label label {font-family: monospace;font-weight: bold;display: inline-block;line-height: 1.2em;}#sk-container-id-4 div.sk-label-container {text-align: center;}#sk-container-id-4 div.sk-container {/* jupyter's `normalize.less` sets `[hidden] { display: none; }` but bootstrap.min.css set `[hidden] { display: none !important; }` so we also need the `!important` here to be able to override the default hidden behavior on the sphinx rendered scikit-learn.org. See: https://github.com/scikit-learn/scikit-learn/issues/21755 */display: inline-block !important;position: relative;}#sk-container-id-4 div.sk-text-repr-fallback {display: none;}</style><div id=\"sk-container-id-4\" class=\"sk-top-container\"><div class=\"sk-text-repr-fallback\"><pre>SVC(gamma=&#x27;auto&#x27;)</pre><b>In a Jupyter environment, please rerun this cell to show the HTML representation or trust the notebook. <br />On GitHub, the HTML representation is unable to render, please try loading this page with nbviewer.org.</b></div><div class=\"sk-container\" hidden><div class=\"sk-item\"><div class=\"sk-estimator sk-toggleable\"><input class=\"sk-toggleable__control sk-hidden--visually\" id=\"sk-estimator-id-4\" type=\"checkbox\" checked><label for=\"sk-estimator-id-4\" class=\"sk-toggleable__label sk-toggleable__label-arrow\">SVC</label><div class=\"sk-toggleable__content\"><pre>SVC(gamma=&#x27;auto&#x27;)</pre></div></div></div></div></div>"
      ],
      "text/plain": [
       "SVC(gamma='auto')"
      ]
     },
     "execution_count": 78,
     "metadata": {},
     "output_type": "execute_result"
    }
   ],
   "source": [
    "classifier = svm.SVC(gamma='auto')\n",
    "classifier.fit(features_train, target_train)"
   ]
  },
  {
   "cell_type": "markdown",
   "metadata": {},
   "source": [
    "Let's get the predictions for the TEST data"
   ]
  },
  {
   "cell_type": "code",
   "execution_count": 79,
   "metadata": {},
   "outputs": [],
   "source": [
    "predicted_classes = classifier.predict(features_test)"
   ]
  },
  {
   "cell_type": "markdown",
   "metadata": {},
   "source": [
    "Q: How good are the predictions?\n"
   ]
  },
  {
   "cell_type": "code",
   "execution_count": 80,
   "metadata": {},
   "outputs": [
    {
     "data": {
      "text/plain": [
       "0.8144329896907216"
      ]
     },
     "execution_count": 80,
     "metadata": {},
     "output_type": "execute_result"
    }
   ],
   "source": [
    "metrics.accuracy_score(target_test, predicted_classes)"
   ]
  },
  {
   "cell_type": "code",
   "execution_count": 82,
   "metadata": {},
   "outputs": [
    {
     "data": {
      "text/plain": [
       "0.8572809278350515"
      ]
     },
     "execution_count": 82,
     "metadata": {},
     "output_type": "execute_result"
    }
   ],
   "source": [
    "scores = cross_val_score(classifier, features_standardized, classes, cv =5)\n",
    "np.mean(scores)"
   ]
  },
  {
   "cell_type": "markdown",
   "metadata": {},
   "source": [
    "#### Try a linear SVC classifier"
   ]
  },
  {
   "cell_type": "code",
   "execution_count": 83,
   "metadata": {},
   "outputs": [
    {
     "data": {
      "text/plain": [
       "0.845360824742268"
      ]
     },
     "execution_count": 83,
     "metadata": {},
     "output_type": "execute_result"
    }
   ],
   "source": [
    "# try LinearSVC classifier\n",
    "classifier_lsvc = svm.LinearSVC(max_iter=5000)\n",
    "\n",
    "# train the classifier with the train set\n",
    "classifier_lsvc.fit(features_train, target_train)\n",
    "\n",
    "# get the score\n",
    "classifier_lsvc.score(features_test, target_test)"
   ]
  },
  {
   "cell_type": "code",
   "execution_count": 84,
   "metadata": {},
   "outputs": [
    {
     "name": "stdout",
     "output_type": "stream",
     "text": [
      "[[25 15]\n",
      " [ 0 57]]\n"
     ]
    }
   ],
   "source": [
    "predicted_classes = classifier_lsvc.predict(features_test)\n",
    "print(metrics.confusion_matrix(target_test,predicted_classes))"
   ]
  },
  {
   "cell_type": "code",
   "execution_count": 85,
   "metadata": {},
   "outputs": [
    {
     "data": {
      "text/plain": [
       "97"
      ]
     },
     "execution_count": 85,
     "metadata": {},
     "output_type": "execute_result"
    }
   ],
   "source": [
    "len(features_test)"
   ]
  },
  {
   "cell_type": "markdown",
   "metadata": {},
   "source": [
    "#### Try decisiontree classifier"
   ]
  },
  {
   "cell_type": "code",
   "execution_count": 75,
   "metadata": {},
   "outputs": [
    {
     "data": {
      "text/plain": [
       "[Text(0.4444444444444444, 0.9, 'pe_OPTIONAL_HEADER_BaseOfData <= -0.12\\nentropy = 0.957\\nsamples = 386\\nvalue = [146, 240]'),\n",
       " Text(0.2222222222222222, 0.7, 'pe_OPTIONAL_HEADER_SizeOfImage <= -0.198\\nentropy = 0.577\\nsamples = 277\\nvalue = [38, 239]'),\n",
       " Text(0.1111111111111111, 0.5, 'entropy = 0.0\\nsamples = 31\\nvalue = [31, 0]'),\n",
       " Text(0.3333333333333333, 0.5, 'pe_OPTIONAL_HEADER_BaseOfData <= -0.125\\nentropy = 0.187\\nsamples = 246\\nvalue = [7, 239]'),\n",
       " Text(0.2222222222222222, 0.3, 'entropy = 0.0\\nsamples = 6\\nvalue = [6, 0]'),\n",
       " Text(0.4444444444444444, 0.3, 'pe_FILE_HEADER_NumberOfSections <= 1.331\\nentropy = 0.039\\nsamples = 240\\nvalue = [1, 239]'),\n",
       " Text(0.3333333333333333, 0.1, 'entropy = 0.0\\nsamples = 239\\nvalue = [0, 239]'),\n",
       " Text(0.5555555555555556, 0.1, 'entropy = 0.0\\nsamples = 1\\nvalue = [1, 0]'),\n",
       " Text(0.6666666666666666, 0.7, 'pe_OPTIONAL_HEADER_BaseOfCode <= 0.091\\nentropy = 0.075\\nsamples = 109\\nvalue = [108, 1]'),\n",
       " Text(0.5555555555555556, 0.5, 'entropy = 0.0\\nsamples = 92\\nvalue = [92, 0]'),\n",
       " Text(0.7777777777777778, 0.5, 'pe_OPTIONAL_HEADER_SizeOfImage <= -0.193\\nentropy = 0.323\\nsamples = 17\\nvalue = [16, 1]'),\n",
       " Text(0.6666666666666666, 0.3, 'entropy = 0.0\\nsamples = 1\\nvalue = [0, 1]'),\n",
       " Text(0.8888888888888888, 0.3, 'entropy = 0.0\\nsamples = 16\\nvalue = [16, 0]')]"
      ]
     },
     "execution_count": 75,
     "metadata": {},
     "output_type": "execute_result"
    },
    {
     "data": {
      "image/png": "[encoded data removed]",
      "text/plain": [
       "<Figure size 432x288 with 1 Axes>"
      ]
     },
     "metadata": {
      "needs_background": "light"
     },
     "output_type": "display_data"
    }
   ],
   "source": [
    "classifier_dt = tree.DecisionTreeClassifier(criterion= 'entropy')\n",
    "classifier_dt.fit(features_train, target_train)\n",
    "tree.plot_tree(classifier_dt, \n",
    "               feature_names=learn_data.columns)"
   ]
  },
  {
   "cell_type": "code",
   "execution_count": 76,
   "metadata": {},
   "outputs": [
    {
     "data": {
      "text/plain": [
       "1.0"
      ]
     },
     "execution_count": 76,
     "metadata": {},
     "output_type": "execute_result"
    }
   ],
   "source": [
    "predicted_classes = classifier_dt.predict(features_test)\n",
    "classifier_dt.score(features_test, predicted_classes)\n"
   ]
  }
 ],
 "metadata": {
  "kernelspec": {
   "display_name": "Python 3 (ipykernel)",
   "language": "python",
   "name": "python3"
  },
  "language_info": {
   "codemirror_mode": {
    "name": "ipython",
    "version": 3
   },
   "file_extension": ".py",
   "mimetype": "text/x-python",
   "name": "python",
   "nbconvert_exporter": "python",
   "pygments_lexer": "ipython3",
   "version": "3.10.4"
  }
 },
 "nbformat": 4,
 "nbformat_minor": 4
}
