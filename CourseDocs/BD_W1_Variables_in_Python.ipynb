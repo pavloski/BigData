{
 "cells": [
  {
   "cell_type": "markdown",
   "id": "3b9b0ea2",
   "metadata": {},
   "source": [
    "# VARIABLES IN PYTHON"
   ]
  },
  {
   "cell_type": "markdown",
   "id": "05e9f921",
   "metadata": {},
   "source": [
    "Rules\n",
    "* variable **must** start with a letter\n",
    "* cannot start with a number\n",
    "* only alphanumeric or underscores\n",
    "* case sensitive"
   ]
  },
  {
   "cell_type": "code",
   "execution_count": 1,
   "id": "f5e985a6",
   "metadata": {},
   "outputs": [],
   "source": [
    "stMyString = \"dogs\"\n"
   ]
  },
  {
   "cell_type": "code",
   "execution_count": 2,
   "id": "270805dd",
   "metadata": {},
   "outputs": [
    {
     "data": {
      "text/plain": [
       "str"
      ]
     },
     "execution_count": 2,
     "metadata": {},
     "output_type": "execute_result"
    }
   ],
   "source": [
    "type(stMyString)\n"
   ]
  },
  {
   "cell_type": "code",
   "execution_count": null,
   "id": "b6996574",
   "metadata": {},
   "outputs": [],
   "source": [
    " "
   ]
  }
 ],
 "metadata": {
  "celltoolbar": "Raw Cell Format",
  "kernelspec": {
   "display_name": "Python 3 (ipykernel)",
   "language": "python",
   "name": "python3"
  },
  "language_info": {
   "codemirror_mode": {
    "name": "ipython",
    "version": 3
   },
   "file_extension": ".py",
   "mimetype": "text/x-python",
   "name": "python",
   "nbconvert_exporter": "python",
   "pygments_lexer": "ipython3",
   "version": "3.9.7"
  }
 },
 "nbformat": 4,
 "nbformat_minor": 5
}
