{
 "cells": [
  {
   "cell_type": "markdown",
   "metadata": {},
   "source": [
    "# The Jupyter Notebook\n",
    "=====================================\n",
    "\n",
    "## Introduction\n",
    "--------------------\n",
    "\n",
    "\n",
    "The notebook provides a web-based application suitable for capturing the whole computation process: developing, documenting, and executing code, as well as communicating the results.  The Jupyter notebook combines two components:\n",
    "\n",
    "**A web application**: a browser-based tool for interactive authoring of\n",
    "documents which combine explanatory text, mathematics, computations and their rich media output.\n",
    "\n",
    "**Notebook documents**: a representation of all content visible in the web\n",
    "application, including inputs and outputs of the computations, explanatory\n",
    "text, mathematics, images, and rich media representations of objects.\n",
    "\n",
    "\n",
    "### Main features of the web application\n",
    "\n",
    "* In-browser editing for code, with automatic syntax highlighting,\n",
    "  indentation, and tab completion/introspection.\n",
    "\n",
    "* The ability to execute code from the browser, with the results of\n",
    "  computations attached to the code which generated them.\n",
    "\n",
    "* Displaying the result of computation using rich media representations, such\n",
    "  as HTML, LaTeX, PNG, SVG, etc. For example, publication-quality figures\n",
    "  rendered by the [matplotlib](https://matplotlib.org/) library, can be included inline.\n",
    "\n",
    "* In-browser editing for rich text using the [Markdown](https://daringfireball.net/projects/markdown/syntax) markup language, which can provide commentary for the code, is not limited to plain text.\n",
    "\n",
    "* The ability to easily include mathematical notation within markdown cells\n",
    "  using LaTeX, and rendered natively by [MathJax](https://www.mathjax.org/)."
   ]
  },
  {
   "cell_type": "markdown",
   "metadata": {},
   "source": [
    "## Notebook documents\n",
    "\n",
    "Notebook documents contain the inputs and outputs of a interactive session as well as additional text that accompanies the code but is not meant for execution. In this way, notebook files can serve as a complete computational record of a session, interleaving executable code with explanatory text, mathematics, and rich representations of resulting objects. These documents are internally [JSON](https://en.wikipedia.org/wiki/JSON) files and are saved with the .ipynb extension. Since JSON is a plain text format, they can be version-controlled and shared with colleagues.\n",
    "\n",
    "Notebooks may be exported to a range of static formats, including HTML (for example, for blog posts), reStructuredText, LaTeX, PDF, and slide shows, via the [`nbconvert`](https://nbconvert.readthedocs.io/en/latest/) command.\n",
    "\n",
    "Furthermore, any `.ipynb` notebook document available from a public URL can be shared via the Jupyter Notebook Viewer <nbviewer>. This service loads the notebook document from the URL and renders it as a static web page. The results may thus be shared with a colleague, or as a public blog post, without other users needing to install the Jupyter notebook themselves. In effect, nbviewer is simply nbconvert as a web service, so you can do your own static conversions with nbconvert, without relying on nbviewer."
   ]
  },
  {
   "cell_type": "markdown",
   "metadata": {},
   "source": [
    "## Starting the notebook server\n",
    "\n",
    "You can start running a notebook server from the command line using the following command:\n",
    "\n",
    "`jupyter notebook`\n",
    "\n",
    "This will print some information about the notebook server in your console, and open a web browser to the URL of the web application (by default, `http://127.0.0.1:8888`).\n",
    "\n",
    "The landing page of the Jupyter notebook web application, the **dashboard**, shows the notebooks currently available in the notebook directory (by default, the directory from which the notebook server was started).\n",
    "\n",
    "You can create new notebooks from the dashboard with the New Notebook button, or open existing ones by clicking on their name. You can also drag and drop `.ipynb` notebooks and standard `.py` Python source code files into the notebook list area.\n",
    "\n",
    "When starting a notebook server from the command line, you can also open a particular notebook directly, bypassing the dashboard, with `jupyter notebook my_notebook.ipynb`. The `.ipynb` extension is assumed if no extension is given.\n",
    "\n",
    "When you are inside an open notebook, the *File | Open…* menu option will open the dashboard in a new browser tab, to allow you to open another notebook from the notebook directory or to create a new notebook."
   ]
  },
  {
   "cell_type": "markdown",
   "metadata": {},
   "source": [
    "## Creating a new notebook document\n",
    "\n",
    "A new notebook may be created at any time, either from the dashboard, or using the *File ‣ New* menu option from within an active notebook. The new notebook is created within the same directory and will open in a new browser tab. It will also be reflected as a new entry in the notebook list on the dashboard.\n",
    "\n",
    "\n",
    "![dashboard](https://jupyter-notebook.readthedocs.io/en/stable/_images/new-notebook.gif)"
   ]
  },
  {
   "cell_type": "markdown",
   "metadata": {},
   "source": [
    "## Notebook user interface\n",
    "\n",
    "When you create a new notebook document, you will be presented with the **notebook name**, a **menu bar**, a **toolbar** and an empty **code cell**.\n",
    "\n",
    "![user interface](https://jupyter-notebook.readthedocs.io/en/stable/_images/blank-notebook-ui.png)\n",
    "\n",
    "**Notebook name:** The name displayed at the top of the page, next to the Jupyter logo, reflects the name of the `.ipynb` file. Clicking on the notebook name brings up a dialog which allows you to rename it. Thus, renaming a notebook from `“Untitled0”` to `“My first notebook”` in the browser, renames the `Untitled0.ipynb` file to `My first notebook.ipynb`.\n",
    "\n",
    "Menu bar: The menu bar presents different options that may be used to manipulate the way the notebook functions.\n",
    "\n",
    "Toolbar: The tool bar gives a quick way of performing the most-used operations within the notebook, by clicking on an icon.\n",
    "\n",
    "Code cell: the default type of cell; read on for an explanation of cells"
   ]
  },
  {
   "cell_type": "code",
   "execution_count": null,
   "metadata": {
    "scrolled": true
   },
   "outputs": [],
   "source": []
  },
  {
   "cell_type": "markdown",
   "metadata": {},
   "source": [
    "## Structure of a notebook document\n",
    "\n",
    "The notebook consists of a sequence of cells. A cell is a multiline text input field, and its contents can be executed by using `Shift-Enter`, or by clicking either the `“Play”` button the toolbar, or `Cell, Run` in the menu bar. The execution behavior of a cell is determined by the cell’s type. There are three types of cells: **code cells**, **markdown cells**, and **raw cells**. Every cell starts off being a code cell, but its type can be changed by using a drop-down on the toolbar (which will be `“Code”`, initially), or via [keyboard shortcuts](https://jupyter-notebook.readthedocs.io/en/stable/notebook.html#keyboard-shortcuts).\n",
    "\n",
    "For more information on the different things you can do in a notebook, see the [collection of examples](https://nbviewer.jupyter.org/github/jupyter/notebook/tree/6.4.x/docs/source/examples/Notebook/).\n",
    "\n",
    "### Code cells\n",
    "\n",
    "A *code cell* allows you to edit and write new code, with full syntax highlighting and tab completion. The programming language you use depends on the kernel, and the default kernel (IPython) runs Python code.\n",
    "\n",
    "When a code cell is executed, code that it contains is sent to the kernel associated with the notebook. The results that are returned from this computation are then displayed in the notebook as the cell’s output. The output is not limited to text, with many other possible forms of output are also possible, including `matplotlib` figures and HTML tables (as used, for example, in the `pandas` data analysis package). This is known as [IPython’s rich display capability](https://nbviewer.jupyter.org/github/ipython/ipython/blob/master/examples/IPython%20Kernel/Rich%20Output.ipynb).\n",
    "\n",
    "\n",
    "### Markdown cells\n",
    "\n",
    "You can document the computational process in a literate way, alternating descriptive text with code, using rich text. In IPython this is accomplished by marking up text with the Markdown language. The corresponding cells are called *Markdown cells*. The Markdown language provides a simple way to perform this text markup, that is, to specify which parts of the text should be emphasized (italics), bold, form lists, etc.\n",
    "\n",
    "If you want to provide structure for your document, you can use markdown headings. Markdown headings consist of 1 to 6 hash # signs `#` followed by a space and the title of your section. The markdown heading will be converted to a clickable link for a section of the notebook. It is also used as a hint when exporting to other document formats, like PDF.\n",
    "\n",
    "When a Markdown cell is executed, the Markdown code is converted into the corresponding formatted rich text. Markdown allows arbitrary HTML code for formatting.\n",
    "\n",
    "Within Markdown cells, you can also include mathematics in a straightforward way, using standard LaTeX notation: `$...$` for inline mathematics and `$$...$$` for displayed mathematics. When the Markdown cell is executed, the LaTeX portions are automatically rendered in the HTML output as equations with high quality typography. This is made possible by [MathJax](https://www.mathjax.org/), which supports a [large subset](https://docs.mathjax.org/en/latest/input/tex/index.html) of LaTeX functionality.\n",
    "\n",
    "Standard mathematics environments defined by LaTeX and AMS-LaTeX (the amsmath package) also work, such as `\\begin{equation}...\\end{equation}`, and `\\begin{align}...\\end{align}`. New LaTeX macros may be defined using standard methods, such as `\\newcommand`, by placing them anywhere between *math delimiters* in a Markdown cell. These definitions are then available throughout the rest of the IPython session.\n",
    "\n",
    "#### See also\n",
    "\n",
    "[Working with Markdown Cells](https://nbviewer.jupyter.org/github/jupyter/notebook/blob/6.4.x/docs/source/examples/Notebook/Working%20With%20Markdown%20Cells.ipynb) example notebook\n",
    "\n",
    "### Raw cells\n",
    "\n",
    "Raw cells provide a place in which you can write output directly. Raw cells are not evaluated by the notebook. When passed through nbconvert, raw cells arrive in the destination format unmodified. For example, you can type full LaTeX into a raw cell, which will only be rendered by LaTeX after conversion by nbconvert.\n"
   ]
  },
  {
   "cell_type": "markdown",
   "metadata": {},
   "source": [
    "## Basic workflow\n",
    "\n",
    "The normal workflow in a notebook is quite similar to a standard IPython session, with the difference that you can edit cells in-place multiple times until you obtain the desired results, rather than having to rerun separate scripts with the `%run` magic command.\n",
    "\n",
    "Typically, you will work on a computational problem in pieces, organizing related ideas into cells and moving forward once previous parts work correctly. This is much more convenient for interactive exploration than breaking up a computation into scripts that must be executed together, as was previously necessary, especially if parts of them take a long time to run.\n",
    "\n",
    "To interrupt a calculation which is taking too long, use the *Kernel, Interrupt* menu option, or the `i,i` keyboard shortcut. Similarly, to restart the whole computational process, use the *Kernel, Restart* menu option or `0,0` shortcut.\n",
    "\n",
    "A notebook may be downloaded as a `.ipynb` file or converted to a number of other formats using the menu option *File, Download as*."
   ]
  },
  {
   "cell_type": "markdown",
   "metadata": {},
   "source": [
    "### Keyboard shortcuts\n",
    "\n",
    "All actions in the notebook can be performed with the mouse, but keyboard shortcuts are also available for the most common ones. The essential shortcuts to remember are the following:\n",
    "\n",
    "* `Shift-Enter`: **run cell**\n",
    "\n",
    "Execute the current cell, show any output, and jump to the next cell below. If `Shift-Enter`is invoked on the last cell, it makes a new cell below. This is equivalent to clicking the *Cell, Run* menu item, or the `Play` button in the toolbar.\n",
    "\n",
    "* `Esc`: **Command mode**\n",
    "\n",
    "In command mode, you can navigate around the notebook using keyboard shortcuts.\n",
    "\n",
    "* `Enter`: **Edit mode**\n",
    "\n",
    "In *edit* mode, you can edit text in cells.\n",
    "\n",
    "For the full list of available shortcuts, click *Help, Keyboard Shortcuts* in the notebook menus.\n",
    "\n",
    "---"
   ]
  },
  {
   "cell_type": "markdown",
   "metadata": {},
   "source": [
    "# Using Jupyter\n",
    "=========================\n",
    "\n",
    "After we create a notebook, we are presented with a page with an empty cell. The cell will have a blue outline, and the text:\n",
    "\n",
    "`In [ ]:`\n",
    "\n",
    "on the side. The <span style=\"color:blue\">**blue**</span> outline indicates that we are in *command mode*. As discussed, there are two modes in Jupyter, *command mode* and *edit mode*.\n",
    "\n",
    "To enter *edit mode* simply hit the enter or return key. You will notice that the outline will change to <span style=\"color:green\">**green**</span>. In *edit mode*, with a Python kernel, we can type Python code. Type:\n",
    "\n",
    "`print(\"hello world\")`"
   ]
  },
  {
   "cell_type": "code",
   "execution_count": 3,
   "metadata": {},
   "outputs": [
    {
     "name": "stdout",
     "output_type": "stream",
     "text": [
      "hello Pablo!\n"
     ]
    }
   ],
   "source": [
    "# demo command mode\n",
    "\n",
    "print(\"hello Pablo!\")\n"
   ]
  },
  {
   "cell_type": "code",
   "execution_count": 4,
   "metadata": {},
   "outputs": [
    {
     "data": {
      "text/plain": [
       "4"
      ]
     },
     "execution_count": 4,
     "metadata": {},
     "output_type": "execute_result"
    }
   ],
   "source": [
    "2+2"
   ]
  },
  {
   "cell_type": "markdown",
   "metadata": {},
   "source": [
    "## heading 1"
   ]
  },
  {
   "cell_type": "markdown",
   "metadata": {},
   "source": [
    "## Edit Mode\n",
    "To enter *Edit Mode* you need to click on a cell or hit enter when it is surrounded by the blue outline. You will see that it goes green if you are in edit mode. In edit mode you have basic editing functionality. A few keys to know:\n",
    "\n",
    "*    `Ctr-Enter` - Run cell (execute Python code, render Markdown)\n",
    "*    `ESC` - Go back to command mode\n",
    "*    `TAB` - Tab completion\n",
    "*    `Shift-TAB` - Bring up tooltip (ESC to dismiss)"
   ]
  },
  {
   "cell_type": "code",
   "execution_count": 5,
   "metadata": {},
   "outputs": [
    {
     "name": "stdout",
     "output_type": "stream",
     "text": [
      "5\n"
     ]
    }
   ],
   "source": [
    "# show tab completion\n",
    "# show tooltip\n",
    "print(2+3)\n",
    "len"
   ]
  },
  {
   "cell_type": "markdown",
   "metadata": {},
   "source": [
    "## heading \n",
    "### heading "
   ]
  },
  {
   "cell_type": "markdown",
   "metadata": {},
   "source": [
    "## Command Mode\n",
    "\n",
    "Command mode gives to the ability to create, copy, paste, move, and execute cells. A few keys to know:\n",
    "\n",
    "*    `h` - Bring up help (ESC to dismiss)\n",
    "*    `b` - Create cell below\n",
    "*    `a` - Create cell above\n",
    "*    `c` - Copy cell\n",
    "*    `v` - Paste cell below\n",
    "*    `Enter` - Go into Edit Mode\n",
    "*    `m` - Change cell type to Markdown\n",
    "*    `y` - Change cell type to code\n",
    "*    `ii` - Interrupt kernel\n",
    "*    `oo` - Restart kernel"
   ]
  },
  {
   "cell_type": "code",
   "execution_count": 1,
   "metadata": {},
   "outputs": [],
   "source": [
    "# demonstrate various keyboard shortcuts in command mode"
   ]
  },
  {
   "cell_type": "markdown",
   "metadata": {},
   "source": [
    "## Cell Types\n",
    "\n",
    "*    Code -- A *code cell* allows you to edit and write new code, with full syntax highlighting and tab completion. \n",
    "*    Markdown -- You can document the computational process in a literate way, alternating descriptive text with code, using rich text. This is accomplished by marking up text with the Markdown language. The corresponding cells are called *Markdown cells*.\n"
   ]
  },
  {
   "cell_type": "markdown",
   "metadata": {},
   "source": [
    "## Markdown\n",
    "\n",
    "Can make *italicized*, **bold**, and ``monospaced text``:\n",
    "\n",
    "    Can make *italicized*, **bold**, and ``monospaced text``\n",
    "\n",
    "\n",
    "Headers:\n",
    "\n",
    "    # H1\n",
    "    ## H2\n",
    "    ### H3\n",
    " \n",
    "Lists:\n",
    "\n",
    "    * First item\n",
    "    * Second item\n",
    "    \n",
    "Code:\n",
    "\n",
    "    If you indent by four spaces you have code:\n",
    "    \n",
    "        def add(x, y):\n",
    "            return x + yt"
   ]
  },
  {
   "cell_type": "markdown",
   "metadata": {},
   "source": [
    "### Demonstrate Markdown\n",
    "\n",
    "*This is italicized* \n",
    "\n",
    "This is **important**\n",
    "\n",
    "    def add(x,y)\n",
    "       return x + y\n",
    "       \n",
    "\n",
    "This is a list of important things\n",
    "* Item 1\n",
    "* Item 2\n"
   ]
  },
  {
   "cell_type": "markdown",
   "metadata": {},
   "source": [
    "## Cell Magic\n",
    "\n",
    "Jupyter has a set of predefined *magic functions* that you can call with a command line style syntax. There are two kinds of magics, *line-oriented* and *cell-oriented*. Line magics are prefixed with the % character and work much like OS command-line calls: they get as an argument the rest of the line, where arguments are passed without parentheses or quotes. Lines magics can return results and can be used in the right hand side of an assignment. Cell magics are prefixed with a double %%, and they are functions that get as an argument not only the rest of the line, but also the lines below it in a separate argument.\n",
    "\n",
    "Magics are useful as convenient functions where Python syntax is not the most natural one, or when one want to embed invalid python syntax in their work flow.\n",
    "\n",
    "\n",
    "type and run %lsmagic in a cell to view available line and cell magics.\n",
    "\n",
    "Common magics include:\n",
    "\n",
    "    %%time - time how long it takes to run cell\n",
    "    %%! - run shell command\n",
    "    %matplotlib inline - show matplotlib plots\n"
   ]
  },
  {
   "cell_type": "code",
   "execution_count": null,
   "metadata": {},
   "outputs": [],
   "source": [
    "%lsmagic"
   ]
  },
  {
   "cell_type": "code",
   "execution_count": 8,
   "metadata": {},
   "outputs": [
    {
     "name": "stdout",
     "output_type": "stream",
     "text": [
      "C:\\Users\\UACIS\n"
     ]
    }
   ],
   "source": [
    "# demo examples of line/cell magics\n",
    "more??\n",
    "%cd"
   ]
  },
  {
   "cell_type": "code",
   "execution_count": 6,
   "metadata": {},
   "outputs": [
    {
     "name": "stdout",
     "output_type": "stream",
     "text": [
      "Wall time: 314 ms\n"
     ]
    }
   ],
   "source": [
    "%%time\n",
    "for i in range(1000000):\n",
    "    continue"
   ]
  },
  {
   "cell_type": "markdown",
   "metadata": {},
   "source": [
    "## Help\n",
    "\n",
    "The Python language and its data science ecosystem is built with the user in mind, and one big part of that is access to documentation. Every Python object contains the reference to a string, known as a *doc string*, which in most cases will contain a concise summary of the object and how to use it. Python has a built-in `help()` function that can access this information and prints the results. For example, to see the documentation of the built-in len function, you can do the following:"
   ]
  },
  {
   "cell_type": "code",
   "execution_count": null,
   "metadata": {},
   "outputs": [],
   "source": [
    "help(len)"
   ]
  },
  {
   "cell_type": "markdown",
   "metadata": {},
   "source": [
    "Because finding help on an object is so common and useful, IPython introduces the `?` character as a shorthand for accessing this documentation and other relevant information:\n",
    "\n",
    "IPython Help: Add `?` after function, method, etc. for documentation (can also run shift-tab 4 times in notebook). Add `??` after function, method, etc to see the source."
   ]
  },
  {
   "cell_type": "code",
   "execution_count": null,
   "metadata": {},
   "outputs": [],
   "source": [
    "len?"
   ]
  },
  {
   "cell_type": "code",
   "execution_count": 10,
   "metadata": {},
   "outputs": [],
   "source": [
    "def square(a):\n",
    "    \"\"\"Return the square of a.\"\"\"\n",
    "    return a ** 2"
   ]
  },
  {
   "cell_type": "code",
   "execution_count": 11,
   "metadata": {},
   "outputs": [],
   "source": [
    "square"
   ]
  },
  {
   "cell_type": "code",
   "execution_count": null,
   "metadata": {},
   "outputs": [],
   "source": []
  }
 ],
 "metadata": {
  "kernelspec": {
   "display_name": "Python 3 (ipykernel)",
   "language": "python",
   "name": "python3"
  },
  "language_info": {
   "codemirror_mode": {
    "name": "ipython",
    "version": 3
   },
   "file_extension": ".py",
   "mimetype": "text/x-python",
   "name": "python",
   "nbconvert_exporter": "python",
   "pygments_lexer": "ipython3",
   "version": "3.9.7"
  }
 },
 "nbformat": 4,
 "nbformat_minor": 4
}
