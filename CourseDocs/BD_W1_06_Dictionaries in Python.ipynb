{
 "cells": [
  {
   "cell_type": "markdown",
   "id": "7271e41c",
   "metadata": {},
   "source": [
    "# Dictionaries\n",
    "\n",
    "A list, is great at storing an ordered sequence of items, a dictionary on the other hand stores an unordered collection of items, and is used to store data values like a map.  It is unlike other Data Types in that it holds key:value pairs. \n",
    "\n",
    "The idea is just like that of a written dictionary, where given a particular word you look up its definition, or a phone book, where given someone's name, you look up their phone nymber.\n",
    "\n",
    "Here, the idea is that you have a key, using this key, you look up its corresponding value. \n",
    "\n",
    "Note: A dictionary stores key-value relationships, and doesn't care about ordering.\n",
    "\n",
    "Create a dictionary:"
   ]
  },
  {
   "cell_type": "code",
   "execution_count": null,
   "id": "6b3c7492",
   "metadata": {},
   "outputs": [],
   "source": [
    "ice_cream = {\"Alice\": \"chocolate\", \"Bob\":\"strawberry\", \"Cara\": \"mint chocolate chip\"}\n"
   ]
  },
  {
   "cell_type": "code",
   "execution_count": null,
   "id": "29f24487",
   "metadata": {},
   "outputs": [],
   "source": [
    "ice_cream"
   ]
  },
  {
   "cell_type": "code",
   "execution_count": null,
   "id": "f1841964",
   "metadata": {},
   "outputs": [],
   "source": [
    "type(ice_cream)"
   ]
  },
  {
   "cell_type": "markdown",
   "id": "113fd536",
   "metadata": {},
   "source": [
    "We have a set of key-value pairs, where:\n",
    "\n",
    "* Alice is a key that maps to the value chocolate, and\n",
    "\n",
    "* Bob is a key that maps to value strawberry.\n",
    "\n",
    "* This looks similar to looking up items in list, but instead of caring about numerical indices, we look up things based on their keys.\n",
    "\n",
    "\n",
    "Look up Alice's favorite ice cream flavor, then Bob's:"
   ]
  },
  {
   "cell_type": "code",
   "execution_count": null,
   "id": "3c88dde6",
   "metadata": {},
   "outputs": [],
   "source": [
    "ice_cream['Alice']"
   ]
  },
  {
   "cell_type": "code",
   "execution_count": null,
   "id": "43105386",
   "metadata": {},
   "outputs": [],
   "source": [
    "ice_cream['Bob']"
   ]
  },
  {
   "cell_type": "markdown",
   "id": "e2d12aec",
   "metadata": {},
   "source": [
    "What about Eve's?"
   ]
  },
  {
   "cell_type": "code",
   "execution_count": null,
   "id": "5d7af905",
   "metadata": {},
   "outputs": [],
   "source": [
    "ice_cream['Eve']"
   ]
  },
  {
   "cell_type": "markdown",
   "id": "556d58c8",
   "metadata": {},
   "source": [
    "Traceback, because that key doesn't exist."
   ]
  },
  {
   "cell_type": "code",
   "execution_count": null,
   "id": "48180e57",
   "metadata": {},
   "outputs": [],
   "source": [
    "ice_cream['Eve'] = 'Rum Raisin'"
   ]
  },
  {
   "cell_type": "code",
   "execution_count": null,
   "id": "f1f66a9f",
   "metadata": {},
   "outputs": [],
   "source": [
    "ice_cream"
   ]
  },
  {
   "cell_type": "markdown",
   "id": "df49f3b1",
   "metadata": {},
   "source": [
    "Remember: Python doesn't care about order within a dictionary and may store key-value pairs in order to optimize storage\n"
   ]
  },
  {
   "cell_type": "markdown",
   "id": "9a7be08e",
   "metadata": {},
   "source": [
    "Python's `get()` method accepts a key as an argument and returns the value associated with the key. Another way to retrieve a value."
   ]
  },
  {
   "cell_type": "code",
   "execution_count": null,
   "id": "5e6effda",
   "metadata": {},
   "outputs": [],
   "source": [
    "ice_cream.get('Alice')"
   ]
  },
  {
   "cell_type": "markdown",
   "id": "d21a68e6",
   "metadata": {},
   "source": [
    "Notion of containment with a dictionary"
   ]
  },
  {
   "cell_type": "code",
   "execution_count": null,
   "id": "9d929c57",
   "metadata": {},
   "outputs": [],
   "source": [
    "\"Eve\" in ice_cream  # containment"
   ]
  },
  {
   "cell_type": "markdown",
   "id": "02bc35ec",
   "metadata": {},
   "source": [
    "Keys have to be unique, so if I have two friends with the same name, Bob, when we update the dictionary, we replace the former key-value pair.\n",
    "\n",
    "Values don't have to be unique."
   ]
  },
  {
   "cell_type": "markdown",
   "id": "aa460968",
   "metadata": {},
   "source": [
    "We can create an empty dictionary:"
   ]
  },
  {
   "cell_type": "code",
   "execution_count": null,
   "id": "4e751401",
   "metadata": {},
   "outputs": [],
   "source": [
    "phone_numbers = {}"
   ]
  },
  {
   "cell_type": "code",
   "execution_count": null,
   "id": "e4c25791",
   "metadata": {},
   "outputs": [],
   "source": [
    "len(phone_numbers)"
   ]
  },
  {
   "cell_type": "code",
   "execution_count": null,
   "id": "769a01f4",
   "metadata": {},
   "outputs": [],
   "source": [
    "type(phone_numbers)"
   ]
  },
  {
   "cell_type": "markdown",
   "id": "26bceab5",
   "metadata": {},
   "source": [
    "### Summary:\n",
    "Dictionaries\n",
    "* all about storing key-value relationships\n",
    "* don't care about orderings\n",
    "* useful container for retrieving values when keys are known"
   ]
  }
 ],
 "metadata": {
  "kernelspec": {
   "display_name": "Python 3 (ipykernel)",
   "language": "python",
   "name": "python3"
  },
  "language_info": {
   "codemirror_mode": {
    "name": "ipython",
    "version": 3
   },
   "file_extension": ".py",
   "mimetype": "text/x-python",
   "name": "python",
   "nbconvert_exporter": "python",
   "pygments_lexer": "ipython3",
   "version": "3.9.7"
  }
 },
 "nbformat": 4,
 "nbformat_minor": 5
}
