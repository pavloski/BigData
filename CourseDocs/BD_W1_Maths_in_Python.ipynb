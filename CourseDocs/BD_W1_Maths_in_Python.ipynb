{
 "cells": [
  {
   "cell_type": "markdown",
   "id": "cc363ebe",
   "metadata": {},
   "source": [
    "# Maths in Python"
   ]
  },
  {
   "cell_type": "markdown",
   "id": "65794efa",
   "metadata": {},
   "source": [
    "## Division"
   ]
  },
  {
   "cell_type": "code",
   "execution_count": 4,
   "id": "b9ff5ee3",
   "metadata": {},
   "outputs": [
    {
     "data": {
      "text/plain": [
       "2"
      ]
     },
     "execution_count": 4,
     "metadata": {},
     "output_type": "execute_result"
    }
   ],
   "source": [
    "# division\n",
    "4/5\n",
    "type(4/5)\n",
    "type(1.0)\n",
    "\n",
    "#floor division\n",
    "29//10"
   ]
  },
  {
   "cell_type": "markdown",
   "id": "6f975544",
   "metadata": {},
   "source": [
    "## other operations"
   ]
  },
  {
   "cell_type": "code",
   "execution_count": 5,
   "id": "3b556053",
   "metadata": {},
   "outputs": [
    {
     "data": {
      "text/plain": [
       "1"
      ]
     },
     "execution_count": 5,
     "metadata": {},
     "output_type": "execute_result"
    }
   ],
   "source": [
    "#modulus\n",
    "298%3\n"
   ]
  },
  {
   "cell_type": "code",
   "execution_count": 8,
   "id": "4c215c03",
   "metadata": {},
   "outputs": [
    {
     "data": {
      "text/plain": [
       "4294967296"
      ]
     },
     "execution_count": 8,
     "metadata": {},
     "output_type": "execute_result"
    }
   ],
   "source": [
    "# exponential\n",
    "2**32"
   ]
  },
  {
   "cell_type": "code",
   "execution_count": 9,
   "id": "61000109",
   "metadata": {},
   "outputs": [
    {
     "data": {
      "text/plain": [
       "3.0"
      ]
     },
     "execution_count": 9,
     "metadata": {},
     "output_type": "execute_result"
    }
   ],
   "source": [
    "#square root\n",
    "import math\n",
    "math.sqrt(9)"
   ]
  },
  {
   "cell_type": "markdown",
   "id": "13260a9e",
   "metadata": {},
   "source": [
    "### PEMDAS\n",
    "\n",
    "* P parenthesis\n",
    "* E exponentiation\n",
    "* M multiplication\n",
    "* D division\n",
    "* A addition\n",
    "* substraction"
   ]
  },
  {
   "cell_type": "markdown",
   "id": "9a4c376d",
   "metadata": {},
   "source": [
    "# VARIABLES  \n"
   ]
  },
  {
   "cell_type": "code",
   "execution_count": 10,
   "id": "49a1bbcd",
   "metadata": {},
   "outputs": [],
   "source": [
    "x=4"
   ]
  },
  {
   "cell_type": "code",
   "execution_count": 11,
   "id": "8b62f8a6",
   "metadata": {},
   "outputs": [
    {
     "data": {
      "text/plain": [
       "4"
      ]
     },
     "execution_count": 11,
     "metadata": {},
     "output_type": "execute_result"
    }
   ],
   "source": [
    "x"
   ]
  },
  {
   "cell_type": "code",
   "execution_count": null,
   "id": "c25ced17",
   "metadata": {},
   "outputs": [],
   "source": []
  }
 ],
 "metadata": {
  "kernelspec": {
   "display_name": "Python 3 (ipykernel)",
   "language": "python",
   "name": "python3"
  },
  "language_info": {
   "codemirror_mode": {
    "name": "ipython",
    "version": 3
   },
   "file_extension": ".py",
   "mimetype": "text/x-python",
   "name": "python",
   "nbconvert_exporter": "python",
   "pygments_lexer": "ipython3",
   "version": "3.9.7"
  }
 },
 "nbformat": 4,
 "nbformat_minor": 5
}
