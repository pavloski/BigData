{
 "cells": [
  {
   "cell_type": "markdown",
   "id": "c855ca44",
   "metadata": {},
   "source": [
    "# BIG DATA ANALYTICS COURSE\n",
    "# QUIZ 1 \n",
    "### Pablo Alvarez"
   ]
  },
  {
   "cell_type": "markdown",
   "id": "f5d57c2b",
   "metadata": {},
   "source": [
    "This is independent work and will count toward your final grade.\n",
    "\n",
    "Instructions: Open `Challenge-Exercise-1-dataset.csv` in a Jupyter Notebook and answer the questions in this quiz.\n",
    "\n",
    " \n",
    "\n",
    "To get started:\n",
    "\n",
    "1. Import the following modules:\n",
    "import numpy as np\n",
    "import pandas as pd\n",
    "\n",
    "2. Read in the dataset using:\n",
    "df = pd.read_csv(\\path\\'Challenge-Exercise-1-dataset.csv')\n",
    "\n",
    "3. Inspect the DataFrame using:\n",
    "#display first 5 packets in DataFrame\n",
    "df.head()"
   ]
  },
  {
   "cell_type": "code",
   "execution_count": 1,
   "id": "ece09c6d",
   "metadata": {},
   "outputs": [
    {
     "data": {
      "text/html": [
       "<div>\n",
       "<style scoped>\n",
       "    .dataframe tbody tr th:only-of-type {\n",
       "        vertical-align: middle;\n",
       "    }\n",
       "\n",
       "    .dataframe tbody tr th {\n",
       "        vertical-align: top;\n",
       "    }\n",
       "\n",
       "    .dataframe thead th {\n",
       "        text-align: right;\n",
       "    }\n",
       "</style>\n",
       "<table border=\"1\" class=\"dataframe\">\n",
       "  <thead>\n",
       "    <tr style=\"text-align: right;\">\n",
       "      <th></th>\n",
       "      <th>No.</th>\n",
       "      <th>Time</th>\n",
       "      <th>Protocol</th>\n",
       "      <th>Source</th>\n",
       "      <th>Destination</th>\n",
       "      <th>Length</th>\n",
       "      <th>Info</th>\n",
       "    </tr>\n",
       "  </thead>\n",
       "  <tbody>\n",
       "    <tr>\n",
       "      <th>0</th>\n",
       "      <td>1</td>\n",
       "      <td>0.000000</td>\n",
       "      <td>ARP</td>\n",
       "      <td>00:0c:29:7b:a8:da</td>\n",
       "      <td>ff:ff:ff:ff:ff:ff</td>\n",
       "      <td>42</td>\n",
       "      <td>Who has 172.16.253.254? Tell 172.16.253.129</td>\n",
       "    </tr>\n",
       "    <tr>\n",
       "      <th>1</th>\n",
       "      <td>2</td>\n",
       "      <td>0.000193</td>\n",
       "      <td>ARP</td>\n",
       "      <td>00:50:56:e7:50:95</td>\n",
       "      <td>00:0c:29:7b:a8:da</td>\n",
       "      <td>60</td>\n",
       "      <td>172.16.253.254 is at 00:50:56:e7:50:95</td>\n",
       "    </tr>\n",
       "    <tr>\n",
       "      <th>2</th>\n",
       "      <td>3</td>\n",
       "      <td>0.000204</td>\n",
       "      <td>DHCP</td>\n",
       "      <td>00:0c:29:7b:a8:da</td>\n",
       "      <td>00:50:56:e7:50:95</td>\n",
       "      <td>343</td>\n",
       "      <td>DHCP Request  - Transaction ID 0xa379aeca</td>\n",
       "    </tr>\n",
       "    <tr>\n",
       "      <th>3</th>\n",
       "      <td>4</td>\n",
       "      <td>0.001525</td>\n",
       "      <td>DHCP</td>\n",
       "      <td>00:50:56:e7:50:95</td>\n",
       "      <td>00:0c:29:7b:a8:da</td>\n",
       "      <td>342</td>\n",
       "      <td>DHCP ACK      - Transaction ID 0xa379aeca</td>\n",
       "    </tr>\n",
       "    <tr>\n",
       "      <th>4</th>\n",
       "      <td>5</td>\n",
       "      <td>16.384615</td>\n",
       "      <td>IGMPv3</td>\n",
       "      <td>00:0c:29:7b:a8:da</td>\n",
       "      <td>01:00:5e:00:00:16</td>\n",
       "      <td>54</td>\n",
       "      <td>Membership Report / Leave group 239.255.255.250</td>\n",
       "    </tr>\n",
       "  </tbody>\n",
       "</table>\n",
       "</div>"
      ],
      "text/plain": [
       "   No.       Time Protocol             Source        Destination  Length  \\\n",
       "0    1   0.000000      ARP  00:0c:29:7b:a8:da  ff:ff:ff:ff:ff:ff      42   \n",
       "1    2   0.000193      ARP  00:50:56:e7:50:95  00:0c:29:7b:a8:da      60   \n",
       "2    3   0.000204     DHCP  00:0c:29:7b:a8:da  00:50:56:e7:50:95     343   \n",
       "3    4   0.001525     DHCP  00:50:56:e7:50:95  00:0c:29:7b:a8:da     342   \n",
       "4    5  16.384615   IGMPv3  00:0c:29:7b:a8:da  01:00:5e:00:00:16      54   \n",
       "\n",
       "                                              Info  \n",
       "0      Who has 172.16.253.254? Tell 172.16.253.129  \n",
       "1           172.16.253.254 is at 00:50:56:e7:50:95  \n",
       "2        DHCP Request  - Transaction ID 0xa379aeca  \n",
       "3        DHCP ACK      - Transaction ID 0xa379aeca  \n",
       "4  Membership Report / Leave group 239.255.255.250  "
      ]
     },
     "execution_count": 1,
     "metadata": {},
     "output_type": "execute_result"
    }
   ],
   "source": [
    "import numpy as np\n",
    "import pandas as pd\n",
    "\n",
    "# Read in the dataset\n",
    "df = pd.read_csv('Challenge-Exercise-1-dataset.csv')\n",
    "df.head(5)"
   ]
  },
  {
   "cell_type": "markdown",
   "id": "2ab16701",
   "metadata": {},
   "source": [
    "#### 1. How many attributes are contained in this dataset?\n",
    "We can loot at the dimendions of the dataset: there are 7 atributes"
   ]
  },
  {
   "cell_type": "code",
   "execution_count": 3,
   "id": "4bcc0b71",
   "metadata": {},
   "outputs": [
    {
     "name": "stdout",
     "output_type": "stream",
     "text": [
      "Dimensions: (769, 7)\n"
     ]
    }
   ],
   "source": [
    "# show dimensions\n",
    "print(\"Dimensions: {}\".format(df.shape))"
   ]
  },
  {
   "cell_type": "markdown",
   "id": "c2c09bf1",
   "metadata": {},
   "source": [
    "#### 2. How many elements are contained in the dataset?\n",
    "the dataset contains 769 elements"
   ]
  },
  {
   "cell_type": "code",
   "execution_count": 56,
   "id": "055cf8af",
   "metadata": {},
   "outputs": [
    {
     "name": "stdout",
     "output_type": "stream",
     "text": [
      "Dimensions: (769, 7)\n"
     ]
    }
   ],
   "source": [
    "# show dimensions\n",
    "print(\"Dimensions: {}\".format(df.shape))"
   ]
  },
  {
   "cell_type": "markdown",
   "id": "b335e6f2",
   "metadata": {},
   "source": [
    "#### 3. What is the largest packet size (in bytes) contained in the dataset?"
   ]
  },
  {
   "cell_type": "code",
   "execution_count": 174,
   "id": "680df34d",
   "metadata": {},
   "outputs": [
    {
     "data": {
      "text/plain": [
       "1109"
      ]
     },
     "execution_count": 174,
     "metadata": {},
     "output_type": "execute_result"
    }
   ],
   "source": [
    "df['Length'].max()"
   ]
  },
  {
   "cell_type": "markdown",
   "id": "2dc34bf9",
   "metadata": {},
   "source": [
    "#### 4. How many packets have a length of 60 bytes?\n",
    "We can filter the dataframe, selecting only those elements with the 'length' atribute equals 60. That gives us 256 elements"
   ]
  },
  {
   "cell_type": "code",
   "execution_count": 35,
   "id": "19450614",
   "metadata": {},
   "outputs": [
    {
     "data": {
      "text/html": [
       "<div>\n",
       "<style scoped>\n",
       "    .dataframe tbody tr th:only-of-type {\n",
       "        vertical-align: middle;\n",
       "    }\n",
       "\n",
       "    .dataframe tbody tr th {\n",
       "        vertical-align: top;\n",
       "    }\n",
       "\n",
       "    .dataframe thead th {\n",
       "        text-align: right;\n",
       "    }\n",
       "</style>\n",
       "<table border=\"1\" class=\"dataframe\">\n",
       "  <thead>\n",
       "    <tr style=\"text-align: right;\">\n",
       "      <th></th>\n",
       "      <th>No.</th>\n",
       "      <th>Time</th>\n",
       "      <th>Protocol</th>\n",
       "      <th>Source</th>\n",
       "      <th>Destination</th>\n",
       "      <th>Length</th>\n",
       "      <th>Info</th>\n",
       "    </tr>\n",
       "  </thead>\n",
       "  <tbody>\n",
       "    <tr>\n",
       "      <th>1</th>\n",
       "      <td>2</td>\n",
       "      <td>0.000193</td>\n",
       "      <td>ARP</td>\n",
       "      <td>00:50:56:e7:50:95</td>\n",
       "      <td>00:0c:29:7b:a8:da</td>\n",
       "      <td>60</td>\n",
       "      <td>172.16.253.254 is at 00:50:56:e7:50:95</td>\n",
       "    </tr>\n",
       "    <tr>\n",
       "      <th>21</th>\n",
       "      <td>22</td>\n",
       "      <td>136.082334</td>\n",
       "      <td>ARP</td>\n",
       "      <td>00:50:56:f2:7a:09</td>\n",
       "      <td>00:0c:29:7b:a8:da</td>\n",
       "      <td>60</td>\n",
       "      <td>172.16.253.2 is at 00:50:56:f2:7a:09</td>\n",
       "    </tr>\n",
       "    <tr>\n",
       "      <th>27</th>\n",
       "      <td>28</td>\n",
       "      <td>136.671748</td>\n",
       "      <td>TCP</td>\n",
       "      <td>00:50:56:f2:7a:09</td>\n",
       "      <td>00:0c:29:7b:a8:da</td>\n",
       "      <td>60</td>\n",
       "      <td>80  &gt;  1044 [SYN, ACK] Seq=0 Ack=1 Win=64240 L...</td>\n",
       "    </tr>\n",
       "    <tr>\n",
       "      <th>30</th>\n",
       "      <td>31</td>\n",
       "      <td>136.672135</td>\n",
       "      <td>TCP</td>\n",
       "      <td>00:50:56:f2:7a:09</td>\n",
       "      <td>00:0c:29:7b:a8:da</td>\n",
       "      <td>60</td>\n",
       "      <td>80  &gt;  1044 [ACK] Seq=1 Ack=14 Win=64240 Len=0</td>\n",
       "    </tr>\n",
       "    <tr>\n",
       "      <th>33</th>\n",
       "      <td>34</td>\n",
       "      <td>138.849578</td>\n",
       "      <td>TCP</td>\n",
       "      <td>00:50:56:f2:7a:09</td>\n",
       "      <td>00:0c:29:7b:a8:da</td>\n",
       "      <td>60</td>\n",
       "      <td>80  &gt;  1044 [ACK] Seq=1056 Ack=45 Win=64240 Len=0</td>\n",
       "    </tr>\n",
       "    <tr>\n",
       "      <th>34</th>\n",
       "      <td>35</td>\n",
       "      <td>141.317058</td>\n",
       "      <td>TCP</td>\n",
       "      <td>00:50:56:f2:7a:09</td>\n",
       "      <td>00:0c:29:7b:a8:da</td>\n",
       "      <td>60</td>\n",
       "      <td>80  &gt;  1070 [RST, ACK] Seq=1 Ack=1 Win=64240 L...</td>\n",
       "    </tr>\n",
       "    <tr>\n",
       "      <th>37</th>\n",
       "      <td>38</td>\n",
       "      <td>143.143056</td>\n",
       "      <td>TCP</td>\n",
       "      <td>00:50:56:f2:7a:09</td>\n",
       "      <td>00:0c:29:7b:a8:da</td>\n",
       "      <td>60</td>\n",
       "      <td>80  &gt;  1044 [ACK] Seq=2111 Ack=76 Win=64240 Len=0</td>\n",
       "    </tr>\n",
       "    <tr>\n",
       "      <th>40</th>\n",
       "      <td>41</td>\n",
       "      <td>143.650441</td>\n",
       "      <td>TCP</td>\n",
       "      <td>00:50:56:f2:7a:09</td>\n",
       "      <td>00:0c:29:7b:a8:da</td>\n",
       "      <td>60</td>\n",
       "      <td>80  &gt;  1044 [ACK] Seq=3166 Ack=107 Win=64240 L...</td>\n",
       "    </tr>\n",
       "    <tr>\n",
       "      <th>43</th>\n",
       "      <td>44</td>\n",
       "      <td>144.069816</td>\n",
       "      <td>TCP</td>\n",
       "      <td>00:50:56:f2:7a:09</td>\n",
       "      <td>00:0c:29:7b:a8:da</td>\n",
       "      <td>60</td>\n",
       "      <td>80  &gt;  1044 [ACK] Seq=4221 Ack=138 Win=64240 L...</td>\n",
       "    </tr>\n",
       "    <tr>\n",
       "      <th>46</th>\n",
       "      <td>47</td>\n",
       "      <td>144.623677</td>\n",
       "      <td>TCP</td>\n",
       "      <td>00:50:56:f2:7a:09</td>\n",
       "      <td>00:0c:29:7b:a8:da</td>\n",
       "      <td>60</td>\n",
       "      <td>80  &gt;  1044 [ACK] Seq=5276 Ack=169 Win=64240 L...</td>\n",
       "    </tr>\n",
       "  </tbody>\n",
       "</table>\n",
       "</div>"
      ],
      "text/plain": [
       "    No.        Time Protocol             Source        Destination  Length  \\\n",
       "1     2    0.000193      ARP  00:50:56:e7:50:95  00:0c:29:7b:a8:da      60   \n",
       "21   22  136.082334      ARP  00:50:56:f2:7a:09  00:0c:29:7b:a8:da      60   \n",
       "27   28  136.671748      TCP  00:50:56:f2:7a:09  00:0c:29:7b:a8:da      60   \n",
       "30   31  136.672135      TCP  00:50:56:f2:7a:09  00:0c:29:7b:a8:da      60   \n",
       "33   34  138.849578      TCP  00:50:56:f2:7a:09  00:0c:29:7b:a8:da      60   \n",
       "34   35  141.317058      TCP  00:50:56:f2:7a:09  00:0c:29:7b:a8:da      60   \n",
       "37   38  143.143056      TCP  00:50:56:f2:7a:09  00:0c:29:7b:a8:da      60   \n",
       "40   41  143.650441      TCP  00:50:56:f2:7a:09  00:0c:29:7b:a8:da      60   \n",
       "43   44  144.069816      TCP  00:50:56:f2:7a:09  00:0c:29:7b:a8:da      60   \n",
       "46   47  144.623677      TCP  00:50:56:f2:7a:09  00:0c:29:7b:a8:da      60   \n",
       "\n",
       "                                                 Info  \n",
       "1              172.16.253.254 is at 00:50:56:e7:50:95  \n",
       "21               172.16.253.2 is at 00:50:56:f2:7a:09  \n",
       "27  80  >  1044 [SYN, ACK] Seq=0 Ack=1 Win=64240 L...  \n",
       "30     80  >  1044 [ACK] Seq=1 Ack=14 Win=64240 Len=0  \n",
       "33  80  >  1044 [ACK] Seq=1056 Ack=45 Win=64240 Len=0  \n",
       "34  80  >  1070 [RST, ACK] Seq=1 Ack=1 Win=64240 L...  \n",
       "37  80  >  1044 [ACK] Seq=2111 Ack=76 Win=64240 Len=0  \n",
       "40  80  >  1044 [ACK] Seq=3166 Ack=107 Win=64240 L...  \n",
       "43  80  >  1044 [ACK] Seq=4221 Ack=138 Win=64240 L...  \n",
       "46  80  >  1044 [ACK] Seq=5276 Ack=169 Win=64240 L...  "
      ]
     },
     "execution_count": 35,
     "metadata": {},
     "output_type": "execute_result"
    }
   ],
   "source": [
    "df2 =df[df['Length']==60]\n",
    "\n",
    "#visual check of the selection\n",
    "df2.head(10)"
   ]
  },
  {
   "cell_type": "code",
   "execution_count": 27,
   "id": "c90fa23d",
   "metadata": {},
   "outputs": [
    {
     "name": "stdout",
     "output_type": "stream",
     "text": [
      "Dimensions: (256, 7)\n"
     ]
    }
   ],
   "source": [
    "# we get the dimention of the selection\n",
    "print(\"Dimensions: {}\".format(df2.shape))"
   ]
  },
  {
   "cell_type": "markdown",
   "id": "60b0f04d",
   "metadata": {},
   "source": [
    "#### 5. Compute the delay between successive packets in the dataset. What is the average inter-packet delay (in seconds)?\n",
    "To do this We can create a new list (delays) and iterate along the dataframe for the attribute 'time', grabing the time value of a record minus the time value of the previous one.\n",
    "Each of these substractions is stored on the list 'delays' and then, the mean in computed using numpy.mean() function\n",
    "we also previoulsy check whether there were any NaN values in the dataset"
   ]
  },
  {
   "cell_type": "code",
   "execution_count": 2,
   "id": "d72e9c4e",
   "metadata": {},
   "outputs": [
    {
     "name": "stdout",
     "output_type": "stream",
     "text": [
      "0.73131450390625\n"
     ]
    }
   ],
   "source": [
    "delays = []\n",
    "for i in range(1, 769):\n",
    "    delays.append(df['Time'][i]-df['Time'][i-1])\n",
    "print(np.mean(delays))"
   ]
  },
  {
   "cell_type": "markdown",
   "id": "a019b283",
   "metadata": {},
   "source": [
    "A more elegaln way using diff() function: https://pandas.pydata.org/pandas-docs/stable/reference/api/pandas.DataFrame.diff.html"
   ]
  },
  {
   "cell_type": "code",
   "execution_count": 3,
   "id": "0d43d356",
   "metadata": {},
   "outputs": [
    {
     "data": {
      "text/plain": [
       "0.73131450390625"
      ]
     },
     "execution_count": 3,
     "metadata": {},
     "output_type": "execute_result"
    }
   ],
   "source": [
    "df.Time.diff().mean()"
   ]
  },
  {
   "cell_type": "markdown",
   "id": "215681cb",
   "metadata": {},
   "source": [
    "We can visualize the diferences (delays) to check whether the answer makes sense"
   ]
  },
  {
   "cell_type": "code",
   "execution_count": 180,
   "id": "4c794ed9",
   "metadata": {},
   "outputs": [
    {
     "data": {
      "image/png": "[encoded data removed]",
      "text/plain": [
       "<Figure size 432x288 with 1 Axes>"
      ]
     },
     "metadata": {
      "needs_background": "light"
     },
     "output_type": "display_data"
    }
   ],
   "source": [
    "import matplotlib.pyplot as plt\n",
    "a= plt.figure()\n",
    "axes= a.add_axes([0.1,0.1,0.8,0.8])\n",
    "axes.set_ylim([0,6])\n",
    "axes.plot(range(1,769), delays)\n",
    "plt.show()"
   ]
  },
  {
   "cell_type": "code",
   "execution_count": 158,
   "id": "4799a41b",
   "metadata": {},
   "outputs": [
    {
     "data": {
      "text/plain": [
       "130.873256"
      ]
     },
     "execution_count": 158,
     "metadata": {},
     "output_type": "execute_result"
    }
   ],
   "source": [
    "np.max(delays)"
   ]
  },
  {
   "cell_type": "markdown",
   "id": "361fdebc",
   "metadata": {},
   "source": [
    "#### 6. Count the number of ARP packets that are present in the trace. How many are there?\n",
    "Similarly to question 4, we select those elements whose 'Protocol' is ARP. It gives us 18 elements"
   ]
  },
  {
   "cell_type": "code",
   "execution_count": 175,
   "id": "ab3e7e29",
   "metadata": {},
   "outputs": [
    {
     "data": {
      "text/html": [
       "<div>\n",
       "<style scoped>\n",
       "    .dataframe tbody tr th:only-of-type {\n",
       "        vertical-align: middle;\n",
       "    }\n",
       "\n",
       "    .dataframe tbody tr th {\n",
       "        vertical-align: top;\n",
       "    }\n",
       "\n",
       "    .dataframe thead th {\n",
       "        text-align: right;\n",
       "    }\n",
       "</style>\n",
       "<table border=\"1\" class=\"dataframe\">\n",
       "  <thead>\n",
       "    <tr style=\"text-align: right;\">\n",
       "      <th></th>\n",
       "      <th>No.</th>\n",
       "      <th>Time</th>\n",
       "      <th>Protocol</th>\n",
       "      <th>Source</th>\n",
       "      <th>Destination</th>\n",
       "      <th>Length</th>\n",
       "      <th>Info</th>\n",
       "    </tr>\n",
       "  </thead>\n",
       "  <tbody>\n",
       "    <tr>\n",
       "      <th>0</th>\n",
       "      <td>1</td>\n",
       "      <td>0.000000</td>\n",
       "      <td>ARP</td>\n",
       "      <td>00:0c:29:7b:a8:da</td>\n",
       "      <td>ff:ff:ff:ff:ff:ff</td>\n",
       "      <td>42</td>\n",
       "      <td>Who has 172.16.253.254? Tell 172.16.253.129</td>\n",
       "    </tr>\n",
       "    <tr>\n",
       "      <th>1</th>\n",
       "      <td>2</td>\n",
       "      <td>0.000193</td>\n",
       "      <td>ARP</td>\n",
       "      <td>00:50:56:e7:50:95</td>\n",
       "      <td>00:0c:29:7b:a8:da</td>\n",
       "      <td>60</td>\n",
       "      <td>172.16.253.254 is at 00:50:56:e7:50:95</td>\n",
       "    </tr>\n",
       "    <tr>\n",
       "      <th>15</th>\n",
       "      <td>16</td>\n",
       "      <td>21.722586</td>\n",
       "      <td>ARP</td>\n",
       "      <td>00:0c:29:7b:a8:da</td>\n",
       "      <td>ff:ff:ff:ff:ff:ff</td>\n",
       "      <td>42</td>\n",
       "      <td>Gratuitous ARP for 172.16.253.129 (Request)</td>\n",
       "    </tr>\n",
       "    <tr>\n",
       "      <th>16</th>\n",
       "      <td>17</td>\n",
       "      <td>21.977150</td>\n",
       "      <td>ARP</td>\n",
       "      <td>00:0c:29:7b:a8:da</td>\n",
       "      <td>ff:ff:ff:ff:ff:ff</td>\n",
       "      <td>42</td>\n",
       "      <td>Gratuitous ARP for 172.16.253.129 (Request)</td>\n",
       "    </tr>\n",
       "    <tr>\n",
       "      <th>17</th>\n",
       "      <td>18</td>\n",
       "      <td>22.978029</td>\n",
       "      <td>ARP</td>\n",
       "      <td>00:0c:29:7b:a8:da</td>\n",
       "      <td>ff:ff:ff:ff:ff:ff</td>\n",
       "      <td>42</td>\n",
       "      <td>Gratuitous ARP for 172.16.253.129 (Request)</td>\n",
       "    </tr>\n",
       "  </tbody>\n",
       "</table>\n",
       "</div>"
      ],
      "text/plain": [
       "    No.       Time Protocol             Source        Destination  Length  \\\n",
       "0     1   0.000000      ARP  00:0c:29:7b:a8:da  ff:ff:ff:ff:ff:ff      42   \n",
       "1     2   0.000193      ARP  00:50:56:e7:50:95  00:0c:29:7b:a8:da      60   \n",
       "15   16  21.722586      ARP  00:0c:29:7b:a8:da  ff:ff:ff:ff:ff:ff      42   \n",
       "16   17  21.977150      ARP  00:0c:29:7b:a8:da  ff:ff:ff:ff:ff:ff      42   \n",
       "17   18  22.978029      ARP  00:0c:29:7b:a8:da  ff:ff:ff:ff:ff:ff      42   \n",
       "\n",
       "                                           Info  \n",
       "0   Who has 172.16.253.254? Tell 172.16.253.129  \n",
       "1        172.16.253.254 is at 00:50:56:e7:50:95  \n",
       "15  Gratuitous ARP for 172.16.253.129 (Request)  \n",
       "16  Gratuitous ARP for 172.16.253.129 (Request)  \n",
       "17  Gratuitous ARP for 172.16.253.129 (Request)  "
      ]
     },
     "execution_count": 175,
     "metadata": {},
     "output_type": "execute_result"
    }
   ],
   "source": [
    "df3 =df[df['Protocol']=='ARP']\n",
    "\n",
    "#visual check of the selection\n",
    "df3.head(5)"
   ]
  },
  {
   "cell_type": "code",
   "execution_count": 176,
   "id": "3b1f8d2d",
   "metadata": {},
   "outputs": [
    {
     "data": {
      "text/plain": [
       "(18, 7)"
      ]
     },
     "execution_count": 176,
     "metadata": {},
     "output_type": "execute_result"
    }
   ],
   "source": [
    "# we get the dimensions of the new dataframe\n",
    "df3.shape"
   ]
  },
  {
   "cell_type": "markdown",
   "id": "228b1ff7",
   "metadata": {},
   "source": [
    "Another way using the unique values and value_counts() method"
   ]
  },
  {
   "cell_type": "code",
   "execution_count": 128,
   "id": "a2cf498a",
   "metadata": {},
   "outputs": [
    {
     "data": {
      "text/plain": [
       "array(['ARP', 'DHCP', 'IGMPv3', 'ICMP', 'DNS', 'TCP'], dtype=object)"
      ]
     },
     "execution_count": 128,
     "metadata": {},
     "output_type": "execute_result"
    }
   ],
   "source": [
    "# we check the possible elements. There is no mispelling\n",
    "df['Protocol'].unique()"
   ]
  },
  {
   "cell_type": "code",
   "execution_count": 4,
   "id": "8263a0ff",
   "metadata": {},
   "outputs": [
    {
     "data": {
      "text/plain": [
       "TCP       726\n",
       "ARP        18\n",
       "DHCP       10\n",
       "IGMPv3      7\n",
       "ICMP        4\n",
       "DNS         4\n",
       "Name: Protocol, dtype: int64"
      ]
     },
     "execution_count": 4,
     "metadata": {},
     "output_type": "execute_result"
    }
   ],
   "source": [
    "# we then count those whose 'Protocol' valueis 'ARP'\n",
    "df['Protocol'].value_counts()#['ARP']"
   ]
  },
  {
   "cell_type": "markdown",
   "id": "1ab39154",
   "metadata": {},
   "source": [
    "#### 7. In this packet trace, how many TCP packets have a length that is less than or equal to 60 bytes?\n",
    "In this case we have to make a double selection: elements have to have 'protocol' = TCP and length must be less than or equal to 60. It gives us 253 elements"
   ]
  },
  {
   "cell_type": "code",
   "execution_count": 165,
   "id": "ebc0ef55",
   "metadata": {},
   "outputs": [
    {
     "data": {
      "text/plain": [
       "(253, 7)"
      ]
     },
     "execution_count": 165,
     "metadata": {},
     "output_type": "execute_result"
    }
   ],
   "source": [
    "df4 = df[(df['Length']<=60) & (df['Protocol']=='TCP')]\n",
    "df4.shape"
   ]
  },
  {
   "cell_type": "code",
   "execution_count": 167,
   "id": "cf3cb642",
   "metadata": {},
   "outputs": [
    {
     "data": {
      "text/html": [
       "<div>\n",
       "<style scoped>\n",
       "    .dataframe tbody tr th:only-of-type {\n",
       "        vertical-align: middle;\n",
       "    }\n",
       "\n",
       "    .dataframe tbody tr th {\n",
       "        vertical-align: top;\n",
       "    }\n",
       "\n",
       "    .dataframe thead th {\n",
       "        text-align: right;\n",
       "    }\n",
       "</style>\n",
       "<table border=\"1\" class=\"dataframe\">\n",
       "  <thead>\n",
       "    <tr style=\"text-align: right;\">\n",
       "      <th></th>\n",
       "      <th>No.</th>\n",
       "      <th>Time</th>\n",
       "      <th>Protocol</th>\n",
       "      <th>Source</th>\n",
       "      <th>Destination</th>\n",
       "      <th>Length</th>\n",
       "      <th>Info</th>\n",
       "    </tr>\n",
       "  </thead>\n",
       "  <tbody>\n",
       "    <tr>\n",
       "      <th>27</th>\n",
       "      <td>28</td>\n",
       "      <td>136.671748</td>\n",
       "      <td>TCP</td>\n",
       "      <td>00:50:56:f2:7a:09</td>\n",
       "      <td>00:0c:29:7b:a8:da</td>\n",
       "      <td>60</td>\n",
       "      <td>80  &gt;  1044 [SYN, ACK] Seq=0 Ack=1 Win=64240 L...</td>\n",
       "    </tr>\n",
       "    <tr>\n",
       "      <th>28</th>\n",
       "      <td>29</td>\n",
       "      <td>136.671825</td>\n",
       "      <td>TCP</td>\n",
       "      <td>00:0c:29:7b:a8:da</td>\n",
       "      <td>00:50:56:f2:7a:09</td>\n",
       "      <td>54</td>\n",
       "      <td>1044  &gt;  80 [ACK] Seq=1 Ack=1 Win=64240 Len=0</td>\n",
       "    </tr>\n",
       "    <tr>\n",
       "      <th>30</th>\n",
       "      <td>31</td>\n",
       "      <td>136.672135</td>\n",
       "      <td>TCP</td>\n",
       "      <td>00:50:56:f2:7a:09</td>\n",
       "      <td>00:0c:29:7b:a8:da</td>\n",
       "      <td>60</td>\n",
       "      <td>80  &gt;  1044 [ACK] Seq=1 Ack=14 Win=64240 Len=0</td>\n",
       "    </tr>\n",
       "    <tr>\n",
       "      <th>33</th>\n",
       "      <td>34</td>\n",
       "      <td>138.849578</td>\n",
       "      <td>TCP</td>\n",
       "      <td>00:50:56:f2:7a:09</td>\n",
       "      <td>00:0c:29:7b:a8:da</td>\n",
       "      <td>60</td>\n",
       "      <td>80  &gt;  1044 [ACK] Seq=1056 Ack=45 Win=64240 Len=0</td>\n",
       "    </tr>\n",
       "    <tr>\n",
       "      <th>34</th>\n",
       "      <td>35</td>\n",
       "      <td>141.317058</td>\n",
       "      <td>TCP</td>\n",
       "      <td>00:50:56:f2:7a:09</td>\n",
       "      <td>00:0c:29:7b:a8:da</td>\n",
       "      <td>60</td>\n",
       "      <td>80  &gt;  1070 [RST, ACK] Seq=1 Ack=1 Win=64240 L...</td>\n",
       "    </tr>\n",
       "  </tbody>\n",
       "</table>\n",
       "</div>"
      ],
      "text/plain": [
       "    No.        Time Protocol             Source        Destination  Length  \\\n",
       "27   28  136.671748      TCP  00:50:56:f2:7a:09  00:0c:29:7b:a8:da      60   \n",
       "28   29  136.671825      TCP  00:0c:29:7b:a8:da  00:50:56:f2:7a:09      54   \n",
       "30   31  136.672135      TCP  00:50:56:f2:7a:09  00:0c:29:7b:a8:da      60   \n",
       "33   34  138.849578      TCP  00:50:56:f2:7a:09  00:0c:29:7b:a8:da      60   \n",
       "34   35  141.317058      TCP  00:50:56:f2:7a:09  00:0c:29:7b:a8:da      60   \n",
       "\n",
       "                                                 Info  \n",
       "27  80  >  1044 [SYN, ACK] Seq=0 Ack=1 Win=64240 L...  \n",
       "28      1044  >  80 [ACK] Seq=1 Ack=1 Win=64240 Len=0  \n",
       "30     80  >  1044 [ACK] Seq=1 Ack=14 Win=64240 Len=0  \n",
       "33  80  >  1044 [ACK] Seq=1056 Ack=45 Win=64240 Len=0  \n",
       "34  80  >  1070 [RST, ACK] Seq=1 Ack=1 Win=64240 L...  "
      ]
     },
     "execution_count": 167,
     "metadata": {},
     "output_type": "execute_result"
    }
   ],
   "source": [
    "# visual check of the selection\n",
    "df4.head(5)"
   ]
  },
  {
   "cell_type": "markdown",
   "id": "6663b96d",
   "metadata": {},
   "source": [
    "#### 8. Of those TCP packets that are less than or equal to 60 bytes, how many have the FIN and ACK bits set?\n",
    "For this question we can use the str.contains function that checkes whether the words 'FIN, ACK' are included in the Info atribute"
   ]
  },
  {
   "cell_type": "code",
   "execution_count": 178,
   "id": "87f4cb2f",
   "metadata": {},
   "outputs": [
    {
     "name": "stderr",
     "output_type": "stream",
     "text": [
      "C:\\Users\\UACIS\\AppData\\Local\\Temp/ipykernel_22824/427259458.py:1: UserWarning: Boolean Series key will be reindexed to match DataFrame index.\n",
      "  df5 = df4[df['Info'].str.contains(\"FIN, ACK\")]\n"
     ]
    },
    {
     "data": {
      "text/html": [
       "<div>\n",
       "<style scoped>\n",
       "    .dataframe tbody tr th:only-of-type {\n",
       "        vertical-align: middle;\n",
       "    }\n",
       "\n",
       "    .dataframe tbody tr th {\n",
       "        vertical-align: top;\n",
       "    }\n",
       "\n",
       "    .dataframe thead th {\n",
       "        text-align: right;\n",
       "    }\n",
       "</style>\n",
       "<table border=\"1\" class=\"dataframe\">\n",
       "  <thead>\n",
       "    <tr style=\"text-align: right;\">\n",
       "      <th></th>\n",
       "      <th>No.</th>\n",
       "      <th>Time</th>\n",
       "      <th>Protocol</th>\n",
       "      <th>Source</th>\n",
       "      <th>Destination</th>\n",
       "      <th>Length</th>\n",
       "      <th>Info</th>\n",
       "    </tr>\n",
       "  </thead>\n",
       "  <tbody>\n",
       "    <tr>\n",
       "      <th>383</th>\n",
       "      <td>384</td>\n",
       "      <td>201.273855</td>\n",
       "      <td>TCP</td>\n",
       "      <td>00:0c:29:7b:a8:da</td>\n",
       "      <td>00:50:56:f2:7a:09</td>\n",
       "      <td>54</td>\n",
       "      <td>1044  &gt;  80 [FIN, ACK] Seq=3610 Ack=122412 Win...</td>\n",
       "    </tr>\n",
       "    <tr>\n",
       "      <th>751</th>\n",
       "      <td>752</td>\n",
       "      <td>250.434251</td>\n",
       "      <td>TCP</td>\n",
       "      <td>00:0c:29:7b:a8:da</td>\n",
       "      <td>00:50:56:f2:7a:09</td>\n",
       "      <td>54</td>\n",
       "      <td>1046  &gt;  80 [FIN, ACK] Seq=3610 Ack=122412 Win...</td>\n",
       "    </tr>\n",
       "  </tbody>\n",
       "</table>\n",
       "</div>"
      ],
      "text/plain": [
       "     No.        Time Protocol             Source        Destination  Length  \\\n",
       "383  384  201.273855      TCP  00:0c:29:7b:a8:da  00:50:56:f2:7a:09      54   \n",
       "751  752  250.434251      TCP  00:0c:29:7b:a8:da  00:50:56:f2:7a:09      54   \n",
       "\n",
       "                                                  Info  \n",
       "383  1044  >  80 [FIN, ACK] Seq=3610 Ack=122412 Win...  \n",
       "751  1046  >  80 [FIN, ACK] Seq=3610 Ack=122412 Win...  "
      ]
     },
     "execution_count": 178,
     "metadata": {},
     "output_type": "execute_result"
    }
   ],
   "source": [
    "df5 = df4[df['Info'].str.contains(\"FIN, ACK\")]\n",
    "\n",
    "#visual check. There are only 2 elements\n",
    "df5.head(3)"
   ]
  },
  {
   "cell_type": "code",
   "execution_count": 89,
   "id": "2395f2d9",
   "metadata": {},
   "outputs": [
    {
     "data": {
      "text/plain": [
       "(2, 7)"
      ]
     },
     "execution_count": 89,
     "metadata": {},
     "output_type": "execute_result"
    }
   ],
   "source": [
    "df5.shape"
   ]
  },
  {
   "cell_type": "markdown",
   "id": "0eff14f7",
   "metadata": {},
   "source": [
    "#### 9. If a packet contains either an ICMP or IGMPv3 packet, annotate a new column with a 1 to indicate present and 0 otherwise. Determine the number of packets that are flagged with a 1.\n",
    "One approach is to create the new column with a boolean series that is the result of checking whether the common patter of ICMP and IGMPv3 ('MP') is present in the atribute 'Protocol'"
   ]
  },
  {
   "cell_type": "code",
   "execution_count": 10,
   "id": "626e6605",
   "metadata": {},
   "outputs": [],
   "source": [
    "# wew use the assign method to create the column\n",
    "\n",
    "#df6=df.assign(ICMP=df['Protocol'].str.contains(\"MP\") )\n",
    "df6=df.assign(ICMP=((df['Protocol']=='ICMP' ) | (df['Protocol']=='IGMPv3')))"
   ]
  },
  {
   "cell_type": "code",
   "execution_count": 11,
   "id": "05893b5f",
   "metadata": {},
   "outputs": [
    {
     "data": {
      "text/html": [
       "<div>\n",
       "<style scoped>\n",
       "    .dataframe tbody tr th:only-of-type {\n",
       "        vertical-align: middle;\n",
       "    }\n",
       "\n",
       "    .dataframe tbody tr th {\n",
       "        vertical-align: top;\n",
       "    }\n",
       "\n",
       "    .dataframe thead th {\n",
       "        text-align: right;\n",
       "    }\n",
       "</style>\n",
       "<table border=\"1\" class=\"dataframe\">\n",
       "  <thead>\n",
       "    <tr style=\"text-align: right;\">\n",
       "      <th></th>\n",
       "      <th>No.</th>\n",
       "      <th>Time</th>\n",
       "      <th>Protocol</th>\n",
       "      <th>Source</th>\n",
       "      <th>Destination</th>\n",
       "      <th>Length</th>\n",
       "      <th>Info</th>\n",
       "      <th>ICMP</th>\n",
       "    </tr>\n",
       "  </thead>\n",
       "  <tbody>\n",
       "    <tr>\n",
       "      <th>0</th>\n",
       "      <td>1</td>\n",
       "      <td>0.000000</td>\n",
       "      <td>ARP</td>\n",
       "      <td>00:0c:29:7b:a8:da</td>\n",
       "      <td>ff:ff:ff:ff:ff:ff</td>\n",
       "      <td>42</td>\n",
       "      <td>Who has 172.16.253.254? Tell 172.16.253.129</td>\n",
       "      <td>False</td>\n",
       "    </tr>\n",
       "    <tr>\n",
       "      <th>1</th>\n",
       "      <td>2</td>\n",
       "      <td>0.000193</td>\n",
       "      <td>ARP</td>\n",
       "      <td>00:50:56:e7:50:95</td>\n",
       "      <td>00:0c:29:7b:a8:da</td>\n",
       "      <td>60</td>\n",
       "      <td>172.16.253.254 is at 00:50:56:e7:50:95</td>\n",
       "      <td>False</td>\n",
       "    </tr>\n",
       "    <tr>\n",
       "      <th>2</th>\n",
       "      <td>3</td>\n",
       "      <td>0.000204</td>\n",
       "      <td>DHCP</td>\n",
       "      <td>00:0c:29:7b:a8:da</td>\n",
       "      <td>00:50:56:e7:50:95</td>\n",
       "      <td>343</td>\n",
       "      <td>DHCP Request  - Transaction ID 0xa379aeca</td>\n",
       "      <td>False</td>\n",
       "    </tr>\n",
       "    <tr>\n",
       "      <th>3</th>\n",
       "      <td>4</td>\n",
       "      <td>0.001525</td>\n",
       "      <td>DHCP</td>\n",
       "      <td>00:50:56:e7:50:95</td>\n",
       "      <td>00:0c:29:7b:a8:da</td>\n",
       "      <td>342</td>\n",
       "      <td>DHCP ACK      - Transaction ID 0xa379aeca</td>\n",
       "      <td>False</td>\n",
       "    </tr>\n",
       "    <tr>\n",
       "      <th>4</th>\n",
       "      <td>5</td>\n",
       "      <td>16.384615</td>\n",
       "      <td>IGMPv3</td>\n",
       "      <td>00:0c:29:7b:a8:da</td>\n",
       "      <td>01:00:5e:00:00:16</td>\n",
       "      <td>54</td>\n",
       "      <td>Membership Report / Leave group 239.255.255.250</td>\n",
       "      <td>True</td>\n",
       "    </tr>\n",
       "    <tr>\n",
       "      <th>5</th>\n",
       "      <td>6</td>\n",
       "      <td>16.571901</td>\n",
       "      <td>IGMPv3</td>\n",
       "      <td>00:0c:29:7b:a8:da</td>\n",
       "      <td>01:00:5e:00:00:16</td>\n",
       "      <td>54</td>\n",
       "      <td>Membership Report / Join group 239.255.255.250...</td>\n",
       "      <td>True</td>\n",
       "    </tr>\n",
       "    <tr>\n",
       "      <th>6</th>\n",
       "      <td>7</td>\n",
       "      <td>17.406632</td>\n",
       "      <td>IGMPv3</td>\n",
       "      <td>00:0c:29:7b:a8:da</td>\n",
       "      <td>01:00:5e:00:00:16</td>\n",
       "      <td>54</td>\n",
       "      <td>Membership Report / Leave group 239.255.255.250</td>\n",
       "      <td>True</td>\n",
       "    </tr>\n",
       "    <tr>\n",
       "      <th>7</th>\n",
       "      <td>8</td>\n",
       "      <td>17.423735</td>\n",
       "      <td>IGMPv3</td>\n",
       "      <td>00:0c:29:7b:a8:da</td>\n",
       "      <td>01:00:5e:00:00:16</td>\n",
       "      <td>54</td>\n",
       "      <td>Membership Report / Join group 239.255.255.250...</td>\n",
       "      <td>True</td>\n",
       "    </tr>\n",
       "    <tr>\n",
       "      <th>8</th>\n",
       "      <td>9</td>\n",
       "      <td>17.977730</td>\n",
       "      <td>IGMPv3</td>\n",
       "      <td>00:0c:29:7b:a8:da</td>\n",
       "      <td>01:00:5e:00:00:16</td>\n",
       "      <td>54</td>\n",
       "      <td>Membership Report / Join group 239.255.255.250...</td>\n",
       "      <td>True</td>\n",
       "    </tr>\n",
       "    <tr>\n",
       "      <th>9</th>\n",
       "      <td>10</td>\n",
       "      <td>20.841272</td>\n",
       "      <td>DHCP</td>\n",
       "      <td>00:0c:29:7b:a8:da</td>\n",
       "      <td>ff:ff:ff:ff:ff:ff</td>\n",
       "      <td>342</td>\n",
       "      <td>DHCP Discover - Transaction ID 0x171ae510</td>\n",
       "      <td>False</td>\n",
       "    </tr>\n",
       "    <tr>\n",
       "      <th>10</th>\n",
       "      <td>11</td>\n",
       "      <td>20.842268</td>\n",
       "      <td>ICMP</td>\n",
       "      <td>00:50:56:e0:a7:8a</td>\n",
       "      <td>ff:ff:ff:ff:ff:ff</td>\n",
       "      <td>62</td>\n",
       "      <td>Echo (ping) request  id=0xf9f8, seq=0/0, ttl=1...</td>\n",
       "      <td>True</td>\n",
       "    </tr>\n",
       "    <tr>\n",
       "      <th>11</th>\n",
       "      <td>12</td>\n",
       "      <td>20.842275</td>\n",
       "      <td>ICMP</td>\n",
       "      <td>00:50:56:f2:7a:09</td>\n",
       "      <td>00:0c:29:7b:a8:da</td>\n",
       "      <td>62</td>\n",
       "      <td>Echo (ping) request  id=0xf9f8, seq=0/0, ttl=1...</td>\n",
       "      <td>True</td>\n",
       "    </tr>\n",
       "    <tr>\n",
       "      <th>12</th>\n",
       "      <td>13</td>\n",
       "      <td>21.704449</td>\n",
       "      <td>DHCP</td>\n",
       "      <td>00:50:56:e0:a7:8a</td>\n",
       "      <td>00:0c:29:7b:a8:da</td>\n",
       "      <td>342</td>\n",
       "      <td>DHCP Offer    - Transaction ID 0x171ae510</td>\n",
       "      <td>False</td>\n",
       "    </tr>\n",
       "    <tr>\n",
       "      <th>13</th>\n",
       "      <td>14</td>\n",
       "      <td>21.705020</td>\n",
       "      <td>DHCP</td>\n",
       "      <td>00:0c:29:7b:a8:da</td>\n",
       "      <td>ff:ff:ff:ff:ff:ff</td>\n",
       "      <td>355</td>\n",
       "      <td>DHCP Request  - Transaction ID 0x171ae510</td>\n",
       "      <td>False</td>\n",
       "    </tr>\n",
       "    <tr>\n",
       "      <th>14</th>\n",
       "      <td>15</td>\n",
       "      <td>21.708975</td>\n",
       "      <td>DHCP</td>\n",
       "      <td>00:50:56:e0:a7:8a</td>\n",
       "      <td>00:0c:29:7b:a8:da</td>\n",
       "      <td>342</td>\n",
       "      <td>DHCP ACK      - Transaction ID 0x171ae510</td>\n",
       "      <td>False</td>\n",
       "    </tr>\n",
       "    <tr>\n",
       "      <th>15</th>\n",
       "      <td>16</td>\n",
       "      <td>21.722586</td>\n",
       "      <td>ARP</td>\n",
       "      <td>00:0c:29:7b:a8:da</td>\n",
       "      <td>ff:ff:ff:ff:ff:ff</td>\n",
       "      <td>42</td>\n",
       "      <td>Gratuitous ARP for 172.16.253.129 (Request)</td>\n",
       "      <td>False</td>\n",
       "    </tr>\n",
       "    <tr>\n",
       "      <th>16</th>\n",
       "      <td>17</td>\n",
       "      <td>21.977150</td>\n",
       "      <td>ARP</td>\n",
       "      <td>00:0c:29:7b:a8:da</td>\n",
       "      <td>ff:ff:ff:ff:ff:ff</td>\n",
       "      <td>42</td>\n",
       "      <td>Gratuitous ARP for 172.16.253.129 (Request)</td>\n",
       "      <td>False</td>\n",
       "    </tr>\n",
       "    <tr>\n",
       "      <th>17</th>\n",
       "      <td>18</td>\n",
       "      <td>22.978029</td>\n",
       "      <td>ARP</td>\n",
       "      <td>00:0c:29:7b:a8:da</td>\n",
       "      <td>ff:ff:ff:ff:ff:ff</td>\n",
       "      <td>42</td>\n",
       "      <td>Gratuitous ARP for 172.16.253.129 (Request)</td>\n",
       "      <td>False</td>\n",
       "    </tr>\n",
       "    <tr>\n",
       "      <th>18</th>\n",
       "      <td>19</td>\n",
       "      <td>24.047693</td>\n",
       "      <td>IGMPv3</td>\n",
       "      <td>00:0c:29:7b:a8:da</td>\n",
       "      <td>01:00:5e:00:00:16</td>\n",
       "      <td>54</td>\n",
       "      <td>Membership Report / Join group 239.255.255.250...</td>\n",
       "      <td>True</td>\n",
       "    </tr>\n",
       "    <tr>\n",
       "      <th>19</th>\n",
       "      <td>20</td>\n",
       "      <td>24.977440</td>\n",
       "      <td>IGMPv3</td>\n",
       "      <td>00:0c:29:7b:a8:da</td>\n",
       "      <td>01:00:5e:00:00:16</td>\n",
       "      <td>54</td>\n",
       "      <td>Membership Report / Join group 239.255.255.250...</td>\n",
       "      <td>True</td>\n",
       "    </tr>\n",
       "  </tbody>\n",
       "</table>\n",
       "</div>"
      ],
      "text/plain": [
       "    No.       Time Protocol             Source        Destination  Length  \\\n",
       "0     1   0.000000      ARP  00:0c:29:7b:a8:da  ff:ff:ff:ff:ff:ff      42   \n",
       "1     2   0.000193      ARP  00:50:56:e7:50:95  00:0c:29:7b:a8:da      60   \n",
       "2     3   0.000204     DHCP  00:0c:29:7b:a8:da  00:50:56:e7:50:95     343   \n",
       "3     4   0.001525     DHCP  00:50:56:e7:50:95  00:0c:29:7b:a8:da     342   \n",
       "4     5  16.384615   IGMPv3  00:0c:29:7b:a8:da  01:00:5e:00:00:16      54   \n",
       "5     6  16.571901   IGMPv3  00:0c:29:7b:a8:da  01:00:5e:00:00:16      54   \n",
       "6     7  17.406632   IGMPv3  00:0c:29:7b:a8:da  01:00:5e:00:00:16      54   \n",
       "7     8  17.423735   IGMPv3  00:0c:29:7b:a8:da  01:00:5e:00:00:16      54   \n",
       "8     9  17.977730   IGMPv3  00:0c:29:7b:a8:da  01:00:5e:00:00:16      54   \n",
       "9    10  20.841272     DHCP  00:0c:29:7b:a8:da  ff:ff:ff:ff:ff:ff     342   \n",
       "10   11  20.842268     ICMP  00:50:56:e0:a7:8a  ff:ff:ff:ff:ff:ff      62   \n",
       "11   12  20.842275     ICMP  00:50:56:f2:7a:09  00:0c:29:7b:a8:da      62   \n",
       "12   13  21.704449     DHCP  00:50:56:e0:a7:8a  00:0c:29:7b:a8:da     342   \n",
       "13   14  21.705020     DHCP  00:0c:29:7b:a8:da  ff:ff:ff:ff:ff:ff     355   \n",
       "14   15  21.708975     DHCP  00:50:56:e0:a7:8a  00:0c:29:7b:a8:da     342   \n",
       "15   16  21.722586      ARP  00:0c:29:7b:a8:da  ff:ff:ff:ff:ff:ff      42   \n",
       "16   17  21.977150      ARP  00:0c:29:7b:a8:da  ff:ff:ff:ff:ff:ff      42   \n",
       "17   18  22.978029      ARP  00:0c:29:7b:a8:da  ff:ff:ff:ff:ff:ff      42   \n",
       "18   19  24.047693   IGMPv3  00:0c:29:7b:a8:da  01:00:5e:00:00:16      54   \n",
       "19   20  24.977440   IGMPv3  00:0c:29:7b:a8:da  01:00:5e:00:00:16      54   \n",
       "\n",
       "                                                 Info   ICMP  \n",
       "0         Who has 172.16.253.254? Tell 172.16.253.129  False  \n",
       "1              172.16.253.254 is at 00:50:56:e7:50:95  False  \n",
       "2           DHCP Request  - Transaction ID 0xa379aeca  False  \n",
       "3           DHCP ACK      - Transaction ID 0xa379aeca  False  \n",
       "4     Membership Report / Leave group 239.255.255.250   True  \n",
       "5   Membership Report / Join group 239.255.255.250...   True  \n",
       "6     Membership Report / Leave group 239.255.255.250   True  \n",
       "7   Membership Report / Join group 239.255.255.250...   True  \n",
       "8   Membership Report / Join group 239.255.255.250...   True  \n",
       "9           DHCP Discover - Transaction ID 0x171ae510  False  \n",
       "10  Echo (ping) request  id=0xf9f8, seq=0/0, ttl=1...   True  \n",
       "11  Echo (ping) request  id=0xf9f8, seq=0/0, ttl=1...   True  \n",
       "12          DHCP Offer    - Transaction ID 0x171ae510  False  \n",
       "13          DHCP Request  - Transaction ID 0x171ae510  False  \n",
       "14          DHCP ACK      - Transaction ID 0x171ae510  False  \n",
       "15        Gratuitous ARP for 172.16.253.129 (Request)  False  \n",
       "16        Gratuitous ARP for 172.16.253.129 (Request)  False  \n",
       "17        Gratuitous ARP for 172.16.253.129 (Request)  False  \n",
       "18  Membership Report / Join group 239.255.255.250...   True  \n",
       "19  Membership Report / Join group 239.255.255.250...   True  "
      ]
     },
     "execution_count": 11,
     "metadata": {},
     "output_type": "execute_result"
    }
   ],
   "source": [
    "# visual sanity check\n",
    "df6.head(20)"
   ]
  },
  {
   "cell_type": "code",
   "execution_count": 105,
   "id": "104faff7",
   "metadata": {},
   "outputs": [
    {
     "data": {
      "text/plain": [
       "11"
      ]
     },
     "execution_count": 105,
     "metadata": {},
     "output_type": "execute_result"
    }
   ],
   "source": [
    "# we compute the sum of Trues\n",
    "df6['ICMP'].sum()"
   ]
  },
  {
   "cell_type": "markdown",
   "id": "04015103",
   "metadata": {},
   "source": [
    "Another way using the sum of two boolean series"
   ]
  },
  {
   "cell_type": "code",
   "execution_count": 124,
   "id": "19bee45b",
   "metadata": {},
   "outputs": [
    {
     "data": {
      "text/plain": [
       "11"
      ]
     },
     "execution_count": 124,
     "metadata": {},
     "output_type": "execute_result"
    }
   ],
   "source": [
    "a = df['Protocol'].str.contains(\"ICMP\")\n",
    "b = df['Protocol'].str.contains(\"IGMPv3\")\n",
    "df7 = df.assign(ICMP= a + b )\n",
    "df7['ICMP'].sum()"
   ]
  },
  {
   "cell_type": "markdown",
   "id": "ec5195d7",
   "metadata": {},
   "source": [
    "and another way Using the isin() method for filtering"
   ]
  },
  {
   "cell_type": "code",
   "execution_count": 127,
   "id": "3dad1141",
   "metadata": {},
   "outputs": [
    {
     "data": {
      "text/plain": [
       "(11, 7)"
      ]
     },
     "execution_count": 127,
     "metadata": {},
     "output_type": "execute_result"
    }
   ],
   "source": [
    "df8 = df[df['Protocol'].isin([\"ICMP\" , \"IGMPv3\"])]\n",
    "df8.shape"
   ]
  }
 ],
 "metadata": {
  "kernelspec": {
   "display_name": "Python 3 (ipykernel)",
   "language": "python",
   "name": "python3"
  },
  "language_info": {
   "codemirror_mode": {
    "name": "ipython",
    "version": 3
   },
   "file_extension": ".py",
   "mimetype": "text/x-python",
   "name": "python",
   "nbconvert_exporter": "python",
   "pygments_lexer": "ipython3",
   "version": "3.9.7"
  }
 },
 "nbformat": 4,
 "nbformat_minor": 5
}
