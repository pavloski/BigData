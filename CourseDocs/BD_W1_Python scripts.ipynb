{
 "cells": [
  {
   "cell_type": "markdown",
   "id": "ffc3142b",
   "metadata": {},
   "source": [
    "## Pyhon Scripts"
   ]
  },
  {
   "cell_type": "code",
   "execution_count": 1,
   "id": "5461965b",
   "metadata": {},
   "outputs": [
    {
     "name": "stdout",
     "output_type": "stream",
     "text": [
      "the name: koo\n",
      "the name: aaa\n",
      "the name: eee\n",
      "the name: \n",
      "['aaa', 'eee']\n"
     ]
    }
   ],
   "source": [
    "%run \"C:\\Users\\UACIS\\PycharmProjects\\BigData\\python_loops.py\""
   ]
  },
  {
   "cell_type": "code",
   "execution_count": 11,
   "id": "87097be7",
   "metadata": {},
   "outputs": [
    {
     "name": "stdout",
     "output_type": "stream",
     "text": [
      "at\n"
     ]
    }
   ],
   "source": [
    "import re\n",
    "string = \"vat\"\n",
    "match = re.search(\"at\", string)\n",
    "print(match.group())"
   ]
  },
  {
   "cell_type": "code",
   "execution_count": 21,
   "id": "f317e813",
   "metadata": {},
   "outputs": [
    {
     "name": "stdout",
     "output_type": "stream",
     "text": [
      "Who? pepe\n",
      "what is the score? 200\n",
      "Who? juan\n",
      "what is the score? 2000\n",
      "Who? ji\n",
      "what is the score? 22\n",
      "Who? \n"
     ]
    }
   ],
   "source": [
    "f=open(\"scores.txt\", \"w\")\n",
    "while True:\n",
    "    participant = input(\"Who? \")\n",
    "    if len(participant)< 1: break\n",
    "    score = input(\"what is the score? \")\n",
    "    f.write(participant+ \",\" + score + \"\\n\")\n",
    "f.close()"
   ]
  },
  {
   "cell_type": "code",
   "execution_count": 22,
   "id": "cfa220ef",
   "metadata": {},
   "outputs": [
    {
     "name": "stdout",
     "output_type": "stream",
     "text": [
      "['pepe', '200']\n",
      "['juan', '2000']\n",
      "['ji', '22']\n",
      "{'pepe': '200', 'juan': '2000', 'ji': '22'}\n"
     ]
    }
   ],
   "source": [
    "f=open(\"scores.txt\", \"r\")\n",
    "participants ={}\n",
    "for line in f:\n",
    "    print(line.strip().split(\",\"))\n",
    "    participants[line.strip().split(\",\")[0]]= line.strip().split(\",\")[1]\n",
    "print(participants)   "
   ]
  }
 ],
 "metadata": {
  "kernelspec": {
   "display_name": "Python 3 (ipykernel)",
   "language": "python",
   "name": "python3"
  },
  "language_info": {
   "codemirror_mode": {
    "name": "ipython",
    "version": 3
   },
   "file_extension": ".py",
   "mimetype": "text/x-python",
   "name": "python",
   "nbconvert_exporter": "python",
   "pygments_lexer": "ipython3",
   "version": "3.9.7"
  }
 },
 "nbformat": 4,
 "nbformat_minor": 5
}
