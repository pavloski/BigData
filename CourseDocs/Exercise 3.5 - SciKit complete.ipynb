{
 "cells": [
  {
   "cell_type": "code",
   "execution_count": 72,
   "metadata": {},
   "outputs": [],
   "source": [
    "import pandas\n",
    "import numpy as np\n",
    "import time\n",
    "from sklearn import ensemble\n",
    "from sklearn import model_selection\n",
    "from sklearn import metrics\n",
    "from sklearn.metrics import classification_report\n",
    "from sklearn.metrics import roc_curve, roc_auc_score\n",
    "import matplotlib.pyplot as plt\n",
    "import seaborn as sns\n",
    "from sklearn.feature_selection import RFECV\n",
    "from sklearn.decomposition import PCA\n",
    "from sklearn.preprocessing import StandardScaler"
   ]
  },
  {
   "cell_type": "markdown",
   "metadata": {},
   "source": [
    "Now let's scale up the number of lines to see how good we get our AI"
   ]
  },
  {
   "cell_type": "code",
   "execution_count": 73,
   "metadata": {},
   "outputs": [],
   "source": [
    "READ_LINES = 20000\n",
    "best_features = ['AddressOfEntryPoint', 'MajorLinkerVersion', 'NumberOfSections', 'PointerToRawData', 'SizeOfCode', 'SizeOfImage', 'SizeOfInitializedData',\n",
    "                 'SizeOfRawData', 'VirtualAddress', 'section_data_PointerToRawData', 'section_data_SizeOfRawData', 'section_data_VirtualAddress',\n",
    "                 'section_data_VirtualSize', 'section_idata_PointerToRawData', 'section_idata_VirtualAddress', 'section_idata_VirtualSize',\n",
    "                 'section_rdata_SizeOfRawData', 'section_rdata_VirtualAddress', 'section_rdata_VirtualSize', 'section_reloc_PointerToRawData',\n",
    "                 'section_reloc_SizeOfRawData', 'section_reloc_VirtualAddress', 'section_reloc_VirtualSize', 'section_rsrc_PointerToRawData',\n",
    "                 'section_rsrc_SizeOfRawData', 'section_rsrc_VirtualAddress', 'section_rsrc_VirtualSize', 'section_rsrc_exec', 'section_rsrc_write',\n",
    "                 'section_text_SizeOfRawData', 'section_text_VirtualSize']\n",
    "use_columns = best_features + ['hash', 'malicious']\n",
    "malicious_data = pandas.read_csv('/rodata/exercise03/clam_mal.csv', index_col=None, \n",
    "                                 nrows=READ_LINES, usecols=use_columns)\n",
    "benign_data = pandas.read_csv('/rodata/exercise03/clam_benign.csv', index_col=None, \n",
    "                              nrows=READ_LINES, usecols=use_columns)"
   ]
  },
  {
   "cell_type": "markdown",
   "metadata": {},
   "source": [
    "Merge malicious and clean data (features), remove sample hashes, and split out classes"
   ]
  },
  {
   "cell_type": "code",
   "execution_count": 74,
   "metadata": {},
   "outputs": [
    {
     "name": "stderr",
     "output_type": "stream",
     "text": [
      "/tmp/ipykernel_97656/3017030221.py:1: FutureWarning: The frame.append method is deprecated and will be removed from pandas in a future version. Use pandas.concat instead.\n",
      "  learn_data = malicious_data.append(benign_data, ignore_index=True)\n"
     ]
    }
   ],
   "source": [
    "learn_data = malicious_data.append(benign_data, ignore_index=True)\n",
    "learn_data.fillna(0, inplace=True) # fill missing entries from either set with 0\n",
    "learn_data = learn_data.sample(frac = 1, random_state=1).reset_index(drop=True)\n",
    "classes = learn_data['malicious']\n",
    "del learn_data['malicious']\n",
    "del learn_data['hash']\n"
   ]
  },
  {
   "cell_type": "code",
   "execution_count": 32,
   "metadata": {},
   "outputs": [
    {
     "data": {
      "text/html": [
       "<div>\n",
       "<style scoped>\n",
       "    .dataframe tbody tr th:only-of-type {\n",
       "        vertical-align: middle;\n",
       "    }\n",
       "\n",
       "    .dataframe tbody tr th {\n",
       "        vertical-align: top;\n",
       "    }\n",
       "\n",
       "    .dataframe thead th {\n",
       "        text-align: right;\n",
       "    }\n",
       "</style>\n",
       "<table border=\"1\" class=\"dataframe\">\n",
       "  <thead>\n",
       "    <tr style=\"text-align: right;\">\n",
       "      <th></th>\n",
       "      <th>AddressOfEntryPoint</th>\n",
       "      <th>MajorLinkerVersion</th>\n",
       "      <th>NumberOfSections</th>\n",
       "      <th>PointerToRawData</th>\n",
       "      <th>SizeOfCode</th>\n",
       "      <th>SizeOfImage</th>\n",
       "      <th>SizeOfInitializedData</th>\n",
       "      <th>SizeOfRawData</th>\n",
       "      <th>VirtualAddress</th>\n",
       "      <th>section_data_PointerToRawData</th>\n",
       "      <th>...</th>\n",
       "      <th>section_reloc_VirtualAddress</th>\n",
       "      <th>section_reloc_VirtualSize</th>\n",
       "      <th>section_rsrc_PointerToRawData</th>\n",
       "      <th>section_rsrc_SizeOfRawData</th>\n",
       "      <th>section_rsrc_VirtualAddress</th>\n",
       "      <th>section_rsrc_VirtualSize</th>\n",
       "      <th>section_rsrc_exec</th>\n",
       "      <th>section_rsrc_write</th>\n",
       "      <th>section_text_SizeOfRawData</th>\n",
       "      <th>section_text_VirtualSize</th>\n",
       "    </tr>\n",
       "  </thead>\n",
       "  <tbody>\n",
       "    <tr>\n",
       "      <th>0</th>\n",
       "      <td>1011792</td>\n",
       "      <td>10</td>\n",
       "      <td>3</td>\n",
       "      <td>324096</td>\n",
       "      <td>323584</td>\n",
       "      <td>1032192</td>\n",
       "      <td>16384</td>\n",
       "      <td>15360</td>\n",
       "      <td>1015808</td>\n",
       "      <td>0</td>\n",
       "      <td>...</td>\n",
       "      <td>0</td>\n",
       "      <td>0</td>\n",
       "      <td>324096</td>\n",
       "      <td>15360</td>\n",
       "      <td>1015808</td>\n",
       "      <td>16384</td>\n",
       "      <td>0</td>\n",
       "      <td>1</td>\n",
       "      <td>0</td>\n",
       "      <td>0</td>\n",
       "    </tr>\n",
       "    <tr>\n",
       "      <th>1</th>\n",
       "      <td>0</td>\n",
       "      <td>14</td>\n",
       "      <td>2</td>\n",
       "      <td>1024</td>\n",
       "      <td>0</td>\n",
       "      <td>339968</td>\n",
       "      <td>331264</td>\n",
       "      <td>330752</td>\n",
       "      <td>8192</td>\n",
       "      <td>0</td>\n",
       "      <td>...</td>\n",
       "      <td>0</td>\n",
       "      <td>0</td>\n",
       "      <td>1024</td>\n",
       "      <td>330752</td>\n",
       "      <td>8192</td>\n",
       "      <td>330712</td>\n",
       "      <td>0</td>\n",
       "      <td>0</td>\n",
       "      <td>512</td>\n",
       "      <td>112</td>\n",
       "    </tr>\n",
       "    <tr>\n",
       "      <th>2</th>\n",
       "      <td>56558</td>\n",
       "      <td>10</td>\n",
       "      <td>4</td>\n",
       "      <td>519168</td>\n",
       "      <td>124928</td>\n",
       "      <td>544768</td>\n",
       "      <td>401408</td>\n",
       "      <td>8192</td>\n",
       "      <td>536576</td>\n",
       "      <td>125952</td>\n",
       "      <td>...</td>\n",
       "      <td>536576</td>\n",
       "      <td>7926</td>\n",
       "      <td>131584</td>\n",
       "      <td>387584</td>\n",
       "      <td>147456</td>\n",
       "      <td>387108</td>\n",
       "      <td>0</td>\n",
       "      <td>0</td>\n",
       "      <td>124928</td>\n",
       "      <td>124550</td>\n",
       "    </tr>\n",
       "    <tr>\n",
       "      <th>3</th>\n",
       "      <td>7702</td>\n",
       "      <td>9</td>\n",
       "      <td>5</td>\n",
       "      <td>60928</td>\n",
       "      <td>5120</td>\n",
       "      <td>77824</td>\n",
       "      <td>55808</td>\n",
       "      <td>1024</td>\n",
       "      <td>73728</td>\n",
       "      <td>9728</td>\n",
       "      <td>...</td>\n",
       "      <td>73728</td>\n",
       "      <td>1022</td>\n",
       "      <td>10240</td>\n",
       "      <td>50688</td>\n",
       "      <td>20480</td>\n",
       "      <td>50376</td>\n",
       "      <td>0</td>\n",
       "      <td>0</td>\n",
       "      <td>5120</td>\n",
       "      <td>4905</td>\n",
       "    </tr>\n",
       "    <tr>\n",
       "      <th>4</th>\n",
       "      <td>14211</td>\n",
       "      <td>8</td>\n",
       "      <td>5</td>\n",
       "      <td>34304</td>\n",
       "      <td>25088</td>\n",
       "      <td>1474560</td>\n",
       "      <td>268800</td>\n",
       "      <td>27136</td>\n",
       "      <td>1445888</td>\n",
       "      <td>33792</td>\n",
       "      <td>...</td>\n",
       "      <td>0</td>\n",
       "      <td>0</td>\n",
       "      <td>34304</td>\n",
       "      <td>27136</td>\n",
       "      <td>1445888</td>\n",
       "      <td>27056</td>\n",
       "      <td>0</td>\n",
       "      <td>0</td>\n",
       "      <td>25088</td>\n",
       "      <td>25084</td>\n",
       "    </tr>\n",
       "    <tr>\n",
       "      <th>5</th>\n",
       "      <td>73728</td>\n",
       "      <td>14</td>\n",
       "      <td>5</td>\n",
       "      <td>5984768</td>\n",
       "      <td>157184</td>\n",
       "      <td>6004736</td>\n",
       "      <td>5833728</td>\n",
       "      <td>7168</td>\n",
       "      <td>5996544</td>\n",
       "      <td>158208</td>\n",
       "      <td>...</td>\n",
       "      <td>5996544</td>\n",
       "      <td>7112</td>\n",
       "      <td>164864</td>\n",
       "      <td>5819904</td>\n",
       "      <td>176128</td>\n",
       "      <td>5819796</td>\n",
       "      <td>0</td>\n",
       "      <td>0</td>\n",
       "      <td>157184</td>\n",
       "      <td>157044</td>\n",
       "    </tr>\n",
       "    <tr>\n",
       "      <th>6</th>\n",
       "      <td>52011</td>\n",
       "      <td>11</td>\n",
       "      <td>5</td>\n",
       "      <td>907264</td>\n",
       "      <td>89088</td>\n",
       "      <td>937984</td>\n",
       "      <td>827904</td>\n",
       "      <td>10752</td>\n",
       "      <td>925696</td>\n",
       "      <td>119808</td>\n",
       "      <td>...</td>\n",
       "      <td>925696</td>\n",
       "      <td>10748</td>\n",
       "      <td>124928</td>\n",
       "      <td>782336</td>\n",
       "      <td>143360</td>\n",
       "      <td>781936</td>\n",
       "      <td>0</td>\n",
       "      <td>0</td>\n",
       "      <td>89088</td>\n",
       "      <td>88831</td>\n",
       "    </tr>\n",
       "    <tr>\n",
       "      <th>7</th>\n",
       "      <td>4144480</td>\n",
       "      <td>8</td>\n",
       "      <td>4</td>\n",
       "      <td>4168704</td>\n",
       "      <td>4154368</td>\n",
       "      <td>4268032</td>\n",
       "      <td>102400</td>\n",
       "      <td>84992</td>\n",
       "      <td>4182016</td>\n",
       "      <td>4158464</td>\n",
       "      <td>...</td>\n",
       "      <td>0</td>\n",
       "      <td>0</td>\n",
       "      <td>4168704</td>\n",
       "      <td>84992</td>\n",
       "      <td>4182016</td>\n",
       "      <td>84704</td>\n",
       "      <td>0</td>\n",
       "      <td>0</td>\n",
       "      <td>4154368</td>\n",
       "      <td>4154126</td>\n",
       "    </tr>\n",
       "    <tr>\n",
       "      <th>8</th>\n",
       "      <td>67056</td>\n",
       "      <td>14</td>\n",
       "      <td>5</td>\n",
       "      <td>2652160</td>\n",
       "      <td>149504</td>\n",
       "      <td>2674688</td>\n",
       "      <td>2508800</td>\n",
       "      <td>7168</td>\n",
       "      <td>2666496</td>\n",
       "      <td>150528</td>\n",
       "      <td>...</td>\n",
       "      <td>2666496</td>\n",
       "      <td>6728</td>\n",
       "      <td>157184</td>\n",
       "      <td>2494976</td>\n",
       "      <td>167936</td>\n",
       "      <td>2494852</td>\n",
       "      <td>0</td>\n",
       "      <td>0</td>\n",
       "      <td>149504</td>\n",
       "      <td>149428</td>\n",
       "    </tr>\n",
       "    <tr>\n",
       "      <th>9</th>\n",
       "      <td>23134</td>\n",
       "      <td>7</td>\n",
       "      <td>3</td>\n",
       "      <td>36864</td>\n",
       "      <td>34816</td>\n",
       "      <td>77824</td>\n",
       "      <td>26112</td>\n",
       "      <td>25088</td>\n",
       "      <td>49152</td>\n",
       "      <td>35840</td>\n",
       "      <td>...</td>\n",
       "      <td>0</td>\n",
       "      <td>0</td>\n",
       "      <td>36864</td>\n",
       "      <td>25088</td>\n",
       "      <td>49152</td>\n",
       "      <td>24652</td>\n",
       "      <td>0</td>\n",
       "      <td>0</td>\n",
       "      <td>34816</td>\n",
       "      <td>34330</td>\n",
       "    </tr>\n",
       "  </tbody>\n",
       "</table>\n",
       "<p>10 rows × 31 columns</p>\n",
       "</div>"
      ],
      "text/plain": [
       "   AddressOfEntryPoint  MajorLinkerVersion  NumberOfSections  \\\n",
       "0              1011792                  10                 3   \n",
       "1                    0                  14                 2   \n",
       "2                56558                  10                 4   \n",
       "3                 7702                   9                 5   \n",
       "4                14211                   8                 5   \n",
       "5                73728                  14                 5   \n",
       "6                52011                  11                 5   \n",
       "7              4144480                   8                 4   \n",
       "8                67056                  14                 5   \n",
       "9                23134                   7                 3   \n",
       "\n",
       "   PointerToRawData  SizeOfCode  SizeOfImage  SizeOfInitializedData  \\\n",
       "0            324096      323584      1032192                  16384   \n",
       "1              1024           0       339968                 331264   \n",
       "2            519168      124928       544768                 401408   \n",
       "3             60928        5120        77824                  55808   \n",
       "4             34304       25088      1474560                 268800   \n",
       "5           5984768      157184      6004736                5833728   \n",
       "6            907264       89088       937984                 827904   \n",
       "7           4168704     4154368      4268032                 102400   \n",
       "8           2652160      149504      2674688                2508800   \n",
       "9             36864       34816        77824                  26112   \n",
       "\n",
       "   SizeOfRawData  VirtualAddress  section_data_PointerToRawData  ...  \\\n",
       "0          15360         1015808                              0  ...   \n",
       "1         330752            8192                              0  ...   \n",
       "2           8192          536576                         125952  ...   \n",
       "3           1024           73728                           9728  ...   \n",
       "4          27136         1445888                          33792  ...   \n",
       "5           7168         5996544                         158208  ...   \n",
       "6          10752          925696                         119808  ...   \n",
       "7          84992         4182016                        4158464  ...   \n",
       "8           7168         2666496                         150528  ...   \n",
       "9          25088           49152                          35840  ...   \n",
       "\n",
       "   section_reloc_VirtualAddress  section_reloc_VirtualSize  \\\n",
       "0                             0                          0   \n",
       "1                             0                          0   \n",
       "2                        536576                       7926   \n",
       "3                         73728                       1022   \n",
       "4                             0                          0   \n",
       "5                       5996544                       7112   \n",
       "6                        925696                      10748   \n",
       "7                             0                          0   \n",
       "8                       2666496                       6728   \n",
       "9                             0                          0   \n",
       "\n",
       "   section_rsrc_PointerToRawData  section_rsrc_SizeOfRawData  \\\n",
       "0                         324096                       15360   \n",
       "1                           1024                      330752   \n",
       "2                         131584                      387584   \n",
       "3                          10240                       50688   \n",
       "4                          34304                       27136   \n",
       "5                         164864                     5819904   \n",
       "6                         124928                      782336   \n",
       "7                        4168704                       84992   \n",
       "8                         157184                     2494976   \n",
       "9                          36864                       25088   \n",
       "\n",
       "   section_rsrc_VirtualAddress  section_rsrc_VirtualSize  section_rsrc_exec  \\\n",
       "0                      1015808                     16384                  0   \n",
       "1                         8192                    330712                  0   \n",
       "2                       147456                    387108                  0   \n",
       "3                        20480                     50376                  0   \n",
       "4                      1445888                     27056                  0   \n",
       "5                       176128                   5819796                  0   \n",
       "6                       143360                    781936                  0   \n",
       "7                      4182016                     84704                  0   \n",
       "8                       167936                   2494852                  0   \n",
       "9                        49152                     24652                  0   \n",
       "\n",
       "   section_rsrc_write  section_text_SizeOfRawData  section_text_VirtualSize  \n",
       "0                   1                           0                         0  \n",
       "1                   0                         512                       112  \n",
       "2                   0                      124928                    124550  \n",
       "3                   0                        5120                      4905  \n",
       "4                   0                       25088                     25084  \n",
       "5                   0                      157184                    157044  \n",
       "6                   0                       89088                     88831  \n",
       "7                   0                     4154368                   4154126  \n",
       "8                   0                      149504                    149428  \n",
       "9                   0                       34816                     34330  \n",
       "\n",
       "[10 rows x 31 columns]"
      ]
     },
     "execution_count": 32,
     "metadata": {},
     "output_type": "execute_result"
    }
   ],
   "source": [
    "learn_data.head(10)"
   ]
  },
  {
   "cell_type": "markdown",
   "metadata": {},
   "source": [
    "Q: How good do we get on a single split?\n",
    "\n",
    "Q: What are the FP (false positive/false detections) and FN (false negative/missed detection) ratios?"
   ]
  },
  {
   "cell_type": "code",
   "execution_count": 75,
   "metadata": {},
   "outputs": [
    {
     "name": "stdout",
     "output_type": "stream",
     "text": [
      "0.9376139619692628\n",
      "[[3434  197]\n",
      " [ 282 3765]]\n",
      "              precision    recall  f1-score   support\n",
      "\n",
      "           0       0.92      0.95      0.93      3631\n",
      "           1       0.95      0.93      0.94      4047\n",
      "\n",
      "    accuracy                           0.94      7678\n",
      "   macro avg       0.94      0.94      0.94      7678\n",
      "weighted avg       0.94      0.94      0.94      7678\n",
      "\n",
      "False Positive rate (FPR) = 0.054\n"
     ]
    }
   ],
   "source": [
    "features_train, features_test, classes_train, classes_test = \\\n",
    "model_selection.train_test_split(learn_data, classes, test_size=0.2)\n",
    "\n",
    "classifier = ensemble.RandomForestClassifier()\n",
    "classifier.fit(features_train, classes_train)\n",
    "\n",
    "prediction = classifier.predict(features_test)\n",
    "print(metrics.accuracy_score(classes_test, prediction))\n",
    "print(metrics.confusion_matrix(classes_test, prediction))\n",
    "print(classification_report(classes_test, prediction))\n",
    "tn, fp, fn, tp =metrics.confusion_matrix(classes_test, prediction).ravel()\n",
    "fp_rate = fp/(fp +tn)\n",
    "print('False Positive rate (FPR) = %.3f' % fp_rate)"
   ]
  },
  {
   "cell_type": "markdown",
   "metadata": {},
   "source": [
    "Q: What are the stats using cross validation?"
   ]
  },
  {
   "cell_type": "code",
   "execution_count": 7,
   "metadata": {},
   "outputs": [
    {
     "name": "stdout",
     "output_type": "stream",
     "text": [
      "[0.93344621 0.93903869 0.94216491 0.94724502 0.94255569]\n",
      "Cross Validation took 41.6 seconds\n",
      "Accuracy: 0.941 (+/- 0.009)\n"
     ]
    }
   ],
   "source": [
    "# we have to shufle before cross-validation\n",
    "\n",
    "start = time.time()\n",
    "classifier = ensemble.RandomForestClassifier()\n",
    "scores = model_selection.cross_val_score(classifier, learn_data,\n",
    "                                         classes, cv = 5)\n",
    "print(scores)\n",
    "print(\"Cross Validation took %.1f seconds\" % (time.time()-start))\n",
    "\n",
    "print(\"Accuracy: %.3f (+/- %.3f)\" % (scores.mean(), scores.std() * 2))"
   ]
  },
  {
   "cell_type": "code",
   "execution_count": 76,
   "metadata": {},
   "outputs": [
    {
     "data": {
      "text/plain": [
       "Text(0.5, 0, 'False Positive Rate')"
      ]
     },
     "execution_count": 76,
     "metadata": {},
     "output_type": "execute_result"
    },
    {
     "data": {
      "image/png": "[encoded data removed]",
      "text/plain": [
       "<Figure size 432x288 with 1 Axes>"
      ]
     },
     "metadata": {},
     "output_type": "display_data"
    }
   ],
   "source": [
    "# Create true and false positive rates for ramdom forest\n",
    "classes_hat = classifier.predict_proba(features_test)[:,1]\n",
    "false_positive_rate, true_positive_rate, threshold = roc_curve(classes_test,\n",
    "                                                               classes_hat)\n",
    "# Plot ROC curve\n",
    "#metrics.plot_roc_curve(classifier,false_positive_rate.reshape(-1,1), true_positive_rate.reshape(-1,1)) \n",
    "\n",
    "plt.title(\"Receiver Operating Characteristicfor Random Forest Classifier\")\n",
    "plt.plot(false_positive_rate, true_positive_rate)\n",
    "plt.plot([0, 1], ls=\"--\")\n",
    "plt.plot([0, 0], [1, 0] , c=\".7\"), plt.plot([1, 1] , c=\".7\")\n",
    "plt.ylabel(\"True Positive Rate\")\n",
    "plt.xlabel(\"False Positive Rate\")\n",
    "\n",
    "#plt.show()"
   ]
  },
  {
   "cell_type": "code",
   "execution_count": 87,
   "metadata": {},
   "outputs": [
    {
     "name": "stderr",
     "output_type": "stream",
     "text": [
      "/opt/conda/lib/python3.10/site-packages/sklearn/utils/deprecation.py:87: FutureWarning: Function plot_roc_curve is deprecated; Function :func:`plot_roc_curve` is deprecated in 1.0 and will be removed in 1.2. Use one of the class methods: :meth:`sklearn.metric.RocCurveDisplay.from_predictions` or :meth:`sklearn.metric.RocCurveDisplay.from_estimator`.\n",
      "  warnings.warn(msg, category=FutureWarning)\n"
     ]
    },
    {
     "data": {
      "text/plain": [
       "<sklearn.metrics._plot.roc_curve.RocCurveDisplay at 0x7fdeac500790>"
      ]
     },
     "execution_count": 87,
     "metadata": {},
     "output_type": "execute_result"
    },
    {
     "data": {
      "image/png": "[encoded data removed]",
      "text/plain": [
       "<Figure size 432x288 with 1 Axes>"
      ]
     },
     "metadata": {},
     "output_type": "display_data"
    }
   ],
   "source": [
    "metrics.plot_roc_curve(classifier,features_test, classes_test)"
   ]
  },
  {
   "cell_type": "code",
   "execution_count": 49,
   "metadata": {},
   "outputs": [
    {
     "data": {
      "image/png": "[encoded data removed]",
      "text/plain": [
       "<Figure size 504x504 with 1 Axes>"
      ]
     },
     "metadata": {},
     "output_type": "display_data"
    }
   ],
   "source": [
    "cvs = np.arange(2,10,1)\n",
    "scores_array = []\n",
    "scores_std_array = []\n",
    "for i in cvs:\n",
    "    scores = model_selection.cross_val_score(classifier, learn_data,\n",
    "                                         classes, cv = i, scoring='accuracy')\n",
    "    scores_array.append(scores.mean())\n",
    "    scores_std_array.append(scores.std())\n",
    "\n",
    "sa = np.array( scores_array) \n",
    "sa_std = np.array( scores_std_array) \n",
    "fig, ax = plt.subplots(figsize=(7, 7))\n",
    "sns.set(font_scale=1.3)\n",
    "sns.axes_style(\"darkgrid\")\n",
    "ax = sns.lineplot(x =cvs, y= sa, marker='o')\n",
    "\n",
    "# Plot accurancy bands for training and test sets\n",
    "ax.fill_between(cvs, sa - sa_std,\n",
    "                 sa + sa_std, color=\"blue\",  alpha=0.3)\n",
    "\n",
    "ax.set_title('Accuracy vs training size')\n",
    "ax.set_xlabel('traning split')\n",
    "ax.set_ylabel('accuracy score')\n",
    "ax.set_ylim(0.8,1)\n",
    "plt.show()"
   ]
  },
  {
   "cell_type": "code",
   "execution_count": 50,
   "metadata": {},
   "outputs": [
    {
     "data": {
      "text/plain": [
       "array([[1011792,      10,       3, ...,       1,       0,       0],\n",
       "       [      0,      14,       2, ...,       0,     512,     112],\n",
       "       [  56558,      10,       4, ...,       0,  124928,  124550],\n",
       "       ...,\n",
       "       [   4424,       1,       6, ...,       0,    1188,    1188],\n",
       "       [  14211,       8,       5, ...,       0,   25088,   25084],\n",
       "       [ 759185,       8,       4, ...,       0, 1024000, 1023703]])"
      ]
     },
     "execution_count": 50,
     "metadata": {},
     "output_type": "execute_result"
    }
   ],
   "source": [
    "# Recursively eliminate features\n",
    "rfecv = RFECV(estimator=classifier, step=1, scoring=\"accuracy\")\n",
    "rfecv.fit(learn_data, classes)\n",
    "rfecv.transform(learn_data)"
   ]
  },
  {
   "cell_type": "code",
   "execution_count": 51,
   "metadata": {},
   "outputs": [
    {
     "data": {
      "text/plain": [
       "30"
      ]
     },
     "execution_count": 51,
     "metadata": {},
     "output_type": "execute_result"
    }
   ],
   "source": [
    "# Number of best features\n",
    "rfecv.n_features_"
   ]
  },
  {
   "cell_type": "code",
   "execution_count": 52,
   "metadata": {},
   "outputs": [
    {
     "data": {
      "text/plain": [
       "array([ True,  True,  True,  True,  True,  True,  True,  True,  True,\n",
       "        True,  True,  True,  True,  True,  True,  True,  True,  True,\n",
       "        True,  True,  True,  True,  True,  True,  True,  True,  True,\n",
       "       False,  True,  True,  True])"
      ]
     },
     "execution_count": 52,
     "metadata": {},
     "output_type": "execute_result"
    }
   ],
   "source": [
    "# Which categories are best\n",
    "rfecv.support_"
   ]
  },
  {
   "cell_type": "code",
   "execution_count": 53,
   "metadata": {},
   "outputs": [
    {
     "data": {
      "text/plain": [
       "array([1, 1, 1, 1, 1, 1, 1, 1, 1, 1, 1, 1, 1, 1, 1, 1, 1, 1, 1, 1, 1, 1,\n",
       "       1, 1, 1, 1, 1, 2, 1, 1, 1])"
      ]
     },
     "execution_count": 53,
     "metadata": {},
     "output_type": "execute_result"
    }
   ],
   "source": [
    "# Rank features best (1) to worst\n",
    "rfecv.ranking_"
   ]
  },
  {
   "cell_type": "code",
   "execution_count": 68,
   "metadata": {},
   "outputs": [
    {
     "name": "stdout",
     "output_type": "stream",
     "text": [
      "Original number of features: 31\n",
      "Reduced number of features: 8\n"
     ]
    }
   ],
   "source": [
    "# Standardize the feature matrix\n",
    "#features = StandardScaler().fit_transform(learn_data)\n",
    "\n",
    "# Create a PCA that will retain 99% of variance\n",
    "pca = PCA(n_components=0.99, whiten=True)\n",
    "\n",
    "# Conduct PCA\n",
    "#features_pca = pca.fit_transform(features)\n",
    "features_pca = pca.fit_transform(learn_data)\n",
    "\n",
    "# Show results\n",
    "print(\"Original number of features:\", features.shape[1])\n",
    "print(\"Reduced number of features:\", features_pca.shape[1])"
   ]
  },
  {
   "cell_type": "code",
   "execution_count": 69,
   "metadata": {},
   "outputs": [
    {
     "name": "stdout",
     "output_type": "stream",
     "text": [
      "0.9255014326647565\n",
      "[[3450  237]\n",
      " [ 335 3656]]\n",
      "              precision    recall  f1-score   support\n",
      "\n",
      "           0       0.91      0.94      0.92      3687\n",
      "           1       0.94      0.92      0.93      3991\n",
      "\n",
      "    accuracy                           0.93      7678\n",
      "   macro avg       0.93      0.93      0.93      7678\n",
      "weighted avg       0.93      0.93      0.93      7678\n",
      "\n",
      "False Positive rate (FPR) = 0.064\n"
     ]
    }
   ],
   "source": [
    "features_train_pca, features_test_pca, classes_train, classes_test = \\\n",
    "model_selection.train_test_split(features_pca, classes, test_size=0.2)\n",
    "\n",
    "classifier2 = ensemble.RandomForestClassifier()\n",
    "classifier2.fit(features_train_pca, classes_train)\n",
    "\n",
    "prediction2 = classifier2.predict(features_test_pca)\n",
    "print(metrics.accuracy_score(classes_test, prediction2))\n",
    "print(metrics.confusion_matrix(classes_test, prediction2))\n",
    "print(classification_report(classes_test, prediction2))\n",
    "tn, fp, fn, tp =metrics.confusion_matrix(classes_test, prediction2).ravel()\n",
    "fp_rate = fp/(fp +tn)\n",
    "print('False Positive rate (FPR) = %.3f' % fp_rate)"
   ]
  }
 ],
 "metadata": {
  "kernelspec": {
   "display_name": "Python 3 (ipykernel)",
   "language": "python",
   "name": "python3"
  },
  "language_info": {
   "codemirror_mode": {
    "name": "ipython",
    "version": 3
   },
   "file_extension": ".py",
   "mimetype": "text/x-python",
   "name": "python",
   "nbconvert_exporter": "python",
   "pygments_lexer": "ipython3",
   "version": "3.10.4"
  }
 },
 "nbformat": 4,
 "nbformat_minor": 4
}
