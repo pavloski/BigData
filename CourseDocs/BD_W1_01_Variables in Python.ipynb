{
 "cells": [
  {
   "cell_type": "markdown",
   "id": "233583d2",
   "metadata": {},
   "source": [
    "# Variables\n",
    "\n",
    "## Variable Names\n",
    "\n",
    "A variable can have a short name (like `x` and `y`) or a more descriptive name (`age`, `carname`, `total_volume`)."
   ]
  },
  {
   "cell_type": "code",
   "execution_count": null,
   "id": "bef9aef8",
   "metadata": {},
   "outputs": [],
   "source": [
    "x = 100"
   ]
  },
  {
   "cell_type": "code",
   "execution_count": null,
   "id": "142fcfb9",
   "metadata": {},
   "outputs": [],
   "source": [
    "print(x)"
   ]
  },
  {
   "cell_type": "code",
   "execution_count": null,
   "id": "0932bba3",
   "metadata": {},
   "outputs": [],
   "source": [
    "total_volume = 1200"
   ]
  },
  {
   "cell_type": "code",
   "execution_count": null,
   "id": "8770d151",
   "metadata": {},
   "outputs": [],
   "source": [
    "print(total_volume)"
   ]
  },
  {
   "cell_type": "markdown",
   "id": "5ca424a4",
   "metadata": {},
   "source": [
    "## Rules for Python variables:\n",
    "    * A variable name must start with a letter or the underscore character\n",
    "    * A variable name cannot start with a number\n",
    "    * A variable name can only contain alpha-numeric characters and underscores (A-z, 0-9, and _ )\n",
    "    * Variable names are case-sensitive (`age`, `Age` and `AGE` are three different variables)\n"
   ]
  },
  {
   "cell_type": "code",
   "execution_count": null,
   "id": "2913a7c6",
   "metadata": {},
   "outputs": [],
   "source": [
    "magic_number = 1500"
   ]
  },
  {
   "cell_type": "code",
   "execution_count": null,
   "id": "7ddfa3d0",
   "metadata": {},
   "outputs": [],
   "source": [
    "print(magic_number)"
   ]
  },
  {
   "cell_type": "code",
   "execution_count": null,
   "id": "684b37ff",
   "metadata": {},
   "outputs": [],
   "source": [
    "amountOfFlour = 0.75"
   ]
  },
  {
   "cell_type": "markdown",
   "id": "f47db09c",
   "metadata": {},
   "source": [
    "### Are these valid? Why or why not?"
   ]
  },
  {
   "cell_type": "code",
   "execution_count": null,
   "id": "57d95b42",
   "metadata": {},
   "outputs": [],
   "source": [
    "my_var8 = \"peanut\""
   ]
  },
  {
   "cell_type": "code",
   "execution_count": null,
   "id": "9365600b",
   "metadata": {},
   "outputs": [],
   "source": [
    "_my_var8 = \"butter\""
   ]
  },
  {
   "cell_type": "code",
   "execution_count": null,
   "id": "1387ec61",
   "metadata": {},
   "outputs": [],
   "source": [
    "-my_var8 = \"bitter\""
   ]
  },
  {
   "cell_type": "code",
   "execution_count": null,
   "id": "c445f4e9",
   "metadata": {},
   "outputs": [],
   "source": [
    "8my_var = \"putter\""
   ]
  },
  {
   "cell_type": "code",
   "execution_count": null,
   "id": "f3ccc587",
   "metadata": {},
   "outputs": [],
   "source": [
    "my_var 8 = \"walnut\""
   ]
  },
  {
   "cell_type": "markdown",
   "id": "2512d349",
   "metadata": {},
   "source": [
    "## Multiword  variable names are hard to read, e.g. `myvariablename`\n",
    "Some conventions have become popular\n",
    "\n",
    "#### Camel Case: `myVariableName = \"peanut\"`\n",
    "#### Pascal Case: `MyVariableName = \"peanut\"`\n",
    "#### Snake Case: `my_variable_name = \"peanut\"`\n",
    "\n",
    "---"
   ]
  },
  {
   "cell_type": "code",
   "execution_count": null,
   "id": "f1a46b44",
   "metadata": {},
   "outputs": [],
   "source": []
  }
 ],
 "metadata": {
  "kernelspec": {
   "display_name": "Python 3 (ipykernel)",
   "language": "python",
   "name": "python3"
  },
  "language_info": {
   "codemirror_mode": {
    "name": "ipython",
    "version": 3
   },
   "file_extension": ".py",
   "mimetype": "text/x-python",
   "name": "python",
   "nbconvert_exporter": "python",
   "pygments_lexer": "ipython3",
   "version": "3.9.7"
  }
 },
 "nbformat": 4,
 "nbformat_minor": 5
}
