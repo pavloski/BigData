{
 "cells": [
  {
   "cell_type": "markdown",
   "id": "ee3299ac",
   "metadata": {},
   "source": [
    "# BIG DATA ANALYTICS COURSE\n",
    "\n",
    "## Quiz 4 Feature Engineering\n"
   ]
  },
  {
   "cell_type": "markdown",
   "id": "1f55dbe5",
   "metadata": {},
   "source": [
    "The attached dataset will be used for this Challenge Quiz.  It contains information on all Pokémon from several generations. The information contained in this dataset includes the following content:\n",
    "\n",
    "- **name**: The English name of the Pokemon\n",
    "- **pokedex_number**: The entry number of the Pokemon in the National Pokedex\n",
    "- **type1**: The Primary Type of the Pokemon\n",
    "- **type2**: The Secondary Type of the Pokemon\n",
    "- **total**: Total of hp, attack, defense, sp. atk, sp. def, and speed\n",
    "- **hp**: The Base HP of the Pokemon\n",
    "- **attack**: The Base Attack of the Pokemon\n",
    "- **defense**: The Base Defense of the Pokemon\n",
    "- **sp_attack**: The Base Special Attack of the Pokemon\n",
    "- **sp defense**: The Base Special Defense of the Pokemon\n",
    "- **speed**: The Base Speed of the Pokemon\n",
    "- **generation**: The numbered generation which the Pokemon was first introduced\n",
    "- **is_legendary**: Denotes if the Pokemon is legendary\n",
    "\n",
    "Attachments\n",
    "  challenge_quiz_4.csv\t    42 KB"
   ]
  },
  {
   "cell_type": "markdown",
   "id": "c7c3b0db",
   "metadata": {},
   "source": [
    "## 1. How many categorical features are there in the dataset?"
   ]
  },
  {
   "cell_type": "code",
   "execution_count": 206,
   "id": "4ee36462",
   "metadata": {},
   "outputs": [
    {
     "data": {
      "text/html": [
       "<div>\n",
       "<style scoped>\n",
       "    .dataframe tbody tr th:only-of-type {\n",
       "        vertical-align: middle;\n",
       "    }\n",
       "\n",
       "    .dataframe tbody tr th {\n",
       "        vertical-align: top;\n",
       "    }\n",
       "\n",
       "    .dataframe thead th {\n",
       "        text-align: right;\n",
       "    }\n",
       "</style>\n",
       "<table border=\"1\" class=\"dataframe\">\n",
       "  <thead>\n",
       "    <tr style=\"text-align: right;\">\n",
       "      <th></th>\n",
       "      <th>#</th>\n",
       "      <th>Name</th>\n",
       "      <th>Type 1</th>\n",
       "      <th>Type 2</th>\n",
       "      <th>Total</th>\n",
       "      <th>HP</th>\n",
       "      <th>Attack</th>\n",
       "      <th>Defense</th>\n",
       "      <th>Sp. Atk</th>\n",
       "      <th>Sp. Def</th>\n",
       "      <th>Speed</th>\n",
       "      <th>Generation</th>\n",
       "      <th>Legendary</th>\n",
       "    </tr>\n",
       "  </thead>\n",
       "  <tbody>\n",
       "    <tr>\n",
       "      <th>320</th>\n",
       "      <td>296</td>\n",
       "      <td>Makuhita</td>\n",
       "      <td>Fighting</td>\n",
       "      <td>NaN</td>\n",
       "      <td>237</td>\n",
       "      <td>72</td>\n",
       "      <td>60</td>\n",
       "      <td>30</td>\n",
       "      <td>20</td>\n",
       "      <td>30</td>\n",
       "      <td>25</td>\n",
       "      <td>3</td>\n",
       "      <td>False</td>\n",
       "    </tr>\n",
       "    <tr>\n",
       "      <th>710</th>\n",
       "      <td>646</td>\n",
       "      <td>Kyurem</td>\n",
       "      <td>Dragon</td>\n",
       "      <td>Ice</td>\n",
       "      <td>660</td>\n",
       "      <td>125</td>\n",
       "      <td>130</td>\n",
       "      <td>90</td>\n",
       "      <td>130</td>\n",
       "      <td>90</td>\n",
       "      <td>95</td>\n",
       "      <td>5</td>\n",
       "      <td>True</td>\n",
       "    </tr>\n",
       "    <tr>\n",
       "      <th>610</th>\n",
       "      <td>550</td>\n",
       "      <td>Basculin</td>\n",
       "      <td>Water</td>\n",
       "      <td>NaN</td>\n",
       "      <td>460</td>\n",
       "      <td>70</td>\n",
       "      <td>92</td>\n",
       "      <td>65</td>\n",
       "      <td>80</td>\n",
       "      <td>55</td>\n",
       "      <td>98</td>\n",
       "      <td>5</td>\n",
       "      <td>False</td>\n",
       "    </tr>\n",
       "    <tr>\n",
       "      <th>718</th>\n",
       "      <td>650</td>\n",
       "      <td>Chespin</td>\n",
       "      <td>Grass</td>\n",
       "      <td>NaN</td>\n",
       "      <td>313</td>\n",
       "      <td>56</td>\n",
       "      <td>61</td>\n",
       "      <td>65</td>\n",
       "      <td>48</td>\n",
       "      <td>45</td>\n",
       "      <td>38</td>\n",
       "      <td>6</td>\n",
       "      <td>False</td>\n",
       "    </tr>\n",
       "    <tr>\n",
       "      <th>225</th>\n",
       "      <td>209</td>\n",
       "      <td>Snubbull</td>\n",
       "      <td>Fairy</td>\n",
       "      <td>NaN</td>\n",
       "      <td>300</td>\n",
       "      <td>60</td>\n",
       "      <td>80</td>\n",
       "      <td>50</td>\n",
       "      <td>40</td>\n",
       "      <td>40</td>\n",
       "      <td>30</td>\n",
       "      <td>2</td>\n",
       "      <td>False</td>\n",
       "    </tr>\n",
       "    <tr>\n",
       "      <th>546</th>\n",
       "      <td>488</td>\n",
       "      <td>Cresselia</td>\n",
       "      <td>Psychic</td>\n",
       "      <td>NaN</td>\n",
       "      <td>600</td>\n",
       "      <td>120</td>\n",
       "      <td>70</td>\n",
       "      <td>120</td>\n",
       "      <td>75</td>\n",
       "      <td>130</td>\n",
       "      <td>85</td>\n",
       "      <td>4</td>\n",
       "      <td>False</td>\n",
       "    </tr>\n",
       "    <tr>\n",
       "      <th>327</th>\n",
       "      <td>302</td>\n",
       "      <td>SableyeMega Sableye</td>\n",
       "      <td>Dark</td>\n",
       "      <td>Ghost</td>\n",
       "      <td>480</td>\n",
       "      <td>50</td>\n",
       "      <td>85</td>\n",
       "      <td>125</td>\n",
       "      <td>85</td>\n",
       "      <td>115</td>\n",
       "      <td>20</td>\n",
       "      <td>3</td>\n",
       "      <td>False</td>\n",
       "    </tr>\n",
       "    <tr>\n",
       "      <th>36</th>\n",
       "      <td>31</td>\n",
       "      <td>Nidoqueen</td>\n",
       "      <td>Poison</td>\n",
       "      <td>Ground</td>\n",
       "      <td>505</td>\n",
       "      <td>90</td>\n",
       "      <td>92</td>\n",
       "      <td>87</td>\n",
       "      <td>75</td>\n",
       "      <td>85</td>\n",
       "      <td>76</td>\n",
       "      <td>1</td>\n",
       "      <td>False</td>\n",
       "    </tr>\n",
       "    <tr>\n",
       "      <th>4</th>\n",
       "      <td>4</td>\n",
       "      <td>Charmander</td>\n",
       "      <td>Fire</td>\n",
       "      <td>NaN</td>\n",
       "      <td>309</td>\n",
       "      <td>39</td>\n",
       "      <td>52</td>\n",
       "      <td>43</td>\n",
       "      <td>60</td>\n",
       "      <td>50</td>\n",
       "      <td>65</td>\n",
       "      <td>1</td>\n",
       "      <td>False</td>\n",
       "    </tr>\n",
       "    <tr>\n",
       "      <th>15</th>\n",
       "      <td>12</td>\n",
       "      <td>Butterfree</td>\n",
       "      <td>Bug</td>\n",
       "      <td>Flying</td>\n",
       "      <td>395</td>\n",
       "      <td>60</td>\n",
       "      <td>45</td>\n",
       "      <td>50</td>\n",
       "      <td>90</td>\n",
       "      <td>80</td>\n",
       "      <td>70</td>\n",
       "      <td>1</td>\n",
       "      <td>False</td>\n",
       "    </tr>\n",
       "  </tbody>\n",
       "</table>\n",
       "</div>"
      ],
      "text/plain": [
       "       #                 Name    Type 1  Type 2  Total   HP  Attack  Defense  \\\n",
       "320  296             Makuhita  Fighting     NaN    237   72      60       30   \n",
       "710  646               Kyurem    Dragon     Ice    660  125     130       90   \n",
       "610  550             Basculin     Water     NaN    460   70      92       65   \n",
       "718  650              Chespin     Grass     NaN    313   56      61       65   \n",
       "225  209             Snubbull     Fairy     NaN    300   60      80       50   \n",
       "546  488            Cresselia   Psychic     NaN    600  120      70      120   \n",
       "327  302  SableyeMega Sableye      Dark   Ghost    480   50      85      125   \n",
       "36    31            Nidoqueen    Poison  Ground    505   90      92       87   \n",
       "4      4           Charmander      Fire     NaN    309   39      52       43   \n",
       "15    12           Butterfree       Bug  Flying    395   60      45       50   \n",
       "\n",
       "     Sp. Atk  Sp. Def  Speed  Generation  Legendary  \n",
       "320       20       30     25           3      False  \n",
       "710      130       90     95           5       True  \n",
       "610       80       55     98           5      False  \n",
       "718       48       45     38           6      False  \n",
       "225       40       40     30           2      False  \n",
       "546       75      130     85           4      False  \n",
       "327       85      115     20           3      False  \n",
       "36        75       85     76           1      False  \n",
       "4         60       50     65           1      False  \n",
       "15        90       80     70           1      False  "
      ]
     },
     "execution_count": 206,
     "metadata": {},
     "output_type": "execute_result"
    }
   ],
   "source": [
    "import pandas as pd\n",
    "import numpy as np\n",
    "\n",
    "#load the data\n",
    "df = pd.read_csv(\"challenge_quiz_4.csv\")\n",
    "df.sample(10)\n",
    "\n"
   ]
  },
  {
   "cell_type": "code",
   "execution_count": 3,
   "id": "2a0697d4",
   "metadata": {},
   "outputs": [
    {
     "name": "stdout",
     "output_type": "stream",
     "text": [
      "<class 'pandas.core.frame.DataFrame'>\n",
      "RangeIndex: 800 entries, 0 to 799\n",
      "Data columns (total 13 columns):\n",
      " #   Column      Non-Null Count  Dtype \n",
      "---  ------      --------------  ----- \n",
      " 0   #           800 non-null    int64 \n",
      " 1   Name        800 non-null    object\n",
      " 2   Type 1      800 non-null    object\n",
      " 3   Type 2      414 non-null    object\n",
      " 4   Total       800 non-null    int64 \n",
      " 5   HP          800 non-null    int64 \n",
      " 6   Attack      800 non-null    int64 \n",
      " 7   Defense     800 non-null    int64 \n",
      " 8   Sp. Atk     800 non-null    int64 \n",
      " 9   Sp. Def     800 non-null    int64 \n",
      " 10  Speed       800 non-null    int64 \n",
      " 11  Generation  800 non-null    int64 \n",
      " 12  Legendary   800 non-null    bool  \n",
      "dtypes: bool(1), int64(9), object(3)\n",
      "memory usage: 75.9+ KB\n"
     ]
    }
   ],
   "source": [
    "df.info()"
   ]
  },
  {
   "cell_type": "markdown",
   "id": "374b27bf",
   "metadata": {},
   "source": [
    "There are 6 categorical values in the data set (including #), 4 of which are nominal."
   ]
  },
  {
   "cell_type": "markdown",
   "id": "9c462a38",
   "metadata": {},
   "source": [
    "## 2. Of the categorical features how many are ordinal type features?\n",
    "\"Generation\" can argualbly be considered as categorical (ordinal) because it represents a generation that could have been described as \"one\" \"two\"... but has already been encoded in numbers. These numbers can be used to provide some order to the observations and this is why \"Generation\" is the ordinal type\n"
   ]
  },
  {
   "cell_type": "markdown",
   "id": "559968f3",
   "metadata": {},
   "source": [
    "## 3. Write a function to rescale a numerical-valued feature using min-max scaling. Apply this function to the column named 'Total' and add the resulting column to your original DataFrame. What is the scaled total for the 'Azurill' character?"
   ]
  },
  {
   "cell_type": "code",
   "execution_count": null,
   "id": "1c061891",
   "metadata": {},
   "outputs": [],
   "source": [
    "# using a function\n",
    "from sklearn import preprocessing\n",
    "\n",
    "def rescale(df_column):\n",
    "    # create scaler\n",
    "    minmax_scaler = preprocessing.MinMaxScaler(feature_range=(0,1))\n",
    "    x = np.array(df_column).reshape(-1, 1)\n",
    "    \n",
    "    #apply filter\n",
    "    column_rescaled = minmax_scaler.fit_transform(x)\n",
    "    return column_rescaled\n",
    "\n",
    "(df['Total_rescaled']) = rescale(df['Total']).reshape(1, -1)[0]\n",
    "print('Original feature:\\n {} \\nScaled feature:\\n {}'.format(df['Total'].head(5), df['Total_rescaled'].head(5)))"
   ]
  },
  {
   "cell_type": "code",
   "execution_count": 41,
   "id": "2cfdac9c",
   "metadata": {},
   "outputs": [
    {
     "name": "stdout",
     "output_type": "stream",
     "text": [
      "0    0.230000\n",
      "1    0.375000\n",
      "2    0.575000\n",
      "3    0.741667\n",
      "4    0.215000\n",
      "Name: Total_rescaled, dtype: float64\n",
      "Original feature:\n",
      " 0    318\n",
      "1    405\n",
      "2    525\n",
      "3    625\n",
      "4    309\n",
      "Name: Total, dtype: int64 \n",
      "Scaled feature:\n",
      " 0    0.230000\n",
      "1    0.375000\n",
      "2    0.575000\n",
      "3    0.741667\n",
      "4    0.215000\n",
      "Name: Total_rescaled, dtype: float64\n"
     ]
    }
   ],
   "source": [
    "# using the scaler directly\n",
    "from sklearn import preprocessing\n",
    "\n",
    "# create scaler\n",
    "minmax_scaler = preprocessing.MinMaxScaler(feature_range=(0,1))\n",
    "\n",
    "#transform df column into np.array\n",
    "total = np.array(df['Total']).reshape(-1, 1)\n",
    "\n",
    "#apply filter\n",
    "total_rescaled = minmax_scaler.fit_transform(total)\n",
    "    \n",
    "#put the result back into de df\n",
    "(df['Total_rescaled']) = total_rescaled.reshape(1, -1)[0]\n",
    "\n",
    "print('Original feature:\\n {} \\nScaled feature:\\n {}'.format(df['Total'].head(5), df['Total_rescaled'].head(5)))"
   ]
  },
  {
   "cell_type": "code",
   "execution_count": 51,
   "id": "f7afb868",
   "metadata": {},
   "outputs": [
    {
     "name": "stdout",
     "output_type": "stream",
     "text": [
      "the  scaled total for the Azurill character is 0.016666666666666663\n"
     ]
    }
   ],
   "source": [
    "#look for the value 'Azurill' on the name feature\n",
    "print('the  scaled total for the Azurill character is {}'.format(df['Total_rescaled'][df['Name'] == 'Azurill' ].sum()))\n",
    "\n"
   ]
  },
  {
   "cell_type": "markdown",
   "id": "2b1dbe61",
   "metadata": {},
   "source": [
    "## 4. Using the variance thresholding approach, and considering only these features ['HP', 'Attack', 'Defense', 'Sp.Atk', 'Sp. Def', 'Speed'], determine how many of them are dropped when the variance threshold is set at 800?\n",
    "\n",
    "Approach: \n",
    "- use the VarianceThreshold function from scikit learn\n",
    "- create a numpy array (X) with the 6 features of tha data frame (scikit works with numpy arrays)\n",
    "- apply the feature selection function to the X array\n",
    "- look at the resulting array and check how many columns it has aftes the feature selection"
   ]
  },
  {
   "cell_type": "code",
   "execution_count": 198,
   "id": "31ea12dc",
   "metadata": {},
   "outputs": [
    {
     "data": {
      "text/plain": [
       "array([[ 49,  49,  65,  45],\n",
       "       [ 62,  63,  80,  60],\n",
       "       [ 82,  83, 100,  80],\n",
       "       ...,\n",
       "       [110,  60, 150,  70],\n",
       "       [160,  60, 170,  80],\n",
       "       [110, 120, 130,  70]], dtype=int64)"
      ]
     },
     "execution_count": 198,
     "metadata": {},
     "output_type": "execute_result"
    }
   ],
   "source": [
    "from sklearn.feature_selection import VarianceThreshold\n",
    "\n",
    "#set the variance threshold\n",
    "sel = VarianceThreshold(threshold=(800))\n",
    "\n",
    "#create the new nparray\n",
    "HP = np.array(df['HP']).reshape(-1,1)\n",
    "At = np.array(df['Attack']).reshape(-1,1)\n",
    "De = np.array(df['Defense']).reshape(-1,1)\n",
    "SpAt = np.array(df['Sp. Atk']).reshape(-1,1)\n",
    "SpDe = np.array(df['Sp. Def']).reshape(-1,1)\n",
    "Spe =  np.array(df['Speed']).reshape(-1,1)\n",
    "X = np.hstack((HP, At, De, SpAt, SpDe, Spe))\n",
    "sel.fit_transform(X)"
   ]
  },
  {
   "cell_type": "markdown",
   "id": "fe554172",
   "metadata": {},
   "source": [
    "The resulting array has only 4 columns, so 2 features were dropped by the variance selection function"
   ]
  },
  {
   "cell_type": "code",
   "execution_count": 87,
   "id": "b149ef1d",
   "metadata": {},
   "outputs": [
    {
     "data": {
      "image/png": "[encoded data removed]",
      "text/plain": [
       "<Figure size 432x288 with 1 Axes>"
      ]
     },
     "metadata": {
      "needs_background": "light"
     },
     "output_type": "display_data"
    }
   ],
   "source": [
    "#HP feature gets dropped with this technique. We look into HP data using plots\n",
    "import matplotlib.pyplot as plt\n",
    "a= plt.figure()\n",
    "axes= a.add_axes([0.1,0.1,0.8,0.8])\n",
    "axes.plot(range(0,800), df['HP'])\n",
    "plt.show()"
   ]
  },
  {
   "cell_type": "markdown",
   "id": "aec81912",
   "metadata": {},
   "source": [
    "## 5. Examine the correlation matrix generated condsidering only these features: ['HP', 'Attack', 'Defense', 'Sp.Atk', 'Sp. Def', 'Speed']. Which two features demonstrate the greatest linear correlation?\n"
   ]
  },
  {
   "cell_type": "code",
   "execution_count": 89,
   "id": "9e7a7b52",
   "metadata": {},
   "outputs": [
    {
     "name": "stdout",
     "output_type": "stream",
     "text": [
      "               HP    Attack   Defense   Sp. Atk   Sp. Def     Speed\n",
      "HP       1.000000  0.422386  0.239622  0.362380  0.378718  0.175952\n",
      "Attack   0.422386  1.000000  0.438687  0.396362  0.263990  0.381240\n",
      "Defense  0.239622  0.438687  1.000000  0.223549  0.510747  0.015227\n",
      "Sp. Atk  0.362380  0.396362  0.223549  1.000000  0.506121  0.473018\n",
      "Sp. Def  0.378718  0.263990  0.510747  0.506121  1.000000  0.259133\n",
      "Speed    0.175952  0.381240  0.015227  0.473018  0.259133  1.000000\n"
     ]
    }
   ],
   "source": [
    "# create a subset dataframe with the specified features\n",
    "df2 = pd.DataFrame(df,columns=['HP','Attack','Defense', 'Sp. Atk', 'Sp. Def', 'Speed'])\n",
    "\n",
    "# calculate the correlation matrix\n",
    "corrMatrix = df2.corr()\n",
    "\n",
    "print(corrMatrix)"
   ]
  },
  {
   "cell_type": "code",
   "execution_count": 90,
   "id": "2f99d851",
   "metadata": {},
   "outputs": [
    {
     "data": {
      "image/png": "[encoded data removed]",
      "text/plain": [
       "<Figure size 432x288 with 2 Axes>"
      ]
     },
     "metadata": {
      "needs_background": "light"
     },
     "output_type": "display_data"
    }
   ],
   "source": [
    "# use the seaborn and matplotlib packages in order to get a visual representation of the correlation matrix.\n",
    "import seaborn as sn\n",
    "sn.heatmap(corrMatrix, annot=True)\n",
    "plt.show()\n"
   ]
  },
  {
   "cell_type": "markdown",
   "id": "a1e55315",
   "metadata": {},
   "source": [
    "**Sp.Def** and **Defense**, with a correlation coefficient of .5107,show the greatest linear positive correlation. **Speed** and **Defense** show the greatest negative correlation, which totally makes sense"
   ]
  },
  {
   "cell_type": "markdown",
   "id": "6bbdbf7d",
   "metadata": {},
   "source": [
    "## 6. Using the NumPy unique function, determine the number of unique Generations represented in the dataset.\n"
   ]
  },
  {
   "cell_type": "code",
   "execution_count": 92,
   "id": "e6f19608",
   "metadata": {},
   "outputs": [
    {
     "data": {
      "text/plain": [
       "array([1, 2, 3, 4, 5, 6], dtype=int64)"
      ]
     },
     "execution_count": 92,
     "metadata": {},
     "output_type": "execute_result"
    }
   ],
   "source": [
    "df.Generation.unique()"
   ]
  },
  {
   "cell_type": "code",
   "execution_count": 94,
   "id": "6d1d2e80",
   "metadata": {},
   "outputs": [
    {
     "data": {
      "text/plain": [
       "array([1, 2, 3, 4, 5, 6], dtype=int64)"
      ]
     },
     "execution_count": 94,
     "metadata": {},
     "output_type": "execute_result"
    }
   ],
   "source": [
    "np.unique(df.Generation)"
   ]
  },
  {
   "cell_type": "markdown",
   "id": "92769f38",
   "metadata": {},
   "source": [
    "## 7. Use pandas one-hot encoding to add new encoded features to the original DataFrame. What is the encoded value for Index = 400."
   ]
  },
  {
   "cell_type": "markdown",
   "id": "bec29a3a",
   "metadata": {},
   "source": [
    "Pandas has a function which can turn a categorical variable into a series of zeros and ones, which makes them a lot easier to quantify and compare.\n",
    "\n",
    "That is:\n",
    "\n",
    "pandas.get_dummies(data, prefix=None, prefix_sep='_', dummy_na=False, columns=None, sparse=False, drop_first=False, dtype=None)\n"
   ]
  },
  {
   "cell_type": "code",
   "execution_count": 118,
   "id": "f77cb65a",
   "metadata": {},
   "outputs": [
    {
     "data": {
      "text/html": [
       "<div>\n",
       "<style scoped>\n",
       "    .dataframe tbody tr th:only-of-type {\n",
       "        vertical-align: middle;\n",
       "    }\n",
       "\n",
       "    .dataframe tbody tr th {\n",
       "        vertical-align: top;\n",
       "    }\n",
       "\n",
       "    .dataframe thead th {\n",
       "        text-align: right;\n",
       "    }\n",
       "</style>\n",
       "<table border=\"1\" class=\"dataframe\">\n",
       "  <thead>\n",
       "    <tr style=\"text-align: right;\">\n",
       "      <th></th>\n",
       "      <th>#</th>\n",
       "      <th>Name</th>\n",
       "      <th>Type 1</th>\n",
       "      <th>Type 2</th>\n",
       "      <th>Total</th>\n",
       "      <th>HP</th>\n",
       "      <th>Attack</th>\n",
       "      <th>Defense</th>\n",
       "      <th>Sp. Atk</th>\n",
       "      <th>Sp. Def</th>\n",
       "      <th>Speed</th>\n",
       "      <th>Generation</th>\n",
       "      <th>Legendary</th>\n",
       "      <th>1</th>\n",
       "      <th>2</th>\n",
       "      <th>3</th>\n",
       "      <th>4</th>\n",
       "      <th>5</th>\n",
       "      <th>6</th>\n",
       "    </tr>\n",
       "  </thead>\n",
       "  <tbody>\n",
       "    <tr>\n",
       "      <th>0</th>\n",
       "      <td>1</td>\n",
       "      <td>Bulbasaur</td>\n",
       "      <td>Grass</td>\n",
       "      <td>Poison</td>\n",
       "      <td>318</td>\n",
       "      <td>45</td>\n",
       "      <td>49</td>\n",
       "      <td>49</td>\n",
       "      <td>65</td>\n",
       "      <td>65</td>\n",
       "      <td>45</td>\n",
       "      <td>1</td>\n",
       "      <td>False</td>\n",
       "      <td>1</td>\n",
       "      <td>0</td>\n",
       "      <td>0</td>\n",
       "      <td>0</td>\n",
       "      <td>0</td>\n",
       "      <td>0</td>\n",
       "    </tr>\n",
       "    <tr>\n",
       "      <th>1</th>\n",
       "      <td>2</td>\n",
       "      <td>Ivysaur</td>\n",
       "      <td>Grass</td>\n",
       "      <td>Poison</td>\n",
       "      <td>405</td>\n",
       "      <td>60</td>\n",
       "      <td>62</td>\n",
       "      <td>63</td>\n",
       "      <td>80</td>\n",
       "      <td>80</td>\n",
       "      <td>60</td>\n",
       "      <td>1</td>\n",
       "      <td>False</td>\n",
       "      <td>1</td>\n",
       "      <td>0</td>\n",
       "      <td>0</td>\n",
       "      <td>0</td>\n",
       "      <td>0</td>\n",
       "      <td>0</td>\n",
       "    </tr>\n",
       "    <tr>\n",
       "      <th>2</th>\n",
       "      <td>3</td>\n",
       "      <td>Venusaur</td>\n",
       "      <td>Grass</td>\n",
       "      <td>Poison</td>\n",
       "      <td>525</td>\n",
       "      <td>80</td>\n",
       "      <td>82</td>\n",
       "      <td>83</td>\n",
       "      <td>100</td>\n",
       "      <td>100</td>\n",
       "      <td>80</td>\n",
       "      <td>1</td>\n",
       "      <td>False</td>\n",
       "      <td>1</td>\n",
       "      <td>0</td>\n",
       "      <td>0</td>\n",
       "      <td>0</td>\n",
       "      <td>0</td>\n",
       "      <td>0</td>\n",
       "    </tr>\n",
       "    <tr>\n",
       "      <th>3</th>\n",
       "      <td>3</td>\n",
       "      <td>VenusaurMega Venusaur</td>\n",
       "      <td>Grass</td>\n",
       "      <td>Poison</td>\n",
       "      <td>625</td>\n",
       "      <td>80</td>\n",
       "      <td>100</td>\n",
       "      <td>123</td>\n",
       "      <td>122</td>\n",
       "      <td>120</td>\n",
       "      <td>80</td>\n",
       "      <td>1</td>\n",
       "      <td>False</td>\n",
       "      <td>1</td>\n",
       "      <td>0</td>\n",
       "      <td>0</td>\n",
       "      <td>0</td>\n",
       "      <td>0</td>\n",
       "      <td>0</td>\n",
       "    </tr>\n",
       "  </tbody>\n",
       "</table>\n",
       "</div>"
      ],
      "text/plain": [
       "   #                   Name Type 1  Type 2  Total  HP  Attack  Defense  \\\n",
       "0  1              Bulbasaur  Grass  Poison    318  45      49       49   \n",
       "1  2                Ivysaur  Grass  Poison    405  60      62       63   \n",
       "2  3               Venusaur  Grass  Poison    525  80      82       83   \n",
       "3  3  VenusaurMega Venusaur  Grass  Poison    625  80     100      123   \n",
       "\n",
       "   Sp. Atk  Sp. Def  Speed  Generation  Legendary  1  2  3  4  5  6  \n",
       "0       65       65     45           1      False  1  0  0  0  0  0  \n",
       "1       80       80     60           1      False  1  0  0  0  0  0  \n",
       "2      100      100     80           1      False  1  0  0  0  0  0  \n",
       "3      122      120     80           1      False  1  0  0  0  0  0  "
      ]
     },
     "execution_count": 118,
     "metadata": {},
     "output_type": "execute_result"
    }
   ],
   "source": [
    "dummy = pd.get_dummies(df.Generation)\n",
    "\n",
    "#add the new colum to the dataframe\n",
    "df = pd.concat([df, dummy], axis=1)\n",
    "df.head(4)"
   ]
  },
  {
   "cell_type": "code",
   "execution_count": 121,
   "id": "aa5925c8",
   "metadata": {},
   "outputs": [
    {
     "data": {
      "text/plain": [
       "#                 365\n",
       "Name          Walrein\n",
       "Type 1            Ice\n",
       "Type 2          Water\n",
       "Total             530\n",
       "HP                110\n",
       "Attack             80\n",
       "Defense            90\n",
       "Sp. Atk            95\n",
       "Sp. Def            90\n",
       "Speed              65\n",
       "Generation          3\n",
       "Legendary       False\n",
       "1                   0\n",
       "2                   0\n",
       "3                   1\n",
       "4                   0\n",
       "5                   0\n",
       "6                   0\n",
       "Name: 400, dtype: object"
      ]
     },
     "execution_count": 121,
     "metadata": {},
     "output_type": "execute_result"
    }
   ],
   "source": [
    "#look into encoded data for index 400\n",
    "df.iloc[400,:]"
   ]
  },
  {
   "cell_type": "markdown",
   "id": "b4aaa2d1",
   "metadata": {},
   "source": [
    "Aanother approach is to use the scikit learn function LabelBinarizer"
   ]
  },
  {
   "cell_type": "code",
   "execution_count": 196,
   "id": "893de67e",
   "metadata": {},
   "outputs": [
    {
     "data": {
      "text/plain": [
       "array([0, 0, 1, 0, 0, 0])"
      ]
     },
     "execution_count": 196,
     "metadata": {},
     "output_type": "execute_result"
    }
   ],
   "source": [
    "from sklearn.preprocessing import LabelBinarizer\n",
    "\n",
    "# create one-hot encoder\n",
    "one_hot = LabelBinarizer()\n",
    "\n",
    "# one-hot encode feature\n",
    "one_hot.fit_transform(df.Generation)[400,:]"
   ]
  },
  {
   "cell_type": "markdown",
   "id": "44567b64",
   "metadata": {},
   "source": [
    "## 8. You may have noticed that there are some missing values in the dataset. Determine whether the missing values correspond to a numerical or categorical feature and then use imputation to replace the NaNs with the corresponding 'most-frequent' value in the column. After imputation, how many occurrences of the most-frequent value are there?"
   ]
  },
  {
   "cell_type": "code",
   "execution_count": 127,
   "id": "f860d7b7",
   "metadata": {},
   "outputs": [
    {
     "data": {
      "text/plain": [
       "#               0\n",
       "Name            0\n",
       "Type 1          0\n",
       "Type 2        386\n",
       "Total           0\n",
       "HP              0\n",
       "Attack          0\n",
       "Defense         0\n",
       "Sp. Atk         0\n",
       "Sp. Def         0\n",
       "Speed           0\n",
       "Generation      0\n",
       "Legendary       0\n",
       "1               0\n",
       "2               0\n",
       "3               0\n",
       "4               0\n",
       "5               0\n",
       "6               0\n",
       "dtype: int64"
      ]
     },
     "execution_count": 127,
     "metadata": {},
     "output_type": "execute_result"
    }
   ],
   "source": [
    "#explore the data set  and find missing values\n",
    "df.isna().sum()"
   ]
  },
  {
   "cell_type": "code",
   "execution_count": 164,
   "id": "83f04ee3",
   "metadata": {},
   "outputs": [
    {
     "data": {
      "text/html": [
       "<div>\n",
       "<style scoped>\n",
       "    .dataframe tbody tr th:only-of-type {\n",
       "        vertical-align: middle;\n",
       "    }\n",
       "\n",
       "    .dataframe tbody tr th {\n",
       "        vertical-align: top;\n",
       "    }\n",
       "\n",
       "    .dataframe thead th {\n",
       "        text-align: right;\n",
       "    }\n",
       "</style>\n",
       "<table border=\"1\" class=\"dataframe\">\n",
       "  <thead>\n",
       "    <tr style=\"text-align: right;\">\n",
       "      <th></th>\n",
       "      <th>#</th>\n",
       "      <th>Name</th>\n",
       "      <th>Type 1</th>\n",
       "      <th>Type 2</th>\n",
       "      <th>Total</th>\n",
       "      <th>HP</th>\n",
       "      <th>Attack</th>\n",
       "      <th>Defense</th>\n",
       "      <th>Sp. Atk</th>\n",
       "      <th>Sp. Def</th>\n",
       "      <th>Speed</th>\n",
       "      <th>Generation</th>\n",
       "      <th>Legendary</th>\n",
       "      <th>1</th>\n",
       "      <th>2</th>\n",
       "      <th>3</th>\n",
       "      <th>4</th>\n",
       "      <th>5</th>\n",
       "      <th>6</th>\n",
       "    </tr>\n",
       "  </thead>\n",
       "  <tbody>\n",
       "    <tr>\n",
       "      <th>0</th>\n",
       "      <td>1</td>\n",
       "      <td>Bulbasaur</td>\n",
       "      <td>Grass</td>\n",
       "      <td>Poison</td>\n",
       "      <td>318</td>\n",
       "      <td>45</td>\n",
       "      <td>49</td>\n",
       "      <td>49</td>\n",
       "      <td>65</td>\n",
       "      <td>65</td>\n",
       "      <td>45</td>\n",
       "      <td>1</td>\n",
       "      <td>False</td>\n",
       "      <td>1</td>\n",
       "      <td>0</td>\n",
       "      <td>0</td>\n",
       "      <td>0</td>\n",
       "      <td>0</td>\n",
       "      <td>0</td>\n",
       "    </tr>\n",
       "    <tr>\n",
       "      <th>1</th>\n",
       "      <td>2</td>\n",
       "      <td>Ivysaur</td>\n",
       "      <td>Grass</td>\n",
       "      <td>Poison</td>\n",
       "      <td>405</td>\n",
       "      <td>60</td>\n",
       "      <td>62</td>\n",
       "      <td>63</td>\n",
       "      <td>80</td>\n",
       "      <td>80</td>\n",
       "      <td>60</td>\n",
       "      <td>1</td>\n",
       "      <td>False</td>\n",
       "      <td>1</td>\n",
       "      <td>0</td>\n",
       "      <td>0</td>\n",
       "      <td>0</td>\n",
       "      <td>0</td>\n",
       "      <td>0</td>\n",
       "    </tr>\n",
       "    <tr>\n",
       "      <th>2</th>\n",
       "      <td>3</td>\n",
       "      <td>Venusaur</td>\n",
       "      <td>Grass</td>\n",
       "      <td>Poison</td>\n",
       "      <td>525</td>\n",
       "      <td>80</td>\n",
       "      <td>82</td>\n",
       "      <td>83</td>\n",
       "      <td>100</td>\n",
       "      <td>100</td>\n",
       "      <td>80</td>\n",
       "      <td>1</td>\n",
       "      <td>False</td>\n",
       "      <td>1</td>\n",
       "      <td>0</td>\n",
       "      <td>0</td>\n",
       "      <td>0</td>\n",
       "      <td>0</td>\n",
       "      <td>0</td>\n",
       "    </tr>\n",
       "    <tr>\n",
       "      <th>3</th>\n",
       "      <td>3</td>\n",
       "      <td>VenusaurMega Venusaur</td>\n",
       "      <td>Grass</td>\n",
       "      <td>Poison</td>\n",
       "      <td>625</td>\n",
       "      <td>80</td>\n",
       "      <td>100</td>\n",
       "      <td>123</td>\n",
       "      <td>122</td>\n",
       "      <td>120</td>\n",
       "      <td>80</td>\n",
       "      <td>1</td>\n",
       "      <td>False</td>\n",
       "      <td>1</td>\n",
       "      <td>0</td>\n",
       "      <td>0</td>\n",
       "      <td>0</td>\n",
       "      <td>0</td>\n",
       "      <td>0</td>\n",
       "    </tr>\n",
       "    <tr>\n",
       "      <th>4</th>\n",
       "      <td>4</td>\n",
       "      <td>Charmander</td>\n",
       "      <td>Fire</td>\n",
       "      <td>Flying</td>\n",
       "      <td>309</td>\n",
       "      <td>39</td>\n",
       "      <td>52</td>\n",
       "      <td>43</td>\n",
       "      <td>60</td>\n",
       "      <td>50</td>\n",
       "      <td>65</td>\n",
       "      <td>1</td>\n",
       "      <td>False</td>\n",
       "      <td>1</td>\n",
       "      <td>0</td>\n",
       "      <td>0</td>\n",
       "      <td>0</td>\n",
       "      <td>0</td>\n",
       "      <td>0</td>\n",
       "    </tr>\n",
       "  </tbody>\n",
       "</table>\n",
       "</div>"
      ],
      "text/plain": [
       "   #                   Name Type 1  Type 2  Total  HP  Attack  Defense  \\\n",
       "0  1              Bulbasaur  Grass  Poison    318  45      49       49   \n",
       "1  2                Ivysaur  Grass  Poison    405  60      62       63   \n",
       "2  3               Venusaur  Grass  Poison    525  80      82       83   \n",
       "3  3  VenusaurMega Venusaur  Grass  Poison    625  80     100      123   \n",
       "4  4             Charmander   Fire  Flying    309  39      52       43   \n",
       "\n",
       "   Sp. Atk  Sp. Def  Speed  Generation  Legendary  1  2  3  4  5  6  \n",
       "0       65       65     45           1      False  1  0  0  0  0  0  \n",
       "1       80       80     60           1      False  1  0  0  0  0  0  \n",
       "2      100      100     80           1      False  1  0  0  0  0  0  \n",
       "3      122      120     80           1      False  1  0  0  0  0  0  \n",
       "4       60       50     65           1      False  1  0  0  0  0  0  "
      ]
     },
     "execution_count": 164,
     "metadata": {},
     "output_type": "execute_result"
    }
   ],
   "source": [
    "# type 2 feature has 386 missing values\n",
    "# in order to replace those missing values with the most frequest values, we use the mode function in pandas\n",
    "most_frequent = df['Type 2'].mode()\n",
    "\n",
    "# replace NaNs with the most-frequent value which turns out to be 'Flying'\n",
    "#df.fillna(most_frequent, inplace = True) Comment: for some reason, fillna() does not seem to work,so use replace() instead\n",
    "\n",
    "df['Type 2'].replace(np.nan, 'Flying', inplace=True)\n",
    "\n",
    "#visual inspection\n",
    "df.head(5)"
   ]
  },
  {
   "cell_type": "code",
   "execution_count": 167,
   "id": "2a0652ac",
   "metadata": {},
   "outputs": [
    {
     "data": {
      "text/plain": [
       "483"
      ]
     },
     "execution_count": 167,
     "metadata": {},
     "output_type": "execute_result"
    }
   ],
   "source": [
    "# we count the ocurrences of 'Flying'\n",
    "np.sum([df['Type 2']=='Flying'])\n"
   ]
  },
  {
   "cell_type": "markdown",
   "id": "7bfae7ec",
   "metadata": {},
   "source": [
    "## 9. Create a new feature that captures the interaction between the 'Attack' feature and the 'Defense' feature using the PolynomialFeatures functionality of sklearn. What is the mean value of the Attack x Defense interaction feature (choose the closest value)?\n",
    "\n",
    "Encode the relationship between Attack and Defense by including an interaction feature that is the product of the individual features"
   ]
  },
  {
   "cell_type": "code",
   "execution_count": 199,
   "id": "06634685",
   "metadata": {},
   "outputs": [
    {
     "data": {
      "text/plain": [
       "array([  79.00125,   73.8425 , 6277.105  ])"
      ]
     },
     "execution_count": 199,
     "metadata": {},
     "output_type": "execute_result"
    }
   ],
   "source": [
    "#### import from scikit learn\n",
    "from sklearn.preprocessing import PolynomialFeatures\n",
    "\n",
    "#create the interaction model\n",
    "interaction = PolynomialFeatures(degree=2,\n",
    "              interaction_only=True, include_bias=False)\n",
    "\n",
    "# use the np.arrays created above (question 4)\n",
    "features = np.hstack((At, De))\n",
    "\n",
    "# apply the interaction model\n",
    "AD = interaction.fit_transform(features)\n",
    "\n",
    "# get the mean across columns (axis =0). the last element of the resulting array corresponds to the interaction between Attack and Defense\n",
    "np.mean(AD, axis=0)\n"
   ]
  },
  {
   "cell_type": "code",
   "execution_count": 203,
   "id": "9e237ac1",
   "metadata": {},
   "outputs": [
    {
     "data": {
      "text/plain": [
       "6277.105"
      ]
     },
     "execution_count": 203,
     "metadata": {},
     "output_type": "execute_result"
    }
   ],
   "source": [
    "np.mean(AD[:,2])"
   ]
  },
  {
   "cell_type": "markdown",
   "id": "e9433b14",
   "metadata": {},
   "source": [
    "## 10. Using the methodology presented in the guided exercise, compute the number of principal components computed using a value for `n_components` of 0.95. What is the result?"
   ]
  },
  {
   "cell_type": "markdown",
   "id": "541bc12e",
   "metadata": {},
   "source": [
    "We will apply the PCA on the numerical features of the data set. A quick check on the data set structure confirms the features: total, HP, attack, defense, SpAtk, SpDef and speed. Seven features in total.\n",
    "The approach is the following:\n",
    "- create the nparray from the pandas dataframe (simila to what was done on question 4, but adding 'total' to the matrix\n",
    "- standardize the features using scikit learn StandardScaler\n",
    "- apply PCA to the numpy array\n",
    "- check the new dimensionality"
   ]
  },
  {
   "cell_type": "code",
   "execution_count": 183,
   "id": "768faf30",
   "metadata": {},
   "outputs": [
    {
     "name": "stdout",
     "output_type": "stream",
     "text": [
      "<class 'pandas.core.frame.DataFrame'>\n",
      "RangeIndex: 800 entries, 0 to 799\n",
      "Data columns (total 19 columns):\n",
      " #   Column      Non-Null Count  Dtype \n",
      "---  ------      --------------  ----- \n",
      " 0   #           800 non-null    int64 \n",
      " 1   Name        800 non-null    object\n",
      " 2   Type 1      800 non-null    object\n",
      " 3   Type 2      800 non-null    object\n",
      " 4   Total       800 non-null    int64 \n",
      " 5   HP          800 non-null    int64 \n",
      " 6   Attack      800 non-null    int64 \n",
      " 7   Defense     800 non-null    int64 \n",
      " 8   Sp. Atk     800 non-null    int64 \n",
      " 9   Sp. Def     800 non-null    int64 \n",
      " 10  Speed       800 non-null    int64 \n",
      " 11  Generation  800 non-null    int64 \n",
      " 12  Legendary   800 non-null    bool  \n",
      " 13  1           800 non-null    uint8 \n",
      " 14  2           800 non-null    uint8 \n",
      " 15  3           800 non-null    uint8 \n",
      " 16  4           800 non-null    uint8 \n",
      " 17  5           800 non-null    uint8 \n",
      " 18  6           800 non-null    uint8 \n",
      "dtypes: bool(1), int64(9), object(3), uint8(6)\n",
      "memory usage: 80.6+ KB\n"
     ]
    }
   ],
   "source": [
    "df.info()"
   ]
  },
  {
   "cell_type": "code",
   "execution_count": 191,
   "id": "c2fda6fc",
   "metadata": {},
   "outputs": [
    {
     "name": "stdout",
     "output_type": "stream",
     "text": [
      "Original number of features: 7\n",
      "Reduced number of features: 5\n"
     ]
    }
   ],
   "source": [
    "# Load libraries\n",
    "from sklearn.preprocessing import StandardScaler\n",
    "from sklearn.decomposition import PCA\n",
    "\n",
    "# Create a PCA that will retain 95% of variance\n",
    "pca = PCA(n_components=0.95, whiten=True)\n",
    "\n",
    "# before using the PCA method, first standardize numerical features\n",
    "# in question #3 we already created a nparray with the 7 numerical features X. We use the same approach:\n",
    "\n",
    "# we create the nparray with all components\n",
    "TO = np.array(df['Total']).reshape(-1,1)\n",
    "HP = np.array(df['HP']).reshape(-1,1)\n",
    "At = np.array(df['Attack']).reshape(-1,1)\n",
    "De = np.array(df['Defense']).reshape(-1,1)\n",
    "SpAt = np.array(df['Sp. Atk']).reshape(-1,1)\n",
    "SpDe = np.array(df['Sp. Def']).reshape(-1,1)\n",
    "Spe =  np.array(df['Speed']).reshape(-1,1)\n",
    "X = np.hstack((TO, HP, At, De, SpAt, SpDe, Spe))\n",
    "\n",
    "# Standardize the feature matrix\n",
    "X_std = StandardScaler().fit_transform(X)\n",
    "\n",
    "# Conduct PCA\n",
    "X_pca = pca.fit_transform(X_std)\n",
    "\n",
    "# Show results\n",
    "print(\"Original number of features:\", X.shape[1])\n",
    "print(\"Reduced number of features:\", X_pca.shape[1])\n",
    "\n"
   ]
  },
  {
   "cell_type": "code",
   "execution_count": 186,
   "id": "d82e00c9",
   "metadata": {},
   "outputs": [
    {
     "data": {
      "text/plain": [
       "array([[318,  45,  49, ...,  65,  65,  45],\n",
       "       [405,  60,  62, ...,  80,  80,  60],\n",
       "       [525,  80,  82, ..., 100, 100,  80],\n",
       "       ...,\n",
       "       [600,  80, 110, ..., 150, 130,  70],\n",
       "       [680,  80, 160, ..., 170, 130,  80],\n",
       "       [600,  80, 110, ..., 130,  90,  70]], dtype=int64)"
      ]
     },
     "execution_count": 186,
     "metadata": {},
     "output_type": "execute_result"
    }
   ],
   "source": [
    "# visual check\n",
    "X"
   ]
  },
  {
   "cell_type": "code",
   "execution_count": 188,
   "id": "4735ad77",
   "metadata": {},
   "outputs": [
    {
     "data": {
      "text/plain": [
       "array([[-0.9694325 , -0.16408208,  0.70528602, -0.04172668],\n",
       "       [-0.24748173, -0.18170745,  0.77267802,  0.00940109],\n",
       "       [ 0.74889168, -0.16987797,  0.79208392,  0.0587245 ],\n",
       "       ...,\n",
       "       [ 1.39490804, -0.87204098,  1.35598683,  0.7929415 ],\n",
       "       [ 2.07444604, -1.18159052,  0.22709384,  0.72065334],\n",
       "       [ 1.38642083,  0.46591531,  0.3630513 , -0.17427208]])"
      ]
     },
     "execution_count": 188,
     "metadata": {},
     "output_type": "execute_result"
    }
   ],
   "source": [
    "# visual check of the resulting array after PCA\n",
    "X_pca"
   ]
  },
  {
   "cell_type": "code",
   "execution_count": 194,
   "id": "1bf1a5c1",
   "metadata": {},
   "outputs": [
    {
     "data": {
      "text/plain": [
       "array([[-0.97676549, -0.95062622, -0.92490618, -0.79715364, -0.2391303 ,\n",
       "        -0.24818854, -0.80150318],\n",
       "       [-0.25108843, -0.3628221 , -0.5241302 , -0.34791742,  0.21955954,\n",
       "         0.29115635, -0.28501525],\n",
       "       [ 0.74984544,  0.42091674,  0.09244823,  0.29384863,  0.83114599,\n",
       "         1.01028289,  0.40363531],\n",
       "       [ 1.58395701,  0.42091674,  0.64736882,  1.57738071,  1.50389108,\n",
       "         1.72940942,  0.40363531],\n",
       "       [-1.05183553, -1.18574787, -0.83241942, -0.98968346, -0.39202691,\n",
       "        -0.78753344, -0.11285261]])"
      ]
     },
     "execution_count": 194,
     "metadata": {},
     "output_type": "execute_result"
    }
   ],
   "source": [
    "# visual check of the standardized array\n",
    "X_std[0:5,:]"
   ]
  }
 ],
 "metadata": {
  "kernelspec": {
   "display_name": "Python 3 (ipykernel)",
   "language": "python",
   "name": "python3"
  },
  "language_info": {
   "codemirror_mode": {
    "name": "ipython",
    "version": 3
   },
   "file_extension": ".py",
   "mimetype": "text/x-python",
   "name": "python",
   "nbconvert_exporter": "python",
   "pygments_lexer": "ipython3",
   "version": "3.9.7"
  }
 },
 "nbformat": 4,
 "nbformat_minor": 5
}
