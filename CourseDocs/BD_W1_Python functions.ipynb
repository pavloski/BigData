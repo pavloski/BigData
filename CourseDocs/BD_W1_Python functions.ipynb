{
 "cells": [
  {
   "cell_type": "code",
   "execution_count": 15,
   "id": "86a5ab4f",
   "metadata": {},
   "outputs": [
    {
     "name": "stdout",
     "output_type": "stream",
     "text": [
      "[0.2942902813556043, 0.5037336456648501]\n"
     ]
    }
   ],
   "source": [
    "import numpy as np\n",
    "prices = np.random.rand(1000)\n",
    "\n",
    "def meanOf(array):\n",
    "    return [np.std(array),np.mean(array)]\n",
    "    \n",
    "print(meanOf(prices))\n",
    "    \n",
    "\n",
    "\n"
   ]
  },
  {
   "cell_type": "code",
   "execution_count": 13,
   "id": "ec72fcff",
   "metadata": {},
   "outputs": [
    {
     "name": "stdout",
     "output_type": "stream",
     "text": [
      "The word? asssee\n",
      "True\n"
     ]
    }
   ],
   "source": [
    "def startswithVowl (word):\n",
    "    return word[0] in \"aeiou\"\n",
    "            \n",
    "word = input (\"The word? \")\n",
    "print (startswithVowl(word))"
   ]
  },
  {
   "cell_type": "code",
   "execution_count": 17,
   "id": "86e7684a",
   "metadata": {},
   "outputs": [
    {
     "name": "stdout",
     "output_type": "stream",
     "text": [
      "['addd', 'eeer']\n"
     ]
    }
   ],
   "source": [
    "def filter_to_vowel (word_list):\n",
    "    vowel_words =[]\n",
    "    for word in word_list:\n",
    "        if startswithVowl (word):\n",
    "            vowel_words.append(word)\n",
    "    return vowel_words\n",
    "\n",
    "myWords=[\"pepe\",\"addd\", \"eeer\"]\n",
    "print (filter_to_vowel (myWords))"
   ]
  },
  {
   "cell_type": "code",
   "execution_count": 24,
   "id": "e9c942c0",
   "metadata": {},
   "outputs": [
    {
     "name": "stdout",
     "output_type": "stream",
     "text": [
      "20.085536923187668\n",
      "aaaa\n"
     ]
    }
   ],
   "source": [
    "import math\n",
    "a = math.exp(3)\n",
    "print(a)\n",
    "print(\"a\" * 4)"
   ]
  },
  {
   "cell_type": "code",
   "execution_count": null,
   "id": "f639b11f",
   "metadata": {},
   "outputs": [],
   "source": []
  }
 ],
 "metadata": {
  "kernelspec": {
   "display_name": "Python 3 (ipykernel)",
   "language": "python",
   "name": "python3"
  },
  "language_info": {
   "codemirror_mode": {
    "name": "ipython",
    "version": 3
   },
   "file_extension": ".py",
   "mimetype": "text/x-python",
   "name": "python",
   "nbconvert_exporter": "python",
   "pygments_lexer": "ipython3",
   "version": "3.9.7"
  }
 },
 "nbformat": 4,
 "nbformat_minor": 5
}
