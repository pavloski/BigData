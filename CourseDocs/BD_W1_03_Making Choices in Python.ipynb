{
 "cells": [
  {
   "cell_type": "markdown",
   "id": "49f1d830",
   "metadata": {},
   "source": [
    "## Making Choices:\n",
    "\n",
    "We've seen examples of functions which encapsulate and give a name to work done on some input to produce an output\n",
    "\n",
    "To make choices or decisions, we need a new datatype called *Boolean*\n",
    " \n",
    "There are two Booleans, Capital T-r-u-e, and False\n"
   ]
  },
  {
   "cell_type": "code",
   "execution_count": null,
   "id": "a7d0b510",
   "metadata": {},
   "outputs": [],
   "source": [
    "type(True)"
   ]
  },
  {
   "cell_type": "code",
   "execution_count": null,
   "id": "a5b865a5",
   "metadata": {},
   "outputs": [],
   "source": [
    "type(False)"
   ]
  },
  {
   "cell_type": "markdown",
   "id": "6743d456",
   "metadata": {},
   "source": [
    "These show up when we make comparisons.  For example, are two numbers equal, `2 == 3`?  The double equal sign `==` is the equality operator and returns True when the left and right hand expressions are equal.\n",
    "\n",
    "Is zero the same as zero?  If we test this condition, Python returns a Boolean value of either True or False."
   ]
  },
  {
   "cell_type": "code",
   "execution_count": null,
   "id": "b347fd74",
   "metadata": {},
   "outputs": [],
   "source": [
    "0 == 0"
   ]
  },
  {
   "cell_type": "markdown",
   "id": "37d89680",
   "metadata": {},
   "source": [
    "We can also test for inequalities:"
   ]
  },
  {
   "cell_type": "code",
   "execution_count": null,
   "id": "739c7350",
   "metadata": {},
   "outputs": [],
   "source": [
    "0 != 1"
   ]
  },
  {
   "cell_type": "markdown",
   "id": "3afcd43b",
   "metadata": {},
   "source": [
    "Are strings case sensitive in Python?  What's the test?"
   ]
  },
  {
   "cell_type": "code",
   "execution_count": null,
   "id": "fdf5d435",
   "metadata": {},
   "outputs": [],
   "source": [
    "'a' == 'A'"
   ]
  },
  {
   "cell_type": "markdown",
   "id": "ba46b5cf",
   "metadata": {},
   "source": [
    "Python treats these strings differently, thus Python is case sensitive. "
   ]
  },
  {
   "cell_type": "markdown",
   "id": "6d918610",
   "metadata": {},
   "source": [
    "Note again the difference between, `=` and `==`. The first is the assignment operator, used to assign a value to a variable.  The second is the equality operator used to make a comparison between left and right expressions.\n",
    "\n",
    "### Keep these straight, you've been warned."
   ]
  },
  {
   "cell_type": "code",
   "execution_count": null,
   "id": "0b0831dd",
   "metadata": {},
   "outputs": [],
   "source": [
    "x = 4 # x is a variable that points to a number"
   ]
  },
  {
   "cell_type": "code",
   "execution_count": null,
   "id": "bc47b1da",
   "metadata": {},
   "outputs": [],
   "source": [
    "x == 4 # a comparison, is x the same as 4?"
   ]
  },
  {
   "cell_type": "markdown",
   "id": "8ce4a05b",
   "metadata": {},
   "source": [
    "Other comparisons include less than, greater than, etc."
   ]
  },
  {
   "cell_type": "code",
   "execution_count": null,
   "id": "7b3a84a5",
   "metadata": {},
   "outputs": [],
   "source": [
    "1 > 0"
   ]
  },
  {
   "cell_type": "code",
   "execution_count": null,
   "id": "08753f55",
   "metadata": {},
   "outputs": [],
   "source": [
    "2 >= 3"
   ]
  },
  {
   "cell_type": "code",
   "execution_count": null,
   "id": "c45e94ab",
   "metadata": {},
   "outputs": [],
   "source": [
    "-1 < 0"
   ]
  },
  {
   "cell_type": "code",
   "execution_count": null,
   "id": "3b53eb25",
   "metadata": {},
   "outputs": [],
   "source": [
    "0.5 <= 1"
   ]
  },
  {
   "cell_type": "markdown",
   "id": "1c81f2d4",
   "metadata": {},
   "source": [
    "We have a bunch of different types of comparisons, but they all evaluate to one of two Boolean values, `True` or `False`."
   ]
  },
  {
   "cell_type": "markdown",
   "id": "c0a0b655",
   "metadata": {},
   "source": [
    "### Containment\n",
    "\n",
    "Is the string \"H\" in the string \"Hello\"?  Is it contained in the string?"
   ]
  },
  {
   "cell_type": "code",
   "execution_count": null,
   "id": "e47dcebf",
   "metadata": {},
   "outputs": [],
   "source": [
    "\"H\" in \"Hello\""
   ]
  },
  {
   "cell_type": "markdown",
   "id": "ba2100f9",
   "metadata": {},
   "source": [
    "There's also a notion of lack of containment."
   ]
  },
  {
   "cell_type": "code",
   "execution_count": null,
   "id": "a3f83c37",
   "metadata": {},
   "outputs": [],
   "source": [
    "\"X\" not in \"Hello\""
   ]
  },
  {
   "cell_type": "markdown",
   "id": "e9f3d088",
   "metadata": {},
   "source": [
    "What is this true?\n",
    "\n",
    "What is this \"True\"?"
   ]
  },
  {
   "cell_type": "code",
   "execution_count": null,
   "id": "3a4a5215",
   "metadata": {},
   "outputs": [],
   "source": [
    "type(true)"
   ]
  },
  {
   "cell_type": "code",
   "execution_count": null,
   "id": "42aff06d",
   "metadata": {},
   "outputs": [],
   "source": [
    "type(\"True\")"
   ]
  },
  {
   "cell_type": "markdown",
   "id": "09a8e7cc",
   "metadata": {},
   "source": [
    "We have these Booleans, how do we put them to work?  How do we use them to make choices?"
   ]
  },
  {
   "cell_type": "markdown",
   "id": "288df9c6",
   "metadata": {},
   "source": [
    "### Keyword `if`"
   ]
  },
  {
   "cell_type": "markdown",
   "id": "4fc4c46d",
   "metadata": {},
   "source": [
    "The simplest way to make a decision in Python is by using the `if` keyword."
   ]
  },
  {
   "cell_type": "code",
   "execution_count": null,
   "id": "11c21a40",
   "metadata": {},
   "outputs": [],
   "source": [
    "if 6 > 5:\n",
    "    print(\"Six is greater than five\")"
   ]
  },
  {
   "cell_type": "markdown",
   "id": "8bc78565",
   "metadata": {},
   "source": [
    "The keyword `if` is followed by any expression you want, ultimately that expression must evaluate to a Boolean.\n",
    "\n",
    "The syntax is `if` keyword, then expression that evaluates to a Boolean, like 6 > 5, then colon saying that we are done with the line.\n",
    "\n",
    "Indented is all of the work we want to do if the expression is true.\n",
    "\n",
    "If the expression is not true, Python doesn't even look at the indented code.\n",
    "\n",
    "The following, shouldn't do a thing:"
   ]
  },
  {
   "cell_type": "code",
   "execution_count": null,
   "id": "94a644c4",
   "metadata": {},
   "outputs": [],
   "source": [
    "if 0 > 2:\n",
    "    print(\"zero is greater than 2\")"
   ]
  },
  {
   "cell_type": "markdown",
   "id": "46d9224e",
   "metadata": {},
   "source": [
    "### Powerful idea -- we can conditionally do or not do something."
   ]
  },
  {
   "cell_type": "code",
   "execution_count": null,
   "id": "4c300ad5",
   "metadata": {},
   "outputs": [],
   "source": [
    "if \"banana\" in \"bananarama\":\n",
    "    print(\"I miss the 80s...\")"
   ]
  },
  {
   "cell_type": "markdown",
   "id": "56f2898d",
   "metadata": {},
   "source": [
    "`if` conditional using the idea of containment."
   ]
  },
  {
   "cell_type": "markdown",
   "id": "2e36a2b0",
   "metadata": {},
   "source": [
    "### Keyword `else`\n",
    "\n",
    "If we want to perform one of two actions based on some condition"
   ]
  },
  {
   "cell_type": "code",
   "execution_count": null,
   "id": "ccad5f75",
   "metadata": {},
   "outputs": [],
   "source": [
    "sister = 15\n",
    "brother = 12\n",
    "\n",
    "if sister > brother:\n",
    "    print(\"Sister is older\")\n",
    "else:\n",
    "    print(\"Brother is older\")"
   ]
  },
  {
   "cell_type": "markdown",
   "id": "7bf83917",
   "metadata": {},
   "source": [
    "If the `if` condition is true do work indented under `if`, otherwise do the work indented under the `else`.\n",
    "\n",
    "Either a or b based on some Boolean expression."
   ]
  },
  {
   "cell_type": "markdown",
   "id": "ed6382d1",
   "metadata": {},
   "source": [
    "### Compound conditionals\n",
    "\n",
    "#### Keyword `and`\n",
    "\n",
    "Consider that `x = 1` and we want to know if `x` is greater than zero and `x` is less than two.\n",
    "\n",
    "We can use the `and` keyword to combine two Boolean expressions."
   ]
  },
  {
   "cell_type": "code",
   "execution_count": null,
   "id": "bd31df33",
   "metadata": {},
   "outputs": [],
   "source": [
    "x = 1"
   ]
  },
  {
   "cell_type": "code",
   "execution_count": null,
   "id": "6c2f187e",
   "metadata": {},
   "outputs": [],
   "source": [
    "x > 0 and x < 2"
   ]
  },
  {
   "cell_type": "markdown",
   "id": "b3b77600",
   "metadata": {},
   "source": [
    "In the above example, since the left expression is true and the right expression is true, the overall expression evaluates to a Boolean `True`.\n",
    "\n",
    "Another example:"
   ]
  },
  {
   "cell_type": "code",
   "execution_count": null,
   "id": "cd31157a",
   "metadata": {},
   "outputs": [],
   "source": [
    "1 < 2 and \"x\" in \"abc\""
   ]
  },
  {
   "cell_type": "markdown",
   "id": "3c207bff",
   "metadata": {},
   "source": [
    "The left expression is true, but the right expression is false, thus the overall expression evaluates to a Boolean `False`.\n",
    "\n",
    "\n",
    "Note: We can chain more..."
   ]
  },
  {
   "cell_type": "markdown",
   "id": "c4af7627",
   "metadata": {},
   "source": [
    "#### Keyword `or`\n",
    "\n",
    "If we require that only one of the expressions need be true in a statment, we can use the `or` keyword."
   ]
  },
  {
   "cell_type": "code",
   "execution_count": null,
   "id": "563e98e5",
   "metadata": {},
   "outputs": [],
   "source": [
    "\"a\" in \"hello\" or \"e\" in \"hello\""
   ]
  },
  {
   "cell_type": "code",
   "execution_count": null,
   "id": "3a38168e",
   "metadata": {},
   "outputs": [],
   "source": [
    "1 <= 0 or \"a\" not in \"abc\""
   ]
  },
  {
   "cell_type": "markdown",
   "id": "4a3bb900",
   "metadata": {},
   "source": [
    "### Example"
   ]
  },
  {
   "cell_type": "code",
   "execution_count": null,
   "id": "1ee000f6",
   "metadata": {},
   "outputs": [],
   "source": [
    "temp = 0\n",
    "if temp > 15 and temp < 25:\n",
    "    print(\"Nice and cozy\")\n",
    "else:\n",
    "    print(\"Too extreme for me\")"
   ]
  },
  {
   "cell_type": "markdown",
   "id": "a9ba3a02",
   "metadata": {},
   "source": [
    "### Example"
   ]
  },
  {
   "cell_type": "code",
   "execution_count": null,
   "id": "0d737ec9",
   "metadata": {},
   "outputs": [],
   "source": [
    "hour = 11\n",
    "if hour < 7 or hour > 23:\n",
    "    print(\"I'm sleeping\")\n",
    "    print(\"Go away!\")\n",
    "else: \n",
    "    print(\"Welcome!\")\n",
    "    print(\"Everything is 50% off today!\")"
   ]
  },
  {
   "cell_type": "markdown",
   "id": "366fb17b",
   "metadata": {},
   "source": [
    "Note:  Need to be careful with indentation.  Otherwise, we can change the intended action.\n"
   ]
  },
  {
   "cell_type": "markdown",
   "id": "839a5cb4",
   "metadata": {},
   "source": [
    "### Keyword `elif`\n",
    "\n",
    "If we want to take one of many actions based on some condition, we use the `elif` keyword.\n",
    "\n",
    "Go back to the age example.  Consider the case of twins?"
   ]
  },
  {
   "cell_type": "code",
   "execution_count": null,
   "id": "8fd43325",
   "metadata": {},
   "outputs": [],
   "source": [
    "sister = 15\n",
    "brother = 12\n",
    "if sister > brother:\n",
    "    print(\"Sister is older\")\n",
    "else:\n",
    "    print(\"Brother is older\")"
   ]
  },
  {
   "cell_type": "code",
   "execution_count": null,
   "id": "9aee027a",
   "metadata": {},
   "outputs": [],
   "source": [
    "sister = 15\n",
    "brother = 15\n",
    "if sister > brother:\n",
    "    print(\"Sister is older\")\n",
    "elif sister == brother:\n",
    "    print(\"Same age!\")    \n",
    "else: \n",
    "    print(\"Brother is older\")"
   ]
  },
  {
   "cell_type": "markdown",
   "id": "c204a135",
   "metadata": {},
   "source": [
    "How is this different?  `elif` is like `if`, it takes a condition, and if it is true, it does some action. Otherwise, it skips to the bottom.\n",
    "\n",
    "If there are several `elif`s, it considers each `elif` condition and finds one condition that is true, otherwise it skips to the bottom.\n",
    "\n",
    "* `if`, do something or not\n",
    "* `else` deals with fall through case, catch all\n",
    "* if there are other cases to check, use one or more `elif`s."
   ]
  },
  {
   "cell_type": "markdown",
   "id": "28139fdd",
   "metadata": {},
   "source": [
    "## Exercise:\n",
    "\n",
    "Write a program that can assign and print to screen a letter grade for a student based on a score.  The grading policy is as follows:\n",
    "\n",
    "\t a <--> 90 - 100\n",
    "\t b <--> 80 - 89\n",
    "\t c <--> 70 - 79\n",
    "\t d <--> 60 - 69\n",
    "\t f <--> < 60\n",
    "\n",
    "Test your program on the following grades: 100, 79, 65, 12"
   ]
  },
  {
   "cell_type": "markdown",
   "id": "487490db",
   "metadata": {},
   "source": [
    "## Key:"
   ]
  },
  {
   "cell_type": "code",
   "execution_count": null,
   "id": "c89737b5",
   "metadata": {},
   "outputs": [],
   "source": [
    "score = 91\n",
    "\n",
    "if score >= 90:\n",
    "    print(\"Student scored \" + str(score) + \" and receives an A!\")\n",
    "elif score >=80:\n",
    "    print(\"Student scored \" + str(score) + \" and receives a B!\")\n",
    "elif score >=70:\n",
    "    print(\"Student scored \" + str(score) + \" and receives a C\")\n",
    "elif score >=60:\n",
    "    print(\"Student scored \" + str(score) + \" and receives a D\")\n",
    "else:\n",
    "    print(\"Student scored \" + str(score) + \" and receives a F\")"
   ]
  },
  {
   "cell_type": "code",
   "execution_count": null,
   "id": "45579588",
   "metadata": {},
   "outputs": [],
   "source": [
    "scores = [100, 79, 65, 12]\n",
    "\n",
    "for score in scores: \n",
    "    if score >= 90:\n",
    "        print(\"Student scored \" + str(score) + \" and receives an A!\")\n",
    "    elif score >=80:\n",
    "        print(\"Student scored \" + str(score) + \" and receives a B!\")\n",
    "    elif score >=70:\n",
    "        print(\"Student scored \" + str(score) + \" and receives a C\")\n",
    "    elif score >=60:\n",
    "        print(\"Student scored \" + str(score) + \" and receives a D\")\n",
    "    else:\n",
    "        print(\"Student scored \" + str(score) + \" and receives a F\")\n",
    "        \n"
   ]
  }
 ],
 "metadata": {
  "kernelspec": {
   "display_name": "Python 3 (ipykernel)",
   "language": "python",
   "name": "python3"
  },
  "language_info": {
   "codemirror_mode": {
    "name": "ipython",
    "version": 3
   },
   "file_extension": ".py",
   "mimetype": "text/x-python",
   "name": "python",
   "nbconvert_exporter": "python",
   "pygments_lexer": "ipython3",
   "version": "3.9.7"
  }
 },
 "nbformat": 4,
 "nbformat_minor": 5
}
