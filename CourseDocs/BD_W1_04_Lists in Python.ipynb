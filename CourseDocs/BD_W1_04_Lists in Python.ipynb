{
 "cells": [
  {
   "cell_type": "markdown",
   "id": "63d9b806",
   "metadata": {},
   "source": [
    "## Lists\n",
    "\n",
    "So far we've learned about data types that can store individual pieces of data, i.e., numbers, strings, a Booleans. What about a collection of data?  \n",
    "\n",
    "Experimental results, surveys, measurements, etc.require a data structure for storing an ordered collection of items --> list"
   ]
  },
  {
   "cell_type": "code",
   "execution_count": null,
   "id": "f2586cc2",
   "metadata": {},
   "outputs": [],
   "source": [
    "your_list = [\"a\", \"b\", \"c\"]"
   ]
  },
  {
   "cell_type": "code",
   "execution_count": null,
   "id": "0cf34bbf",
   "metadata": {},
   "outputs": [],
   "source": [
    "your_list"
   ]
  },
  {
   "cell_type": "code",
   "execution_count": null,
   "id": "b8ca7490",
   "metadata": {},
   "outputs": [],
   "source": [
    "type(your_list)"
   ]
  },
  {
   "cell_type": "markdown",
   "id": "a58c1bfb",
   "metadata": {},
   "source": [
    "Has a notion of length:"
   ]
  },
  {
   "cell_type": "code",
   "execution_count": null,
   "id": "1770fe1d",
   "metadata": {},
   "outputs": [],
   "source": [
    "len(your_list)"
   ]
  },
  {
   "cell_type": "markdown",
   "id": "aa5a6823",
   "metadata": {},
   "source": [
    "Has a notion of containment:"
   ]
  },
  {
   "cell_type": "code",
   "execution_count": null,
   "id": "3d29d7fa",
   "metadata": {},
   "outputs": [],
   "source": [
    "\"a\" in your_list"
   ]
  },
  {
   "cell_type": "code",
   "execution_count": null,
   "id": "928726ce",
   "metadata": {},
   "outputs": [],
   "source": [
    "\"z\" in your_list"
   ]
  },
  {
   "cell_type": "code",
   "execution_count": null,
   "id": "e34866e1",
   "metadata": {},
   "outputs": [],
   "source": [
    "\"z\" not in your_list"
   ]
  },
  {
   "cell_type": "markdown",
   "id": "656d1884",
   "metadata": {},
   "source": [
    "How do we get the left-most item in a list?  Remember that Python uses zero-based indexing."
   ]
  },
  {
   "cell_type": "code",
   "execution_count": null,
   "id": "c57da276",
   "metadata": {},
   "outputs": [],
   "source": [
    "your_list[0]"
   ]
  },
  {
   "cell_type": "markdown",
   "id": "01c400a3",
   "metadata": {},
   "source": [
    "Keep going..."
   ]
  },
  {
   "cell_type": "code",
   "execution_count": null,
   "id": "a78e7459",
   "metadata": {},
   "outputs": [],
   "source": [
    "your_list[1]"
   ]
  },
  {
   "cell_type": "code",
   "execution_count": null,
   "id": "e62655eb",
   "metadata": {},
   "outputs": [],
   "source": [
    "your_list[2]"
   ]
  },
  {
   "cell_type": "code",
   "execution_count": null,
   "id": "2d397f18",
   "metadata": {},
   "outputs": [],
   "source": [
    "your_list[3] # error"
   ]
  },
  {
   "cell_type": "markdown",
   "id": "f8cf699d",
   "metadata": {},
   "source": [
    "We can add elements to the list."
   ]
  },
  {
   "cell_type": "code",
   "execution_count": null,
   "id": "cd2148a8",
   "metadata": {},
   "outputs": [],
   "source": [
    "your_list.append(\"d\")"
   ]
  },
  {
   "cell_type": "code",
   "execution_count": null,
   "id": "ce1451c6",
   "metadata": {},
   "outputs": [],
   "source": [
    "your_list"
   ]
  },
  {
   "cell_type": "markdown",
   "id": "0744d018",
   "metadata": {},
   "source": [
    "`your_list` is a variable that points to a list\n",
    "\n",
    "Python distinguishes operations for a particular data type with dot (.) notation followed by function name.\t\t"
   ]
  },
  {
   "cell_type": "code",
   "execution_count": null,
   "id": "8b752ffa",
   "metadata": {},
   "outputs": [],
   "source": [
    "your_list."
   ]
  },
  {
   "cell_type": "code",
   "execution_count": null,
   "id": "2a224769",
   "metadata": {},
   "outputs": [],
   "source": [
    "your_list[3] # now works"
   ]
  },
  {
   "cell_type": "markdown",
   "id": "ed17c276",
   "metadata": {},
   "source": [
    "We can initialize a list as an empty list:"
   ]
  },
  {
   "cell_type": "code",
   "execution_count": null,
   "id": "7689ee1b",
   "metadata": {},
   "outputs": [],
   "source": [
    "your_list = []"
   ]
  },
  {
   "cell_type": "code",
   "execution_count": null,
   "id": "71b33473",
   "metadata": {},
   "outputs": [],
   "source": [
    "len(your_list)"
   ]
  },
  {
   "cell_type": "code",
   "execution_count": null,
   "id": "f32a14ad",
   "metadata": {},
   "outputs": [],
   "source": [
    "names = [\"George\", \"Paul\", \"John\"]"
   ]
  },
  {
   "cell_type": "code",
   "execution_count": null,
   "id": "3879311c",
   "metadata": {},
   "outputs": [],
   "source": [
    "names"
   ]
  },
  {
   "cell_type": "code",
   "execution_count": null,
   "id": "da701696",
   "metadata": {},
   "outputs": [],
   "source": [
    "names.append(\"Pete\")"
   ]
  },
  {
   "cell_type": "code",
   "execution_count": null,
   "id": "db8d0f84",
   "metadata": {},
   "outputs": [],
   "source": [
    "names"
   ]
  },
  {
   "cell_type": "markdown",
   "id": "95e6c7e8",
   "metadata": {},
   "source": [
    "Pete's not cutting it, we need a new drummer.\n",
    "\n",
    "* fire bandmate and replace\n",
    "\t* pull out the item\n",
    "\t* do an assignment"
   ]
  },
  {
   "cell_type": "code",
   "execution_count": null,
   "id": "c2f804ca",
   "metadata": {},
   "outputs": [],
   "source": [
    "names[3]"
   ]
  },
  {
   "cell_type": "code",
   "execution_count": null,
   "id": "a76b7ee4",
   "metadata": {},
   "outputs": [],
   "source": [
    "names[3] = \"Ringo\""
   ]
  },
  {
   "cell_type": "code",
   "execution_count": null,
   "id": "48fd6f7c",
   "metadata": {},
   "outputs": [],
   "source": [
    "names"
   ]
  },
  {
   "cell_type": "markdown",
   "id": "97e0c46d",
   "metadata": {},
   "source": [
    "We know how to index from the left.  How about from the right?  The most recently added element of the list.\n",
    "\n",
    "* `len` can give us length, if we start counting at zero, `len-1` will give us index of last item on list, `names[len(names)-1]`\n",
    "\n",
    "* alternatively, `names[-1]` will index the last item\n",
    "\n",
    "* successive negative integers will index from right to left"
   ]
  },
  {
   "cell_type": "code",
   "execution_count": null,
   "id": "0685b403",
   "metadata": {},
   "outputs": [],
   "source": [
    "names"
   ]
  },
  {
   "cell_type": "code",
   "execution_count": null,
   "id": "a505c3d9",
   "metadata": {},
   "outputs": [],
   "source": [
    "names[-1]"
   ]
  },
  {
   "cell_type": "code",
   "execution_count": null,
   "id": "af8a2d9e",
   "metadata": {},
   "outputs": [],
   "source": [
    "names[len(names)-1]"
   ]
  },
  {
   "cell_type": "code",
   "execution_count": 1,
   "id": "36ceb02a",
   "metadata": {},
   "outputs": [
    {
     "ename": "NameError",
     "evalue": "name 'names' is not defined",
     "output_type": "error",
     "traceback": [
      "\u001b[1;31m---------------------------------------------------------------------------\u001b[0m",
      "\u001b[1;31mNameError\u001b[0m                                 Traceback (most recent call last)",
      "\u001b[1;32m~\\AppData\\Local\\Temp/ipykernel_23040/1218163272.py\u001b[0m in \u001b[0;36m<module>\u001b[1;34m\u001b[0m\n\u001b[1;32m----> 1\u001b[1;33m \u001b[0mnames\u001b[0m\u001b[1;33m[\u001b[0m\u001b[1;33m-\u001b[0m\u001b[1;36m2\u001b[0m\u001b[1;33m]\u001b[0m\u001b[1;33m\u001b[0m\u001b[1;33m\u001b[0m\u001b[0m\n\u001b[0m",
      "\u001b[1;31mNameError\u001b[0m: name 'names' is not defined"
     ]
    }
   ],
   "source": [
    "names[-2]"
   ]
  },
  {
   "cell_type": "markdown",
   "id": "f0141d4c",
   "metadata": {},
   "source": [
    "Strings have a notion of containment and length like lists, and similar indexing."
   ]
  },
  {
   "cell_type": "code",
   "execution_count": null,
   "id": "dc6d1f7f",
   "metadata": {},
   "outputs": [],
   "source": [
    "my_name = \"Santiago\""
   ]
  },
  {
   "cell_type": "code",
   "execution_count": null,
   "id": "f232953c",
   "metadata": {},
   "outputs": [],
   "source": [
    "'S' in my_name"
   ]
  },
  {
   "cell_type": "code",
   "execution_count": null,
   "id": "2b0c9607",
   "metadata": {},
   "outputs": [],
   "source": [
    "len(my_name)"
   ]
  },
  {
   "cell_type": "code",
   "execution_count": null,
   "id": "35f6a445",
   "metadata": {},
   "outputs": [],
   "source": [
    "my_name[0]"
   ]
  },
  {
   "cell_type": "code",
   "execution_count": null,
   "id": "1cdc8747",
   "metadata": {},
   "outputs": [],
   "source": [
    "my_name[-1]"
   ]
  },
  {
   "cell_type": "markdown",
   "id": "8c4e3c56",
   "metadata": {},
   "source": [
    "## Exercise\n",
    "Do the following:\n",
    "\n",
    "* Form a list with a comma separated sequence of items within square brackets\n",
    "* extract the left-most item from the list\n",
    "* pull off the last item from the list\n",
    "* reassign an item in the list\n",
    "* add items to end of list with `append` function\n",
    "* find the length of the list with the `len` function\n",
    "* show that the property of containment is supported in a list "
   ]
  },
  {
   "cell_type": "markdown",
   "id": "8dbc84d2",
   "metadata": {},
   "source": [
    "## Key "
   ]
  },
  {
   "cell_type": "code",
   "execution_count": null,
   "id": "9df242ba",
   "metadata": {},
   "outputs": [],
   "source": [
    "fruits = [\"apples\", \"bananas\", \"oranges\"]"
   ]
  },
  {
   "cell_type": "code",
   "execution_count": null,
   "id": "0384bbac",
   "metadata": {},
   "outputs": [],
   "source": [
    "fruits"
   ]
  },
  {
   "cell_type": "code",
   "execution_count": null,
   "id": "a9c7109b",
   "metadata": {},
   "outputs": [],
   "source": [
    "fruits[0]"
   ]
  },
  {
   "cell_type": "code",
   "execution_count": null,
   "id": "4eded5e2",
   "metadata": {},
   "outputs": [],
   "source": [
    "fruits[-1]"
   ]
  },
  {
   "cell_type": "code",
   "execution_count": null,
   "id": "77e9bc6a",
   "metadata": {},
   "outputs": [],
   "source": [
    "fruits[0] = \"plums\""
   ]
  },
  {
   "cell_type": "code",
   "execution_count": null,
   "id": "35e2d8a0",
   "metadata": {},
   "outputs": [],
   "source": [
    "fruits"
   ]
  },
  {
   "cell_type": "code",
   "execution_count": null,
   "id": "fed6f156",
   "metadata": {},
   "outputs": [],
   "source": [
    "fruits.append(\"cherries\")"
   ]
  },
  {
   "cell_type": "code",
   "execution_count": null,
   "id": "cc4f839d",
   "metadata": {},
   "outputs": [],
   "source": [
    "fruits"
   ]
  },
  {
   "cell_type": "code",
   "execution_count": null,
   "id": "e5497ff6",
   "metadata": {},
   "outputs": [],
   "source": [
    "len(fruits)"
   ]
  },
  {
   "cell_type": "code",
   "execution_count": null,
   "id": "17aa3b76",
   "metadata": {},
   "outputs": [],
   "source": [
    "\"plums\" in fruits"
   ]
  },
  {
   "cell_type": "code",
   "execution_count": null,
   "id": "44ebb3fc",
   "metadata": {},
   "outputs": [],
   "source": [
    "\"apples\" in fruits"
   ]
  },
  {
   "cell_type": "markdown",
   "id": "f0c08e63",
   "metadata": {},
   "source": [
    "## Documentation\n",
    "\n",
    "How do I know about append, remove etc...? What else can I do with lists?\n",
    "\n",
    "From browser of choice, search Python lists\n",
    "* From offical Python docs\n",
    "* 5.1 more on Lists.\n",
    "* what operations are available on lists\n",
    "\n",
    "What about strings?  How do I make all the letters in a string lower case, upper case, etc.?"
   ]
  },
  {
   "cell_type": "markdown",
   "id": "fdeb95d1",
   "metadata": {},
   "source": [
    "### Up next... looping over lists is powerful action"
   ]
  }
 ],
 "metadata": {
  "kernelspec": {
   "display_name": "Python 3 (ipykernel)",
   "language": "python",
   "name": "python3"
  },
  "language_info": {
   "codemirror_mode": {
    "name": "ipython",
    "version": 3
   },
   "file_extension": ".py",
   "mimetype": "text/x-python",
   "name": "python",
   "nbconvert_exporter": "python",
   "pygments_lexer": "ipython3",
   "version": "3.9.7"
  }
 },
 "nbformat": 4,
 "nbformat_minor": 5
}
