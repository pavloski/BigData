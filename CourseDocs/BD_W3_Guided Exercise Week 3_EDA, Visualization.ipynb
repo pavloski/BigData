{
 "cells": [
  {
   "cell_type": "markdown",
   "metadata": {},
   "source": [
    "# Guided Exercise Week 3: EDA, Visualization"
   ]
  },
  {
   "cell_type": "markdown",
   "metadata": {},
   "source": [
    "## Data Exploration and Visualization with the Iris Dataset"
   ]
  },
  {
   "cell_type": "code",
   "execution_count": null,
   "metadata": {},
   "outputs": [],
   "source": [
    "import pandas as pd\n",
    "import numpy as np\n",
    "import matplotlib.pyplot as plt\n",
    "%matplotlib inline\n",
    "import seaborn as sns"
   ]
  },
  {
   "cell_type": "code",
   "execution_count": null,
   "metadata": {},
   "outputs": [],
   "source": [
    "# Load the data\n",
    "iris = pd.read_csv('iris.csv', names= [\"sepal_length\", \"sepal_width\", \"petal_length\", \"petal_width\", \"species\"])\n",
    "iris.head() #to check the first 5 rows of the data set"
   ]
  },
  {
   "cell_type": "code",
   "execution_count": null,
   "metadata": {},
   "outputs": [],
   "source": [
    "all_species = pd.unique(iris.species) # find the unique names of species in the data\n",
    "all_species"
   ]
  },
  {
   "cell_type": "code",
   "execution_count": null,
   "metadata": {},
   "outputs": [],
   "source": [
    "iris[\"species\"].value_counts()"
   ]
  },
  {
   "cell_type": "code",
   "execution_count": null,
   "metadata": {},
   "outputs": [],
   "source": [
    "iris.isnull().sum() #checks out how many null info are on the dataset"
   ]
  },
  {
   "cell_type": "code",
   "execution_count": null,
   "metadata": {},
   "outputs": [],
   "source": [
    "iris.describe() #to give a statistical summary about the dataset"
   ]
  },
  {
   "cell_type": "markdown",
   "metadata": {},
   "source": [
    "### Pandas implements `matplotlib` to work with DataFrames and Series, natively.\n",
    "\n",
    "[Visualization in pandas](https://pandas.pydata.org/pandas-docs/stable/user_guide/visualization.html)"
   ]
  },
  {
   "cell_type": "code",
   "execution_count": null,
   "metadata": {},
   "outputs": [],
   "source": [
    "iris.plot(kind='box') # create a box plot of attributes for all species in the dataset\n",
    "plt.show()"
   ]
  },
  {
   "cell_type": "code",
   "execution_count": null,
   "metadata": {},
   "outputs": [],
   "source": [
    "iris.hist() # visualize distribution of attributes in the whole dataset.  Note that petals seem to fall into groups.\n",
    "plt.show()"
   ]
  },
  {
   "cell_type": "code",
   "execution_count": null,
   "metadata": {},
   "outputs": [],
   "source": [
    "from pandas.plotting import scatter_matrix\n",
    "scatter_matrix(iris) # gives a visual feel for correlation\n",
    "plt.show()"
   ]
  },
  {
   "cell_type": "markdown",
   "metadata": {},
   "source": [
    "## Another visualization module you might want to consider is [Seaborn](https://seaborn.pydata.org/).  \n",
    "\n",
    "Seaborn is a Python data visualization library based on matplotlib. It provides a high-level interface for drawing attractive and informative statistical graphics."
   ]
  },
  {
   "cell_type": "code",
   "execution_count": null,
   "metadata": {},
   "outputs": [],
   "source": [
    "# We'll use seaborn's FacetGrid to color the scatterplot by species\n",
    "# Note that the versicolor and virginca show a lot of overlap with these two features, but setosa stands out.\n",
    "sns.FacetGrid(iris, hue=\"species\", height=5).map(plt.scatter, \"sepal_length\", \"sepal_width\").add_legend()"
   ]
  },
  {
   "cell_type": "code",
   "execution_count": null,
   "metadata": {},
   "outputs": [],
   "source": [
    "# The \"Seaborn\" plotting package provides some nicer visuals\n",
    "sns.set(style=\"ticks\")\n",
    "iris = sns.load_dataset(\"iris\")\n",
    "sns.pairplot(iris, hue=\"species\",palette=\"bright\")\n",
    "plt.show()"
   ]
  },
  {
   "cell_type": "code",
   "execution_count": null,
   "metadata": {},
   "outputs": [],
   "source": [
    "piris = pd.melt(iris, \"species\", var_name=\"measurement\") \n",
    "sns.catplot(x=\"measurement\", y=\"value\", hue=\"species\", data=piris, height=7, kind=\"bar\",palette=\"bright\")\n",
    "plt.show() \n",
    "print(piris.head())"
   ]
  },
  {
   "cell_type": "markdown",
   "metadata": {},
   "source": [
    "We've looked at box plots of attributes, but now that we have decided that petal length and petal width are the most informative, let's revisit them with box and/or violin plots"
   ]
  },
  {
   "cell_type": "code",
   "execution_count": null,
   "metadata": {},
   "outputs": [],
   "source": [
    "# We will plot length and width in two side by side subplots\n",
    "# A violin plot is more informative than a box plot for this purpose\n",
    "# Denser regions of the data are fatter, and sparser thiner in a violin plot\n",
    "\n",
    "fig = plt.figure()\n",
    "ax1 = fig.add_subplot(1, 2, 1)\n",
    "sns.violinplot(x=\"species\", y=\"petal_length\", data=iris, size=10)\n",
    "\n",
    "ax2 = fig.add_subplot(1, 2, 2)\n",
    "sns.violinplot(x=\"species\", y=\"petal_width\", data=iris, size=10)"
   ]
  },
  {
   "cell_type": "code",
   "execution_count": null,
   "metadata": {},
   "outputs": [],
   "source": [
    "# Another multivariate visualization technique pandas has is parallel_coordinates\n",
    "# Parallel coordinates plots each feature on a separate column & then draws lines\n",
    "# connecting the features for each data sample\n",
    "\n",
    "from pandas.plotting import parallel_coordinates\n",
    "\n",
    "# parallel_coordinates(iris.drop(\"Id\", axis=1), \"Species\")\n",
    "parallel_coordinates(iris, \"species\")"
   ]
  },
  {
   "cell_type": "code",
   "execution_count": null,
   "metadata": {},
   "outputs": [],
   "source": [
    "# the RadViz plot provides a radial depiction of the attributes\n",
    "from pandas.plotting import radviz\n",
    "radviz(iris, \"species\")"
   ]
  }
 ],
 "metadata": {
  "kernelspec": {
   "display_name": "Python 3 (ipykernel)",
   "language": "python",
   "name": "python3"
  },
  "language_info": {
   "codemirror_mode": {
    "name": "ipython",
    "version": 3
   },
   "file_extension": ".py",
   "mimetype": "text/x-python",
   "name": "python",
   "nbconvert_exporter": "python",
   "pygments_lexer": "ipython3",
   "version": "3.9.7"
  }
 },
 "nbformat": 4,
 "nbformat_minor": 2
}
