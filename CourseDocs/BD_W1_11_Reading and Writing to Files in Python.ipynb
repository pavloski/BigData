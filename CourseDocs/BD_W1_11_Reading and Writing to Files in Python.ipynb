{
 "cells": [
  {
   "cell_type": "markdown",
   "id": "d518d87b",
   "metadata": {},
   "source": [
    "# Reading and Writing to Files\n",
    "\n",
    "We'd like to read in a file.  Perhaps some data file that we'd like to analyze/process.\n",
    "\n",
    "Let's begin with an example: countries.txt is our text file of interest.\n",
    "\n",
    "Let's write a script to read this file into Python:\n",
    "\n",
    "* To open a file, we use the `open` command.\n",
    "* This command takes two arguments\n",
    "    1. name of the file \n",
    "    2. mode in which your are opening the file.\n",
    "        * read, 'r'\n",
    "        * write\n",
    "        * append\n",
    "* `open` returns a file handle. We need to assign a variable name to it because we are going to iterate over the file.\n",
    "\n"
   ]
  },
  {
   "cell_type": "code",
   "execution_count": null,
   "id": "57013d58",
   "metadata": {},
   "outputs": [],
   "source": [
    "%cd \"C:\\Users\\jim\\OneDrive - Naval Postgraduate School\\Desktop\\code\""
   ]
  },
  {
   "cell_type": "code",
   "execution_count": null,
   "id": "331da2e7",
   "metadata": {
    "scrolled": false
   },
   "outputs": [],
   "source": [
    "f = open(\"countries.txt\", \"r\")  # opening file in mode read\n",
    "\n",
    "for line in f:   # f, not a list, but iterable\n",
    "    print(line)\n",
    "\n",
    "f.close()"
   ]
  },
  {
   "cell_type": "markdown",
   "id": "a4b57dc0",
   "metadata": {},
   "source": [
    "The extra white space is unnecessary and may be problematic for further processing.  How do we remove it?\n",
    "\n",
    "Documentation on string functions...  `strip()`"
   ]
  },
  {
   "cell_type": "code",
   "execution_count": null,
   "id": "bc6a956f",
   "metadata": {},
   "outputs": [],
   "source": [
    "f = open(\"countries.txt\", \"r\")  # opening file in mode read\n",
    "\n",
    "for line in f:   # f, not a list, but iterable\n",
    "    line = line.strip()\n",
    "    print(line)\n",
    "\n",
    "f.close()"
   ]
  },
  {
   "cell_type": "markdown",
   "id": "f4591992",
   "metadata": {},
   "source": [
    "Now let's ingest the data into a list, to enable further processing."
   ]
  },
  {
   "cell_type": "code",
   "execution_count": null,
   "id": "3a37c9ad",
   "metadata": {},
   "outputs": [],
   "source": [
    "f = open(\"countries.txt\", \"r\")  # opening file in mode read\n",
    "\n",
    "countries = []\n",
    "\n",
    "for line in f:   # f, not a list, but iterable\n",
    "    line = line.strip()\n",
    "    countries.append(line)\n",
    "f.close()"
   ]
  },
  {
   "cell_type": "code",
   "execution_count": null,
   "id": "bc229932",
   "metadata": {},
   "outputs": [],
   "source": [
    "countries"
   ]
  },
  {
   "cell_type": "code",
   "execution_count": null,
   "id": "2e669218",
   "metadata": {},
   "outputs": [],
   "source": [
    "len(countries)"
   ]
  },
  {
   "cell_type": "markdown",
   "id": "56abe73f",
   "metadata": {},
   "source": [
    "Maybe I need to isolate all of the countries whose name begins with the letter T.  How would I do this?"
   ]
  },
  {
   "cell_type": "code",
   "execution_count": null,
   "id": "15b35240",
   "metadata": {},
   "outputs": [],
   "source": [
    "for country in countries:\n",
    "    if country[0] == \"T\":\n",
    "        print(country)"
   ]
  },
  {
   "cell_type": "markdown",
   "id": "166d6b48",
   "metadata": {},
   "source": [
    "Let's write data to a file:  \n",
    "\n",
    "* We use the same `open` function.\n",
    "* We gather data, user scores, perhaps.\n",
    "* And we'll save that data into a file, `scores.txt`.\n",
    "* Now a mode of \"w\" is used with the `open` command, to indicate that data is to be written to file. \n",
    "\t\n",
    "To collect data for users, we'll use a while loop construct:\n",
    "\n",
    "* use while loop, might have a lot of data input\n",
    "* gather name, then score\n",
    "* format: participant + \",\" + score + \"\\n\""
   ]
  },
  {
   "cell_type": "code",
   "execution_count": null,
   "id": "edee1e6b",
   "metadata": {},
   "outputs": [],
   "source": [
    "f = open(\"scores.txt\", \"w\")\n",
    "\n",
    "while True:\n",
    "    participant = input(\"Participant name > \")\n",
    "\n",
    "    if participant == \"quit\":\n",
    "        print(\"Quitting\")\n",
    "        break\n",
    "\n",
    "    score = input(\"Score for \" + participant + \"> \")\n",
    "    f.write(participant + \",\" + score + \"\\n\")\n",
    "\n",
    "f.close()"
   ]
  },
  {
   "cell_type": "markdown",
   "id": "cc864c6f",
   "metadata": {},
   "source": [
    "Let's inspect the file that we created..."
   ]
  },
  {
   "cell_type": "code",
   "execution_count": null,
   "id": "7e3968f8",
   "metadata": {},
   "outputs": [],
   "source": [
    "%more scores.txt"
   ]
  },
  {
   "cell_type": "markdown",
   "id": "6785732a",
   "metadata": {},
   "source": [
    "Now that we've collected data on our users and have recorded their scores in a text file.  How do I ingest those scores into Python and process them.  Again, we'll read them in using the `open` command as before.\n",
    "\n",
    "Read data back into Python:\n",
    "\n",
    "* open file for reading\n",
    "* read in line by line: participant, score\n",
    "* store in dictionary to support further processing"
   ]
  },
  {
   "cell_type": "code",
   "execution_count": null,
   "id": "ee874d2b",
   "metadata": {},
   "outputs": [],
   "source": [
    "f = open(\"scores.txt\", \"r\")\n",
    "\n",
    "for line in f:\n",
    "    print(line)\n",
    "\n",
    "f.close()"
   ]
  },
  {
   "cell_type": "code",
   "execution_count": null,
   "id": "8254547f",
   "metadata": {},
   "outputs": [],
   "source": [
    "f = open(\"scores.txt\", \"r\")\n",
    "\n",
    "for line in f:\n",
    "    print(line.strip())\n",
    "\n",
    "f.close()"
   ]
  },
  {
   "cell_type": "markdown",
   "id": "0799e9e6",
   "metadata": {},
   "source": [
    "Does the command `strip()` help us?  "
   ]
  },
  {
   "cell_type": "code",
   "execution_count": null,
   "id": "fa2351bf",
   "metadata": {},
   "outputs": [],
   "source": [
    "f = open(\"scores.txt\", \"r\")\n",
    "\n",
    "for line in f:\n",
    "    print(line.strip().split(','))\n",
    "\n",
    "f.close()"
   ]
  },
  {
   "cell_type": "markdown",
   "id": "3302c802",
   "metadata": {},
   "source": [
    "We now have converted each line of our text file into a list comprised of a username and a score.  We know how to extract items from a list... `entry`\n",
    "\n",
    "             entry[0]\n",
    "             entry[1]"
   ]
  },
  {
   "cell_type": "code",
   "execution_count": null,
   "id": "06c69528",
   "metadata": {},
   "outputs": [],
   "source": [
    "f = open(\"scores.txt\", \"r\")\n",
    "\n",
    "participants = {}\n",
    "\n",
    "for line in f:\n",
    "    entry = line.strip().split(\",\")\n",
    "    participant = entry[0]\n",
    "    score = entry[1]\n",
    "    participants[participant] = score\n",
    "    print(participant + \": \" + score)\n",
    "\n",
    "f.close()\n",
    "\n",
    "print(participants)"
   ]
  },
  {
   "cell_type": "markdown",
   "id": "70dc647b",
   "metadata": {},
   "source": [
    "## Summary:\n",
    "\n",
    "* First, we gathered data from the world, i.e., gathered data from user input, collected measurements, ran experiments (got data).\n",
    "* Second, we wrote that data to a text file.\n",
    "* We inspected the text file, to understand its structure.\n",
    "* Finally, we read data from this file in such a way to accomodate further processing on data."
   ]
  },
  {
   "cell_type": "code",
   "execution_count": null,
   "id": "9b1808e0",
   "metadata": {},
   "outputs": [],
   "source": []
  }
 ],
 "metadata": {
  "kernelspec": {
   "display_name": "Python 3 (ipykernel)",
   "language": "python",
   "name": "python3"
  },
  "language_info": {
   "codemirror_mode": {
    "name": "ipython",
    "version": 3
   },
   "file_extension": ".py",
   "mimetype": "text/x-python",
   "name": "python",
   "nbconvert_exporter": "python",
   "pygments_lexer": "ipython3",
   "version": "3.9.7"
  }
 },
 "nbformat": 4,
 "nbformat_minor": 5
}
