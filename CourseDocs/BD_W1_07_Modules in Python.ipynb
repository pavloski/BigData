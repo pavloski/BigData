{
 "cells": [
  {
   "cell_type": "markdown",
   "id": "d6e2474e",
   "metadata": {},
   "source": [
    "# Modules\n",
    "\n",
    "So far we have used built-in data types and built-in functions.  These are so common, that they are available as soon as we start a Python interpreter.\n",
    "\n",
    "We can bring more functionality to Python by using modules."
   ]
  },
  {
   "cell_type": "markdown",
   "id": "046c51aa",
   "metadata": {},
   "source": [
    "Assume we are developing a gaming environment that requires a source of randomness, we will be shuffling cards, picking random numbers, rolling dice, etc.  \n",
    "\n",
    "There is a module built into Python that can support this.  It is the `random` module. \n",
    "\n",
    "We import the module as follows:"
   ]
  },
  {
   "cell_type": "code",
   "execution_count": null,
   "id": "a1b89b57",
   "metadata": {},
   "outputs": [],
   "source": [
    "import random"
   ]
  },
  {
   "cell_type": "markdown",
   "id": "a02a8933",
   "metadata": {},
   "source": [
    "This brings all of `random`'s functionality into our current session, so we can now access it. \n",
    "\n",
    "Note: a module is just a collection of python code/functions that lives in a particular location on your filesystem. \n",
    "\n",
    "Python knows where to find them."
   ]
  },
  {
   "cell_type": "markdown",
   "id": "fec49ddf",
   "metadata": {},
   "source": [
    "## Example: Simulate a 6-sided die\n",
    "\n",
    "* We'll use the function `randint`.\n",
    "\n",
    "* We invoke it by using the name of the module, then a dot (.), then the name of the function."
   ]
  },
  {
   "cell_type": "code",
   "execution_count": null,
   "id": "e19a5343",
   "metadata": {},
   "outputs": [],
   "source": [
    "help(random.randint) # get help"
   ]
  },
  {
   "cell_type": "markdown",
   "id": "4d96bcbd",
   "metadata": {},
   "source": [
    "We see that `randint` takes two arguments, a lower bound and an upper bound on the range of random integers that it returns."
   ]
  },
  {
   "cell_type": "code",
   "execution_count": null,
   "id": "6a007dd0",
   "metadata": {},
   "outputs": [],
   "source": [
    "# six-sided die simulator\n",
    "print(random.randint(1,6))"
   ]
  },
  {
   "cell_type": "code",
   "execution_count": null,
   "id": "927e2a26",
   "metadata": {},
   "outputs": [],
   "source": [
    "print(random.randint(1,6))"
   ]
  },
  {
   "cell_type": "markdown",
   "id": "087ccffe",
   "metadata": {},
   "source": [
    "## Example: A Card Guessing Game\n",
    "\n",
    "Which is really just selecting an item randomly from a list.\n",
    "\n",
    "This can be accomplished via the `choice` function in the random module."
   ]
  },
  {
   "cell_type": "code",
   "execution_count": null,
   "id": "fcb6119b",
   "metadata": {},
   "outputs": [],
   "source": [
    "cards = [\"jack\", \"queen\", \"king\", \"ace\"]"
   ]
  },
  {
   "cell_type": "code",
   "execution_count": null,
   "id": "8fdee2f4",
   "metadata": {},
   "outputs": [],
   "source": [
    "random.choice(cards)"
   ]
  },
  {
   "cell_type": "code",
   "execution_count": null,
   "id": "ac2e67d1",
   "metadata": {},
   "outputs": [],
   "source": [
    "random.choice(cards)"
   ]
  },
  {
   "cell_type": "markdown",
   "id": "439b04e5",
   "metadata": {},
   "source": [
    "`random.choice` takes a list as arg and randomly selects item from this list."
   ]
  },
  {
   "cell_type": "markdown",
   "id": "94d89ecd",
   "metadata": {},
   "source": [
    "## Documentation\n",
    "\n",
    "What else is possible with this module?\n",
    "\n",
    "Look at the documentation:\n",
    "\n",
    "[Random Module](https://docs.python.org/3/library/random.html)\n"
   ]
  },
  {
   "cell_type": "markdown",
   "id": "64ab1390",
   "metadata": {},
   "source": [
    "Lots of people have written new functionality on top of Python\n",
    "\n",
    "* Django (build website in Python)\n",
    "* Matplotlib (data visualization)\n",
    "* Twitter client\n",
    "* etc."
   ]
  }
 ],
 "metadata": {
  "kernelspec": {
   "display_name": "Python 3 (ipykernel)",
   "language": "python",
   "name": "python3"
  },
  "language_info": {
   "codemirror_mode": {
    "name": "ipython",
    "version": 3
   },
   "file_extension": ".py",
   "mimetype": "text/x-python",
   "name": "python",
   "nbconvert_exporter": "python",
   "pygments_lexer": "ipython3",
   "version": "3.9.7"
  }
 },
 "nbformat": 4,
 "nbformat_minor": 5
}
