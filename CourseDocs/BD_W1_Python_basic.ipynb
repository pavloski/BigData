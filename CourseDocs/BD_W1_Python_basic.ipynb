{
 "cells": [
  {
   "cell_type": "code",
   "execution_count": 2,
   "id": "9d055d34",
   "metadata": {},
   "outputs": [
    {
     "data": {
      "text/plain": [
       "True"
      ]
     },
     "execution_count": 2,
     "metadata": {},
     "output_type": "execute_result"
    }
   ],
   "source": [
    "myList = [1,2,3,4]\n",
    "myList\n",
    "a = 1\n",
    "a in myList"
   ]
  },
  {
   "cell_type": "code",
   "execution_count": 8,
   "id": "46a94435",
   "metadata": {},
   "outputs": [
    {
     "data": {
      "text/plain": [
       "[1, 2]"
      ]
     },
     "execution_count": 8,
     "metadata": {},
     "output_type": "execute_result"
    }
   ],
   "source": [
    "myList[0:2]"
   ]
  },
  {
   "cell_type": "code",
   "execution_count": 11,
   "id": "b8722a06",
   "metadata": {},
   "outputs": [
    {
     "data": {
      "text/plain": [
       "[1, 2, 3, 4, 7, 7, 7]"
      ]
     },
     "execution_count": 11,
     "metadata": {},
     "output_type": "execute_result"
    }
   ],
   "source": [
    "myList.append (7)\n",
    "myList"
   ]
  },
  {
   "cell_type": "code",
   "execution_count": 13,
   "id": "1ef20cdd",
   "metadata": {},
   "outputs": [
    {
     "data": {
      "text/plain": [
       "[1, 2, 3, 4, 7]"
      ]
     },
     "execution_count": 13,
     "metadata": {},
     "output_type": "execute_result"
    }
   ],
   "source": [
    "myList.pop()\n",
    "myList"
   ]
  },
  {
   "cell_type": "code",
   "execution_count": 16,
   "id": "467aabc7",
   "metadata": {},
   "outputs": [
    {
     "data": {
      "text/plain": [
       "[3, 4, 7]"
      ]
     },
     "execution_count": 16,
     "metadata": {},
     "output_type": "execute_result"
    }
   ],
   "source": [
    "myList.remove(2)\n",
    "myList"
   ]
  },
  {
   "cell_type": "code",
   "execution_count": 5,
   "id": "3318ce79",
   "metadata": {},
   "outputs": [
    {
     "data": {
      "text/plain": [
       "[1, 2, 3, 4]"
      ]
     },
     "execution_count": 5,
     "metadata": {},
     "output_type": "execute_result"
    }
   ],
   "source": [
    "myList[-1]\n",
    "myList"
   ]
  },
  {
   "cell_type": "code",
   "execution_count": 6,
   "id": "1a93fc7b",
   "metadata": {},
   "outputs": [
    {
     "data": {
      "text/plain": [
       "3"
      ]
     },
     "execution_count": 6,
     "metadata": {},
     "output_type": "execute_result"
    }
   ],
   "source": [
    "myOtherList = [\"a\", 3, 7, \"dos\", 3]\n",
    "myOtherList[-1]"
   ]
  },
  {
   "cell_type": "code",
   "execution_count": 7,
   "id": "baa92035",
   "metadata": {},
   "outputs": [
    {
     "data": {
      "text/plain": [
       "3"
      ]
     },
     "execution_count": 7,
     "metadata": {},
     "output_type": "execute_result"
    }
   ],
   "source": [
    "myOtherList.pop()"
   ]
  },
  {
   "cell_type": "code",
   "execution_count": 8,
   "id": "c0f12249",
   "metadata": {},
   "outputs": [],
   "source": [
    "myOtherList.append(myList)"
   ]
  },
  {
   "cell_type": "code",
   "execution_count": 9,
   "id": "ee49f156",
   "metadata": {},
   "outputs": [
    {
     "data": {
      "text/plain": [
       "['a', 3, 7, 'dos', [1, 2, 3, 4]]"
      ]
     },
     "execution_count": 9,
     "metadata": {},
     "output_type": "execute_result"
    }
   ],
   "source": [
    "myOtherList"
   ]
  },
  {
   "cell_type": "code",
   "execution_count": 10,
   "id": "56224499",
   "metadata": {},
   "outputs": [],
   "source": [
    "myOtherList.insert(0,0)"
   ]
  },
  {
   "cell_type": "code",
   "execution_count": 11,
   "id": "cff86a77",
   "metadata": {},
   "outputs": [
    {
     "data": {
      "text/plain": [
       "[0, 'a', 3, 7, 'dos', [1, 2, 3, 4]]"
      ]
     },
     "execution_count": 11,
     "metadata": {},
     "output_type": "execute_result"
    }
   ],
   "source": [
    "myOtherList"
   ]
  },
  {
   "cell_type": "code",
   "execution_count": 15,
   "id": "aa94d75f",
   "metadata": {},
   "outputs": [
    {
     "data": {
      "text/plain": [
       "'pedro'"
      ]
     },
     "execution_count": 15,
     "metadata": {},
     "output_type": "execute_result"
    }
   ],
   "source": [
    "stName =\"pedro\"\n",
    "stName.lower()"
   ]
  },
  {
   "cell_type": "code",
   "execution_count": 16,
   "id": "31b2abaf",
   "metadata": {},
   "outputs": [
    {
     "data": {
      "text/plain": [
       "'LOWWER'"
      ]
     },
     "execution_count": 16,
     "metadata": {},
     "output_type": "execute_result"
    }
   ],
   "source": [
    "'lowwer'.upper()"
   ]
  },
  {
   "cell_type": "markdown",
   "id": "5a69cf9f",
   "metadata": {},
   "source": [
    "## Loops in Python"
   ]
  },
  {
   "cell_type": "code",
   "execution_count": 23,
   "id": "8074f84e",
   "metadata": {},
   "outputs": [
    {
     "name": "stdout",
     "output_type": "stream",
     "text": [
      "1\n",
      "2\n",
      "3\n",
      "4\n",
      "5\n",
      "6\n",
      "7\n",
      "8\n",
      "9\n"
     ]
    }
   ],
   "source": [
    "myRange = range(1,10)\n",
    "len(myRange)\n",
    "count=0\n",
    "for i in myRange:\n",
    "    print (i)\n"
   ]
  },
  {
   "cell_type": "code",
   "execution_count": 39,
   "id": "634310b2",
   "metadata": {},
   "outputs": [
    {
     "data": {
      "image/png": "[encoded data removed]",
      "text/plain": [
       "<Figure size 432x288 with 1 Axes>"
      ]
     },
     "metadata": {
      "needs_background": "light"
     },
     "output_type": "display_data"
    }
   ],
   "source": [
    "np.random.seed(10)\n",
    "data1=np.random.randn(40,2)\n",
    "data2=np.random.randn(90,2)\n",
    " \n",
    "fig, ax = plt.subplots()\n",
    "bp1 = ax.boxplot(data1, positions=[1,4], notch=True, widths=0.35, patch_artist=True, boxprops=dict(facecolor=\"C0\"))\n",
    "bp2 = ax.boxplot(data2, positions=[2,5], notch=True, widths=0.35, patch_artist=True, boxprops=dict(facecolor=\"C3\"))\n",
    " \n",
    "ax.legend([bp1[\"boxes\"][0], bp2[\"boxes\"][0]], ['A', 'B'], loc='upper right')\n",
    " \n",
    "ax.set_xlim(0,7)\n",
    "plt.show()"
   ]
  },
  {
   "cell_type": "code",
   "execution_count": 29,
   "id": "d6a36d6e",
   "metadata": {},
   "outputs": [
    {
     "name": "stdout",
     "output_type": "stream",
     "text": [
      "alice\n"
     ]
    }
   ],
   "source": [
    "names = [\"alice\", \"Bob\"]\n",
    "vowels = \"aeiou\"\n",
    "for name in names:\n",
    "    if name.lower()[0] in vowels:\n",
    "        print (name)\n"
   ]
  },
  {
   "cell_type": "code",
   "execution_count": 26,
   "id": "3ef99469",
   "metadata": {},
   "outputs": [
    {
     "data": {
      "text/plain": [
       "'alice'"
      ]
     },
     "execution_count": 26,
     "metadata": {},
     "output_type": "execute_result"
    }
   ],
   "source": [
    "names[0].lower()"
   ]
  },
  {
   "cell_type": "code",
   "execution_count": 44,
   "id": "4383e616",
   "metadata": {},
   "outputs": [
    {
     "name": "stdout",
     "output_type": "stream",
     "text": [
      "the name: pp\n",
      "the name: aa\n",
      "the name: \n",
      "['aa']\n"
     ]
    }
   ],
   "source": [
    "roster = [ ]\n",
    "while True:\n",
    "    name = input(\"the name: \")\n",
    "    if len(name)<1:\n",
    "        break\n",
    "    elif name[0].lower()in \"aeiuo\":\n",
    "        roster.append(name)\n",
    "    \n",
    "print (roster)        "
   ]
  },
  {
   "cell_type": "code",
   "execution_count": 49,
   "id": "88a7eca2",
   "metadata": {},
   "outputs": [
    {
     "name": "stdout",
     "output_type": "stream",
     "text": [
      "{'alice': 25}\n"
     ]
    }
   ],
   "source": [
    "myDic ={}\n",
    "type(myDic)\n",
    "myDic[\"alice\"]= 25\n",
    "print(myDic)"
   ]
  },
  {
   "cell_type": "code",
   "execution_count": 51,
   "id": "5ca8da4d",
   "metadata": {},
   "outputs": [
    {
     "data": {
      "text/plain": [
       "1"
      ]
     },
     "execution_count": 51,
     "metadata": {},
     "output_type": "execute_result"
    }
   ],
   "source": [
    "import numpy as np\n",
    "a = np.array([1, 2, 3])\n",
    "a[0]"
   ]
  },
  {
   "cell_type": "code",
   "execution_count": 52,
   "id": "3a0cd7a1",
   "metadata": {},
   "outputs": [
    {
     "data": {
      "text/plain": [
       "array([ 0.   , 28.   , 42.875])"
      ]
     },
     "execution_count": 52,
     "metadata": {},
     "output_type": "execute_result"
    }
   ],
   "source": [
    "a = np.empty(3)\n",
    "a"
   ]
  }
 ],
 "metadata": {
  "kernelspec": {
   "display_name": "Python 3 (ipykernel)",
   "language": "python",
   "name": "python3"
  },
  "language_info": {
   "codemirror_mode": {
    "name": "ipython",
    "version": 3
   },
   "file_extension": ".py",
   "mimetype": "text/x-python",
   "name": "python",
   "nbconvert_exporter": "python",
   "pygments_lexer": "ipython3",
   "version": "3.9.7"
  }
 },
 "nbformat": 4,
 "nbformat_minor": 5
}
