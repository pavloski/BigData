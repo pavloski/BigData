{
 "cells": [
  {
   "cell_type": "markdown",
   "metadata": {},
   "source": [
    "## Regression Analysis\n",
    "\n",
    "In this assessment, you will develop regression models that will allow you to predict the quality of wine. The dataset we will consider results from the analysis and evaluation of red variants of vinho verde wine, a unique product from the Minho (north-west) region of Portugal.  This wine accounts for about 15% of the total Portuguese wine production, and around 10% is exported, mostly the white wine.  You will explore several different features, including a quality feature.  For this feature, wines were graded on a scale that ranges from 0 (very bad) to 10 (excellent).  For our analysis, we will consider this quality feature a continuous-valued attribute.\n",
    "\n",
    "[P. Cortez, A. Cerdeira, F. Almeida, T. Matos and J. Reis. Modeling wine preferences by data mining from physicochemical properties. In Decision Support Systems, Elsevier, 47(4):547-553, 2009.](http://dx.doi.org/10.1016/j.dss.2009.05.016)"
   ]
  },
  {
   "cell_type": "markdown",
   "metadata": {},
   "source": [
    "### Preparation/Ingest/Exploration"
   ]
  },
  {
   "cell_type": "code",
   "execution_count": 207,
   "metadata": {},
   "outputs": [],
   "source": [
    "# Load libraries\n",
    "\n",
    "import pandas as pd\n",
    "import numpy as np\n",
    "import matplotlib.pyplot as plt\n",
    "import seaborn as sns\n",
    "%matplotlib inline"
   ]
  },
  {
   "cell_type": "code",
   "execution_count": 208,
   "metadata": {},
   "outputs": [],
   "source": [
    "url = 'https://archive.ics.uci.edu/ml/machine-learning-databases/wine-quality/winequality-red.csv'\n",
    "wines_df = pd.read_csv(url, sep = ';')"
   ]
  },
  {
   "cell_type": "code",
   "execution_count": 29,
   "metadata": {},
   "outputs": [
    {
     "data": {
      "text/html": [
       "<div>\n",
       "<style scoped>\n",
       "    .dataframe tbody tr th:only-of-type {\n",
       "        vertical-align: middle;\n",
       "    }\n",
       "\n",
       "    .dataframe tbody tr th {\n",
       "        vertical-align: top;\n",
       "    }\n",
       "\n",
       "    .dataframe thead th {\n",
       "        text-align: right;\n",
       "    }\n",
       "</style>\n",
       "<table border=\"1\" class=\"dataframe\">\n",
       "  <thead>\n",
       "    <tr style=\"text-align: right;\">\n",
       "      <th></th>\n",
       "      <th>fixed acidity</th>\n",
       "      <th>volatile acidity</th>\n",
       "      <th>citric acid</th>\n",
       "      <th>residual sugar</th>\n",
       "      <th>chlorides</th>\n",
       "      <th>free sulfur dioxide</th>\n",
       "      <th>total sulfur dioxide</th>\n",
       "      <th>density</th>\n",
       "      <th>pH</th>\n",
       "      <th>sulphates</th>\n",
       "      <th>alcohol</th>\n",
       "      <th>quality</th>\n",
       "    </tr>\n",
       "  </thead>\n",
       "  <tbody>\n",
       "    <tr>\n",
       "      <th>975</th>\n",
       "      <td>7.2</td>\n",
       "      <td>0.410</td>\n",
       "      <td>0.30</td>\n",
       "      <td>2.1</td>\n",
       "      <td>0.083</td>\n",
       "      <td>35.0</td>\n",
       "      <td>72.0</td>\n",
       "      <td>0.99700</td>\n",
       "      <td>3.44</td>\n",
       "      <td>0.52</td>\n",
       "      <td>9.4</td>\n",
       "      <td>5</td>\n",
       "    </tr>\n",
       "    <tr>\n",
       "      <th>383</th>\n",
       "      <td>8.3</td>\n",
       "      <td>0.260</td>\n",
       "      <td>0.42</td>\n",
       "      <td>2.0</td>\n",
       "      <td>0.080</td>\n",
       "      <td>11.0</td>\n",
       "      <td>27.0</td>\n",
       "      <td>0.99740</td>\n",
       "      <td>3.21</td>\n",
       "      <td>0.80</td>\n",
       "      <td>9.4</td>\n",
       "      <td>6</td>\n",
       "    </tr>\n",
       "    <tr>\n",
       "      <th>1248</th>\n",
       "      <td>6.9</td>\n",
       "      <td>0.410</td>\n",
       "      <td>0.33</td>\n",
       "      <td>2.2</td>\n",
       "      <td>0.081</td>\n",
       "      <td>22.0</td>\n",
       "      <td>36.0</td>\n",
       "      <td>0.99490</td>\n",
       "      <td>3.41</td>\n",
       "      <td>0.75</td>\n",
       "      <td>11.1</td>\n",
       "      <td>6</td>\n",
       "    </tr>\n",
       "    <tr>\n",
       "      <th>141</th>\n",
       "      <td>8.3</td>\n",
       "      <td>0.715</td>\n",
       "      <td>0.15</td>\n",
       "      <td>1.8</td>\n",
       "      <td>0.089</td>\n",
       "      <td>10.0</td>\n",
       "      <td>52.0</td>\n",
       "      <td>0.99680</td>\n",
       "      <td>3.23</td>\n",
       "      <td>0.77</td>\n",
       "      <td>9.5</td>\n",
       "      <td>5</td>\n",
       "    </tr>\n",
       "    <tr>\n",
       "      <th>881</th>\n",
       "      <td>7.6</td>\n",
       "      <td>0.715</td>\n",
       "      <td>0.00</td>\n",
       "      <td>2.1</td>\n",
       "      <td>0.068</td>\n",
       "      <td>30.0</td>\n",
       "      <td>35.0</td>\n",
       "      <td>0.99533</td>\n",
       "      <td>3.48</td>\n",
       "      <td>0.65</td>\n",
       "      <td>11.4</td>\n",
       "      <td>6</td>\n",
       "    </tr>\n",
       "    <tr>\n",
       "      <th>918</th>\n",
       "      <td>8.4</td>\n",
       "      <td>0.360</td>\n",
       "      <td>0.32</td>\n",
       "      <td>2.2</td>\n",
       "      <td>0.081</td>\n",
       "      <td>32.0</td>\n",
       "      <td>79.0</td>\n",
       "      <td>0.99640</td>\n",
       "      <td>3.30</td>\n",
       "      <td>0.72</td>\n",
       "      <td>11.0</td>\n",
       "      <td>6</td>\n",
       "    </tr>\n",
       "    <tr>\n",
       "      <th>1527</th>\n",
       "      <td>7.1</td>\n",
       "      <td>0.530</td>\n",
       "      <td>0.07</td>\n",
       "      <td>1.7</td>\n",
       "      <td>0.071</td>\n",
       "      <td>15.0</td>\n",
       "      <td>24.0</td>\n",
       "      <td>0.99510</td>\n",
       "      <td>3.29</td>\n",
       "      <td>0.66</td>\n",
       "      <td>10.8</td>\n",
       "      <td>6</td>\n",
       "    </tr>\n",
       "    <tr>\n",
       "      <th>308</th>\n",
       "      <td>10.3</td>\n",
       "      <td>0.430</td>\n",
       "      <td>0.44</td>\n",
       "      <td>2.4</td>\n",
       "      <td>0.214</td>\n",
       "      <td>5.0</td>\n",
       "      <td>12.0</td>\n",
       "      <td>0.99940</td>\n",
       "      <td>3.19</td>\n",
       "      <td>0.63</td>\n",
       "      <td>9.5</td>\n",
       "      <td>6</td>\n",
       "    </tr>\n",
       "    <tr>\n",
       "      <th>245</th>\n",
       "      <td>7.3</td>\n",
       "      <td>0.660</td>\n",
       "      <td>0.00</td>\n",
       "      <td>2.0</td>\n",
       "      <td>0.084</td>\n",
       "      <td>6.0</td>\n",
       "      <td>23.0</td>\n",
       "      <td>0.99830</td>\n",
       "      <td>3.61</td>\n",
       "      <td>0.96</td>\n",
       "      <td>9.9</td>\n",
       "      <td>6</td>\n",
       "    </tr>\n",
       "    <tr>\n",
       "      <th>532</th>\n",
       "      <td>11.9</td>\n",
       "      <td>0.380</td>\n",
       "      <td>0.49</td>\n",
       "      <td>2.7</td>\n",
       "      <td>0.098</td>\n",
       "      <td>12.0</td>\n",
       "      <td>42.0</td>\n",
       "      <td>1.00040</td>\n",
       "      <td>3.16</td>\n",
       "      <td>0.61</td>\n",
       "      <td>10.3</td>\n",
       "      <td>5</td>\n",
       "    </tr>\n",
       "  </tbody>\n",
       "</table>\n",
       "</div>"
      ],
      "text/plain": [
       "      fixed acidity  volatile acidity  citric acid  residual sugar  chlorides  \\\n",
       "975             7.2             0.410         0.30             2.1      0.083   \n",
       "383             8.3             0.260         0.42             2.0      0.080   \n",
       "1248            6.9             0.410         0.33             2.2      0.081   \n",
       "141             8.3             0.715         0.15             1.8      0.089   \n",
       "881             7.6             0.715         0.00             2.1      0.068   \n",
       "918             8.4             0.360         0.32             2.2      0.081   \n",
       "1527            7.1             0.530         0.07             1.7      0.071   \n",
       "308            10.3             0.430         0.44             2.4      0.214   \n",
       "245             7.3             0.660         0.00             2.0      0.084   \n",
       "532            11.9             0.380         0.49             2.7      0.098   \n",
       "\n",
       "      free sulfur dioxide  total sulfur dioxide  density    pH  sulphates  \\\n",
       "975                  35.0                  72.0  0.99700  3.44       0.52   \n",
       "383                  11.0                  27.0  0.99740  3.21       0.80   \n",
       "1248                 22.0                  36.0  0.99490  3.41       0.75   \n",
       "141                  10.0                  52.0  0.99680  3.23       0.77   \n",
       "881                  30.0                  35.0  0.99533  3.48       0.65   \n",
       "918                  32.0                  79.0  0.99640  3.30       0.72   \n",
       "1527                 15.0                  24.0  0.99510  3.29       0.66   \n",
       "308                   5.0                  12.0  0.99940  3.19       0.63   \n",
       "245                   6.0                  23.0  0.99830  3.61       0.96   \n",
       "532                  12.0                  42.0  1.00040  3.16       0.61   \n",
       "\n",
       "      alcohol  quality  \n",
       "975       9.4        5  \n",
       "383       9.4        6  \n",
       "1248     11.1        6  \n",
       "141       9.5        5  \n",
       "881      11.4        6  \n",
       "918      11.0        6  \n",
       "1527     10.8        6  \n",
       "308       9.5        6  \n",
       "245       9.9        6  \n",
       "532      10.3        5  "
      ]
     },
     "execution_count": 29,
     "metadata": {},
     "output_type": "execute_result"
    }
   ],
   "source": [
    "wines_df.sample(10)  # a quick look at the data, random distribution"
   ]
  },
  {
   "cell_type": "code",
   "execution_count": 30,
   "metadata": {
    "scrolled": true
   },
   "outputs": [
    {
     "data": {
      "text/html": [
       "<div>\n",
       "<style scoped>\n",
       "    .dataframe tbody tr th:only-of-type {\n",
       "        vertical-align: middle;\n",
       "    }\n",
       "\n",
       "    .dataframe tbody tr th {\n",
       "        vertical-align: top;\n",
       "    }\n",
       "\n",
       "    .dataframe thead th {\n",
       "        text-align: right;\n",
       "    }\n",
       "</style>\n",
       "<table border=\"1\" class=\"dataframe\">\n",
       "  <thead>\n",
       "    <tr style=\"text-align: right;\">\n",
       "      <th></th>\n",
       "      <th>358</th>\n",
       "      <th>141</th>\n",
       "      <th>838</th>\n",
       "      <th>1006</th>\n",
       "      <th>1266</th>\n",
       "      <th>220</th>\n",
       "      <th>1283</th>\n",
       "      <th>853</th>\n",
       "      <th>69</th>\n",
       "      <th>748</th>\n",
       "    </tr>\n",
       "  </thead>\n",
       "  <tbody>\n",
       "    <tr>\n",
       "      <th>fixed acidity</th>\n",
       "      <td>11.900</td>\n",
       "      <td>8.3000</td>\n",
       "      <td>10.10000</td>\n",
       "      <td>9.10000</td>\n",
       "      <td>7.20000</td>\n",
       "      <td>7.8000</td>\n",
       "      <td>8.70000</td>\n",
       "      <td>9.30000</td>\n",
       "      <td>8.0000</td>\n",
       "      <td>7.20000</td>\n",
       "    </tr>\n",
       "    <tr>\n",
       "      <th>volatile acidity</th>\n",
       "      <td>0.430</td>\n",
       "      <td>0.7150</td>\n",
       "      <td>0.31000</td>\n",
       "      <td>0.29000</td>\n",
       "      <td>0.57000</td>\n",
       "      <td>0.3400</td>\n",
       "      <td>0.63000</td>\n",
       "      <td>0.36000</td>\n",
       "      <td>0.7050</td>\n",
       "      <td>0.50000</td>\n",
       "    </tr>\n",
       "    <tr>\n",
       "      <th>citric acid</th>\n",
       "      <td>0.660</td>\n",
       "      <td>0.1500</td>\n",
       "      <td>0.35000</td>\n",
       "      <td>0.33000</td>\n",
       "      <td>0.05000</td>\n",
       "      <td>0.3700</td>\n",
       "      <td>0.28000</td>\n",
       "      <td>0.39000</td>\n",
       "      <td>0.0500</td>\n",
       "      <td>0.18000</td>\n",
       "    </tr>\n",
       "    <tr>\n",
       "      <th>residual sugar</th>\n",
       "      <td>3.100</td>\n",
       "      <td>1.8000</td>\n",
       "      <td>1.60000</td>\n",
       "      <td>2.05000</td>\n",
       "      <td>2.30000</td>\n",
       "      <td>2.0000</td>\n",
       "      <td>2.70000</td>\n",
       "      <td>1.50000</td>\n",
       "      <td>1.9000</td>\n",
       "      <td>2.10000</td>\n",
       "    </tr>\n",
       "    <tr>\n",
       "      <th>chlorides</th>\n",
       "      <td>0.109</td>\n",
       "      <td>0.0890</td>\n",
       "      <td>0.07500</td>\n",
       "      <td>0.06300</td>\n",
       "      <td>0.08100</td>\n",
       "      <td>0.0820</td>\n",
       "      <td>0.09600</td>\n",
       "      <td>0.08000</td>\n",
       "      <td>0.0740</td>\n",
       "      <td>0.07100</td>\n",
       "    </tr>\n",
       "    <tr>\n",
       "      <th>free sulfur dioxide</th>\n",
       "      <td>10.000</td>\n",
       "      <td>10.0000</td>\n",
       "      <td>9.00000</td>\n",
       "      <td>13.00000</td>\n",
       "      <td>16.00000</td>\n",
       "      <td>24.0000</td>\n",
       "      <td>17.00000</td>\n",
       "      <td>41.00000</td>\n",
       "      <td>8.0000</td>\n",
       "      <td>12.00000</td>\n",
       "    </tr>\n",
       "    <tr>\n",
       "      <th>total sulfur dioxide</th>\n",
       "      <td>23.000</td>\n",
       "      <td>52.0000</td>\n",
       "      <td>28.00000</td>\n",
       "      <td>27.00000</td>\n",
       "      <td>36.00000</td>\n",
       "      <td>58.0000</td>\n",
       "      <td>69.00000</td>\n",
       "      <td>55.00000</td>\n",
       "      <td>19.0000</td>\n",
       "      <td>31.00000</td>\n",
       "    </tr>\n",
       "    <tr>\n",
       "      <th>density</th>\n",
       "      <td>1.000</td>\n",
       "      <td>0.9968</td>\n",
       "      <td>0.99672</td>\n",
       "      <td>0.99516</td>\n",
       "      <td>0.99564</td>\n",
       "      <td>0.9964</td>\n",
       "      <td>0.99734</td>\n",
       "      <td>0.99652</td>\n",
       "      <td>0.9962</td>\n",
       "      <td>0.99761</td>\n",
       "    </tr>\n",
       "    <tr>\n",
       "      <th>pH</th>\n",
       "      <td>3.150</td>\n",
       "      <td>3.2300</td>\n",
       "      <td>3.24000</td>\n",
       "      <td>3.26000</td>\n",
       "      <td>3.38000</td>\n",
       "      <td>3.3400</td>\n",
       "      <td>3.26000</td>\n",
       "      <td>3.47000</td>\n",
       "      <td>3.3400</td>\n",
       "      <td>3.52000</td>\n",
       "    </tr>\n",
       "    <tr>\n",
       "      <th>sulphates</th>\n",
       "      <td>0.850</td>\n",
       "      <td>0.7700</td>\n",
       "      <td>0.83000</td>\n",
       "      <td>0.84000</td>\n",
       "      <td>0.60000</td>\n",
       "      <td>0.5900</td>\n",
       "      <td>0.63000</td>\n",
       "      <td>0.73000</td>\n",
       "      <td>0.9500</td>\n",
       "      <td>0.72000</td>\n",
       "    </tr>\n",
       "    <tr>\n",
       "      <th>alcohol</th>\n",
       "      <td>10.400</td>\n",
       "      <td>9.5000</td>\n",
       "      <td>11.20000</td>\n",
       "      <td>11.70000</td>\n",
       "      <td>10.30000</td>\n",
       "      <td>9.4000</td>\n",
       "      <td>10.20000</td>\n",
       "      <td>10.90000</td>\n",
       "      <td>10.5000</td>\n",
       "      <td>9.60000</td>\n",
       "    </tr>\n",
       "    <tr>\n",
       "      <th>quality</th>\n",
       "      <td>7.000</td>\n",
       "      <td>5.0000</td>\n",
       "      <td>7.00000</td>\n",
       "      <td>7.00000</td>\n",
       "      <td>6.00000</td>\n",
       "      <td>6.0000</td>\n",
       "      <td>6.00000</td>\n",
       "      <td>6.00000</td>\n",
       "      <td>6.0000</td>\n",
       "      <td>6.00000</td>\n",
       "    </tr>\n",
       "  </tbody>\n",
       "</table>\n",
       "</div>"
      ],
      "text/plain": [
       "                        358      141       838       1006      1266     220   \\\n",
       "fixed acidity         11.900   8.3000  10.10000   9.10000   7.20000   7.8000   \n",
       "volatile acidity       0.430   0.7150   0.31000   0.29000   0.57000   0.3400   \n",
       "citric acid            0.660   0.1500   0.35000   0.33000   0.05000   0.3700   \n",
       "residual sugar         3.100   1.8000   1.60000   2.05000   2.30000   2.0000   \n",
       "chlorides              0.109   0.0890   0.07500   0.06300   0.08100   0.0820   \n",
       "free sulfur dioxide   10.000  10.0000   9.00000  13.00000  16.00000  24.0000   \n",
       "total sulfur dioxide  23.000  52.0000  28.00000  27.00000  36.00000  58.0000   \n",
       "density                1.000   0.9968   0.99672   0.99516   0.99564   0.9964   \n",
       "pH                     3.150   3.2300   3.24000   3.26000   3.38000   3.3400   \n",
       "sulphates              0.850   0.7700   0.83000   0.84000   0.60000   0.5900   \n",
       "alcohol               10.400   9.5000  11.20000  11.70000  10.30000   9.4000   \n",
       "quality                7.000   5.0000   7.00000   7.00000   6.00000   6.0000   \n",
       "\n",
       "                          1283      853      69        748   \n",
       "fixed acidity          8.70000   9.30000   8.0000   7.20000  \n",
       "volatile acidity       0.63000   0.36000   0.7050   0.50000  \n",
       "citric acid            0.28000   0.39000   0.0500   0.18000  \n",
       "residual sugar         2.70000   1.50000   1.9000   2.10000  \n",
       "chlorides              0.09600   0.08000   0.0740   0.07100  \n",
       "free sulfur dioxide   17.00000  41.00000   8.0000  12.00000  \n",
       "total sulfur dioxide  69.00000  55.00000  19.0000  31.00000  \n",
       "density                0.99734   0.99652   0.9962   0.99761  \n",
       "pH                     3.26000   3.47000   3.3400   3.52000  \n",
       "sulphates              0.63000   0.73000   0.9500   0.72000  \n",
       "alcohol               10.20000  10.90000  10.5000   9.60000  \n",
       "quality                6.00000   6.00000   6.0000   6.00000  "
      ]
     },
     "execution_count": 30,
     "metadata": {},
     "output_type": "execute_result"
    }
   ],
   "source": [
    "# Another way to look at the data, particularly useful when the data is very wide... many features\n",
    "wines_df.sample(10).T"
   ]
  },
  {
   "cell_type": "code",
   "execution_count": 44,
   "metadata": {},
   "outputs": [],
   "source": [
    "# You write this...\n",
    "\n",
    "def quick_analysis(df):\n",
    "    st = '\\033[1m' + 'Data types of the dataset: ' + '\\033[0m' + '\\n'\n",
    "    st = st + str(df.dtypes)\n",
    "    st = st + '\\n'\n",
    "    st = st + '\\033[1m' + 'Number of Rows: ' + '\\033[0m' + str(df.shape[0]) + '\\n'\n",
    "    st = st + '\\033[1m' + 'Number of Columns: ' + '\\033[0m' + str(df.shape[1]) + '\\n'\n",
    "    st = st + '\\033[1m' + 'Index Range: ' + '\\033[0m' + str(len(df.index)) + '\\n'\n",
    "    st = st + '\\033[1m' + 'Column names: ' + '\\033[0m' + '\\n'\n",
    "    \n",
    "    for name in df.columns:\n",
    "        st = st + str(name +', ' + '\\n')\n",
    "    \n",
    "    #number of null values\n",
    "    nv = df.isnull().sum().sum()\n",
    "    st = st + '\\n'\n",
    "    st = st + '\\033[1m' + 'Number of null values: ' + '\\033[0m' + str(nv) + '\\n'\n",
    "    st = st + '\\033[1m' + 'Mean values: ' + '\\033[0m' + str(np.mean(df)) + '\\n'\n",
    "    st = st + '\\033[1m' + 'Standard deviations: ' + '\\033[0m' + str(np.std(df)) + '\\n'\n",
    "    st = st + '\\033[1m' + 'Absolute Average Deviation (AAD): ' + '\\033[0m' + str(df.mad()) + '\\n'\n",
    "\n",
    "    return st "
   ]
  },
  {
   "cell_type": "markdown",
   "metadata": {},
   "source": [
    "### Data Munging\n",
    "#### Helper functions to help clean up column names"
   ]
  },
  {
   "cell_type": "code",
   "execution_count": 209,
   "metadata": {},
   "outputs": [],
   "source": [
    "# Remove spaces from front/end of column names\n",
    "wines_df.columns = [x.strip() for x in wines_df.columns]"
   ]
  },
  {
   "cell_type": "code",
   "execution_count": 210,
   "metadata": {},
   "outputs": [],
   "source": [
    "# Use underscores to enable attribute access/Jupyter tab completion\n",
    "wines_df.columns = [x.replace(' ', '_') for x in wines_df.columns]"
   ]
  },
  {
   "cell_type": "code",
   "execution_count": 34,
   "metadata": {
    "scrolled": true
   },
   "outputs": [
    {
     "data": {
      "text/html": [
       "<div>\n",
       "<style scoped>\n",
       "    .dataframe tbody tr th:only-of-type {\n",
       "        vertical-align: middle;\n",
       "    }\n",
       "\n",
       "    .dataframe tbody tr th {\n",
       "        vertical-align: top;\n",
       "    }\n",
       "\n",
       "    .dataframe thead th {\n",
       "        text-align: right;\n",
       "    }\n",
       "</style>\n",
       "<table border=\"1\" class=\"dataframe\">\n",
       "  <thead>\n",
       "    <tr style=\"text-align: right;\">\n",
       "      <th></th>\n",
       "      <th>fixed_acidity</th>\n",
       "      <th>volatile_acidity</th>\n",
       "      <th>citric_acid</th>\n",
       "      <th>residual_sugar</th>\n",
       "      <th>chlorides</th>\n",
       "      <th>free_sulfur_dioxide</th>\n",
       "      <th>total_sulfur_dioxide</th>\n",
       "      <th>density</th>\n",
       "      <th>pH</th>\n",
       "      <th>sulphates</th>\n",
       "      <th>alcohol</th>\n",
       "      <th>quality</th>\n",
       "    </tr>\n",
       "  </thead>\n",
       "  <tbody>\n",
       "    <tr>\n",
       "      <th>1460</th>\n",
       "      <td>6.4</td>\n",
       "      <td>0.420</td>\n",
       "      <td>0.09</td>\n",
       "      <td>2.3</td>\n",
       "      <td>0.054</td>\n",
       "      <td>34.0</td>\n",
       "      <td>64.0</td>\n",
       "      <td>0.99724</td>\n",
       "      <td>3.41</td>\n",
       "      <td>0.68</td>\n",
       "      <td>10.4</td>\n",
       "      <td>6</td>\n",
       "    </tr>\n",
       "    <tr>\n",
       "      <th>59</th>\n",
       "      <td>7.3</td>\n",
       "      <td>0.390</td>\n",
       "      <td>0.31</td>\n",
       "      <td>2.4</td>\n",
       "      <td>0.074</td>\n",
       "      <td>9.0</td>\n",
       "      <td>46.0</td>\n",
       "      <td>0.99620</td>\n",
       "      <td>3.41</td>\n",
       "      <td>0.54</td>\n",
       "      <td>9.4</td>\n",
       "      <td>6</td>\n",
       "    </tr>\n",
       "    <tr>\n",
       "      <th>1169</th>\n",
       "      <td>7.6</td>\n",
       "      <td>0.500</td>\n",
       "      <td>0.29</td>\n",
       "      <td>2.3</td>\n",
       "      <td>0.086</td>\n",
       "      <td>5.0</td>\n",
       "      <td>14.0</td>\n",
       "      <td>0.99502</td>\n",
       "      <td>3.32</td>\n",
       "      <td>0.62</td>\n",
       "      <td>11.5</td>\n",
       "      <td>6</td>\n",
       "    </tr>\n",
       "    <tr>\n",
       "      <th>1130</th>\n",
       "      <td>9.1</td>\n",
       "      <td>0.600</td>\n",
       "      <td>0.00</td>\n",
       "      <td>1.9</td>\n",
       "      <td>0.058</td>\n",
       "      <td>5.0</td>\n",
       "      <td>10.0</td>\n",
       "      <td>0.99770</td>\n",
       "      <td>3.18</td>\n",
       "      <td>0.63</td>\n",
       "      <td>10.4</td>\n",
       "      <td>6</td>\n",
       "    </tr>\n",
       "    <tr>\n",
       "      <th>1482</th>\n",
       "      <td>7.2</td>\n",
       "      <td>0.580</td>\n",
       "      <td>0.54</td>\n",
       "      <td>2.1</td>\n",
       "      <td>0.114</td>\n",
       "      <td>3.0</td>\n",
       "      <td>9.0</td>\n",
       "      <td>0.99719</td>\n",
       "      <td>3.33</td>\n",
       "      <td>0.57</td>\n",
       "      <td>10.3</td>\n",
       "      <td>4</td>\n",
       "    </tr>\n",
       "    <tr>\n",
       "      <th>1304</th>\n",
       "      <td>7.6</td>\n",
       "      <td>0.790</td>\n",
       "      <td>0.21</td>\n",
       "      <td>2.3</td>\n",
       "      <td>0.087</td>\n",
       "      <td>21.0</td>\n",
       "      <td>68.0</td>\n",
       "      <td>0.99550</td>\n",
       "      <td>3.12</td>\n",
       "      <td>0.44</td>\n",
       "      <td>9.2</td>\n",
       "      <td>5</td>\n",
       "    </tr>\n",
       "    <tr>\n",
       "      <th>281</th>\n",
       "      <td>7.7</td>\n",
       "      <td>0.270</td>\n",
       "      <td>0.68</td>\n",
       "      <td>3.5</td>\n",
       "      <td>0.358</td>\n",
       "      <td>5.0</td>\n",
       "      <td>10.0</td>\n",
       "      <td>0.99720</td>\n",
       "      <td>3.25</td>\n",
       "      <td>1.08</td>\n",
       "      <td>9.9</td>\n",
       "      <td>7</td>\n",
       "    </tr>\n",
       "    <tr>\n",
       "      <th>1244</th>\n",
       "      <td>5.9</td>\n",
       "      <td>0.290</td>\n",
       "      <td>0.25</td>\n",
       "      <td>13.4</td>\n",
       "      <td>0.067</td>\n",
       "      <td>72.0</td>\n",
       "      <td>160.0</td>\n",
       "      <td>0.99721</td>\n",
       "      <td>3.33</td>\n",
       "      <td>0.54</td>\n",
       "      <td>10.3</td>\n",
       "      <td>6</td>\n",
       "    </tr>\n",
       "    <tr>\n",
       "      <th>443</th>\n",
       "      <td>10.0</td>\n",
       "      <td>0.440</td>\n",
       "      <td>0.49</td>\n",
       "      <td>2.7</td>\n",
       "      <td>0.077</td>\n",
       "      <td>11.0</td>\n",
       "      <td>19.0</td>\n",
       "      <td>0.99630</td>\n",
       "      <td>3.23</td>\n",
       "      <td>0.63</td>\n",
       "      <td>11.6</td>\n",
       "      <td>7</td>\n",
       "    </tr>\n",
       "    <tr>\n",
       "      <th>170</th>\n",
       "      <td>7.9</td>\n",
       "      <td>0.885</td>\n",
       "      <td>0.03</td>\n",
       "      <td>1.8</td>\n",
       "      <td>0.058</td>\n",
       "      <td>4.0</td>\n",
       "      <td>8.0</td>\n",
       "      <td>0.99720</td>\n",
       "      <td>3.36</td>\n",
       "      <td>0.33</td>\n",
       "      <td>9.1</td>\n",
       "      <td>4</td>\n",
       "    </tr>\n",
       "  </tbody>\n",
       "</table>\n",
       "</div>"
      ],
      "text/plain": [
       "      fixed_acidity  volatile_acidity  citric_acid  residual_sugar  chlorides  \\\n",
       "1460            6.4             0.420         0.09             2.3      0.054   \n",
       "59              7.3             0.390         0.31             2.4      0.074   \n",
       "1169            7.6             0.500         0.29             2.3      0.086   \n",
       "1130            9.1             0.600         0.00             1.9      0.058   \n",
       "1482            7.2             0.580         0.54             2.1      0.114   \n",
       "1304            7.6             0.790         0.21             2.3      0.087   \n",
       "281             7.7             0.270         0.68             3.5      0.358   \n",
       "1244            5.9             0.290         0.25            13.4      0.067   \n",
       "443            10.0             0.440         0.49             2.7      0.077   \n",
       "170             7.9             0.885         0.03             1.8      0.058   \n",
       "\n",
       "      free_sulfur_dioxide  total_sulfur_dioxide  density    pH  sulphates  \\\n",
       "1460                 34.0                  64.0  0.99724  3.41       0.68   \n",
       "59                    9.0                  46.0  0.99620  3.41       0.54   \n",
       "1169                  5.0                  14.0  0.99502  3.32       0.62   \n",
       "1130                  5.0                  10.0  0.99770  3.18       0.63   \n",
       "1482                  3.0                   9.0  0.99719  3.33       0.57   \n",
       "1304                 21.0                  68.0  0.99550  3.12       0.44   \n",
       "281                   5.0                  10.0  0.99720  3.25       1.08   \n",
       "1244                 72.0                 160.0  0.99721  3.33       0.54   \n",
       "443                  11.0                  19.0  0.99630  3.23       0.63   \n",
       "170                   4.0                   8.0  0.99720  3.36       0.33   \n",
       "\n",
       "      alcohol  quality  \n",
       "1460     10.4        6  \n",
       "59        9.4        6  \n",
       "1169     11.5        6  \n",
       "1130     10.4        6  \n",
       "1482     10.3        4  \n",
       "1304      9.2        5  \n",
       "281       9.9        7  \n",
       "1244     10.3        6  \n",
       "443      11.6        7  \n",
       "170       9.1        4  "
      ]
     },
     "execution_count": 34,
     "metadata": {},
     "output_type": "execute_result"
    }
   ],
   "source": [
    "wines_df.sample(10) # a quick look at the data, random distribution, note new feature names"
   ]
  },
  {
   "cell_type": "markdown",
   "metadata": {},
   "source": [
    "## Question 1\n",
    "\n",
    "Run your `quick_analysis` function on the wine dataset..."
   ]
  },
  {
   "cell_type": "code",
   "execution_count": 43,
   "metadata": {},
   "outputs": [
    {
     "name": "stdout",
     "output_type": "stream",
     "text": [
      "\u001b[1mData types of the dataset: \u001b[0m\n",
      "fixed_acidity           float64\n",
      "volatile_acidity        float64\n",
      "citric_acid             float64\n",
      "residual_sugar          float64\n",
      "chlorides               float64\n",
      "free_sulfur_dioxide     float64\n",
      "total_sulfur_dioxide    float64\n",
      "density                 float64\n",
      "pH                      float64\n",
      "sulphates               float64\n",
      "alcohol                 float64\n",
      "quality                   int64\n",
      "dtype: object\u001b[1mNumber of Rows: \u001b[0m1599\n",
      "\u001b[1mNumber of Columns: \u001b[0m12\n",
      "\u001b[1mIndex Range: \u001b[0m1599\n",
      "\u001b[1mColumn names: \u001b[0m\n",
      "fixed_acidity, \n",
      "volatile_acidity, \n",
      "citric_acid, \n",
      "residual_sugar, \n",
      "chlorides, \n",
      "free_sulfur_dioxide, \n",
      "total_sulfur_dioxide, \n",
      "density, \n",
      "pH, \n",
      "sulphates, \n",
      "alcohol, \n",
      "quality, \n",
      "\n",
      "\u001b[1mNumber of null values: \u001b[0m0\n",
      "\u001b[1mMean values: \u001b[0mfixed_acidity            8.319637\n",
      "volatile_acidity         0.527821\n",
      "citric_acid              0.270976\n",
      "residual_sugar           2.538806\n",
      "chlorides                0.087467\n",
      "free_sulfur_dioxide     15.874922\n",
      "total_sulfur_dioxide    46.467792\n",
      "density                  0.996747\n",
      "pH                       3.311113\n",
      "sulphates                0.658149\n",
      "alcohol                 10.422983\n",
      "quality                  5.636023\n",
      "dtype: float64\n",
      "\u001b[1mStandard deviations: \u001b[0mfixed_acidity            1.740552\n",
      "volatile_acidity         0.179004\n",
      "citric_acid              0.194740\n",
      "residual_sugar           1.409487\n",
      "chlorides                0.047051\n",
      "free_sulfur_dioxide     10.456886\n",
      "total_sulfur_dioxide    32.885037\n",
      "density                  0.001887\n",
      "pH                       0.154338\n",
      "sulphates                0.169454\n",
      "alcohol                  1.065334\n",
      "quality                  0.807317\n",
      "dtype: float64\n",
      "\u001b[1mAbsolute Average Deviation (AAD): \u001b[0mfixed_acidity            1.360136\n",
      "volatile_acidity         0.142391\n",
      "citric_acid              0.164654\n",
      "residual_sugar           0.764065\n",
      "chlorides                0.021773\n",
      "free_sulfur_dioxide      8.187527\n",
      "total_sulfur_dioxide    25.354053\n",
      "density                  0.001433\n",
      "pH                       0.119769\n",
      "sulphates                0.119094\n",
      "alcohol                  0.877969\n",
      "quality                  0.683178\n",
      "dtype: float64\n",
      "\n"
     ]
    }
   ],
   "source": [
    "# Answer here\n",
    "print(quick_analysis(wines_df))"
   ]
  },
  {
   "cell_type": "markdown",
   "metadata": {},
   "source": [
    " Q: How many NaNs are found in the dataset?\n",
    " A: There are not NaN values in the dataset"
   ]
  },
  {
   "cell_type": "markdown",
   "metadata": {},
   "source": [
    "## Question 2\n",
    "Plot histograms for each of the features...\n",
    "Based on evaluation of these histograms and other analyses, which of the following is FALSE:\n",
    "- A. The concentration of sulphates in the wines analyzed mostly ranged from 1.5 to 2.0 g/dm^3\n",
    "- B. Generally, these wines exhibited a pH less than 4.0\n",
    "- C. The volatile acidity of the wines analyzed was always less than 1.6 g/dm^3\n",
    "- D. There are relatively few wines with a quality less than 4.\n"
   ]
  },
  {
   "cell_type": "code",
   "execution_count": 50,
   "metadata": {},
   "outputs": [
    {
     "data": {
      "text/plain": [
       "<matplotlib.lines.Line2D at 0x1c6c22e8a90>"
      ]
     },
     "execution_count": 50,
     "metadata": {},
     "output_type": "execute_result"
    },
    {
     "data": {
      "image/png": "[encoded data removed]",
      "text/plain": [
       "<Figure size 432x288 with 1 Axes>"
      ]
     },
     "metadata": {
      "needs_background": "light"
     },
     "output_type": "display_data"
    }
   ],
   "source": [
    "#create histograms\n",
    "#Sulphates histogram\n",
    "ax = sns.histplot(data=wines_df.sulphates, palette=\"Set2\")\n",
    "ax.set(title='Exploratory Analysis of Wines dataset (Sulphates)')\n",
    "ax.set(xlabel='concentration')\n",
    "ax.set(ylabel='number of wines')\n",
    "ax.axvline(1.5, c= 'r', linestyle ='--' )"
   ]
  },
  {
   "cell_type": "markdown",
   "metadata": {},
   "source": [
    "concentration of sulphates in the wines analyzed were rarely greater than 1.5. The first statement is **False**"
   ]
  },
  {
   "cell_type": "code",
   "execution_count": 51,
   "metadata": {},
   "outputs": [
    {
     "data": {
      "text/plain": [
       "<matplotlib.lines.Line2D at 0x1c6c23cd550>"
      ]
     },
     "execution_count": 51,
     "metadata": {},
     "output_type": "execute_result"
    },
    {
     "data": {
      "image/png": "[encoded data removed]",
      "text/plain": [
       "<Figure size 432x288 with 1 Axes>"
      ]
     },
     "metadata": {
      "needs_background": "light"
     },
     "output_type": "display_data"
    }
   ],
   "source": [
    "# pH histogram\n",
    "ax = sns.histplot(data=wines_df.pH, palette=\"Set1\")\n",
    "ax.set(title='Exploratory Analysis of Wines dataset (pH)')\n",
    "ax.set(xlabel='pH values')\n",
    "ax.set(ylabel='number of wines')\n",
    "ax.axvline(4.0, c= 'r', linestyle ='--' )"
   ]
  },
  {
   "cell_type": "markdown",
   "metadata": {},
   "source": [
    "Wines exhibited a pH less than 4.0"
   ]
  },
  {
   "cell_type": "code",
   "execution_count": 52,
   "metadata": {},
   "outputs": [
    {
     "data": {
      "text/plain": [
       "<matplotlib.lines.Line2D at 0x1c6c345bb80>"
      ]
     },
     "execution_count": 52,
     "metadata": {},
     "output_type": "execute_result"
    },
    {
     "data": {
      "image/png": "[encoded data removed]",
      "text/plain": [
       "<Figure size 432x288 with 1 Axes>"
      ]
     },
     "metadata": {
      "needs_background": "light"
     },
     "output_type": "display_data"
    }
   ],
   "source": [
    "# volatile acidity histogram\n",
    "ax = sns.histplot(data=wines_df.volatile_acidity, palette=\"Set3\")\n",
    "ax.set(title='Exploratory Analysis of Wines dataset (volatile acidity)')\n",
    "ax.set(xlabel='acidity')\n",
    "ax.set(ylabel='number of wines')\n",
    "ax.axvline(1.6, c= 'r', linestyle ='--' )"
   ]
  },
  {
   "cell_type": "code",
   "execution_count": 53,
   "metadata": {},
   "outputs": [
    {
     "data": {
      "text/plain": [
       "<matplotlib.lines.Line2D at 0x1c6c3511ca0>"
      ]
     },
     "execution_count": 53,
     "metadata": {},
     "output_type": "execute_result"
    },
    {
     "data": {
      "image/png": "[encoded data removed]",
      "text/plain": [
       "<Figure size 432x288 with 1 Axes>"
      ]
     },
     "metadata": {
      "needs_background": "light"
     },
     "output_type": "display_data"
    }
   ],
   "source": [
    "# quality histogram\n",
    "ax = sns.histplot(data=wines_df.quality, palette=\"Set3\")\n",
    "ax.set(title='Exploratory Analysis of Wines dataset Wine quality)')\n",
    "ax.set(xlabel='Quality value')\n",
    "ax.set(ylabel='number of wines')\n",
    "ax.axvline(4.0, c= 'r', linestyle ='--' )"
   ]
  },
  {
   "cell_type": "markdown",
   "metadata": {},
   "source": [
    "## Question 3\n",
    "Develop a linear regression model where the predictor variable is `alcohol % vol.` and the target variable is `quality`.  We assume that `quality` is a continuous-valued variable so that we can apply linear regression. \n",
    "\n",
    "* Plot a scatter plot of the observations and the resultant linear model on the same plot.  \n",
    "\n",
    "* Based on the linear model and your plots..."
   ]
  },
  {
   "cell_type": "code",
   "execution_count": 119,
   "metadata": {},
   "outputs": [
    {
     "data": {
      "image/png": "[encoded data removed]",
      "text/plain": [
       "<Figure size 432x288 with 1 Axes>"
      ]
     },
     "metadata": {},
     "output_type": "display_data"
    }
   ],
   "source": [
    "# Answer here\n",
    "# import modules\n",
    "from sklearn.linear_model import LinearRegression\n",
    "\n",
    "# Create linear regression\n",
    "regression = LinearRegression()\n",
    "\n",
    "# Fit the linear regression\n",
    "# Scikit does not work with scalars (a single value). It expects a shape (m×n) where m is the number of features \n",
    "# and n is the number of observations, you'll need to convert a scalar using np.array(value).reshape(1,-1)\n",
    "feature_alcohol = np.array(wines_df.alcohol).reshape(-1, 1)\n",
    "target_quality = np.array(wines_df.quality).reshape(-1, 1)\n",
    "\n",
    "model = regression.fit(feature_alcohol, target_quality)\n",
    "\n",
    "# Get model parameters, y = mx + b\n",
    "b = float(model.intercept_)\n",
    "m = float(model.coef_)\n",
    "\n",
    "# plot the quality, alcohol % vol. data\n",
    "sns.set_theme(color_codes=True)\n",
    "fig, ax = plt.subplots()\n",
    "ax.scatter(feature_alcohol, target_quality, s=50, c ='b', marker=\"o\")\n",
    "ax.set(title='Quality vs Alcohol %')\n",
    "ax.set(xlabel='% vol')\n",
    "ax.set(ylabel='Quality')\n",
    "ax.set_xlim(7, 15)\n",
    "\n",
    "\n",
    "# plot the linear model\n",
    "x = np.linspace(6, 15, num = 50)\n",
    "y = m * x + b\n",
    "\n",
    "plt.plot(x, y, c ='black', linewidth=1)\n",
    "plt.show()\n",
    "\n",
    "\n",
    "# Scikit does not work with scalars (a single value). It expects a shape (m×n) where m is the number of features \n",
    "# and n is the number of observations, you'll need to convert a scalar using np.array(value).reshape(1,-1)\n",
    "\n",
    "# x_new = np.array(alcohol_new).reshape(1, -1)"
   ]
  },
  {
   "cell_type": "code",
   "execution_count": 121,
   "metadata": {},
   "outputs": [
    {
     "data": {
      "text/plain": [
       "0.36084176533503454"
      ]
     },
     "execution_count": 121,
     "metadata": {},
     "output_type": "execute_result"
    }
   ],
   "source": [
    "m"
   ]
  },
  {
   "cell_type": "markdown",
   "metadata": {},
   "source": [
    "Based on the linear model and your plots, which of the following is TRUE?\n",
    "- A. The quality of the wine is independent of alcohol content.\n",
    "- B. The quality of the wine decreases as volume of alcohol in the wine increases.\n",
    "- C. The quality of the wine increases as volume of alcohol in the wine increases.\n",
    "the possitive splope of the liner regression model suggest that **Option C** is the correct answer"
   ]
  },
  {
   "cell_type": "code",
   "execution_count": 110,
   "metadata": {},
   "outputs": [
    {
     "data": {
      "text/plain": [
       "<AxesSubplot:>"
      ]
     },
     "execution_count": 110,
     "metadata": {},
     "output_type": "execute_result"
    },
    {
     "data": {
      "image/png": "[encoded data removed]",
      "text/plain": [
       "<Figure size 432x288 with 1 Axes>"
      ]
     },
     "metadata": {},
     "output_type": "display_data"
    }
   ],
   "source": [
    "# another way is to use the regresion plot of the seaborn library\n",
    "sns.set_theme(color_codes=True)\n",
    "sns.regplot(x = feature_alcohol,y = target_quality)\n",
    "\n"
   ]
  },
  {
   "cell_type": "markdown",
   "metadata": {},
   "source": [
    "## Question 4 : \n",
    "Use your linear model to predict the expected quality of the wine when the alcohol content is 12%..."
   ]
  },
  {
   "cell_type": "code",
   "execution_count": 101,
   "metadata": {},
   "outputs": [
    {
     "name": "stdout",
     "output_type": "stream",
     "text": [
      "The expected quality of the wine when the alcohol content is 12% is \u001b[1m6.205076071017567\u001b[0m\n"
     ]
    }
   ],
   "source": [
    "# Answer here\n",
    "expected_quality = float(model.predict([[12.0]]))\n",
    "print('The expected quality of the wine when the alcohol content is 12% is ' + '\\033[1m' + str(expected_quality) + '\\033[0m' )"
   ]
  },
  {
   "cell_type": "markdown",
   "metadata": {},
   "source": [
    "## Question 5:  \n",
    "Consider the `sulphates` feature.  Using a linear regression model, predict the expected quality of the wine when the sulphates concentration is 0.7 g/dm^3 ... "
   ]
  },
  {
   "cell_type": "code",
   "execution_count": 102,
   "metadata": {},
   "outputs": [
    {
     "name": "stdout",
     "output_type": "stream",
     "text": [
      "expected quality: 5.686148160511108\n"
     ]
    }
   ],
   "source": [
    "# answer here\n",
    "feature_sulphates = np.array(wines_df.sulphates).reshape(-1, 1)\n",
    "model_sul = regression.fit(feature_sulphates, target_quality)\n",
    "expected_sul_quality = float(model_sul.predict([[0.7]]))\n",
    "print('expected quality: ' + str(expected_sul_quality))"
   ]
  },
  {
   "cell_type": "code",
   "execution_count": 118,
   "metadata": {
    "scrolled": true
   },
   "outputs": [
    {
     "data": {
      "text/plain": [
       "<matplotlib.lines.Line2D at 0x1c6c5ca2640>"
      ]
     },
     "execution_count": 118,
     "metadata": {},
     "output_type": "execute_result"
    },
    {
     "data": {
      "image/png": "[encoded data removed]",
      "text/plain": [
       "<Figure size 432x288 with 1 Axes>"
      ]
     },
     "metadata": {},
     "output_type": "display_data"
    }
   ],
   "source": [
    "# visual check\n",
    "sns.regplot(x = feature_sulphates, y = target_quality).axvline(0.7, c='r', linestyle ='--')\n"
   ]
  },
  {
   "cell_type": "markdown",
   "metadata": {},
   "source": [
    "## Question 6:  \n",
    "Compuite the pairwise correlation between the features in the dataset.  Based on pairwise correlation, which of the following is TRUE regarding sulphates and quality?\n",
    "- A. The quality of the wine decreases as sulphates concentration in the wine increases\n",
    "- B. The quality of the wine is independent of sulphates concentration.\n",
    "- C. The quality of the wine increases as sulphates concentration in the wine increases"
   ]
  },
  {
   "cell_type": "code",
   "execution_count": 123,
   "metadata": {},
   "outputs": [
    {
     "data": {
      "image/png": "[encoded data removed]",
      "text/plain": [
       "<Figure size 432x288 with 2 Axes>"
      ]
     },
     "metadata": {},
     "output_type": "display_data"
    }
   ],
   "source": [
    "# calculate the correlation matrix\n",
    "corrMatrix = wines_df.corr()\n",
    "sns.heatmap(corrMatrix, annot=True)\n",
    "plt.show()"
   ]
  },
  {
   "cell_type": "markdown",
   "metadata": {},
   "source": [
    "With a correlation coefficient of 0.25 between quality and sulphates; as the quality of the wine increases, sulphates concentration in the wine increases. Anwser **C** is correct"
   ]
  },
  {
   "cell_type": "code",
   "execution_count": null,
   "metadata": {},
   "outputs": [],
   "source": []
  },
  {
   "cell_type": "markdown",
   "metadata": {},
   "source": [
    "## Question 7: \n",
    "Based on the pairwise correlation, which of these 3 features would be most useful in developing a prediction model for wine quality? ..."
   ]
  },
  {
   "cell_type": "code",
   "execution_count": 142,
   "metadata": {},
   "outputs": [
    {
     "data": {
      "text/plain": [
       "quality                 1.000000\n",
       "alcohol                 0.476166\n",
       "sulphates               0.251397\n",
       "citric_acid             0.226373\n",
       "fixed_acidity           0.124052\n",
       "residual_sugar          0.013732\n",
       "free_sulfur_dioxide    -0.050656\n",
       "pH                     -0.057731\n",
       "chlorides              -0.128907\n",
       "density                -0.174919\n",
       "total_sulfur_dioxide   -0.185100\n",
       "volatile_acidity       -0.390558\n",
       "Name: quality, dtype: float64"
      ]
     },
     "execution_count": 142,
     "metadata": {},
     "output_type": "execute_result"
    }
   ],
   "source": [
    "# answer here\n",
    "corrMatrix.quality.sort_values(ascending=False)\n"
   ]
  },
  {
   "cell_type": "markdown",
   "metadata": {},
   "source": [
    "The three features with the largest absolute value are **alcohol, volatile acidity, and sulphates**"
   ]
  },
  {
   "cell_type": "markdown",
   "metadata": {},
   "source": [
    "## Question 8\n",
    "\n",
    "Let's add more sophistication to our regression model and use the following features to predict quality:  `volatile_acidity`, `sulphates`, and `citric_acid`.  Now we have 3 predictor variables or predictors that we will use to find a target function that can fit our input data with minimum error and predict values of our target variable. For these attributes, which value of sulphates yields the highest predicted wine quality, when volatile_acidity is fixed at 0.1 g/dm^3 and citric_acid concentration is fixed at 1.0 g/dm^3?"
   ]
  },
  {
   "cell_type": "code",
   "execution_count": 219,
   "metadata": {},
   "outputs": [
    {
     "data": {
      "text/plain": [
       "array([[-1.62907181,  0.78548122, -0.10264678]])"
      ]
     },
     "execution_count": 219,
     "metadata": {},
     "output_type": "execute_result"
    }
   ],
   "source": [
    "# Create linear regression\n",
    "regression = LinearRegression()\n",
    "\n",
    "# Fit the linear regression\n",
    "feature_acidity = np.array(wines_df.volatile_acidity).reshape(-1, 1)\n",
    "feature_sulphates = np.array(wines_df.sulphates).reshape(-1, 1)\n",
    "feature_citric = np.array(wines_df.citric_acid).reshape(-1, 1)\n",
    "features = np.concatenate((feature_acidity,feature_sulphates, feature_citric ), axis=1)\n",
    "target_quality = np.array(wines_df.quality).reshape(-1, 1)\n",
    "\n",
    "model = regression.fit(features, target_quality)\n",
    "model.coef_\n",
    "# hint Series.to_numpy or DataFrame.to_numpy\n"
   ]
  },
  {
   "cell_type": "code",
   "execution_count": 217,
   "metadata": {},
   "outputs": [
    {
     "data": {
      "text/plain": [
       "(1599,)"
      ]
     },
     "execution_count": 217,
     "metadata": {},
     "output_type": "execute_result"
    }
   ],
   "source": [
    "f1.shape"
   ]
  },
  {
   "cell_type": "markdown",
   "metadata": {},
   "source": [
    "We are looking at a model:\n",
    "$$ \n",
    "\\hat{y}= \\hat{\\beta}_0 + \\hat{\\beta}_1 x_1 + \\hat{\\beta}_2 x_2 + \\hat{\\beta}_3 x_3 + \\epsilon\n",
    "$$\n",
    "\n",
    "Where $ \\hat{\\beta}_0$ is the intercept, $ \\hat{\\beta}_1$ is the coefficient of volatile_acidity, $ \\hat{\\beta}_2$ is the coefficient of sulphates and  $ \\hat{\\beta}_3$ is the coefficient of citric_acid.\n"
   ]
  },
  {
   "cell_type": "code",
   "execution_count": 172,
   "metadata": {},
   "outputs": [
    {
     "data": {
      "text/plain": [
       "array([[7.31213973]])"
      ]
     },
     "execution_count": 172,
     "metadata": {},
     "output_type": "execute_result"
    }
   ],
   "source": [
    "model.predict([[.1,  2.0, 1]])"
   ]
  },
  {
   "cell_type": "code",
   "execution_count": null,
   "metadata": {},
   "outputs": [],
   "source": []
  },
  {
   "cell_type": "markdown",
   "metadata": {},
   "source": [
    "## Question 9\n",
    "Now, the \"whole enchilada...\" Use all the features to train a linear regression model..."
   ]
  },
  {
   "cell_type": "code",
   "execution_count": 190,
   "metadata": {},
   "outputs": [
    {
     "data": {
      "text/plain": [
       "array([[ 2.49905527e-02, -1.08359026e+00, -1.82563948e-01,\n",
       "         1.63312698e-02, -1.87422516e+00,  4.36133331e-03,\n",
       "        -3.26457970e-03, -1.78811638e+01, -4.13653144e-01,\n",
       "         9.16334413e-01,  2.76197699e-01]])"
      ]
     },
     "execution_count": 190,
     "metadata": {},
     "output_type": "execute_result"
    }
   ],
   "source": [
    "features2 = wines_df.drop('quality', axis =1).to_numpy()\n",
    "model2 = regression.fit(features2, target_quality)\n",
    "model2.coef_"
   ]
  },
  {
   "cell_type": "markdown",
   "metadata": {},
   "source": [
    "The value of the first regression coefficient returned by sklearn is:\n"
   ]
  },
  {
   "cell_type": "code",
   "execution_count": 191,
   "metadata": {},
   "outputs": [
    {
     "data": {
      "text/plain": [
       "0.024990552671674333"
      ]
     },
     "execution_count": 191,
     "metadata": {},
     "output_type": "execute_result"
    }
   ],
   "source": [
    "model.coef_[0,0]"
   ]
  },
  {
   "cell_type": "markdown",
   "metadata": {},
   "source": [
    "## Question 10\n",
    "We want to simplify our linear regression model by reducing the number of features. A 12-dimensional problem is hard to visualize and interpret. Use Lasso regularization to reduce the number of features in our model to just three (3). You will need to vary the value of the hyperparameter α to achieve this. What features do the resulting three coefficients correspond to?"
   ]
  },
  {
   "cell_type": "code",
   "execution_count": 206,
   "metadata": {},
   "outputs": [
    {
     "data": {
      "text/plain": [
       "array([ 0.        , -0.1609962 ,  0.        ,  0.        , -0.        ,\n",
       "       -0.        , -0.        , -0.        , -0.        ,  0.04684165,\n",
       "        0.25746537])"
      ]
     },
     "execution_count": 206,
     "metadata": {},
     "output_type": "execute_result"
    }
   ],
   "source": [
    "# Load libraries\n",
    "from sklearn.preprocessing import StandardScaler\n",
    "from sklearn.linear_model import Lasso\n",
    "\n",
    "# Standardize features\n",
    "scaler = StandardScaler()\n",
    "features_standardized = scaler.fit_transform(features2)\n",
    "\n",
    "# alpha is a hyperparameter that can be used to \"tune\" the regularization\n",
    "# Create lasso regression with alpha value\n",
    "regression = Lasso(alpha=.09)\n",
    "\n",
    "# Fit the linear regression\n",
    "model = regression.fit(features_standardized, target_quality)\n",
    "\n",
    "# View coefficients\n",
    "model.coef_"
   ]
  },
  {
   "cell_type": "markdown",
   "metadata": {},
   "source": [
    "After some trial-error, for the value of $alpha$ = 0.9 the numer of features are reduced to 3. These are:\n",
    "- **volatile_acidity**\n",
    "- **sulphates**\n",
    "- **alcohol**"
   ]
  }
 ],
 "metadata": {
  "kernelspec": {
   "display_name": "Python 3 (ipykernel)",
   "language": "python",
   "name": "python3"
  },
  "language_info": {
   "codemirror_mode": {
    "name": "ipython",
    "version": 3
   },
   "file_extension": ".py",
   "mimetype": "text/x-python",
   "name": "python",
   "nbconvert_exporter": "python",
   "pygments_lexer": "ipython3",
   "version": "3.9.7"
  }
 },
 "nbformat": 4,
 "nbformat_minor": 4
}
