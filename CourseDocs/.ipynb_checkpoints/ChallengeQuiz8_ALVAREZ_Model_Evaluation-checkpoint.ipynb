{
 "cells": [
  {
   "cell_type": "markdown",
   "metadata": {
    "datalore": {
     "hide_input_from_viewers": false,
     "hide_output_from_viewers": false,
     "type": "MD"
    }
   },
   "source": [
    "## Model Evaluation\n",
    "\n",
    "*Keystroke dynamics* -- the analysis of typing rhythms to discriminate between different users -- has been proposed for detecting imposters (i.e., both insiders and external attackers).  Our objective is to create detectors that can discriminate users from one another based on their keystroke dynamics and assess their performance.\n",
    "\n",
    "Our dataset contains keystroke dynamics information. Keystroke dynamics are the natural patterns that individuals exhibit when typing on a keyboard. The dataset contains samples from several individuals typing in the same password and a variety of features are measured and tabulated. The feature names are somewhat ambiguous, but they mostly represent timing information. Column names of the form `DD.key1.key2` designate the time elapsed between pressing key 1 and pressing key 2 and names of the form `UD.key1.key2` designate the time elapsed between releasing key 1 and pressing key 2. More information about the dataset and associated research can be found here: https://www.cs.cmu.edu/~keystroke/#sec2."
   ]
  },
  {
   "cell_type": "code",
   "execution_count": 48,
   "metadata": {
    "datalore": {
     "hide_input_from_viewers": false,
     "hide_output_from_viewers": false,
     "type": "CODE"
    }
   },
   "outputs": [],
   "source": [
    "# Load standard libraries\n",
    "import pandas as pd\n",
    "import numpy as np \n",
    "import matplotlib.pyplot as plt\n",
    "import  seaborn as sns\n",
    "%matplotlib inline"
   ]
  },
  {
   "cell_type": "code",
   "execution_count": 49,
   "metadata": {
    "datalore": {
     "hide_input_from_viewers": false,
     "hide_output_from_viewers": false,
     "type": "CODE"
    }
   },
   "outputs": [
    {
     "data": {
      "text/html": [
       "<div>\n",
       "<style scoped>\n",
       "    .dataframe tbody tr th:only-of-type {\n",
       "        vertical-align: middle;\n",
       "    }\n",
       "\n",
       "    .dataframe tbody tr th {\n",
       "        vertical-align: top;\n",
       "    }\n",
       "\n",
       "    .dataframe thead th {\n",
       "        text-align: right;\n",
       "    }\n",
       "</style>\n",
       "<table border=\"1\" class=\"dataframe\">\n",
       "  <thead>\n",
       "    <tr style=\"text-align: right;\">\n",
       "      <th></th>\n",
       "      <th>subject</th>\n",
       "      <th>sessionIndex</th>\n",
       "      <th>rep</th>\n",
       "      <th>H.period</th>\n",
       "      <th>DD.period.t</th>\n",
       "      <th>UD.period.t</th>\n",
       "      <th>H.t</th>\n",
       "      <th>DD.t.i</th>\n",
       "      <th>UD.t.i</th>\n",
       "      <th>H.i</th>\n",
       "      <th>...</th>\n",
       "      <th>H.a</th>\n",
       "      <th>DD.a.n</th>\n",
       "      <th>UD.a.n</th>\n",
       "      <th>H.n</th>\n",
       "      <th>DD.n.l</th>\n",
       "      <th>UD.n.l</th>\n",
       "      <th>H.l</th>\n",
       "      <th>DD.l.Return</th>\n",
       "      <th>UD.l.Return</th>\n",
       "      <th>H.Return</th>\n",
       "    </tr>\n",
       "  </thead>\n",
       "  <tbody>\n",
       "    <tr>\n",
       "      <th>9703</th>\n",
       "      <td>s030</td>\n",
       "      <td>3</td>\n",
       "      <td>4</td>\n",
       "      <td>0.1146</td>\n",
       "      <td>0.4177</td>\n",
       "      <td>0.3031</td>\n",
       "      <td>0.1264</td>\n",
       "      <td>0.2341</td>\n",
       "      <td>0.1077</td>\n",
       "      <td>0.1124</td>\n",
       "      <td>...</td>\n",
       "      <td>0.1420</td>\n",
       "      <td>0.3524</td>\n",
       "      <td>0.2104</td>\n",
       "      <td>0.0850</td>\n",
       "      <td>0.3341</td>\n",
       "      <td>0.2491</td>\n",
       "      <td>0.0882</td>\n",
       "      <td>0.5050</td>\n",
       "      <td>0.4168</td>\n",
       "      <td>0.0977</td>\n",
       "    </tr>\n",
       "    <tr>\n",
       "      <th>12206</th>\n",
       "      <td>s036</td>\n",
       "      <td>5</td>\n",
       "      <td>7</td>\n",
       "      <td>0.0430</td>\n",
       "      <td>0.6603</td>\n",
       "      <td>0.6173</td>\n",
       "      <td>0.0578</td>\n",
       "      <td>0.2543</td>\n",
       "      <td>0.1965</td>\n",
       "      <td>0.0430</td>\n",
       "      <td>...</td>\n",
       "      <td>0.0581</td>\n",
       "      <td>0.3216</td>\n",
       "      <td>0.2635</td>\n",
       "      <td>0.0438</td>\n",
       "      <td>0.5733</td>\n",
       "      <td>0.5295</td>\n",
       "      <td>0.0441</td>\n",
       "      <td>0.5946</td>\n",
       "      <td>0.5505</td>\n",
       "      <td>0.0515</td>\n",
       "    </tr>\n",
       "    <tr>\n",
       "      <th>19635</th>\n",
       "      <td>s056</td>\n",
       "      <td>1</td>\n",
       "      <td>36</td>\n",
       "      <td>0.0966</td>\n",
       "      <td>0.1514</td>\n",
       "      <td>0.0548</td>\n",
       "      <td>0.0776</td>\n",
       "      <td>0.1462</td>\n",
       "      <td>0.0686</td>\n",
       "      <td>0.0982</td>\n",
       "      <td>...</td>\n",
       "      <td>0.0968</td>\n",
       "      <td>0.1678</td>\n",
       "      <td>0.0710</td>\n",
       "      <td>0.0628</td>\n",
       "      <td>0.2023</td>\n",
       "      <td>0.1395</td>\n",
       "      <td>0.1245</td>\n",
       "      <td>0.2170</td>\n",
       "      <td>0.0925</td>\n",
       "      <td>0.0757</td>\n",
       "    </tr>\n",
       "    <tr>\n",
       "      <th>5745</th>\n",
       "      <td>s019</td>\n",
       "      <td>3</td>\n",
       "      <td>46</td>\n",
       "      <td>0.0660</td>\n",
       "      <td>0.2522</td>\n",
       "      <td>0.1862</td>\n",
       "      <td>0.0940</td>\n",
       "      <td>0.2524</td>\n",
       "      <td>0.1584</td>\n",
       "      <td>0.0555</td>\n",
       "      <td>...</td>\n",
       "      <td>0.1103</td>\n",
       "      <td>0.1732</td>\n",
       "      <td>0.0629</td>\n",
       "      <td>0.0628</td>\n",
       "      <td>0.2665</td>\n",
       "      <td>0.2037</td>\n",
       "      <td>0.0668</td>\n",
       "      <td>0.4673</td>\n",
       "      <td>0.4005</td>\n",
       "      <td>0.0987</td>\n",
       "    </tr>\n",
       "    <tr>\n",
       "      <th>9781</th>\n",
       "      <td>s030</td>\n",
       "      <td>4</td>\n",
       "      <td>32</td>\n",
       "      <td>0.1671</td>\n",
       "      <td>0.2156</td>\n",
       "      <td>0.0485</td>\n",
       "      <td>0.1291</td>\n",
       "      <td>0.1764</td>\n",
       "      <td>0.0473</td>\n",
       "      <td>0.1283</td>\n",
       "      <td>...</td>\n",
       "      <td>0.1003</td>\n",
       "      <td>0.1439</td>\n",
       "      <td>0.0436</td>\n",
       "      <td>0.0747</td>\n",
       "      <td>0.2921</td>\n",
       "      <td>0.2174</td>\n",
       "      <td>0.0805</td>\n",
       "      <td>0.2928</td>\n",
       "      <td>0.2123</td>\n",
       "      <td>0.0884</td>\n",
       "    </tr>\n",
       "    <tr>\n",
       "      <th>12764</th>\n",
       "      <td>s037</td>\n",
       "      <td>8</td>\n",
       "      <td>15</td>\n",
       "      <td>0.0868</td>\n",
       "      <td>0.0635</td>\n",
       "      <td>-0.0233</td>\n",
       "      <td>0.0813</td>\n",
       "      <td>0.1652</td>\n",
       "      <td>0.0839</td>\n",
       "      <td>0.0559</td>\n",
       "      <td>...</td>\n",
       "      <td>0.0955</td>\n",
       "      <td>0.0512</td>\n",
       "      <td>-0.0443</td>\n",
       "      <td>0.1019</td>\n",
       "      <td>0.1517</td>\n",
       "      <td>0.0498</td>\n",
       "      <td>0.1105</td>\n",
       "      <td>0.2249</td>\n",
       "      <td>0.1144</td>\n",
       "      <td>0.0839</td>\n",
       "    </tr>\n",
       "    <tr>\n",
       "      <th>10935</th>\n",
       "      <td>s033</td>\n",
       "      <td>3</td>\n",
       "      <td>36</td>\n",
       "      <td>0.0913</td>\n",
       "      <td>0.3062</td>\n",
       "      <td>0.2149</td>\n",
       "      <td>0.1559</td>\n",
       "      <td>0.2169</td>\n",
       "      <td>0.0610</td>\n",
       "      <td>0.1105</td>\n",
       "      <td>...</td>\n",
       "      <td>0.1805</td>\n",
       "      <td>0.1583</td>\n",
       "      <td>-0.0222</td>\n",
       "      <td>0.0987</td>\n",
       "      <td>0.2474</td>\n",
       "      <td>0.1487</td>\n",
       "      <td>0.1208</td>\n",
       "      <td>0.3172</td>\n",
       "      <td>0.1964</td>\n",
       "      <td>0.0973</td>\n",
       "    </tr>\n",
       "    <tr>\n",
       "      <th>20016</th>\n",
       "      <td>s057</td>\n",
       "      <td>1</td>\n",
       "      <td>17</td>\n",
       "      <td>0.0961</td>\n",
       "      <td>0.0759</td>\n",
       "      <td>-0.0202</td>\n",
       "      <td>0.0990</td>\n",
       "      <td>0.1346</td>\n",
       "      <td>0.0356</td>\n",
       "      <td>0.0791</td>\n",
       "      <td>...</td>\n",
       "      <td>0.1140</td>\n",
       "      <td>0.0932</td>\n",
       "      <td>-0.0208</td>\n",
       "      <td>0.0749</td>\n",
       "      <td>0.1677</td>\n",
       "      <td>0.0928</td>\n",
       "      <td>0.1298</td>\n",
       "      <td>0.2381</td>\n",
       "      <td>0.1083</td>\n",
       "      <td>0.1448</td>\n",
       "    </tr>\n",
       "    <tr>\n",
       "      <th>2323</th>\n",
       "      <td>s008</td>\n",
       "      <td>7</td>\n",
       "      <td>24</td>\n",
       "      <td>0.0715</td>\n",
       "      <td>0.1506</td>\n",
       "      <td>0.0791</td>\n",
       "      <td>0.0739</td>\n",
       "      <td>0.0771</td>\n",
       "      <td>0.0032</td>\n",
       "      <td>0.0697</td>\n",
       "      <td>...</td>\n",
       "      <td>0.1164</td>\n",
       "      <td>0.1518</td>\n",
       "      <td>0.0354</td>\n",
       "      <td>0.0959</td>\n",
       "      <td>0.0752</td>\n",
       "      <td>-0.0207</td>\n",
       "      <td>0.0732</td>\n",
       "      <td>0.1644</td>\n",
       "      <td>0.0912</td>\n",
       "      <td>0.0921</td>\n",
       "    </tr>\n",
       "    <tr>\n",
       "      <th>14209</th>\n",
       "      <td>s041</td>\n",
       "      <td>5</td>\n",
       "      <td>10</td>\n",
       "      <td>0.1519</td>\n",
       "      <td>0.2043</td>\n",
       "      <td>0.0524</td>\n",
       "      <td>0.1503</td>\n",
       "      <td>0.1991</td>\n",
       "      <td>0.0488</td>\n",
       "      <td>0.1556</td>\n",
       "      <td>...</td>\n",
       "      <td>0.1659</td>\n",
       "      <td>0.2894</td>\n",
       "      <td>0.1235</td>\n",
       "      <td>0.1548</td>\n",
       "      <td>0.2658</td>\n",
       "      <td>0.1110</td>\n",
       "      <td>0.1406</td>\n",
       "      <td>0.2571</td>\n",
       "      <td>0.1165</td>\n",
       "      <td>0.1316</td>\n",
       "    </tr>\n",
       "  </tbody>\n",
       "</table>\n",
       "<p>10 rows × 34 columns</p>\n",
       "</div>"
      ],
      "text/plain": [
       "      subject  sessionIndex  rep  H.period  DD.period.t  UD.period.t     H.t  \\\n",
       "9703     s030             3    4    0.1146       0.4177       0.3031  0.1264   \n",
       "12206    s036             5    7    0.0430       0.6603       0.6173  0.0578   \n",
       "19635    s056             1   36    0.0966       0.1514       0.0548  0.0776   \n",
       "5745     s019             3   46    0.0660       0.2522       0.1862  0.0940   \n",
       "9781     s030             4   32    0.1671       0.2156       0.0485  0.1291   \n",
       "12764    s037             8   15    0.0868       0.0635      -0.0233  0.0813   \n",
       "10935    s033             3   36    0.0913       0.3062       0.2149  0.1559   \n",
       "20016    s057             1   17    0.0961       0.0759      -0.0202  0.0990   \n",
       "2323     s008             7   24    0.0715       0.1506       0.0791  0.0739   \n",
       "14209    s041             5   10    0.1519       0.2043       0.0524  0.1503   \n",
       "\n",
       "       DD.t.i  UD.t.i     H.i  ...     H.a  DD.a.n  UD.a.n     H.n  DD.n.l  \\\n",
       "9703   0.2341  0.1077  0.1124  ...  0.1420  0.3524  0.2104  0.0850  0.3341   \n",
       "12206  0.2543  0.1965  0.0430  ...  0.0581  0.3216  0.2635  0.0438  0.5733   \n",
       "19635  0.1462  0.0686  0.0982  ...  0.0968  0.1678  0.0710  0.0628  0.2023   \n",
       "5745   0.2524  0.1584  0.0555  ...  0.1103  0.1732  0.0629  0.0628  0.2665   \n",
       "9781   0.1764  0.0473  0.1283  ...  0.1003  0.1439  0.0436  0.0747  0.2921   \n",
       "12764  0.1652  0.0839  0.0559  ...  0.0955  0.0512 -0.0443  0.1019  0.1517   \n",
       "10935  0.2169  0.0610  0.1105  ...  0.1805  0.1583 -0.0222  0.0987  0.2474   \n",
       "20016  0.1346  0.0356  0.0791  ...  0.1140  0.0932 -0.0208  0.0749  0.1677   \n",
       "2323   0.0771  0.0032  0.0697  ...  0.1164  0.1518  0.0354  0.0959  0.0752   \n",
       "14209  0.1991  0.0488  0.1556  ...  0.1659  0.2894  0.1235  0.1548  0.2658   \n",
       "\n",
       "       UD.n.l     H.l  DD.l.Return  UD.l.Return  H.Return  \n",
       "9703   0.2491  0.0882       0.5050       0.4168    0.0977  \n",
       "12206  0.5295  0.0441       0.5946       0.5505    0.0515  \n",
       "19635  0.1395  0.1245       0.2170       0.0925    0.0757  \n",
       "5745   0.2037  0.0668       0.4673       0.4005    0.0987  \n",
       "9781   0.2174  0.0805       0.2928       0.2123    0.0884  \n",
       "12764  0.0498  0.1105       0.2249       0.1144    0.0839  \n",
       "10935  0.1487  0.1208       0.3172       0.1964    0.0973  \n",
       "20016  0.0928  0.1298       0.2381       0.1083    0.1448  \n",
       "2323  -0.0207  0.0732       0.1644       0.0912    0.0921  \n",
       "14209  0.1110  0.1406       0.2571       0.1165    0.1316  \n",
       "\n",
       "[10 rows x 34 columns]"
      ]
     },
     "execution_count": 49,
     "metadata": {},
     "output_type": "execute_result"
    }
   ],
   "source": [
    "# Read data\n",
    "file = 'DSL-StrongPasswordData.csv'\n",
    "key_stroke_df = pd.read_csv(file)\n",
    "key_stroke_df.sample(10)"
   ]
  },
  {
   "cell_type": "code",
   "execution_count": 50,
   "metadata": {
    "datalore": {
     "hide_input_from_viewers": false,
     "hide_output_from_viewers": false,
     "type": "CODE"
    }
   },
   "outputs": [
    {
     "name": "stdout",
     "output_type": "stream",
     "text": [
      "\u001b[1mData types of the dataset: \u001b[0m\n",
      "sessionIndex         int64\n",
      "rep                  int64\n",
      "H.period           float64\n",
      "DD.period.t        float64\n",
      "UD.period.t        float64\n",
      "H.t                float64\n",
      "DD.t.i             float64\n",
      "UD.t.i             float64\n",
      "H.i                float64\n",
      "DD.i.e             float64\n",
      "UD.i.e             float64\n",
      "H.e                float64\n",
      "DD.e.five          float64\n",
      "UD.e.five          float64\n",
      "H.five             float64\n",
      "DD.five.Shift.r    float64\n",
      "UD.five.Shift.r    float64\n",
      "H.Shift.r          float64\n",
      "DD.Shift.r.o       float64\n",
      "UD.Shift.r.o       float64\n",
      "H.o                float64\n",
      "DD.o.a             float64\n",
      "UD.o.a             float64\n",
      "H.a                float64\n",
      "DD.a.n             float64\n",
      "UD.a.n             float64\n",
      "H.n                float64\n",
      "DD.n.l             float64\n",
      "UD.n.l             float64\n",
      "H.l                float64\n",
      "DD.l.Return        float64\n",
      "UD.l.Return        float64\n",
      "H.Return           float64\n",
      "dtype: object\n",
      "\u001b[1mNumber of Rows: \u001b[0m20400\n",
      "\u001b[1mNumber of Columns: \u001b[0m33\n",
      "\u001b[1mIndex Range: \u001b[0m20400\n",
      "\u001b[1mColumn names: \u001b[0m\n",
      "sessionIndex, \n",
      "rep, \n",
      "H.period, \n",
      "DD.period.t, \n",
      "UD.period.t, \n",
      "H.t, \n",
      "DD.t.i, \n",
      "UD.t.i, \n",
      "H.i, \n",
      "DD.i.e, \n",
      "UD.i.e, \n",
      "H.e, \n",
      "DD.e.five, \n",
      "UD.e.five, \n",
      "H.five, \n",
      "DD.five.Shift.r, \n",
      "UD.five.Shift.r, \n",
      "H.Shift.r, \n",
      "DD.Shift.r.o, \n",
      "UD.Shift.r.o, \n",
      "H.o, \n",
      "DD.o.a, \n",
      "UD.o.a, \n",
      "H.a, \n",
      "DD.a.n, \n",
      "UD.a.n, \n",
      "H.n, \n",
      "DD.n.l, \n",
      "UD.n.l, \n",
      "H.l, \n",
      "DD.l.Return, \n",
      "UD.l.Return, \n",
      "H.Return, \n",
      "\n",
      "\u001b[1mNumber of null values: \u001b[0m0\n",
      "\u001b[1mMean values: \u001b[0msessionIndex        4.500000\n",
      "rep                25.500000\n",
      "H.period            0.093379\n",
      "DD.period.t         0.264148\n",
      "UD.period.t         0.170769\n",
      "H.t                 0.085727\n",
      "DD.t.i              0.169085\n",
      "UD.t.i              0.083358\n",
      "H.i                 0.081565\n",
      "DD.i.e              0.159372\n",
      "UD.i.e              0.077806\n",
      "H.e                 0.089138\n",
      "DD.e.five           0.377434\n",
      "UD.e.five           0.288295\n",
      "H.five              0.076904\n",
      "DD.five.Shift.r     0.438887\n",
      "UD.five.Shift.r     0.361983\n",
      "H.Shift.r           0.095937\n",
      "DD.Shift.r.o        0.250921\n",
      "UD.Shift.r.o        0.154984\n",
      "H.o                 0.088354\n",
      "DD.o.a              0.156931\n",
      "UD.o.a              0.068577\n",
      "H.a                 0.106259\n",
      "DD.a.n              0.150670\n",
      "UD.a.n              0.044411\n",
      "H.n                 0.089899\n",
      "DD.n.l              0.202630\n",
      "UD.n.l              0.112731\n",
      "H.l                 0.095589\n",
      "DD.l.Return         0.321847\n",
      "UD.l.Return         0.226259\n",
      "H.Return            0.088306\n",
      "dtype: float64\n",
      "\u001b[1mStandard deviations: \u001b[0msessionIndex        2.291288\n",
      "rep                14.430870\n",
      "H.period            0.029625\n",
      "DD.period.t         0.220528\n",
      "UD.period.t         0.226831\n",
      "H.t                 0.027424\n",
      "DD.t.i              0.123543\n",
      "UD.t.i              0.125752\n",
      "H.i                 0.026886\n",
      "DD.i.e              0.226923\n",
      "UD.i.e              0.228506\n",
      "H.e                 0.030634\n",
      "DD.e.five           0.265335\n",
      "UD.e.five           0.266688\n",
      "H.five              0.021745\n",
      "DD.five.Shift.r     0.260336\n",
      "UD.five.Shift.r     0.260879\n",
      "H.Shift.r           0.033900\n",
      "DD.Shift.r.o        0.174528\n",
      "UD.Shift.r.o        0.181615\n",
      "H.o                 0.026426\n",
      "DD.o.a              0.106555\n",
      "UD.o.a              0.108507\n",
      "H.a                 0.038827\n",
      "DD.a.n              0.107420\n",
      "UD.a.n              0.105194\n",
      "H.n                 0.030737\n",
      "DD.n.l              0.150187\n",
      "UD.n.l              0.159567\n",
      "H.l                 0.028348\n",
      "DD.l.Return         0.225383\n",
      "UD.l.Return         0.230753\n",
      "H.Return            0.027451\n",
      "dtype: float64\n",
      "\u001b[1mAbsolute Average Deviation (AAD): \u001b[0msessionIndex        2.000000\n",
      "rep                12.500000\n",
      "H.period            0.021925\n",
      "DD.period.t         0.127696\n",
      "UD.period.t         0.132997\n",
      "H.t                 0.021373\n",
      "DD.t.i              0.065184\n",
      "UD.t.i              0.065668\n",
      "H.i                 0.021124\n",
      "DD.i.e              0.080883\n",
      "UD.i.e              0.082274\n",
      "H.e                 0.022801\n",
      "DD.e.five           0.179516\n",
      "UD.e.five           0.180474\n",
      "H.five              0.017328\n",
      "DD.five.Shift.r     0.147589\n",
      "UD.five.Shift.r     0.148106\n",
      "H.Shift.r           0.027069\n",
      "DD.Shift.r.o        0.106803\n",
      "UD.Shift.r.o        0.113697\n",
      "H.o                 0.019821\n",
      "DD.o.a              0.059794\n",
      "UD.o.a              0.061025\n",
      "H.a                 0.026618\n",
      "DD.a.n              0.062872\n",
      "UD.a.n              0.062881\n",
      "H.n                 0.024141\n",
      "DD.n.l              0.087669\n",
      "UD.n.l              0.094902\n",
      "H.l                 0.021586\n",
      "DD.l.Return         0.129737\n",
      "UD.l.Return         0.133988\n",
      "H.Return            0.021156\n",
      "dtype: float64\n",
      "\n"
     ]
    },
    {
     "data": {
      "text/plain": [
       "Ellipsis"
      ]
     },
     "execution_count": 50,
     "metadata": {},
     "output_type": "execute_result"
    }
   ],
   "source": [
    "# Quick analysis function \n",
    "def quick_analysis(df):\n",
    "    st = '\\033[1m' + 'Data types of the dataset: ' + '\\033[0m' + '\\n'\n",
    "    st = st + str(df.dtypes)\n",
    "    st = st + '\\n'\n",
    "    st = st + '\\033[1m' + 'Number of Rows: ' + '\\033[0m' + str(df.shape[0]) + '\\n'\n",
    "    st = st + '\\033[1m' + 'Number of Columns: ' + '\\033[0m' + str(df.shape[1]) + '\\n'\n",
    "    st = st + '\\033[1m' + 'Index Range: ' + '\\033[0m' + str(len(df.index)) + '\\n'\n",
    "    st = st + '\\033[1m' + 'Column names: ' + '\\033[0m' + '\\n'\n",
    "    \n",
    "    for name in df.columns:\n",
    "        st = st + str(name +', ' + '\\n')\n",
    "    \n",
    "    #number of null values\n",
    "    nv = df.isnull().sum().sum()\n",
    "    st = st + '\\n'\n",
    "    st = st + '\\033[1m' + 'Number of null values: ' + '\\033[0m' + str(nv) + '\\n'\n",
    "    st = st + '\\033[1m' + 'Mean values: ' + '\\033[0m' + str(np.mean(df)) + '\\n'\n",
    "    st = st + '\\033[1m' + 'Standard deviations: ' + '\\033[0m' + str(np.std(df)) + '\\n'\n",
    "    st = st + '\\033[1m' + 'Absolute Average Deviation (AAD): ' + '\\033[0m' + str(df.mad()) + '\\n'\n",
    "\n",
    "    return st\n",
    "\n",
    "print(quick_analysis(key_stroke_df.drop(['subject'], axis='columns')))\n",
    "...    "
   ]
  },
  {
   "cell_type": "markdown",
   "metadata": {
    "datalore": {
     "hide_input_from_viewers": false,
     "hide_output_from_viewers": false,
     "type": "MD"
    }
   },
   "source": [
    "## Question 1:\n",
    "Apply your `quick_analysis` function and other data exploratory methods to the dataset..."
   ]
  },
  {
   "cell_type": "code",
   "execution_count": 5,
   "metadata": {
    "datalore": {
     "hide_input_from_viewers": false,
     "hide_output_from_viewers": false,
     "type": "CODE"
    }
   },
   "outputs": [
    {
     "data": {
      "text/plain": [
       "51"
      ]
     },
     "execution_count": 5,
     "metadata": {},
     "output_type": "execute_result"
    }
   ],
   "source": [
    "# find the number of unique values in the subject column\n",
    "pd.unique(key_stroke_df.subject).shape[0]"
   ]
  },
  {
   "cell_type": "markdown",
   "metadata": {
    "datalore": {
     "hide_input_from_viewers": false,
     "hide_output_from_viewers": false,
     "type": "MD"
    }
   },
   "source": [
    "## Question 2\n",
    "Convert the values in the `subject` column, which are of type 'str' into corresponding integers... What is the sum of all of the values in the 'subject' column?"
   ]
  },
  {
   "cell_type": "code",
   "execution_count": 51,
   "metadata": {
    "datalore": {
     "hide_input_from_viewers": false,
     "hide_output_from_viewers": false,
     "type": "CODE"
    }
   },
   "outputs": [
    {
     "data": {
      "text/plain": [
       "622000"
      ]
     },
     "execution_count": 51,
     "metadata": {},
     "output_type": "execute_result"
    }
   ],
   "source": [
    "format = lambda x: int(x.lstrip(x[0]))\n",
    "key_stroke_df['subject'] = key_stroke_df['subject'].apply(format)  \n",
    "np.sum(key_stroke_df['subject'])"
   ]
  },
  {
   "cell_type": "code",
   "execution_count": 7,
   "metadata": {
    "datalore": {
     "hide_input_from_viewers": false,
     "hide_output_from_viewers": false,
     "type": "CODE"
    }
   },
   "outputs": [
    {
     "data": {
      "text/html": [
       "<div>\n",
       "<style scoped>\n",
       "    .dataframe tbody tr th:only-of-type {\n",
       "        vertical-align: middle;\n",
       "    }\n",
       "\n",
       "    .dataframe tbody tr th {\n",
       "        vertical-align: top;\n",
       "    }\n",
       "\n",
       "    .dataframe thead th {\n",
       "        text-align: right;\n",
       "    }\n",
       "</style>\n",
       "<table border=\"1\" class=\"dataframe\">\n",
       "  <thead>\n",
       "    <tr style=\"text-align: right;\">\n",
       "      <th></th>\n",
       "      <th>subject</th>\n",
       "      <th>sessionIndex</th>\n",
       "      <th>rep</th>\n",
       "      <th>H.period</th>\n",
       "      <th>DD.period.t</th>\n",
       "      <th>UD.period.t</th>\n",
       "      <th>H.t</th>\n",
       "      <th>DD.t.i</th>\n",
       "      <th>UD.t.i</th>\n",
       "      <th>H.i</th>\n",
       "      <th>...</th>\n",
       "      <th>H.a</th>\n",
       "      <th>DD.a.n</th>\n",
       "      <th>UD.a.n</th>\n",
       "      <th>H.n</th>\n",
       "      <th>DD.n.l</th>\n",
       "      <th>UD.n.l</th>\n",
       "      <th>H.l</th>\n",
       "      <th>DD.l.Return</th>\n",
       "      <th>UD.l.Return</th>\n",
       "      <th>H.Return</th>\n",
       "    </tr>\n",
       "  </thead>\n",
       "  <tbody>\n",
       "    <tr>\n",
       "      <th>11949</th>\n",
       "      <td>35</td>\n",
       "      <td>7</td>\n",
       "      <td>50</td>\n",
       "      <td>0.0536</td>\n",
       "      <td>0.1627</td>\n",
       "      <td>0.1091</td>\n",
       "      <td>0.0997</td>\n",
       "      <td>0.1625</td>\n",
       "      <td>0.0628</td>\n",
       "      <td>0.0604</td>\n",
       "      <td>...</td>\n",
       "      <td>0.0895</td>\n",
       "      <td>0.0684</td>\n",
       "      <td>-0.0211</td>\n",
       "      <td>0.0736</td>\n",
       "      <td>0.1427</td>\n",
       "      <td>0.0691</td>\n",
       "      <td>0.1013</td>\n",
       "      <td>0.2486</td>\n",
       "      <td>0.1473</td>\n",
       "      <td>0.0995</td>\n",
       "    </tr>\n",
       "    <tr>\n",
       "      <th>7318</th>\n",
       "      <td>24</td>\n",
       "      <td>3</td>\n",
       "      <td>19</td>\n",
       "      <td>0.0679</td>\n",
       "      <td>0.2130</td>\n",
       "      <td>0.1451</td>\n",
       "      <td>0.0491</td>\n",
       "      <td>0.1695</td>\n",
       "      <td>0.1204</td>\n",
       "      <td>0.0478</td>\n",
       "      <td>...</td>\n",
       "      <td>0.0707</td>\n",
       "      <td>0.0557</td>\n",
       "      <td>-0.0150</td>\n",
       "      <td>0.0652</td>\n",
       "      <td>0.2676</td>\n",
       "      <td>0.2024</td>\n",
       "      <td>0.0628</td>\n",
       "      <td>0.2799</td>\n",
       "      <td>0.2171</td>\n",
       "      <td>0.0591</td>\n",
       "    </tr>\n",
       "    <tr>\n",
       "      <th>14248</th>\n",
       "      <td>41</td>\n",
       "      <td>5</td>\n",
       "      <td>49</td>\n",
       "      <td>0.1754</td>\n",
       "      <td>0.1861</td>\n",
       "      <td>0.0107</td>\n",
       "      <td>0.1290</td>\n",
       "      <td>0.1744</td>\n",
       "      <td>0.0454</td>\n",
       "      <td>0.1264</td>\n",
       "      <td>...</td>\n",
       "      <td>0.2016</td>\n",
       "      <td>0.1475</td>\n",
       "      <td>-0.0541</td>\n",
       "      <td>0.1380</td>\n",
       "      <td>0.1799</td>\n",
       "      <td>0.0419</td>\n",
       "      <td>0.1546</td>\n",
       "      <td>0.3006</td>\n",
       "      <td>0.1460</td>\n",
       "      <td>0.1100</td>\n",
       "    </tr>\n",
       "  </tbody>\n",
       "</table>\n",
       "<p>3 rows × 34 columns</p>\n",
       "</div>"
      ],
      "text/plain": [
       "       subject  sessionIndex  rep  H.period  DD.period.t  UD.period.t     H.t  \\\n",
       "11949       35             7   50    0.0536       0.1627       0.1091  0.0997   \n",
       "7318        24             3   19    0.0679       0.2130       0.1451  0.0491   \n",
       "14248       41             5   49    0.1754       0.1861       0.0107  0.1290   \n",
       "\n",
       "       DD.t.i  UD.t.i     H.i  ...     H.a  DD.a.n  UD.a.n     H.n  DD.n.l  \\\n",
       "11949  0.1625  0.0628  0.0604  ...  0.0895  0.0684 -0.0211  0.0736  0.1427   \n",
       "7318   0.1695  0.1204  0.0478  ...  0.0707  0.0557 -0.0150  0.0652  0.2676   \n",
       "14248  0.1744  0.0454  0.1264  ...  0.2016  0.1475 -0.0541  0.1380  0.1799   \n",
       "\n",
       "       UD.n.l     H.l  DD.l.Return  UD.l.Return  H.Return  \n",
       "11949  0.0691  0.1013       0.2486       0.1473    0.0995  \n",
       "7318   0.2024  0.0628       0.2799       0.2171    0.0591  \n",
       "14248  0.0419  0.1546       0.3006       0.1460    0.1100  \n",
       "\n",
       "[3 rows x 34 columns]"
      ]
     },
     "execution_count": 7,
     "metadata": {},
     "output_type": "execute_result"
    }
   ],
   "source": [
    "key_stroke_df.sample(3)"
   ]
  },
  {
   "cell_type": "markdown",
   "metadata": {
    "datalore": {
     "hide_input_from_viewers": false,
     "hide_output_from_viewers": false,
     "type": "MD"
    }
   },
   "source": [
    "## Question 3:\n",
    "\n",
    "Delete the DataFrame columns labeled `sessionIndex` and `rep`.  Then, extract the feature and target information from the new DataFrame and convert each to a numpy array..."
   ]
  },
  {
   "cell_type": "code",
   "execution_count": 52,
   "metadata": {
    "datalore": {
     "hide_input_from_viewers": false,
     "hide_output_from_viewers": false,
     "type": "CODE"
    }
   },
   "outputs": [
    {
     "data": {
      "text/html": [
       "<div>\n",
       "<style scoped>\n",
       "    .dataframe tbody tr th:only-of-type {\n",
       "        vertical-align: middle;\n",
       "    }\n",
       "\n",
       "    .dataframe tbody tr th {\n",
       "        vertical-align: top;\n",
       "    }\n",
       "\n",
       "    .dataframe thead th {\n",
       "        text-align: right;\n",
       "    }\n",
       "</style>\n",
       "<table border=\"1\" class=\"dataframe\">\n",
       "  <thead>\n",
       "    <tr style=\"text-align: right;\">\n",
       "      <th></th>\n",
       "      <th>subject</th>\n",
       "      <th>H.period</th>\n",
       "      <th>DD.period.t</th>\n",
       "      <th>UD.period.t</th>\n",
       "      <th>H.t</th>\n",
       "      <th>DD.t.i</th>\n",
       "      <th>UD.t.i</th>\n",
       "      <th>H.i</th>\n",
       "      <th>DD.i.e</th>\n",
       "      <th>UD.i.e</th>\n",
       "      <th>...</th>\n",
       "      <th>H.a</th>\n",
       "      <th>DD.a.n</th>\n",
       "      <th>UD.a.n</th>\n",
       "      <th>H.n</th>\n",
       "      <th>DD.n.l</th>\n",
       "      <th>UD.n.l</th>\n",
       "      <th>H.l</th>\n",
       "      <th>DD.l.Return</th>\n",
       "      <th>UD.l.Return</th>\n",
       "      <th>H.Return</th>\n",
       "    </tr>\n",
       "  </thead>\n",
       "  <tbody>\n",
       "    <tr>\n",
       "      <th>0</th>\n",
       "      <td>2</td>\n",
       "      <td>0.1491</td>\n",
       "      <td>0.3979</td>\n",
       "      <td>0.2488</td>\n",
       "      <td>0.1069</td>\n",
       "      <td>0.1674</td>\n",
       "      <td>0.0605</td>\n",
       "      <td>0.1169</td>\n",
       "      <td>0.2212</td>\n",
       "      <td>0.1043</td>\n",
       "      <td>...</td>\n",
       "      <td>0.1349</td>\n",
       "      <td>0.1484</td>\n",
       "      <td>0.0135</td>\n",
       "      <td>0.0932</td>\n",
       "      <td>0.3515</td>\n",
       "      <td>0.2583</td>\n",
       "      <td>0.1338</td>\n",
       "      <td>0.3509</td>\n",
       "      <td>0.2171</td>\n",
       "      <td>0.0742</td>\n",
       "    </tr>\n",
       "    <tr>\n",
       "      <th>1</th>\n",
       "      <td>2</td>\n",
       "      <td>0.1111</td>\n",
       "      <td>0.3451</td>\n",
       "      <td>0.2340</td>\n",
       "      <td>0.0694</td>\n",
       "      <td>0.1283</td>\n",
       "      <td>0.0589</td>\n",
       "      <td>0.0908</td>\n",
       "      <td>0.1357</td>\n",
       "      <td>0.0449</td>\n",
       "      <td>...</td>\n",
       "      <td>0.1412</td>\n",
       "      <td>0.2558</td>\n",
       "      <td>0.1146</td>\n",
       "      <td>0.1146</td>\n",
       "      <td>0.2642</td>\n",
       "      <td>0.1496</td>\n",
       "      <td>0.0839</td>\n",
       "      <td>0.2756</td>\n",
       "      <td>0.1917</td>\n",
       "      <td>0.0747</td>\n",
       "    </tr>\n",
       "    <tr>\n",
       "      <th>2</th>\n",
       "      <td>2</td>\n",
       "      <td>0.1328</td>\n",
       "      <td>0.2072</td>\n",
       "      <td>0.0744</td>\n",
       "      <td>0.0731</td>\n",
       "      <td>0.1291</td>\n",
       "      <td>0.0560</td>\n",
       "      <td>0.0821</td>\n",
       "      <td>0.1542</td>\n",
       "      <td>0.0721</td>\n",
       "      <td>...</td>\n",
       "      <td>0.1621</td>\n",
       "      <td>0.2332</td>\n",
       "      <td>0.0711</td>\n",
       "      <td>0.1172</td>\n",
       "      <td>0.2705</td>\n",
       "      <td>0.1533</td>\n",
       "      <td>0.1085</td>\n",
       "      <td>0.2847</td>\n",
       "      <td>0.1762</td>\n",
       "      <td>0.0945</td>\n",
       "    </tr>\n",
       "  </tbody>\n",
       "</table>\n",
       "<p>3 rows × 32 columns</p>\n",
       "</div>"
      ],
      "text/plain": [
       "   subject  H.period  DD.period.t  UD.period.t     H.t  DD.t.i  UD.t.i  \\\n",
       "0        2    0.1491       0.3979       0.2488  0.1069  0.1674  0.0605   \n",
       "1        2    0.1111       0.3451       0.2340  0.0694  0.1283  0.0589   \n",
       "2        2    0.1328       0.2072       0.0744  0.0731  0.1291  0.0560   \n",
       "\n",
       "      H.i  DD.i.e  UD.i.e  ...     H.a  DD.a.n  UD.a.n     H.n  DD.n.l  \\\n",
       "0  0.1169  0.2212  0.1043  ...  0.1349  0.1484  0.0135  0.0932  0.3515   \n",
       "1  0.0908  0.1357  0.0449  ...  0.1412  0.2558  0.1146  0.1146  0.2642   \n",
       "2  0.0821  0.1542  0.0721  ...  0.1621  0.2332  0.0711  0.1172  0.2705   \n",
       "\n",
       "   UD.n.l     H.l  DD.l.Return  UD.l.Return  H.Return  \n",
       "0  0.2583  0.1338       0.3509       0.2171    0.0742  \n",
       "1  0.1496  0.0839       0.2756       0.1917    0.0747  \n",
       "2  0.1533  0.1085       0.2847       0.1762    0.0945  \n",
       "\n",
       "[3 rows x 32 columns]"
      ]
     },
     "execution_count": 52,
     "metadata": {},
     "output_type": "execute_result"
    }
   ],
   "source": [
    "# drop unnecessary columns\n",
    "key_stroke_df = key_stroke_df.drop(['sessionIndex','rep'], axis='columns')\n",
    "key_stroke_df.head(3)"
   ]
  },
  {
   "cell_type": "code",
   "execution_count": 53,
   "metadata": {
    "datalore": {
     "hide_input_from_viewers": false,
     "hide_output_from_viewers": false,
     "type": "CODE"
    }
   },
   "outputs": [
    {
     "data": {
      "text/plain": [
       "(20400, 31)"
      ]
     },
     "execution_count": 53,
     "metadata": {},
     "output_type": "execute_result"
    }
   ],
   "source": [
    "# extract features and target attributes and \n",
    "# convert data to numpy arrays\n",
    "features = key_stroke_df.iloc[:,1:32].to_numpy()  \n",
    "target = key_stroke_df.subject.to_numpy()\n",
    "features.shape"
   ]
  },
  {
   "cell_type": "code",
   "execution_count": 10,
   "metadata": {},
   "outputs": [
    {
     "data": {
      "text/plain": [
       "array([ 2,  2,  2, ..., 57, 57, 57], dtype=int64)"
      ]
     },
     "execution_count": 10,
     "metadata": {},
     "output_type": "execute_result"
    }
   ],
   "source": [
    "target"
   ]
  },
  {
   "cell_type": "markdown",
   "metadata": {
    "datalore": {
     "hide_input_from_viewers": false,
     "hide_output_from_viewers": false,
     "type": "MD"
    }
   },
   "source": [
    "## Question 4\n",
    "Standardize the `features` array and name the resultant array `features_standardized`.  What is the mean value of the column that corresponds to the H.period feature in the features_standardized array? Choose the closest value."
   ]
  },
  {
   "cell_type": "code",
   "execution_count": 54,
   "metadata": {
    "datalore": {
     "hide_input_from_viewers": false,
     "hide_output_from_viewers": false,
     "type": "CODE"
    }
   },
   "outputs": [],
   "source": [
    "# standardize the features array using sklearn standard scaler\n",
    "from sklearn import preprocessing\n",
    "from sklearn.preprocessing import StandardScaler\n",
    "\n",
    "# Standardize features\n",
    "scaler = StandardScaler()\n",
    "features_standardized = scaler.fit_transform(features)\n",
    "\n",
    "# mean value of H.period\n",
    "val = np.mean(features_standardized[:, 0:1])"
   ]
  },
  {
   "cell_type": "code",
   "execution_count": 12,
   "metadata": {
    "datalore": {
     "hide_input_from_viewers": false,
     "hide_output_from_viewers": false,
     "type": "CODE"
    }
   },
   "outputs": [
    {
     "name": "stdout",
     "output_type": "stream",
     "text": [
      "The mean of the values in the `H.period` column is -0.0000\n"
     ]
    }
   ],
   "source": [
    "print('The mean of the values in the `H.period` column is {0:0.4f}'.format(val ))"
   ]
  },
  {
   "cell_type": "code",
   "execution_count": 13,
   "metadata": {},
   "outputs": [
    {
     "data": {
      "text/plain": [
       "-1.4489498925304005e-16"
      ]
     },
     "execution_count": 13,
     "metadata": {},
     "output_type": "execute_result"
    }
   ],
   "source": [
    "# another way\n",
    "np.mean(features_standardized, axis =0)[0]"
   ]
  },
  {
   "cell_type": "code",
   "execution_count": 126,
   "metadata": {
    "datalore": {
     "hide_input_from_viewers": false,
     "hide_output_from_viewers": false,
     "type": "CODE"
    }
   },
   "outputs": [
    {
     "data": {
      "text/plain": [
       "array([[ 1.88089501],\n",
       "       [ 0.59818883],\n",
       "       [ 1.33068157],\n",
       "       ...,\n",
       "       [ 0.01759551],\n",
       "       [-0.03641317],\n",
       "       [-1.14021559]])"
      ]
     },
     "execution_count": 126,
     "metadata": {},
     "output_type": "execute_result"
    }
   ],
   "source": [
    "# visual check on the standadized features, column 0\n",
    "features_standardized[:, 0:1]"
   ]
  },
  {
   "cell_type": "markdown",
   "metadata": {
    "datalore": {
     "hide_input_from_viewers": false,
     "hide_output_from_viewers": false,
     "type": "MD"
    }
   },
   "source": [
    "## Question 5\n",
    "We want to create classifier models that can distinguish between users based on keystroke dynamic features. Use the standardized features array and target array for this purpose. The target array will serve as the 'labels' that will be used to train and test our models.\n",
    "\n",
    "Split the data into training and test sets using sklearn `train_test_split` function. Set test_size = 0.2, and the random_state = 7.\n",
    "\n",
    "How many observations are in your training set?"
   ]
  },
  {
   "cell_type": "code",
   "execution_count": 55,
   "metadata": {
    "datalore": {
     "hide_input_from_viewers": false,
     "hide_output_from_viewers": false,
     "type": "CODE"
    }
   },
   "outputs": [],
   "source": [
    "from sklearn.model_selection import train_test_split\n",
    "\n",
    "# Split data into training and test set\n",
    "features_train, features_test, target_train, target_test = train_test_split(\n",
    "    features_standardized, target, test_size=0.2, random_state=7)   "
   ]
  },
  {
   "cell_type": "code",
   "execution_count": 15,
   "metadata": {
    "datalore": {
     "hide_input_from_viewers": false,
     "hide_output_from_viewers": false,
     "type": "CODE"
    }
   },
   "outputs": [
    {
     "name": "stdout",
     "output_type": "stream",
     "text": [
      "There are 16320 observations in the training set\n"
     ]
    }
   ],
   "source": [
    "print('There are {} observations in the training set'.format(str(np.size(features_train, axis=0))))"
   ]
  },
  {
   "cell_type": "markdown",
   "metadata": {
    "datalore": {
     "hide_input_from_viewers": false,
     "hide_output_from_viewers": false,
     "type": "MD"
    }
   },
   "source": [
    "## Question 6\n",
    "Create a simple baseline classifier to compare with our classifier models. Use `strategy = 'most_frequent'` to generate predictions of 'subject' based on keystroke dynamics. What is the prediction accuracy using this naive approach?"
   ]
  },
  {
   "cell_type": "code",
   "execution_count": 56,
   "metadata": {
    "datalore": {
     "hide_input_from_viewers": false,
     "hide_output_from_viewers": false,
     "type": "CODE"
    }
   },
   "outputs": [
    {
     "data": {
      "text/plain": [
       "0.0125"
      ]
     },
     "execution_count": 56,
     "metadata": {},
     "output_type": "execute_result"
    }
   ],
   "source": [
    "# Load libraries\n",
    "from sklearn.dummy import DummyClassifier\n",
    "\n",
    "# create a dummy classifier\n",
    "dummy = DummyClassifier(strategy='most_frequent')\n",
    "\n",
    "# \"Train\" model\n",
    "dummy.fit(features_train, target_train)\n",
    "\n",
    "# Get accuracy score. Scaore returns the mean accuracy on the given test data and labels\n",
    "dummy.score(features_test, target_test)"
   ]
  },
  {
   "cell_type": "code",
   "execution_count": 15,
   "metadata": {
    "datalore": {
     "hide_input_from_viewers": false,
     "hide_output_from_viewers": false,
     "type": "CODE"
    }
   },
   "outputs": [
    {
     "data": {
      "text/plain": [
       "0.0125"
      ]
     },
     "execution_count": 15,
     "metadata": {},
     "output_type": "execute_result"
    }
   ],
   "source": [
    "# splitting the data first and then standardize\n",
    "# Split data into training and test set\n",
    "features_train, features_test, target_train, target_test = train_test_split(\n",
    "    features, target, test_size=0.2, random_state=7)\n",
    "\n",
    "\n",
    "# Fit standardizer to training set\n",
    "scaler.fit(features_train)\n",
    "\n",
    "# Apply to both training and test sets\n",
    "features_train_std = scaler.transform(features_train)\n",
    "features_test_std = scaler.transform(features_test)\n",
    "\n",
    "# \"Train\" model\n",
    "dummy.fit(features_train_std, target_train)\n",
    "\n",
    "# Get accuracy score\n",
    "dummy.score(features_test_std, target_test)"
   ]
  },
  {
   "cell_type": "markdown",
   "metadata": {
    "datalore": {
     "hide_input_from_viewers": false,
     "hide_output_from_viewers": false,
     "type": "MD"
    }
   },
   "source": [
    "As we expected, since the dummy classifier does not take into account the training set, both results are the same "
   ]
  },
  {
   "cell_type": "markdown",
   "metadata": {
    "datalore": {
     "hide_input_from_viewers": false,
     "hide_output_from_viewers": false,
     "type": "MD"
    }
   },
   "source": [
    "## Question 7\n",
    "Create a decision tree classifier to predict the 'subject' based on keystroke dynamics. Use the default parameters with the exception of `random_state = 7`. What is the prediction accuracy using this model? ..."
   ]
  },
  {
   "cell_type": "code",
   "execution_count": 57,
   "metadata": {
    "datalore": {
     "hide_input_from_viewers": false,
     "hide_output_from_viewers": false,
     "type": "CODE"
    }
   },
   "outputs": [
    {
     "data": {
      "text/plain": [
       "0.7200980392156863"
      ]
     },
     "execution_count": 57,
     "metadata": {},
     "output_type": "execute_result"
    }
   ],
   "source": [
    "from sklearn.tree import DecisionTreeClassifier\n",
    "\n",
    "# Create classifier\n",
    "classifier = DecisionTreeClassifier(random_state = 7)\n",
    "\n",
    "# Train model with the standardized data\n",
    "classifier.fit(features_train, target_train)\n",
    "\n",
    "# Get accuracy score\n",
    "classifier.score(features_test, target_test)   "
   ]
  },
  {
   "cell_type": "markdown",
   "metadata": {
    "datalore": {
     "hide_input_from_viewers": false,
     "hide_output_from_viewers": false,
     "type": "MD"
    }
   },
   "source": [
    "## Question 8\n",
    "Create a random forest classifier to predict the 'subject' based on keystroke dynamics. Use the default parameters with the exception of `random_state = 7` and `n_jobs = -1`. What is the prediction accuracy using this model?"
   ]
  },
  {
   "cell_type": "code",
   "execution_count": 58,
   "metadata": {
    "datalore": {
     "hide_input_from_viewers": false,
     "hide_output_from_viewers": false,
     "type": "CODE"
    }
   },
   "outputs": [
    {
     "data": {
      "text/plain": [
       "0.9284313725490196"
      ]
     },
     "execution_count": 58,
     "metadata": {},
     "output_type": "execute_result"
    }
   ],
   "source": [
    "# Load libraries\n",
    "from sklearn.ensemble import RandomForestClassifier\n",
    "from sklearn.metrics import accuracy_score\n",
    "\n",
    "# Create classifier\n",
    "rf_classifier = RandomForestClassifier(random_state = 7, n_jobs = -1 )\n",
    "\n",
    "# Train model with the standardized data\n",
    "rf_classifier.fit(features_train, target_train)\n",
    "\n",
    "# Get accuracy score\n",
    "rf_classifier.score(features_test, target_test)\n",
    "\n",
    "# Calculate accuracy\n",
    "accuracy_score(target_test, rf_classifier.predict(features_test))"
   ]
  },
  {
   "cell_type": "markdown",
   "metadata": {
    "datalore": {
     "hide_input_from_viewers": false,
     "hide_output_from_viewers": false,
     "type": "MD"
    }
   },
   "source": [
    "## Question 9\n",
    "Using the method discussed in the guided exercise on Trees and Forests, determine the most important features identified by the random forest model. Which of the following statements is true?"
   ]
  },
  {
   "cell_type": "code",
   "execution_count": 23,
   "metadata": {
    "datalore": {
     "hide_input_from_viewers": false,
     "hide_output_from_viewers": false,
     "type": "CODE"
    }
   },
   "outputs": [
    {
     "name": "stdout",
     "output_type": "stream",
     "text": [
      "Index(['H.period', 'DD.period.t', 'UD.period.t', 'H.t', 'DD.t.i', 'UD.t.i',\n",
      "       'H.i', 'DD.i.e', 'UD.i.e', 'H.e', 'DD.e.five', 'UD.e.five', 'H.five',\n",
      "       'DD.five.Shift.r', 'UD.five.Shift.r', 'H.Shift.r', 'DD.Shift.r.o',\n",
      "       'UD.Shift.r.o', 'H.o', 'DD.o.a', 'UD.o.a', 'H.a', 'DD.a.n', 'UD.a.n',\n",
      "       'H.n', 'DD.n.l', 'UD.n.l', 'H.l', 'DD.l.Return', 'UD.l.Return',\n",
      "       'H.Return'],\n",
      "      dtype='object')\n"
     ]
    },
    {
     "data": {
      "image/png": "[encoded data removed]",
      "text/plain": [
       "<Figure size 1440x720 with 1 Axes>"
      ]
     },
     "metadata": {
      "needs_background": "light"
     },
     "output_type": "display_data"
    }
   ],
   "source": [
    "# recover the names of the features in the `features_standardized` \n",
    "# array from the original DataFrame\n",
    "\n",
    "names = key_stroke_df.columns[1:]\n",
    "print(names)\n",
    "\n",
    "importances = rf_classifier.feature_importances_\n",
    "\n",
    "# Sort the feature importance in descending order\n",
    "sorted_indices = np.argsort(importances)[::-1]\n",
    "\n",
    "key_stroke_df2 = key_stroke_df.drop(['subject'], axis='columns')\n",
    "\n",
    "# trying the barchart with seaborn\n",
    "fig, ax = plt.subplots(figsize=(20, 10))\n",
    "ax = sns.barplot(x=key_stroke_df2.columns[sorted_indices], y=importances[sorted_indices])\n",
    "ax.set(title='Importance of features of a Random Forest')\n",
    "ax.set(xlabel='features')\n",
    "ax.set(ylabel='importance')\n",
    "ax.set_xticklabels(ax.get_xticklabels(), rotation=45, horizontalalignment='right')\n",
    "plt.show()"
   ]
  },
  {
   "cell_type": "code",
   "execution_count": null,
   "metadata": {},
   "outputs": [],
   "source": []
  },
  {
   "cell_type": "markdown",
   "metadata": {
    "datalore": {
     "hide_input_from_viewers": false,
     "hide_output_from_viewers": false,
     "type": "MD"
    }
   },
   "source": [
    "From the chart we observe that **'H.Shift.r'** is more important than **'DD.period.t'**"
   ]
  },
  {
   "cell_type": "code",
   "execution_count": 142,
   "metadata": {
    "datalore": {
     "hide_input_from_viewers": false,
     "hide_output_from_viewers": false,
     "type": "CODE"
    }
   },
   "outputs": [
    {
     "name": "stdout",
     "output_type": "stream",
     "text": [
      "False\n",
      "False\n",
      "True\n",
      "False\n",
      "False\n"
     ]
    }
   ],
   "source": [
    "# 'H.five' is more important than 'H.a'\n",
    "print(importances[names.get_loc('H.five')] > importances[names.get_loc('H.a')])\n",
    "# 'H.Return' is more important than 'DD.l.Return'\n",
    "print(importances[names.get_loc('H.Return')] > importances[names.get_loc('DD.l.Return')])\n",
    "# 'H.Shift.r' is more important than 'DD.period.t'\n",
    "print(importances[names.get_loc('H.Shift.r')] > importances[names.get_loc('DD.period.t')])\n",
    "# 'UD.e.five' is more important than 'H.n'\n",
    "print(importances[names.get_loc('UD.e.five')] > importances[names.get_loc('H.n')])\n",
    "# 'DD.period.t' is more important than 'H.Shift.r'\n",
    "print(importances[names.get_loc('DD.period.t')] > importances[names.get_loc('H.Shift.r')])"
   ]
  },
  {
   "cell_type": "markdown",
   "metadata": {
    "datalore": {
     "hide_input_from_viewers": false,
     "hide_output_from_viewers": false,
     "type": "MD"
    }
   },
   "source": [
    "## Question 10\n",
    "\n",
    "Evaluate the change in performance of the random forest model if we restrict the number of features to those most important by thresholding. Using the method discussed in the guided exercise on Trees and Forests, retrain the random forest model using only the most important features. Do this by setting the `threshold = 0.04` in the `SelectFromModel` transformer (This will retain about 4 features). Which of the following statements is true?"
   ]
  },
  {
   "cell_type": "code",
   "execution_count": 25,
   "metadata": {
    "datalore": {
     "hide_input_from_viewers": false,
     "hide_output_from_viewers": false,
     "type": "CODE"
    }
   },
   "outputs": [
    {
     "data": {
      "text/plain": [
       "0.5634803921568627"
      ]
     },
     "execution_count": 25,
     "metadata": {},
     "output_type": "execute_result"
    }
   ],
   "source": [
    "# Load library\n",
    "from sklearn.feature_selection import SelectFromModel\n",
    "from sklearn.metrics import accuracy_score\n",
    "\n",
    "# Create object that selects features with importance greater\n",
    "# than or equal to a threshold\n",
    "selector = SelectFromModel(rf_classifier, threshold=0.04)\n",
    "\n",
    "# Feature new feature matrix using selector\n",
    "features_important = selector.fit_transform(features_train, target_train)\n",
    "\n",
    "# Train random forest using most important features\n",
    "model = rf_classifier.fit(features_important, target_train)\n",
    "\n",
    "# see the features that were selected\n",
    "selected_features = selector.get_feature_names_out(names)\n",
    "\n",
    "# get the new feature_test set with the 4 selected features\n",
    "f1 =names.get_loc(selector.get_feature_names_out(names)[0])\n",
    "f2 =names.get_loc(selector.get_feature_names_out(names)[1])\n",
    "f3 =names.get_loc(selector.get_feature_names_out(names)[2])\n",
    "f4 =names.get_loc(selector.get_feature_names_out(names)[3])\n",
    "fetures_test_inmportant= features_test[:, [f1, f2, f3, f4]]\n",
    "    \n",
    "# Get accuracy score\n",
    "rf_classifier.score(fetures_test_inmportant, target_test)\n"
   ]
  },
  {
   "cell_type": "code",
   "execution_count": 26,
   "metadata": {
    "datalore": {
     "hide_input_from_viewers": false,
     "hide_output_from_viewers": false,
     "type": "CODE"
    }
   },
   "outputs": [],
   "source": [
    "selector.get_feature_names_out(names)\n",
    "f1 =names.get_loc(selector.get_feature_names_out(names)[0])\n",
    "f2 =names.get_loc(selector.get_feature_names_out(names)[1])\n",
    "f3 =names.get_loc(selector.get_feature_names_out(names)[2])\n",
    "f4 =names.get_loc(selector.get_feature_names_out(names)[3])"
   ]
  },
  {
   "cell_type": "code",
   "execution_count": 29,
   "metadata": {
    "datalore": {
     "hide_input_from_viewers": false,
     "hide_output_from_viewers": false,
     "type": "CODE"
    }
   },
   "outputs": [
    {
     "data": {
      "text/plain": [
       "array(['H.Shift.r', 'H.a', 'UD.n.l', 'UD.l.Return'], dtype=object)"
      ]
     },
     "execution_count": 29,
     "metadata": {},
     "output_type": "execute_result"
    }
   ],
   "source": [
    "selector.get_feature_names_out(names)"
   ]
  },
  {
   "cell_type": "markdown",
   "metadata": {
    "datalore": {
     "hide_input_from_viewers": false,
     "hide_output_from_viewers": false,
     "type": "MD"
    }
   },
   "source": [
    "## Question 11\n",
    "Our cyber security team has identified subject `s002` as an insider threat, based on various abnormal indicators. Our goal is to create a binary classifier that detects s002's signature. Observations with features that correspond to s002 are considered abnormal. All other observations are considered normal. For classifier modeling, use the same `features_standardized` feature matrix from earlier, but transform the target vector to have values of either 0 or 1. If the user in the target vector is s002 label that observation a '0'. All other observations should have a class designation of '1'. You might find it better to make these assignments as integers vice strings.\n",
    "\n",
    "We want to compare two binary classifiers, a random forest classifier (Model A) and a nearest neighbor classifier (Model B). A nearest neighbor classifier predicts the class of an observation based on the class of its neighbors. Note: you'll need to load the following library: `from sklearn.neighbors import KNeighborsClassifier`\n",
    "\n",
    "In training the new models, split the data into training and test sets using sklearn. Set `test_size = 0.2`, and the `random_state = 7`.\n",
    "\n",
    "For training the KNeighborsClassifier, set `n_neighbors = 3`.\n",
    "\n",
    "Plot the receiver operating characteristic curve for each classifier and report which model is preferred. Base your decision on the area under the curve method  "
   ]
  },
  {
   "cell_type": "code",
   "execution_count": 44,
   "metadata": {
    "datalore": {
     "hide_input_from_viewers": false,
     "hide_output_from_viewers": false,
     "type": "CODE"
    }
   },
   "outputs": [
    {
     "data": {
      "image/png": "[encoded data removed]",
      "text/plain": [
       "<Figure size 432x288 with 1 Axes>"
      ]
     },
     "metadata": {
      "needs_background": "light"
     },
     "output_type": "display_data"
    },
    {
     "name": "stdout",
     "output_type": "stream",
     "text": [
      "Accuracy of Model A (Random Forest classifier): 0.9899509803921569 Accuracy of Model B (K-nearest classifier): 0.9911764705882353\n"
     ]
    }
   ],
   "source": [
    "# Load libraries\n",
    "from sklearn.neighbors import KNeighborsClassifier\n",
    "from sklearn.metrics import roc_curve, roc_auc_score\n",
    "\n",
    "# Step 1: transform target into a binary set\n",
    "target2 = list ()\n",
    "for x in target:\n",
    "    if x == 2:\n",
    "        target2.append(0)\n",
    "    else:\n",
    "        target2.append(1)\n",
    "\n",
    "bin_target = np.array(target2)\n",
    "\n",
    "\n",
    "# Step 2: split the data first and then standardize\n",
    "# Split data into training and test set\n",
    "features_train, features_test, target_train, target_test = train_test_split(\n",
    "    features, bin_target, test_size=0.2, random_state=7)\n",
    "\n",
    "\n",
    "# Fit standardizer to training set\n",
    "scaler.fit(features_train)\n",
    "\n",
    "# Apply to both training and test sets\n",
    "features_train_std = scaler.transform(features_train)\n",
    "features_test_std = scaler.transform(features_test)\n",
    "\n",
    "# Step 3: create the Random forest Classifier\n",
    "rf_classifier = RandomForestClassifier(random_state = 7, n_jobs = -1 )\n",
    "\n",
    "# Train model with the standardized data\n",
    "rf_classifier.fit(features_train_std, target_train)\n",
    "\n",
    "# Get accuracy score\n",
    "rf_accuracy=rf_classifier.score(features_test_std, target_test)\n",
    "\n",
    "# Step 4: create a nearest neighbor classifier\n",
    "kn_classifier = KNeighborsClassifier(n_neighbors = 3 )\n",
    "           \n",
    "# Train model with the standardized data\n",
    "kn_classifier.fit(features_train_std, target_train)\n",
    "\n",
    "# Get accuracy score\n",
    "kn_accuracy = kn_classifier.score(features_test_std, target_test)\n",
    "\n",
    "# Create true and false positive rates for ramdom forest\n",
    "target_hat = rf_classifier.predict_proba(features_test_std)[:,1]\n",
    "false_positive_rate, true_positive_rate, threshold = roc_curve(target_test,\n",
    "                                                               target_hat)\n",
    "\n",
    "# Plot ROC curve\n",
    "plt.title(\"Receiver Operating Characteristicfor Random Forest Classifier\")\n",
    "plt.plot(false_positive_rate, true_positive_rate)\n",
    "plt.plot([0, 1], ls=\"--\")\n",
    "plt.plot([0, 0], [1, 0] , c=\".7\"), plt.plot([1, 1] , c=\".7\")\n",
    "plt.ylabel(\"True Positive Rate\")\n",
    "plt.xlabel(\"False Positive Rate\")\n",
    "plt.show()\n",
    "print('Accuracy of Model A (Random Forest classifier): {} Accuracy of Model B (K-nearest classifier): {}'.format(rf_accuracy, kn_accuracy) )"
   ]
  },
  {
   "cell_type": "code",
   "execution_count": 37,
   "metadata": {},
   "outputs": [
    {
     "data": {
      "image/png": "[encoded data removed]",
      "text/plain": [
       "<Figure size 432x288 with 1 Axes>"
      ]
     },
     "metadata": {
      "needs_background": "light"
     },
     "output_type": "display_data"
    },
    {
     "name": "stdout",
     "output_type": "stream",
     "text": [
      "Accuracy of Model A (Random Forest classifier): 0.9899509803921569 Accuracy of Model B (K-nearest classifier): 0.9904411764705883\n"
     ]
    }
   ],
   "source": [
    "#  option b: standardize features and then split the data\n",
    "# Load libraries\n",
    "from sklearn.neighbors import KNeighborsClassifier\n",
    "from sklearn.metrics import roc_curve, roc_auc_score\n",
    "\n",
    "# Step 1: transform target into a binary set\n",
    "target2 = list ()\n",
    "for x in target:\n",
    "    if x == 2:\n",
    "        target2.append(0)\n",
    "    else:\n",
    "        target2.append(1)\n",
    "\n",
    "bin_target = np.array(target2)\n",
    "\n",
    "# Step 2: split the data first and then standardize\n",
    "# Split data into training and test set\n",
    "features_train, features_test, target_train, target_test = train_test_split(\n",
    "    features_standardized, bin_target, test_size=0.2, random_state=7)\n",
    "\n",
    "# Step 3: create the Random forest Classifier\n",
    "rf_classifier = RandomForestClassifier(random_state = 7, n_jobs = -1 )\n",
    "\n",
    "# Train model with the standardized data\n",
    "rf_classifier.fit(features_train, target_train)\n",
    "\n",
    "# Get accuracy score\n",
    "rf_accuracy=rf_classifier.score(features_test, target_test)\n",
    "\n",
    "# Step 4: create a nearest neighbor classifier\n",
    "kn_classifier = KNeighborsClassifier(n_neighbors = 3 )\n",
    "           \n",
    "# Train model with the standardized data\n",
    "kn_classifier.fit(features_train, target_train)\n",
    "\n",
    "# Get accuracy score\n",
    "kn_accuracy = kn_classifier.score(features_test, target_test)\n",
    "\n",
    "# Create true and false positive rates for ramdom forest\n",
    "target_hat = rf_classifier.predict_proba(features_test)[:,1]\n",
    "false_positive_rate, true_positive_rate, threshold = roc_curve(target_test,\n",
    "                                                               target_hat)\n",
    "\n",
    "# Plot ROC curve\n",
    "plt.title(\"Receiver Operating Characteristicfor Random Forest Classifier\")\n",
    "plt.plot(false_positive_rate, true_positive_rate)\n",
    "plt.plot([0, 1], ls=\"--\")\n",
    "plt.plot([0, 0], [1, 0] , c=\".7\"), plt.plot([1, 1] , c=\".7\")\n",
    "plt.ylabel(\"True Positive Rate\")\n",
    "plt.xlabel(\"False Positive Rate\")\n",
    "plt.show()\n",
    "print('Accuracy of Model A (Random Forest classifier): {} Accuracy of Model B (K-nearest classifier): {}'.format(rf_accuracy, kn_accuracy) )"
   ]
  },
  {
   "cell_type": "code",
   "execution_count": 40,
   "metadata": {
    "datalore": {
     "hide_input_from_viewers": false,
     "hide_output_from_viewers": false,
     "type": "CODE"
    }
   },
   "outputs": [
    {
     "data": {
      "image/png": "[encoded data removed]",
      "text/plain": [
       "<Figure size 432x288 with 1 Axes>"
      ]
     },
     "metadata": {
      "needs_background": "light"
     },
     "output_type": "display_data"
    }
   ],
   "source": [
    "# Create true and false positive rates for k-nn\n",
    "target_hat = kn_classifier.predict_proba(features_test)[:,1]\n",
    "false_positive_rate, true_positive_rate, threshold = roc_curve(target_test,\n",
    "                                                               target_hat)\n",
    "\n",
    "# Plot ROC curve\n",
    "plt.title(\"Receiver Operating Characteristic for K-nearest Neighbour\")\n",
    "plt.plot(false_positive_rate, true_positive_rate)\n",
    "plt.plot([0, 1], ls=\"--\")\n",
    "plt.plot([0, 0], [1, 0] , c=\".7\"), plt.plot([1, 1] , c=\".7\")\n",
    "plt.ylabel(\"True Positive Rate\")\n",
    "plt.xlabel(\"False Positive Rate\")\n",
    "plt.show()"
   ]
  },
  {
   "cell_type": "code",
   "execution_count": 61,
   "metadata": {},
   "outputs": [
    {
     "data": {
      "text/plain": [
       "array([[0.02, 0.98],\n",
       "       [0.  , 1.  ],\n",
       "       [0.  , 1.  ],\n",
       "       ...,\n",
       "       [0.  , 1.  ],\n",
       "       [0.01, 0.99],\n",
       "       [0.  , 1.  ]])"
      ]
     },
     "execution_count": 61,
     "metadata": {},
     "output_type": "execute_result"
    }
   ],
   "source": [
    "rf_classifier.predict_proba(features_test)"
   ]
  },
  {
   "cell_type": "markdown",
   "metadata": {},
   "source": [
    "Base on the area under the ROC curve, **RF classifier (Model A)** seems a better option to identify the insider threat. However **Model B** has a better accuracy (0.9911). A binay dummy classifier woud predict `not_insider` with accuracy of 98.25%, so model A only performs a little better than the dummy."
   ]
  },
  {
   "cell_type": "markdown",
   "metadata": {
    "datalore": {
     "hide_input_from_viewers": false,
     "hide_output_from_viewers": false,
     "type": "MD"
    }
   },
   "source": [
    "## Challenge Question (add 3 extra points to final grade)\n",
    "Using the integer-valued `target` vector and the `features_standardized` matrix to develop an 'improved' multiclass classification model, that can be used to distinguish users from one another.  You can use any of the supervised-learning approaches offered in `sklearn` and you can adjust hyperparameters as desired.  Use accuracy to measure your model's performance.\n",
    "\n",
    "I will create a forum in Sakai, please post the type of \"model\" employed (i.e., random forest, nearest neighbor, svm) and the highest accuracy achieved.\n",
    "\n",
    "    Example:    Decision Tree: accuracy = 0.994 \n",
    "\n",
    "Some ideas can be found [here](https://scikit-learn.org/stable/auto_examples/classification/plot_classifier_comparison.html).\n",
    "\n",
    "### Have fun!!!\n",
    "\n"
   ]
  },
  {
   "cell_type": "code",
   "execution_count": 73,
   "metadata": {},
   "outputs": [
    {
     "name": "stderr",
     "output_type": "stream",
     "text": [
      "C:\\Users\\UACIS\\anaconda3\\lib\\site-packages\\sklearn\\linear_model\\_logistic.py:444: ConvergenceWarning: lbfgs failed to converge (status=1):\n",
      "STOP: TOTAL NO. of ITERATIONS REACHED LIMIT.\n",
      "\n",
      "Increase the number of iterations (max_iter) or scale the data as shown in:\n",
      "    https://scikit-learn.org/stable/modules/preprocessing.html\n",
      "Please also refer to the documentation for alternative solver options:\n",
      "    https://scikit-learn.org/stable/modules/linear_model.html#logistic-regression\n",
      "  n_iter_i = _check_optimize_result(\n"
     ]
    },
    {
     "data": {
      "text/plain": [
       "0.8313725490196079"
      ]
     },
     "execution_count": 73,
     "metadata": {},
     "output_type": "execute_result"
    }
   ],
   "source": [
    "# let's try a logistic regression\n",
    "# Load libraries\n",
    "from sklearn.model_selection import cross_val_score\n",
    "from sklearn.linear_model import LogisticRegression\n",
    "\n",
    "# Split data into training and test set\n",
    "features_train, features_test, target_train, target_test = train_test_split(\n",
    "    features_standardized, target, test_size=0.2, random_state=7)  \n",
    "\n",
    "# Create logistic regression\n",
    "logit = LogisticRegression()\n",
    "\n",
    "# Train model with the standardized data\n",
    "logit.fit(features_train, target_train)\n",
    "\n",
    "# Get accuracy score\n",
    "logit_accuracy=logit.score(features_test, target_test)\n",
    "logit_accuracy"
   ]
  },
  {
   "cell_type": "code",
   "execution_count": 59,
   "metadata": {},
   "outputs": [
    {
     "data": {
      "text/plain": [
       "0.7156862745098039"
      ]
     },
     "execution_count": 59,
     "metadata": {},
     "output_type": "execute_result"
    }
   ],
   "source": [
    "# let's try a decission tree\n",
    "# Load libraries\n",
    "from sklearn.tree import DecisionTreeClassifier\n",
    "\n",
    "# Create dt regression\n",
    "dt_csf = DecisionTreeClassifier(max_depth =30)\n",
    "\n",
    "# Train model with the standardized data\n",
    "dt_csf.fit(features_train, target_train)\n",
    "\n",
    "# Get accuracy score\n",
    "dt_csf_accuracy=dt_csf.score(features_test, target_test)\n",
    "dt_csf_accuracy"
   ]
  },
  {
   "cell_type": "code",
   "execution_count": 93,
   "metadata": {},
   "outputs": [
    {
     "data": {
      "image/png": "[encoded data removed]",
      "text/plain": [
       "<Figure size 432x288 with 1 Axes>"
      ]
     },
     "metadata": {
      "needs_background": "light"
     },
     "output_type": "display_data"
    }
   ],
   "source": [
    "from sklearn.svm import SVC\n",
    "from sklearn.model_selection import validation_curve\n",
    "\n",
    "# Create svc classifier\n",
    "svc_csf = SVC()\n",
    "\n",
    "# Train model with the standardized data\n",
    "svc_csf.fit(features_train, target_train)\n",
    "\n",
    "# Get accuracy score\n",
    "svc_csf_accuracy=svc_csf.score(features_test, target_test)\n",
    "svc_csf_accuracy\n",
    "\n",
    "# Create range of values for parameter\n",
    "#param_range = list['linear', 'poly', 'rbf', 'sigmoid', 'precomputed']\n",
    "param_range = np.arange(1, 10, 1)\n",
    "\n",
    "# Calculate accuracy on training and test set using range of parameter values\n",
    "train_scores, test_scores = validation_curve(\n",
    "    # Classifier\n",
    "    SVC(kernel = 'poly'),\n",
    "    # Feature matrix\n",
    "    features_standardized,\n",
    "    # Target vector\n",
    "    target,\n",
    "    # Hyperparameter to examine\n",
    "    param_name=\"degree\",\n",
    "    # Range of hyperparameter's values\n",
    "    param_range=param_range,\n",
    "    # Number of folds\n",
    "    cv=3,\n",
    "    # Performance metric\n",
    "    scoring=\"accuracy\",\n",
    "    # Use all computer cores\n",
    "    n_jobs=-1)\n",
    "\n",
    "# Calculate mean and standard deviation for training set scores\n",
    "train_mean = np.mean(train_scores, axis=1)\n",
    "train_std = np.std(train_scores, axis=1)\n",
    "\n",
    "# Calculate mean and standard deviation for test set scores\n",
    "test_mean = np.mean(test_scores, axis=1)\n",
    "test_std = np.std(test_scores, axis=1)\n",
    "\n",
    "# Plot mean accuracy scores for training and test sets\n",
    "plt.plot(param_range, train_mean, label=\"Training score\", color=\"black\")\n",
    "plt.plot(param_range, test_mean, label=\"Cross-validation score\", color=\"dimgrey\")\n",
    "\n",
    "# Plot accurancy bands for training and test sets\n",
    "plt.fill_between(param_range, train_mean - train_std,\n",
    "                 train_mean + train_std, color=\"gray\")\n",
    "plt.fill_between(param_range, test_mean - test_std,\n",
    "                 test_mean + test_std, color=\"gainsboro\")\n",
    "\n",
    "# Create plot\n",
    "plt.title(\"Validation Curve With SVC\")\n",
    "plt.xlabel(\"Number Of Polynomial degrees\")\n",
    "plt.ylabel(\"Accuracy Score\")\n",
    "plt.tight_layout()\n",
    "plt.legend(loc=\"best\")\n",
    "plt.show()"
   ]
  },
  {
   "cell_type": "code",
   "execution_count": 60,
   "metadata": {},
   "outputs": [
    {
     "data": {
      "text/plain": [
       "0.8818627450980392"
      ]
     },
     "execution_count": 60,
     "metadata": {},
     "output_type": "execute_result"
    }
   ],
   "source": [
    "from sklearn.svm import SVC\n",
    "\n",
    "# Create svc classifier\n",
    "svc_csf = SVC(kernel = 'rbf')\n",
    "\n",
    "# Train model with the standardized data\n",
    "svc_csf.fit(features_train, target_train)\n",
    "\n",
    "# Get accuracy score\n",
    "svc_csf_accuracy=svc_csf.score(features_test, target_test)\n",
    "svc_csf_accuracy\n"
   ]
  },
  {
   "cell_type": "code",
   "execution_count": 61,
   "metadata": {},
   "outputs": [
    {
     "data": {
      "image/png": "[encoded data removed]",
      "text/plain": [
       "<Figure size 432x288 with 1 Axes>"
      ]
     },
     "metadata": {
      "needs_background": "light"
     },
     "output_type": "display_data"
    }
   ],
   "source": [
    "from sklearn.neighbors import KNeighborsClassifier\n",
    "from sklearn.model_selection import validation_curve\n",
    "\n",
    "# Create svc classifier\n",
    "kn_csf = KNeighborsClassifier()\n",
    "\n",
    "# Train model with the standardized data\n",
    "#kn_csf.fit(features_train, target_train)\n",
    "\n",
    "# Get accuracy score\n",
    "#kn_csf_accuracy=kn_csf.score(features_test, target_test)\n",
    "#kn_csf_accuracy\n",
    "\n",
    "# Create range of values for parameter\n",
    "#param_range = list['linear', 'poly', 'rbf', 'sigmoid', 'precomputed']\n",
    "param_range = np.arange(1, 11, 2)\n",
    "\n",
    "# Calculate accuracy on training and test set using range of parameter values\n",
    "train_scores, test_scores = validation_curve(\n",
    "    # Classifier\n",
    "    kn_csf,\n",
    "    # Feature matrix\n",
    "    features_standardized,\n",
    "    # Target vector\n",
    "    target,\n",
    "    # Hyperparameter to examine\n",
    "    param_name=\"n_neighbors\",\n",
    "    # Range of hyperparameter's values\n",
    "    param_range=param_range,\n",
    "    # Number of folds\n",
    "    cv=3,\n",
    "    # Performance metric\n",
    "    scoring=\"accuracy\",\n",
    "    # Use all computer cores\n",
    "    n_jobs=-1)\n",
    "\n",
    "# Calculate mean and standard deviation for training set scores\n",
    "train_mean = np.mean(train_scores, axis=1)\n",
    "train_std = np.std(train_scores, axis=1)\n",
    "\n",
    "# Calculate mean and standard deviation for test set scores\n",
    "test_mean = np.mean(test_scores, axis=1)\n",
    "test_std = np.std(test_scores, axis=1)\n",
    "\n",
    "# Plot mean accuracy scores for training and test sets\n",
    "plt.plot(param_range, train_mean, label=\"Training score\", color=\"black\")\n",
    "plt.plot(param_range, test_mean, label=\"Cross-validation score\", color=\"dimgrey\")\n",
    "\n",
    "# Plot accurancy bands for training and test sets\n",
    "plt.fill_between(param_range, train_mean - train_std,\n",
    "                 train_mean + train_std, color=\"gray\")\n",
    "plt.fill_between(param_range, test_mean - test_std,\n",
    "                 test_mean + test_std, color=\"gainsboro\")\n",
    "\n",
    "# Create plot\n",
    "plt.title(\"Validation Curve With K-nearest Neighbours\")\n",
    "plt.xlabel(\"Number Of Neighbours\")\n",
    "plt.ylabel(\"Accuracy Score\")\n",
    "plt.tight_layout()\n",
    "plt.legend(loc=\"best\")\n",
    "plt.show()"
   ]
  },
  {
   "cell_type": "code",
   "execution_count": 64,
   "metadata": {},
   "outputs": [
    {
     "data": {
      "text/plain": [
       "array([1.        , 0.91870098, 0.90605392, 0.89443627, 0.88637255])"
      ]
     },
     "execution_count": 64,
     "metadata": {},
     "output_type": "execute_result"
    }
   ],
   "source": [
    "train_mean"
   ]
  },
  {
   "cell_type": "code",
   "execution_count": 68,
   "metadata": {},
   "outputs": [
    {
     "data": {
      "text/plain": [
       "0.8392156862745098"
      ]
     },
     "execution_count": 68,
     "metadata": {},
     "output_type": "execute_result"
    }
   ],
   "source": [
    "# Create svc classifier\n",
    "kn_csf = KNeighborsClassifier(n_neighbors =9)\n",
    "\n",
    "# Train model with the standardized data\n",
    "kn_csf.fit(features_train, target_train)\n",
    "\n",
    "# Get accuracy score\n",
    "kn_csf_accuracy=kn_csf.score(features_test, target_test)\n",
    "kn_csf_accuracy"
   ]
  },
  {
   "cell_type": "code",
   "execution_count": 72,
   "metadata": {},
   "outputs": [
    {
     "data": {
      "text/plain": [
       "array([32, 39,  7, ..., 37,  3, 11], dtype=int64)"
      ]
     },
     "execution_count": 72,
     "metadata": {},
     "output_type": "execute_result"
    }
   ],
   "source": [
    "kn_csf.predict(features_test)"
   ]
  },
  {
   "cell_type": "code",
   "execution_count": 87,
   "metadata": {},
   "outputs": [
    {
     "data": {
      "image/png": "[encoded data removed]",
      "text/plain": [
       "<Figure size 432x288 with 1 Axes>"
      ]
     },
     "metadata": {
      "needs_background": "light"
     },
     "output_type": "display_data"
    }
   ],
   "source": [
    "# try a random forest classifier\n",
    "# Load libraries\n",
    "from sklearn.ensemble import RandomForestClassifier\n",
    "from sklearn.model_selection import validation_curve\n",
    "from sklearn.metrics import accuracy_score\n",
    "\n",
    "# Create classifier\n",
    "rf_classifier = RandomForestClassifier(random_state = 7, n_jobs = -1 )\n",
    "\n",
    "# Train model with the standardized data\n",
    "#rf_classifier.fit(features_train, target_train)\n",
    "\n",
    "# Get accuracy score\n",
    "#rf_classifier.score(features_test, target_test)\n",
    "\n",
    "# Calculate accuracy\n",
    "#accuracy_score(target_test, rf_classifier.predict(features_test))\n",
    "\n",
    "\n",
    "param_range = np.arange(8,100, 2)\n",
    "\n",
    "# Calculate accuracy on training and test set using range of parameter values\n",
    "train_scores, test_scores = validation_curve(\n",
    "    # Classifier\n",
    "    rf_classifier,\n",
    "    # Feature matrix\n",
    "    features_standardized,\n",
    "    # Target vector\n",
    "    target,\n",
    "    # Hyperparameter to examine\n",
    "    param_name=\"max_depth\",\n",
    "    # Range of hyperparameter's values\n",
    "    param_range=param_range,\n",
    "    # Number of folds\n",
    "    cv=3,\n",
    "    # Performance metric\n",
    "    scoring=\"accuracy\",\n",
    "    # Use all computer cores\n",
    "    n_jobs=-1)\n",
    "\n",
    "# Calculate mean and standard deviation for training set scores\n",
    "train_mean = np.mean(train_scores, axis=1)\n",
    "train_std = np.std(train_scores, axis=1)\n",
    "\n",
    "# Calculate mean and standard deviation for test set scores\n",
    "test_mean = np.mean(test_scores, axis=1)\n",
    "test_std = np.std(test_scores, axis=1)\n",
    "\n",
    "# Plot mean accuracy scores for training and test sets\n",
    "plt.plot(param_range, train_mean, label=\"Training score\", color=\"black\")\n",
    "plt.plot(param_range, test_mean, label=\"Cross-validation score\", color=\"dimgrey\")\n",
    "\n",
    "# Plot accurancy bands for training and test sets\n",
    "plt.fill_between(param_range, train_mean - train_std,\n",
    "                 train_mean + train_std, color=\"gray\")\n",
    "plt.fill_between(param_range, test_mean - test_std,\n",
    "                 test_mean + test_std, color=\"gainsboro\")\n",
    "\n",
    "# Create plot\n",
    "plt.title(\"Validation Curve With Random Forest\")\n",
    "plt.xlabel(\"Max depth of the forest\")\n",
    "plt.ylabel(\"Accuracy Score\")\n",
    "plt.tight_layout()\n",
    "plt.legend(loc=\"best\")\n",
    "plt.show()"
   ]
  },
  {
   "cell_type": "code",
   "execution_count": 85,
   "metadata": {},
   "outputs": [
    {
     "data": {
      "text/plain": [
       "0.9343137254901961"
      ]
     },
     "execution_count": 85,
     "metadata": {},
     "output_type": "execute_result"
    }
   ],
   "source": [
    "# Create classifier\n",
    "rf_classifier = RandomForestClassifier(random_state = 7, n_jobs = -1, max_depth = 23 )\n",
    "\n",
    "# Train model with the standardized data\n",
    "rf_classifier.fit(features_train, target_train)\n",
    "\n",
    "# Get accuracy score\n",
    "rf_classifier.score(features_test, target_test)\n",
    "\n",
    "# Calculate accuracy\n",
    "accuracy_score(target_test, rf_classifier.predict(features_test))"
   ]
  }
 ],
 "metadata": {
  "datalore": {
   "base_environment": "default",
   "computation_mode": "JUPYTER",
   "package_manager": "pip",
   "packages": [],
   "version": 1
  },
  "kernelspec": {
   "display_name": "Python 3 (ipykernel)",
   "language": "python",
   "name": "python3"
  },
  "language_info": {
   "codemirror_mode": {
    "name": "ipython",
    "version": 3
   },
   "file_extension": ".py",
   "mimetype": "text/x-python",
   "name": "python",
   "nbconvert_exporter": "python",
   "pygments_lexer": "ipython3",
   "version": "3.9.7"
  }
 },
 "nbformat": 4,
 "nbformat_minor": 4
}
