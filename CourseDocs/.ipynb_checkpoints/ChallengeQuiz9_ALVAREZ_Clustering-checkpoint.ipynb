{
 "cells": [
  {
   "cell_type": "markdown",
   "id": "4360cb29",
   "metadata": {},
   "source": [
    "## Challenge Quiz 9: Clustering"
   ]
  },
  {
   "cell_type": "markdown",
   "id": "398edb0b",
   "metadata": {},
   "source": [
    "##  Read about the iris dataset and how to [load from sklearn](https://scikit-learn.org/stable/modules/generated/sklearn.datasets.load_iris.html#sklearn.datasets.load_iris)."
   ]
  },
  {
   "cell_type": "code",
   "execution_count": 1,
   "id": "81985ef3",
   "metadata": {},
   "outputs": [],
   "source": [
    "from sklearn.datasets import load_iris\n",
    "import pandas as pd\n",
    "import numpy as np\n",
    "import matplotlib.pyplot as plt\n",
    "%matplotlib inline\n",
    "import seaborn as sns\n",
    "\n",
    "# Load the iris dataset from sklearn as a Bunch object\n",
    "iris = load_iris()\n",
    "\n",
    "# Assume that the data has no labels, no target variable\n",
    "# get feature values\n",
    "iris_data = iris['data']\n",
    "\n",
    "# get target values\n",
    "iris_target = iris['target']\n",
    "\n",
    "# get feature names\n",
    "iris_names = iris['feature_names']\n",
    "\n",
    "# get target names\n",
    "iris_target_names = iris['target_names']\n",
    "\n",
    "# create a DataFrame\n",
    "iris_df = pd.DataFrame(data= np.c_[iris['data'], iris['target']], columns= iris['feature_names'] + ['class'])\n"
   ]
  },
  {
   "cell_type": "code",
   "execution_count": 2,
   "id": "9acc65d9",
   "metadata": {},
   "outputs": [
    {
     "data": {
      "text/html": [
       "<div>\n",
       "<style scoped>\n",
       "    .dataframe tbody tr th:only-of-type {\n",
       "        vertical-align: middle;\n",
       "    }\n",
       "\n",
       "    .dataframe tbody tr th {\n",
       "        vertical-align: top;\n",
       "    }\n",
       "\n",
       "    .dataframe thead th {\n",
       "        text-align: right;\n",
       "    }\n",
       "</style>\n",
       "<table border=\"1\" class=\"dataframe\">\n",
       "  <thead>\n",
       "    <tr style=\"text-align: right;\">\n",
       "      <th></th>\n",
       "      <th>sepal length (cm)</th>\n",
       "      <th>sepal width (cm)</th>\n",
       "      <th>petal length (cm)</th>\n",
       "      <th>petal width (cm)</th>\n",
       "      <th>class</th>\n",
       "    </tr>\n",
       "  </thead>\n",
       "  <tbody>\n",
       "    <tr>\n",
       "      <th>0</th>\n",
       "      <td>5.1</td>\n",
       "      <td>3.5</td>\n",
       "      <td>1.4</td>\n",
       "      <td>0.2</td>\n",
       "      <td>0.0</td>\n",
       "    </tr>\n",
       "    <tr>\n",
       "      <th>1</th>\n",
       "      <td>4.9</td>\n",
       "      <td>3.0</td>\n",
       "      <td>1.4</td>\n",
       "      <td>0.2</td>\n",
       "      <td>0.0</td>\n",
       "    </tr>\n",
       "    <tr>\n",
       "      <th>2</th>\n",
       "      <td>4.7</td>\n",
       "      <td>3.2</td>\n",
       "      <td>1.3</td>\n",
       "      <td>0.2</td>\n",
       "      <td>0.0</td>\n",
       "    </tr>\n",
       "    <tr>\n",
       "      <th>3</th>\n",
       "      <td>4.6</td>\n",
       "      <td>3.1</td>\n",
       "      <td>1.5</td>\n",
       "      <td>0.2</td>\n",
       "      <td>0.0</td>\n",
       "    </tr>\n",
       "    <tr>\n",
       "      <th>4</th>\n",
       "      <td>5.0</td>\n",
       "      <td>3.6</td>\n",
       "      <td>1.4</td>\n",
       "      <td>0.2</td>\n",
       "      <td>0.0</td>\n",
       "    </tr>\n",
       "    <tr>\n",
       "      <th>...</th>\n",
       "      <td>...</td>\n",
       "      <td>...</td>\n",
       "      <td>...</td>\n",
       "      <td>...</td>\n",
       "      <td>...</td>\n",
       "    </tr>\n",
       "    <tr>\n",
       "      <th>145</th>\n",
       "      <td>6.7</td>\n",
       "      <td>3.0</td>\n",
       "      <td>5.2</td>\n",
       "      <td>2.3</td>\n",
       "      <td>2.0</td>\n",
       "    </tr>\n",
       "    <tr>\n",
       "      <th>146</th>\n",
       "      <td>6.3</td>\n",
       "      <td>2.5</td>\n",
       "      <td>5.0</td>\n",
       "      <td>1.9</td>\n",
       "      <td>2.0</td>\n",
       "    </tr>\n",
       "    <tr>\n",
       "      <th>147</th>\n",
       "      <td>6.5</td>\n",
       "      <td>3.0</td>\n",
       "      <td>5.2</td>\n",
       "      <td>2.0</td>\n",
       "      <td>2.0</td>\n",
       "    </tr>\n",
       "    <tr>\n",
       "      <th>148</th>\n",
       "      <td>6.2</td>\n",
       "      <td>3.4</td>\n",
       "      <td>5.4</td>\n",
       "      <td>2.3</td>\n",
       "      <td>2.0</td>\n",
       "    </tr>\n",
       "    <tr>\n",
       "      <th>149</th>\n",
       "      <td>5.9</td>\n",
       "      <td>3.0</td>\n",
       "      <td>5.1</td>\n",
       "      <td>1.8</td>\n",
       "      <td>2.0</td>\n",
       "    </tr>\n",
       "  </tbody>\n",
       "</table>\n",
       "<p>150 rows × 5 columns</p>\n",
       "</div>"
      ],
      "text/plain": [
       "     sepal length (cm)  sepal width (cm)  petal length (cm)  petal width (cm)  \\\n",
       "0                  5.1               3.5                1.4               0.2   \n",
       "1                  4.9               3.0                1.4               0.2   \n",
       "2                  4.7               3.2                1.3               0.2   \n",
       "3                  4.6               3.1                1.5               0.2   \n",
       "4                  5.0               3.6                1.4               0.2   \n",
       "..                 ...               ...                ...               ...   \n",
       "145                6.7               3.0                5.2               2.3   \n",
       "146                6.3               2.5                5.0               1.9   \n",
       "147                6.5               3.0                5.2               2.0   \n",
       "148                6.2               3.4                5.4               2.3   \n",
       "149                5.9               3.0                5.1               1.8   \n",
       "\n",
       "     class  \n",
       "0      0.0  \n",
       "1      0.0  \n",
       "2      0.0  \n",
       "3      0.0  \n",
       "4      0.0  \n",
       "..     ...  \n",
       "145    2.0  \n",
       "146    2.0  \n",
       "147    2.0  \n",
       "148    2.0  \n",
       "149    2.0  \n",
       "\n",
       "[150 rows x 5 columns]"
      ]
     },
     "execution_count": 2,
     "metadata": {},
     "output_type": "execute_result"
    }
   ],
   "source": [
    "iris_df\n",
    "\n"
   ]
  },
  {
   "cell_type": "code",
   "execution_count": 3,
   "id": "3cd6d54d",
   "metadata": {},
   "outputs": [
    {
     "data": {
      "text/plain": [
       "array(['setosa', 'versicolor', 'virginica'], dtype='<U10')"
      ]
     },
     "execution_count": 3,
     "metadata": {},
     "output_type": "execute_result"
    }
   ],
   "source": [
    "iris.target_names"
   ]
  },
  {
   "cell_type": "markdown",
   "id": "5dc8ffea",
   "metadata": {},
   "source": [
    "## Helper function to display information about the dataset."
   ]
  },
  {
   "cell_type": "code",
   "execution_count": 11,
   "id": "cd1ab85d",
   "metadata": {},
   "outputs": [],
   "source": [
    "def iris_data_summary():\n",
    "    print('Summary of the dataset: {}'.format(iris.DESCR))\n",
    "    print('Shape of the data: {}'.format(features.shape))\n",
    "    print('Names of the features: {}'.format(iris.feature_names))"
   ]
  },
  {
   "cell_type": "code",
   "execution_count": 12,
   "id": "621c8da5",
   "metadata": {},
   "outputs": [
    {
     "name": "stdout",
     "output_type": "stream",
     "text": [
      "Summary of the dataset: .. _iris_dataset:\n",
      "\n",
      "Iris plants dataset\n",
      "--------------------\n",
      "\n",
      "**Data Set Characteristics:**\n",
      "\n",
      "    :Number of Instances: 150 (50 in each of three classes)\n",
      "    :Number of Attributes: 4 numeric, predictive attributes and the class\n",
      "    :Attribute Information:\n",
      "        - sepal length in cm\n",
      "        - sepal width in cm\n",
      "        - petal length in cm\n",
      "        - petal width in cm\n",
      "        - class:\n",
      "                - Iris-Setosa\n",
      "                - Iris-Versicolour\n",
      "                - Iris-Virginica\n",
      "                \n",
      "    :Summary Statistics:\n",
      "\n",
      "    ============== ==== ==== ======= ===== ====================\n",
      "                    Min  Max   Mean    SD   Class Correlation\n",
      "    ============== ==== ==== ======= ===== ====================\n",
      "    sepal length:   4.3  7.9   5.84   0.83    0.7826\n",
      "    sepal width:    2.0  4.4   3.05   0.43   -0.4194\n",
      "    petal length:   1.0  6.9   3.76   1.76    0.9490  (high!)\n",
      "    petal width:    0.1  2.5   1.20   0.76    0.9565  (high!)\n",
      "    ============== ==== ==== ======= ===== ====================\n",
      "\n",
      "    :Missing Attribute Values: None\n",
      "    :Class Distribution: 33.3% for each of 3 classes.\n",
      "    :Creator: R.A. Fisher\n",
      "    :Donor: Michael Marshall (MARSHALL%PLU@io.arc.nasa.gov)\n",
      "    :Date: July, 1988\n",
      "\n",
      "The famous Iris database, first used by Sir R.A. Fisher. The dataset is taken\n",
      "from Fisher's paper. Note that it's the same as in R, but not as in the UCI\n",
      "Machine Learning Repository, which has two wrong data points.\n",
      "\n",
      "This is perhaps the best known database to be found in the\n",
      "pattern recognition literature.  Fisher's paper is a classic in the field and\n",
      "is referenced frequently to this day.  (See Duda & Hart, for example.)  The\n",
      "data set contains 3 classes of 50 instances each, where each class refers to a\n",
      "type of iris plant.  One class is linearly separable from the other 2; the\n",
      "latter are NOT linearly separable from each other.\n",
      "\n",
      ".. topic:: References\n",
      "\n",
      "   - Fisher, R.A. \"The use of multiple measurements in taxonomic problems\"\n",
      "     Annual Eugenics, 7, Part II, 179-188 (1936); also in \"Contributions to\n",
      "     Mathematical Statistics\" (John Wiley, NY, 1950).\n",
      "   - Duda, R.O., & Hart, P.E. (1973) Pattern Classification and Scene Analysis.\n",
      "     (Q327.D83) John Wiley & Sons.  ISBN 0-471-22361-1.  See page 218.\n",
      "   - Dasarathy, B.V. (1980) \"Nosing Around the Neighborhood: A New System\n",
      "     Structure and Classification Rule for Recognition in Partially Exposed\n",
      "     Environments\".  IEEE Transactions on Pattern Analysis and Machine\n",
      "     Intelligence, Vol. PAMI-2, No. 1, 67-71.\n",
      "   - Gates, G.W. (1972) \"The Reduced Nearest Neighbor Rule\".  IEEE Transactions\n",
      "     on Information Theory, May 1972, 431-433.\n",
      "   - See also: 1988 MLC Proceedings, 54-64.  Cheeseman et al\"s AUTOCLASS II\n",
      "     conceptual clustering system finds 3 classes in the data.\n",
      "   - Many, many more ...\n",
      "Shape of the data: (150, 4)\n",
      "Names of the features: ['sepal length (cm)', 'sepal width (cm)', 'petal length (cm)', 'petal width (cm)']\n"
     ]
    }
   ],
   "source": [
    "# Run iris_data_summary, interpret results\n",
    "iris_data_summary()"
   ]
  },
  {
   "cell_type": "markdown",
   "id": "75d93611",
   "metadata": {},
   "source": [
    "## Question 1: Which two features in the iris data set are highly correlated with the classes?\n",
    "Which two features in the iris dataset are highly correlated with the classes, i.e. correlation coefficient greater than 0.90?"
   ]
  },
  {
   "cell_type": "code",
   "execution_count": 22,
   "id": "165a5fb1",
   "metadata": {},
   "outputs": [
    {
     "data": {
      "text/html": [
       "<div>\n",
       "<style scoped>\n",
       "    .dataframe tbody tr th:only-of-type {\n",
       "        vertical-align: middle;\n",
       "    }\n",
       "\n",
       "    .dataframe tbody tr th {\n",
       "        vertical-align: top;\n",
       "    }\n",
       "\n",
       "    .dataframe thead th {\n",
       "        text-align: right;\n",
       "    }\n",
       "</style>\n",
       "<table border=\"1\" class=\"dataframe\">\n",
       "  <thead>\n",
       "    <tr style=\"text-align: right;\">\n",
       "      <th></th>\n",
       "      <th>sepal length (cm)</th>\n",
       "      <th>sepal width (cm)</th>\n",
       "      <th>petal length (cm)</th>\n",
       "      <th>petal width (cm)</th>\n",
       "      <th>class</th>\n",
       "    </tr>\n",
       "  </thead>\n",
       "  <tbody>\n",
       "    <tr>\n",
       "      <th>sepal length (cm)</th>\n",
       "      <td>1.000000</td>\n",
       "      <td>-0.117570</td>\n",
       "      <td>0.871754</td>\n",
       "      <td>0.817941</td>\n",
       "      <td>0.782561</td>\n",
       "    </tr>\n",
       "    <tr>\n",
       "      <th>sepal width (cm)</th>\n",
       "      <td>-0.117570</td>\n",
       "      <td>1.000000</td>\n",
       "      <td>-0.428440</td>\n",
       "      <td>-0.366126</td>\n",
       "      <td>-0.426658</td>\n",
       "    </tr>\n",
       "    <tr>\n",
       "      <th>petal length (cm)</th>\n",
       "      <td>0.871754</td>\n",
       "      <td>-0.428440</td>\n",
       "      <td>1.000000</td>\n",
       "      <td>0.962865</td>\n",
       "      <td>0.949035</td>\n",
       "    </tr>\n",
       "    <tr>\n",
       "      <th>petal width (cm)</th>\n",
       "      <td>0.817941</td>\n",
       "      <td>-0.366126</td>\n",
       "      <td>0.962865</td>\n",
       "      <td>1.000000</td>\n",
       "      <td>0.956547</td>\n",
       "    </tr>\n",
       "    <tr>\n",
       "      <th>class</th>\n",
       "      <td>0.782561</td>\n",
       "      <td>-0.426658</td>\n",
       "      <td>0.949035</td>\n",
       "      <td>0.956547</td>\n",
       "      <td>1.000000</td>\n",
       "    </tr>\n",
       "  </tbody>\n",
       "</table>\n",
       "</div>"
      ],
      "text/plain": [
       "                   sepal length (cm)  sepal width (cm)  petal length (cm)  \\\n",
       "sepal length (cm)           1.000000         -0.117570           0.871754   \n",
       "sepal width (cm)           -0.117570          1.000000          -0.428440   \n",
       "petal length (cm)           0.871754         -0.428440           1.000000   \n",
       "petal width (cm)            0.817941         -0.366126           0.962865   \n",
       "class                       0.782561         -0.426658           0.949035   \n",
       "\n",
       "                   petal width (cm)     class  \n",
       "sepal length (cm)          0.817941  0.782561  \n",
       "sepal width (cm)          -0.366126 -0.426658  \n",
       "petal length (cm)          0.962865  0.949035  \n",
       "petal width (cm)           1.000000  0.956547  \n",
       "class                      0.956547  1.000000  "
      ]
     },
     "execution_count": 22,
     "metadata": {},
     "output_type": "execute_result"
    }
   ],
   "source": [
    "# Answer here\n",
    "# compute the corretaltion matrix\n",
    "corr_matrix = iris_df.corr()\n",
    "corr_matrix\n"
   ]
  },
  {
   "cell_type": "code",
   "execution_count": 30,
   "id": "09bfbece",
   "metadata": {},
   "outputs": [
    {
     "data": {
      "image/png": "[encoded data removed]",
      "text/plain": [
       "<Figure size 432x288 with 2 Axes>"
      ]
     },
     "metadata": {
      "needs_background": "light"
     },
     "output_type": "display_data"
    }
   ],
   "source": [
    "#plot the corr matrix\n",
    "ax =sns.heatmap(corr_matrix, annot = True)\n"
   ]
  },
  {
   "cell_type": "markdown",
   "id": "48507ade",
   "metadata": {},
   "source": [
    "**petal width** y **petal length** have the largest correlation with the class"
   ]
  },
  {
   "cell_type": "markdown",
   "id": "58b02ede",
   "metadata": {},
   "source": [
    "## Question 2:  Plot a histogram of each of the feature variables.  Which features exhibit  bimodal distributions?"
   ]
  },
  {
   "cell_type": "code",
   "execution_count": 48,
   "id": "0882d785",
   "metadata": {},
   "outputs": [
    {
     "data": {
      "text/plain": [
       "<AxesSubplot:xlabel='petal width (cm)', ylabel='Count'>"
      ]
     },
     "execution_count": 48,
     "metadata": {},
     "output_type": "execute_result"
    },
    {
     "data": {
      "image/png": "[encoded data removed]",
      "text/plain": [
       "<Figure size 576x576 with 4 Axes>"
      ]
     },
     "metadata": {},
     "output_type": "display_data"
    }
   ],
   "source": [
    "# Answer here\n",
    "f, axs = plt.subplots(2, 2, figsize=(8, 8), gridspec_kw=dict(width_ratios=[4, 4]))\n",
    "sns.set_theme()\n",
    "sns.axes_style(\"darkgrid\")\n",
    "sns.color_palette(\"hls\", 8)\n",
    "sns.histplot(iris_df.iloc[:,0], bins = 20, ax = axs[0][0], kde=True)\n",
    "sns.histplot(iris_df.iloc[:,1], bins = 20, ax = axs[0][1], kde=True)\n",
    "sns.histplot(iris_df.iloc[:,2], bins = 20, ax = axs[1][0], kde=True)\n",
    "sns.histplot(iris_df.iloc[:,3], bins = 20, ax = axs[1][1], kde=True)\n"
   ]
  },
  {
   "cell_type": "code",
   "execution_count": 30,
   "id": "bd4294e0",
   "metadata": {},
   "outputs": [
    {
     "data": {
      "text/plain": [
       "'sepal length (cm)'"
      ]
     },
     "execution_count": 30,
     "metadata": {},
     "output_type": "execute_result"
    }
   ],
   "source": [
    "iris_df.columns[0]"
   ]
  },
  {
   "cell_type": "markdown",
   "id": "ae9b37d3",
   "metadata": {},
   "source": [
    "**petal length** y **petal width** show bimodal distributions"
   ]
  },
  {
   "cell_type": "markdown",
   "id": "8b336b06",
   "metadata": {},
   "source": [
    "## Question 3: Which two features exhibit the strongest correlation?"
   ]
  },
  {
   "cell_type": "markdown",
   "id": "f0b49ecb",
   "metadata": {},
   "source": [
    "From the correlation Matrix, we observe that **petal length** y **petal width** have the strongest correlation with a positive coefficient 0.962865"
   ]
  },
  {
   "cell_type": "markdown",
   "id": "49eabd77",
   "metadata": {},
   "source": [
    "## Question 4: Use $K-$means to cluster the iris data into 3 groups using the feature data...\n",
    "Use K-means to cluster the iris data into 3 groups using the feature data (sepal length, sepal width, petal length, petal width).  When creating the k-means object, use the default parameters, with the exception of  n_clusters = 3, random_state = 0.  Standardize the feature data before training your model.  After training the model, which of the following statements are true?\n",
    "\n",
    " A. Three centroids are returned.\t\n",
    " B. The inertia or within cluster sum of squares (WCSS) is greater than 300.\t\n",
    " C. The number of iterations required to converge exceeds 12.\t\n",
    " D. There are 150 labels returned, one for each observation in the dataset."
   ]
  },
  {
   "cell_type": "code",
   "execution_count": 104,
   "id": "70fa25af",
   "metadata": {},
   "outputs": [
    {
     "data": {
      "text/plain": [
       "array([1, 1, 1, 1, 1, 1, 1, 1, 1, 1, 1, 1, 1, 1, 1, 1, 1, 1, 1, 1, 1, 1,\n",
       "       1, 1, 1, 1, 1, 1, 1, 1, 1, 1, 1, 1, 1, 1, 1, 1, 1, 1, 1, 1, 1, 1,\n",
       "       1, 1, 1, 1, 1, 1, 2, 2, 2, 0, 0, 0, 2, 0, 0, 0, 0, 0, 0, 0, 0, 2,\n",
       "       0, 0, 0, 0, 2, 0, 0, 0, 0, 2, 2, 2, 0, 0, 0, 0, 0, 0, 0, 2, 2, 0,\n",
       "       0, 0, 0, 0, 0, 0, 0, 0, 0, 0, 0, 0, 2, 0, 2, 2, 2, 2, 0, 2, 2, 2,\n",
       "       2, 2, 2, 0, 0, 2, 2, 2, 2, 0, 2, 0, 2, 0, 2, 2, 0, 2, 2, 2, 2, 2,\n",
       "       2, 0, 0, 2, 2, 2, 0, 2, 2, 2, 0, 2, 2, 2, 0, 2, 2, 0])"
      ]
     },
     "execution_count": 104,
     "metadata": {},
     "output_type": "execute_result"
    }
   ],
   "source": [
    "# Answer here\n",
    "from sklearn.cluster import KMeans\n",
    "from sklearn.preprocessing import StandardScaler\n",
    "\n",
    "# get the numpy data structure\n",
    "features = np.array(iris['data'])\n",
    "classes = np.array(iris['target'])\n",
    "\n",
    "# Standardize features\n",
    "scaler = StandardScaler()\n",
    "features_standard = scaler.fit_transform(features)\n",
    "\n",
    "# Create K-means object\n",
    "KM_cluster = KMeans(n_clusters=3, random_state=0)\n",
    "\n",
    "# Train model \n",
    "model = KM_cluster.fit(features_standard)\n",
    "\n",
    "model.labels_"
   ]
  },
  {
   "cell_type": "code",
   "execution_count": 105,
   "id": "6cb69ee6",
   "metadata": {},
   "outputs": [
    {
     "name": "stdout",
     "output_type": "stream",
     "text": [
      "Number of iterations: 5\n",
      "Model Inertia (Within cluster SSE): 139.82049635974974\n",
      "Number of labels returned: 3\n",
      "Number of Centroids: 3\n"
     ]
    }
   ],
   "source": [
    "print(\"Number of iterations: {}\".format(model.n_iter_))\n",
    "print(\"Model Inertia (Within cluster SSE): {}\".format(model.inertia_))\n",
    "print(\"Number of distinct labels returned: {}\".format(len(np.unique(model.labels_))))\n",
    "print(\"Number of Centroids: {}\".format(len(model.cluster_centers_)))"
   ]
  },
  {
   "cell_type": "code",
   "execution_count": 102,
   "id": "224e6d5d",
   "metadata": {},
   "outputs": [
    {
     "data": {
      "text/plain": [
       "array([[-1.30229032,  0.35707633],\n",
       "       [ 0.32156916, -0.92826038],\n",
       "       [ 0.96103325,  0.62801632]])"
      ]
     },
     "execution_count": 102,
     "metadata": {},
     "output_type": "execute_result"
    }
   ],
   "source": [
    "# sneak peak at cluster centers\n",
    "model.cluster_centers_"
   ]
  },
  {
   "cell_type": "markdown",
   "id": "eeb9f7eb",
   "metadata": {},
   "source": [
    "Wa can also inspect the number of elements correctly classified"
   ]
  },
  {
   "cell_type": "code",
   "execution_count": 71,
   "id": "ef183cc0",
   "metadata": {},
   "outputs": [
    {
     "data": {
      "text/plain": [
       "125"
      ]
     },
     "execution_count": 71,
     "metadata": {},
     "output_type": "execute_result"
    }
   ],
   "source": [
    "# adjust the labels of the model and the data set\n",
    "i= 0\n",
    "for x in classes:\n",
    "    \n",
    "    if x == 1: classes[i]=0\n",
    "    elif x == 0: classes[i]= 1\n",
    "    i = i + 1\n",
    "np.sum(model.labels_ == classes )\n"
   ]
  },
  {
   "cell_type": "markdown",
   "id": "77e3753a",
   "metadata": {},
   "source": [
    "## Another helper function to display results of training $K-$means classifier."
   ]
  },
  {
   "cell_type": "code",
   "execution_count": 106,
   "id": "d70b272d",
   "metadata": {},
   "outputs": [],
   "source": [
    "#  https://scikit-learn.org/stable/modules/generated/sklearn.cluster.KMeans.html?highlight=kmean#sklearn.cluster.KMeans\n",
    "\n",
    "def kmeans_dump(model):\n",
    "    print('cluster centers:\\n{}'.format(model.cluster_centers_))\n",
    "    print('labels:\\n{}'.format(model.labels_))\n",
    "    print('interia: {}'.format(model.inertia_))\n",
    "    print('number of iterations: {}'.format(model.n_iter_))\n",
    "    return"
   ]
  },
  {
   "cell_type": "code",
   "execution_count": 107,
   "id": "cad41f7b",
   "metadata": {},
   "outputs": [
    {
     "name": "stdout",
     "output_type": "stream",
     "text": [
      "cluster centers:\n",
      "[[-0.05021989 -0.88337647  0.34773781  0.2815273 ]\n",
      " [-1.01457897  0.85326268 -1.30498732 -1.25489349]\n",
      " [ 1.13597027  0.08842168  0.99615451  1.01752612]]\n",
      "labels:\n",
      "[1 1 1 1 1 1 1 1 1 1 1 1 1 1 1 1 1 1 1 1 1 1 1 1 1 1 1 1 1 1 1 1 1 1 1 1 1\n",
      " 1 1 1 1 1 1 1 1 1 1 1 1 1 2 2 2 0 0 0 2 0 0 0 0 0 0 0 0 2 0 0 0 0 2 0 0 0\n",
      " 0 2 2 2 0 0 0 0 0 0 0 2 2 0 0 0 0 0 0 0 0 0 0 0 0 0 2 0 2 2 2 2 0 2 2 2 2\n",
      " 2 2 0 0 2 2 2 2 0 2 0 2 0 2 2 0 2 2 2 2 2 2 0 0 2 2 2 0 2 2 2 0 2 2 2 0 2\n",
      " 2 0]\n",
      "interia: 139.82049635974974\n",
      "number of iterations: 5\n"
     ]
    }
   ],
   "source": [
    "# run kmeans_dump() and interpret results\n",
    "kmeans_dump(model)"
   ]
  },
  {
   "cell_type": "code",
   "execution_count": 108,
   "id": "ed075a33",
   "metadata": {},
   "outputs": [
    {
     "data": {
      "text/plain": [
       "150"
      ]
     },
     "execution_count": 108,
     "metadata": {},
     "output_type": "execute_result"
    }
   ],
   "source": [
    "len(model.labels_)"
   ]
  },
  {
   "cell_type": "markdown",
   "id": "cc67b8fd",
   "metadata": {},
   "source": [
    "## Question 5:  An estimate for the optimal number of clusters to use for the $K-$means algorithm can be computed using the 'elbow method.' ...\n",
    "An estimate for the optimal number of clusters to use for the k-means algorithm can be computed using the 'elbow method.'  Compute the WCSS  for k-means models with varying numbers of clusters.  Plot these results on one graph (WCSS vs. `n_clusters`).  Use values of `n_clusters` from 2 to 10.  The break in the curve or 'elbow'  is the optimal number of clusters into which the data may be clustered.  Where does this break in the curve or elbow occur?\n",
    "- A. 7 clusters\n",
    "- B. 3 clusters\n",
    "- C. 9 clusters\n",
    "- D. 5 clusters\n",
    "- E. greater than 9 clusters"
   ]
  },
  {
   "cell_type": "code",
   "execution_count": 210,
   "id": "19cc3579",
   "metadata": {},
   "outputs": [
    {
     "data": {
      "text/plain": [
       "<matplotlib.lines.Line2D at 0x2a7977cc5e0>"
      ]
     },
     "execution_count": 210,
     "metadata": {},
     "output_type": "execute_result"
    },
    {
     "data": {
      "image/png": "[encoded data removed]",
      "text/plain": [
       "<Figure size 432x288 with 1 Axes>"
      ]
     },
     "metadata": {},
     "output_type": "display_data"
    }
   ],
   "source": [
    "# Answer here\n",
    "\n",
    "import seaborn as sns\n",
    "# Finding the optimum number of clusters for k-means classification\n",
    "\n",
    "# get the numpy data structure\n",
    "features = np.array(iris['data'])\n",
    "classes = np.array(iris['target'])\n",
    "\n",
    "# Standardize features\n",
    "scaler = StandardScaler()\n",
    "features_standard = scaler.fit_transform(features)\n",
    "\n",
    "inertia = list()\n",
    "num_clusters = np.arange(2,11,1)\n",
    "\n",
    "for i in num_clusters:\n",
    "    # Create K-means object\n",
    "    KM_cluster2 = KMeans(n_clusters=i, random_state=0)\n",
    "    \n",
    "    # Train model \n",
    "    model2 = KM_cluster2.fit(features_standard)\n",
    "    \n",
    "    # get WCSSE\n",
    "    inertia.append(model2.inertia_)\n",
    "\n",
    "npInertia = np.array(inertia)\n",
    "\n",
    "fig, ax = plt.subplots()\n",
    "plt.style.use('ggplot')\n",
    "ax = sns.lineplot(x = num_clusters, y = npInertia, marker ='o', color = 'blue') \n",
    "ax.set(title='WCSS vs number of clusters')\n",
    "ax.set(xlabel='number of clusters')\n",
    "ax.set(ylabel='inertia (WCSS)')\n",
    "ax.axvline(x=3, lw =1, color = 'red', linestyle ='--')\n",
    "\n",
    "\n"
   ]
  },
  {
   "cell_type": "code",
   "execution_count": 133,
   "id": "a47c23e3",
   "metadata": {},
   "outputs": [],
   "source": [
    "y_predicted = model.predict(features_standard)\n"
   ]
  },
  {
   "cell_type": "markdown",
   "id": "8cecb9b5",
   "metadata": {},
   "source": [
    "## Helpful/Insightful pairwise plot"
   ]
  },
  {
   "cell_type": "code",
   "execution_count": 74,
   "id": "41b43ee6",
   "metadata": {},
   "outputs": [
    {
     "data": {
      "image/png": "[encoded data removed]",
      "text/plain": [
       "<Figure size 432x288 with 1 Axes>"
      ]
     },
     "metadata": {
      "needs_background": "light"
     },
     "output_type": "display_data"
    }
   ],
   "source": [
    "\n",
    "\n",
    "# sketch of insightful plots\n",
    "plt.scatter(features[y_predicted == 0,0], features[y_predicted == 0,1], s = 100, c = 'red', label = '0')\n",
    "plt.scatter(features[y_predicted == 1,0], features[y_predicted == 1,1], s = 100, c = 'green', label = '1')\n",
    "plt.scatter(features[y_predicted == 2,0], features[y_predicted == 2,1], s = 100, c = 'blue', label = '2')\n",
    "\n",
    "# plot centroids also... (label = 'centroid')\n",
    "plt.xlabel('feature 1')\n",
    "plt.ylabel('feature 2')\n",
    "plt.legend()\n",
    "plt.show()"
   ]
  },
  {
   "cell_type": "markdown",
   "id": "4d1e5275",
   "metadata": {},
   "source": [
    "## Question 6: Use principal component analysis to decompose the iris feature data into two principal components. Use default parameters with...\n",
    "\n",
    "Use principal component analysis to decompose the iris feature data into two principal components.  Use default parameters with the following exceptions: n_components = 2, whiten = True.\n",
    "\n",
    "Generate a scatter plot of the data.  Plot the first component vs. the second component.\n",
    "\n",
    "Train and fit a k-means classifier to this data.  Use default parameters with the following exceptions: n_clusters = 3, random_state = 0.  \n",
    "\n",
    "Plot the resulting cluster centers on this plot and use colored markers to identify data points that belong to the same class and distinguish data points that belong to a different class (i.e., all data points that belong to the same class are the same color.  Points in different class are a different color).\n",
    "\n",
    "Which of the following statements are true?\n",
    "\n",
    "- A. Without using colored markers to distinguish between clusters it is difficult to see three distinct clusters.\t\n",
    "- B. The whiten = True parameter ensures that the principal components are uncorrelated and have unit variances.\t\n",
    "- C. The inertia computed using the principal component features is greater than the inertia computed using the 4 standardized features.\t\n"
   ]
  },
  {
   "cell_type": "code",
   "execution_count": 160,
   "id": "0fba227b",
   "metadata": {
    "scrolled": true
   },
   "outputs": [
    {
     "data": {
      "text/plain": [
       "[Text(0, 0.5, '2nd Component')]"
      ]
     },
     "execution_count": 160,
     "metadata": {},
     "output_type": "execute_result"
    },
    {
     "data": {
      "image/png": "[encoded data removed]",
      "text/plain": [
       "<Figure size 432x288 with 1 Axes>"
      ]
     },
     "metadata": {},
     "output_type": "display_data"
    }
   ],
   "source": [
    "# Answer here\n",
    "from sklearn.decomposition import PCA\n",
    "\n",
    "# Create a PCA that will retain 2 features\n",
    "pca = PCA(n_components=2, whiten=True)\n",
    "\n",
    "pca_features = pca.fit_transform(features_standard)\n",
    "\n",
    "# plot 1st and second component\n",
    "fig, ax = plt.subplots()\n",
    "ax = sns.scatterplot(x = pca_features[:,0], y = pca_features[:,1])\n",
    "ax.set(title='Iris data transfomed using PCA. (2 components)')\n",
    "ax.set(xlabel='1st Component')\n",
    "ax.set(ylabel='2nd Component')\n",
    "\n"
   ]
  },
  {
   "cell_type": "code",
   "execution_count": 200,
   "id": "76160cf5",
   "metadata": {},
   "outputs": [
    {
     "name": "stdout",
     "output_type": "stream",
     "text": [
      "The inertia of the transformed model (PCA) is: 93.88495203183281 \n",
      "The inertia of the model with 4 features: 139.82049635974974\n"
     ]
    },
    {
     "data": {
      "image/png": "[encoded data removed]",
      "text/plain": [
       "<Figure size 432x288 with 1 Axes>"
      ]
     },
     "metadata": {},
     "output_type": "display_data"
    }
   ],
   "source": [
    "# Create K-means object\n",
    "KM_cluster3 = KMeans(n_clusters=3, random_state=0)\n",
    "\n",
    "model3 = KM_cluster3.fit(pca_features)\n",
    "\n",
    "# plot the data colored by the new clusters\n",
    "fig, ax = plt.subplots()\n",
    "y_predicted3 = model3.predict(pca_features)\n",
    "ax= sns.set_palette('Set3')\n",
    "ax = sns.scatterplot(x = pca_features[:,0][y_predicted3==0], y = pca_features[:,1][y_predicted3==0], label = 'C1')\n",
    "ax = sns.scatterplot(x = pca_features[:,0][y_predicted3==1], y = pca_features[:,1][y_predicted3==1], label = 'C2')\n",
    "ax = sns.scatterplot(x = pca_features[:,0][y_predicted3==2], y = pca_features[:,1][y_predicted3==2], label = 'C3')\n",
    "\n",
    "print('The inertia of the transformed model (PCA) is: {} \\nThe inertia of the model with 4 features: {}'.format(model3.inertia_, model.inertia_))"
   ]
  },
  {
   "cell_type": "markdown",
   "id": "b217dd50",
   "metadata": {},
   "source": [
    "##  Question 7: Compute the silhouette score for a $K-$means classifiers trained using...\n",
    "Compute the silhouette score for a k-means classifiers trained using the 4 standardized features and one using the 2 features extracted from PCA decomposition. Train your models using default parameters, with the following exceptions: n_clusters = 3, random_state = 0.\n",
    "\n",
    "Based on silhouette scores, the PCA-based model outperforms the standardized model.\n",
    "\n",
    "- True\n",
    "- False\n"
   ]
  },
  {
   "cell_type": "code",
   "execution_count": 197,
   "id": "31b75a6b",
   "metadata": {},
   "outputs": [
    {
     "name": "stdout",
     "output_type": "stream",
     "text": [
      "Silhouette scores of the PCA-based model: 0.4596808306765764  \n",
      "Silhouette scores of the standardized model (4 features): 0.45994823920518635\n"
     ]
    }
   ],
   "source": [
    "# Answer here\n",
    "from sklearn.decomposition import PCA\n",
    "from sklearn import metrics\n",
    "\n",
    "pca_features = pca.fit_transform(features_standard)\n",
    "\n",
    "# Create K-means object\n",
    "KM_cluster4 = KMeans(n_clusters=3, random_state=0)\n",
    "\n",
    "# Train both models \n",
    "model_a = KM_cluster4.fit(pca_features)\n",
    "model_b = KM_cluster4.fit(features_standard)\n",
    "\n",
    "# Get predicted classes\n",
    "target_predicted_a = model_a.labels_\n",
    "target_predicted_b = model_b.labels_\n",
    "\n",
    "# Get silhouette scores\n",
    "sil_score_a = metrics.silhouette_score(pca_features, target_predicted_a)\n",
    "sil_score_b = metrics.silhouette_score(features_standard, target_predicted_b)\n",
    "\n",
    "print('Silhouette scores of the PCA-based model: {}  \\nSilhouette scores of the standardized model (4 features): {}'.format(sil_score_a,sil_score_b))"
   ]
  },
  {
   "cell_type": "markdown",
   "id": "92df1d9d",
   "metadata": {},
   "source": [
    "## Question 8: Compute the silhouette score for $K-$means cluster models trained using thefeatures extracted...\n",
    "Compute the silhouette score for k-means cluster models trained using the features extracted from the PCA decomposition.  While training your models, use default parameters, with the following exceptions: init = k-means++, max_iter = 300, n_init = 10, random_state = 0.  Vary the number of clusters from 2 to 12 for this analysis. Which of the following statements is true?\n",
    "\n",
    "- A. The best cluster performance is expected when the silhouette score is lowest.\n",
    "- B. The silhoutte score increases as the number of clusters increases.\n",
    "- C. The silhoutte score can be negative.\n",
    "- D. Ideal clustering is indicated by a silhoutte score that approaches zero.\n",
    "- E. The silhoutte score is largest in magnitude when there are 3 clusters."
   ]
  },
  {
   "cell_type": "code",
   "execution_count": 195,
   "id": "39563efd",
   "metadata": {
    "scrolled": true
   },
   "outputs": [
    {
     "data": {
      "text/plain": [
       "[Text(0, 0.5, 'score')]"
      ]
     },
     "execution_count": 195,
     "metadata": {},
     "output_type": "execute_result"
    },
    {
     "data": {
      "image/png": "[encoded data removed]",
      "text/plain": [
       "<Figure size 432x288 with 1 Axes>"
      ]
     },
     "metadata": {},
     "output_type": "display_data"
    }
   ],
   "source": [
    "#Answer here\n",
    "from sklearn.decomposition import PCA\n",
    "from sklearn import metrics\n",
    "\n",
    "# Create a PCA that will reduce to 2 components\n",
    "pca = PCA(n_components=2, whiten=True)\n",
    "\n",
    "pca_features = pca.fit_transform(features_standard)\n",
    "\n",
    "n_clusters = np.arange(2, 13,1)\n",
    "silhoutte_scores = list()\n",
    "\n",
    "for i in n_clusters:\n",
    "    \n",
    "    # Create K-means object\n",
    "    KM_cluster5 = KMeans(init =\"k-means++\", \n",
    "                         max_iter= 300, \n",
    "                         n_clusters=i, \n",
    "                         n_init=10,\n",
    "                         random_state=0)\n",
    "\n",
    "    # Train model \n",
    "    model_pca3 = KM_cluster5.fit(pca_features)\n",
    "\n",
    "    # Get predicted classes\n",
    "    target_predicted = model_pca3.labels_\n",
    "    silhoutte_scores.append(metrics.silhouette_score(pca_features, target_predicted))\n",
    "\n",
    "# get the results into an np array\n",
    "npSilhoutte = np.array(silhoutte_scores)\n",
    "\n",
    "# plot the scores vs number of clusters\n",
    "fig, ax = plt.subplots()\n",
    "plt.style.use('ggplot')\n",
    "ax = sns.lineplot(x = n_clusters, y = npSilhoutte, marker ='o',color='blue') \n",
    "ax.set(title='Silhouette Scores vs number of clusters')\n",
    "ax.set(xlabel='number of clusters')\n",
    "ax.set(ylabel='score')    \n"
   ]
  },
  {
   "cell_type": "markdown",
   "id": "f38d9eb8",
   "metadata": {},
   "source": [
    "Looking at the possible answers of the quizz, only **opction C** is correct: **Silhouette values can be negative**\n",
    "Option A is not correct. It is the opposite way.\n",
    "Option B is not correct, as we have seen in this example.\n",
    "Option D is not correct. A silhouette score of 0 most likely mean ovelapping clusters.\n",
    "Option E is not correct. As we have seen in the example, the maximum silhouette scored is obtained when the number of scores are 7.\n"
   ]
  }
 ],
 "metadata": {
  "kernelspec": {
   "display_name": "Python 3 (ipykernel)",
   "language": "python",
   "name": "python3"
  },
  "language_info": {
   "codemirror_mode": {
    "name": "ipython",
    "version": 3
   },
   "file_extension": ".py",
   "mimetype": "text/x-python",
   "name": "python",
   "nbconvert_exporter": "python",
   "pygments_lexer": "ipython3",
   "version": "3.9.7"
  }
 },
 "nbformat": 4,
 "nbformat_minor": 5
}
