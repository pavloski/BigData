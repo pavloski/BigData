{
 "cells": [
  {
   "cell_type": "markdown",
   "id": "ab98a375",
   "metadata": {},
   "source": [
    "# Python Scripts and Files\n",
    "\n",
    "We have learned almost all the pieces we need for writing useful Python scripts. A Python script is a Python program that we have written into a file.\n",
    "\n",
    "Let's run a few scripts, edit them and rerun them.\n",
    "\n",
    "## Example: Hello.py\n"
   ]
  },
  {
   "cell_type": "code",
   "execution_count": 3,
   "id": "de9822b1",
   "metadata": {},
   "outputs": [
    {
     "name": "stdout",
     "output_type": "stream",
     "text": [
      "Hello World!\n"
     ]
    }
   ],
   "source": [
    "%run \"C:\\Users\\jim\\OneDrive - Naval Postgraduate School\\Desktop\\code\\hello.py\""
   ]
  },
  {
   "cell_type": "markdown",
   "id": "4abb7470",
   "metadata": {},
   "source": [
    "---\n",
    "\n",
    "It printed \"Hello World!\" \n",
    "\n",
    "So, what were the contents of that file? Well, let's open this up in a text editor to inspect it. \n",
    "\n",
    "This is all it is, right? So it's Python code, that we know and love from before. \n",
    "\n",
    "This is a print function that is printing a string, \"Hello World!\", and that's all that's in the file. \n",
    "\n",
    "And what Python does, when we use Python to run the contents of a file, is it just executes each line in turn, just like we would at the interactive interpreter. \n",
    "\n",
    "But when we write it in this file, now it's really easy to edit. \n",
    "\n",
    "---\n",
    "\n",
    "Now I can say \"Hello Santiago,\" and I can save it, and rerun the program, and it now reflects my changes. \n",
    "\n",
    "So writing in files is definitely the way to go when we're doing actual work that we want to save for the future. \n"
   ]
  },
  {
   "cell_type": "code",
   "execution_count": 4,
   "id": "3bd80827",
   "metadata": {},
   "outputs": [
    {
     "name": "stdout",
     "output_type": "stream",
     "text": [
      "Hello Santiago!\n"
     ]
    }
   ],
   "source": [
    "%run \"C:\\Users\\jim\\OneDrive - Naval Postgraduate School\\Desktop\\code\\hello.py\""
   ]
  },
  {
   "cell_type": "markdown",
   "id": "f0c93e6a",
   "metadata": {},
   "source": [
    "--- \n",
    "\n",
    "## Example: nobel.py\n",
    "\n",
    "Let's look at another example, `nobel.py`. So let's flip back over to our text editor and examine the code.\n",
    "\n",
    "This is a much longer program, and it has some new ideas in it that we'll explore together. \n",
    "\n",
    "1. The first is the notion of a comment.\n",
    "\n",
    "The pound sign (#) is a way to indicate that we want to add comments to our program. Python doesn't try to run this as code. The pound sign and everything else on that line is ignored by Python.\n",
    "\n",
    "Programmers use comments to add additional information, anything that might be unexpected, adds clarity, etc. \n",
    "\n",
    "2. Second idea is formatting with the `print` command\n",
    "\n",
    "The first executable line of code is a `print` line to print a string.\n",
    "\n",
    "The next print statement, demonstrates a new concept, the idea that we can manually insert new lines. This is accomplished by **adding a backslash n (\\n) character inside of a string**.\n",
    "\n",
    "In this case, it'll print \"Physics\" by itself, and then a new line, and then \"Chemistry\", and then a new line, and so on. \n",
    "\n",
    "As we've seen before, the `print` function inserts a new line by itself. It has an implicit new line at the end of every execution. So an extension of this is that if we want to print just a new line by itself, like a blank line, we can use the following:  `print \" \"`. \n",
    "\n",
    "3. The next portion of code presents **format preserving multi-line strings**.\n",
    "\n",
    "For example, if you were printing a poem, that maybe has a very specific structure -- maybe it's indented in certain places. \n",
    "\n",
    "The new lines are required in the right place for rhyming. You might use this triple quote -- quote quote quote -- to begin and end this string to preserve the white space, to preserve the new lines, and to preserve the indenting."
   ]
  },
  {
   "cell_type": "code",
   "execution_count": 5,
   "id": "da805aea",
   "metadata": {},
   "outputs": [
    {
     "name": "stdout",
     "output_type": "stream",
     "text": [
      "The Nobel Prize categories are:\n",
      "Physics\n",
      "Chemistry\n",
      "Literature\n",
      "Peace\n",
      "Physiology or Medicine\n",
      "\n",
      "Two laureates have voluntarily declined their Nobel Prizes. One was\n",
      "Jean-Paul Sartre. In 1964, Sartre was awarded the Literature Prize but\n",
      "refused, stating, 'A writer must refuse to allow himself to be\n",
      "transformed into an institution, even if it takes place in the most\n",
      "honourable form.'\n",
      "\n",
      "In 2009,\n",
      "    The monetary component of the prize was\n",
      "        US $1.4 million\n"
     ]
    }
   ],
   "source": [
    "%run \"C:\\Users\\jim\\OneDrive - Naval Postgraduate School\\Desktop\\code\\nobel.py\""
   ]
  },
  {
   "cell_type": "markdown",
   "id": "1a4d583a",
   "metadata": {},
   "source": [
    "--- \n",
    "\n",
    "## Example: die.py\n",
    "\n",
    "Let's create our own file.\n",
    "\n",
    "Flip back over to our text editor and create a new file. \n",
    "\n",
    "Let's implement a virtual die. We are developing a game, where we need to simulate die rolls. \n",
    "\n",
    "We need a source of randomness, so we import the random module.\n",
    "\n",
    "We look it up, or we remember that if we want to simulate a die role, there's the `randint` function that can be used to generate a random number within a range of values.\n",
    "\n",
    "We type `random.randint`, and then the range for, a six-sided die, which is going to have a lower bound of 1 and an upper bound of 6. \n",
    "\t \n",
    "We assign a variable to this output, `number`. `number` equals the random number returned by `randint`. \n",
    "\n",
    "We want to print this number, but we need the string version of the number, so we'll use that string function, `str` to convert a number to a string, and then use the plus sign to concatenate it with the first part. \n",
    "\n",
    "Easy to change, right? If we wanted to make this a 20-sided die, this would be a simple change to our Python file.\n",
    "\n",
    "A pretty useful little script, with just three lines of Python code. \n",
    "\n",
    "That's all there is to writing and running Python files.  You write them in a text editor, save them with the .py file ending. And then run the contents of the file."
   ]
  },
  {
   "cell_type": "code",
   "execution_count": 6,
   "id": "f1f33683",
   "metadata": {},
   "outputs": [
    {
     "name": "stdout",
     "output_type": "stream",
     "text": [
      "Your die roll is: 2\n"
     ]
    }
   ],
   "source": [
    "%run \"C:\\Users\\jim\\OneDrive - Naval Postgraduate School\\Desktop\\code\\die.py\""
   ]
  },
  {
   "cell_type": "code",
   "execution_count": 8,
   "id": "53cd2984",
   "metadata": {},
   "outputs": [
    {
     "name": "stdout",
     "output_type": "stream",
     "text": [
      "Your die roll is: 6\n",
      "Your die roll is: 2\n",
      "Your die roll is: 6\n",
      "Your die roll is: 5\n",
      "Your die roll is: 2\n",
      "Your die roll is: 3\n",
      "Your die roll is: 4\n",
      "Your die roll is: 2\n",
      "Your die roll is: 3\n",
      "Your die roll is: 4\n"
     ]
    }
   ],
   "source": [
    "for i in [1, 2, 3, 4, 5, 6, 7, 8, 9, 10]:\n",
    "    %run \"C:\\Users\\jim\\OneDrive - Naval Postgraduate School\\Desktop\\code\\die.py\""
   ]
  }
 ],
 "metadata": {
  "kernelspec": {
   "display_name": "Python 3 (ipykernel)",
   "language": "python",
   "name": "python3"
  },
  "language_info": {
   "codemirror_mode": {
    "name": "ipython",
    "version": 3
   },
   "file_extension": ".py",
   "mimetype": "text/x-python",
   "name": "python",
   "nbconvert_exporter": "python",
   "pygments_lexer": "ipython3",
   "version": "3.9.7"
  }
 },
 "nbformat": 4,
 "nbformat_minor": 5
}
