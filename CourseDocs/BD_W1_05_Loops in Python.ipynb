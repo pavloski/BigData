{
 "cells": [
  {
   "cell_type": "markdown",
   "id": "8eb61315",
   "metadata": {},
   "source": [
    "# Loops in Python\n",
    "\n",
    "Lists are a useful container data type.  But their real power comes from the ability to loop over them and do useful work at each iteration, i.e., all of the indented work to be executed for each item in the list."
   ]
  },
  {
   "cell_type": "code",
   "execution_count": null,
   "id": "e74a386a",
   "metadata": {},
   "outputs": [],
   "source": [
    "names = [\"Alice\",\"Bob\", \"Cassie\", \"Diane\", \"Ellen\"]"
   ]
  },
  {
   "cell_type": "code",
   "execution_count": null,
   "id": "b72bddde",
   "metadata": {},
   "outputs": [],
   "source": [
    "for name in names:\n",
    "    print(name)"
   ]
  },
  {
   "cell_type": "markdown",
   "id": "3f2d4beb",
   "metadata": {},
   "source": [
    "At each iteration, an item of the list is printed on a line by itself.  \n",
    "\n",
    "The variable `names` is our list, the variable `name` is a successive item in our list.\n",
    "\n",
    "In the `for` loop construct, the variable `name` is of our choosing. \n",
    "\n",
    "To confirm the variable is at our choosing, let's select a different variable name and run the same `for` loop:"
   ]
  },
  {
   "cell_type": "code",
   "execution_count": null,
   "id": "a12e20ce",
   "metadata": {},
   "outputs": [],
   "source": [
    "for x in names:\n",
    "    print(x)"
   ]
  },
  {
   "cell_type": "markdown",
   "id": "f765f248",
   "metadata": {},
   "source": [
    "Here, Python is saying, \n",
    "\n",
    "* `x` is the variable you chose.  \n",
    "\n",
    "* I am going to first assign to it the left-most item in the list.  \n",
    "\n",
    "* Now with `x` being equal to Alice I will do all of the work indented inside the `for` loop.\n",
    "\n",
    "* Then back to the top, `x` is now Bob, I'll do all the indented work again and then, back to top.\n",
    "\n",
    "* Do this as many times as there are items in the list."
   ]
  },
  {
   "cell_type": "markdown",
   "id": "160d2093",
   "metadata": {},
   "source": [
    "## Example "
   ]
  },
  {
   "cell_type": "code",
   "execution_count": null,
   "id": "848e8c38",
   "metadata": {},
   "outputs": [],
   "source": [
    "for word in names: \n",
    "    print(\"Hello \" + word)"
   ]
  },
  {
   "cell_type": "markdown",
   "id": "bf32b7c2",
   "metadata": {},
   "source": [
    "## Exercise: Print only the names of the people in the list whose names start with a vowel "
   ]
  },
  {
   "cell_type": "markdown",
   "id": "4a67536a",
   "metadata": {},
   "source": [
    "### KEY:\n",
    "\n",
    "Use sample name, name = \"Alice\"\n",
    "* name[0]"
   ]
  },
  {
   "cell_type": "code",
   "execution_count": null,
   "id": "ab699f1b",
   "metadata": {},
   "outputs": [],
   "source": [
    "name = \"Alice\" # sample name"
   ]
  },
  {
   "cell_type": "code",
   "execution_count": null,
   "id": "05f69647",
   "metadata": {},
   "outputs": [],
   "source": [
    "name[0] # isolate the left-most element of the string"
   ]
  },
  {
   "cell_type": "code",
   "execution_count": null,
   "id": "8a2bdeac",
   "metadata": {},
   "outputs": [],
   "source": [
    "# test left-most element of string against string of possible vowels\n",
    "\n",
    "name[0] in \"AEIOU\" "
   ]
  },
  {
   "cell_type": "markdown",
   "id": "991cebfb",
   "metadata": {},
   "source": [
    "One of two approaches:\n",
    "\n",
    "1. `name[0] in [\"A\", \"E\", \"I\", \"O\", \"U\"]`, using a list\n",
    "\n",
    "2. `name[0] in \"AEIOU\"`, using a string\n"
   ]
  },
  {
   "cell_type": "code",
   "execution_count": null,
   "id": "a1c4e6ef",
   "metadata": {},
   "outputs": [],
   "source": [
    "for name in names:\n",
    "    if name[0] in [\"A\", \"E\", \"I\", \"O\", \"U\"]:\n",
    "        print(name + \" starts with a vowel\")"
   ]
  },
  {
   "cell_type": "code",
   "execution_count": null,
   "id": "64f8cf7c",
   "metadata": {},
   "outputs": [],
   "source": [
    "for name in names:\n",
    "    if name[0] in \"AEIOU\":\n",
    "        print(name + \" starts with a vowel\")"
   ]
  },
  {
   "cell_type": "markdown",
   "id": "56c5f96f",
   "metadata": {},
   "source": [
    "For our analysis, we only had to do work on one item in the list.  The `for` loop provided the automation to process the rest.  What if the list was 1M elements long?"
   ]
  },
  {
   "cell_type": "markdown",
   "id": "c99ef8de",
   "metadata": {},
   "source": [
    "## Extension to Exercise\n",
    "What if instead of printing, we wanted to build up a list of students with vowel names?\n",
    "\n",
    "We will need an empty list to store this."
   ]
  },
  {
   "cell_type": "markdown",
   "id": "dd7ba495",
   "metadata": {},
   "source": [
    "        vowel_names = []\n",
    "        for name in names:\n",
    "            if name[0] == \"AEIOU\":\n",
    "                vowel_names.append(name)\n",
    "        \n",
    "        \n",
    "How do we return the list of students with vowel names?"
   ]
  },
  {
   "cell_type": "code",
   "execution_count": null,
   "id": "584141e5",
   "metadata": {},
   "outputs": [],
   "source": [
    "names"
   ]
  },
  {
   "cell_type": "code",
   "execution_count": null,
   "id": "81de0bf1",
   "metadata": {},
   "outputs": [],
   "source": [
    "vowel_names = []\n",
    "for name in names:\n",
    "    #print(name)\n",
    "    #print(name[0])\n",
    "    if name[0] in \"AEIOU\":\n",
    "        #print(name)\n",
    "        #print(name[0])\n",
    "        vowel_names.append(name)\n",
    "print(vowel_names)        "
   ]
  },
  {
   "cell_type": "markdown",
   "id": "51f91206",
   "metadata": {},
   "source": [
    "## Another example"
   ]
  },
  {
   "cell_type": "markdown",
   "id": "f2916a8d",
   "metadata": {},
   "source": [
    "Went to the grocery store and I want to add up my grocery total.  The prices of each item purchased are contained in a list. "
   ]
  },
  {
   "cell_type": "code",
   "execution_count": null,
   "id": "da653d29",
   "metadata": {},
   "outputs": [],
   "source": [
    "prices = [1.5, 2.35, 5.99, 16.49]"
   ]
  },
  {
   "cell_type": "code",
   "execution_count": null,
   "id": "08850efe",
   "metadata": {},
   "outputs": [],
   "source": [
    "len(prices)  # bought four items"
   ]
  },
  {
   "cell_type": "markdown",
   "id": "89ee34c1",
   "metadata": {},
   "source": [
    "Approach:  Establish a variable to hold total.  Take current value of `total` and add price to it and store it back in `total` to update it.\n",
    "\n",
    "To do this, we need to setup storage and initialize it before the `for` loop.\n",
    "\n",
    "Could also use built-in `sum` function and compute `sum(prices)`."
   ]
  },
  {
   "cell_type": "code",
   "execution_count": null,
   "id": "7e49f2fb",
   "metadata": {},
   "outputs": [],
   "source": [
    "total = 0\n",
    "for price in prices:\n",
    "    total = total + price\n",
    "print(total)"
   ]
  },
  {
   "cell_type": "code",
   "execution_count": null,
   "id": "eaed2803",
   "metadata": {},
   "outputs": [],
   "source": [
    "sum(prices)"
   ]
  }
 ],
 "metadata": {
  "kernelspec": {
   "display_name": "Python 3 (ipykernel)",
   "language": "python",
   "name": "python3"
  },
  "language_info": {
   "codemirror_mode": {
    "name": "ipython",
    "version": 3
   },
   "file_extension": ".py",
   "mimetype": "text/x-python",
   "name": "python",
   "nbconvert_exporter": "python",
   "pygments_lexer": "ipython3",
   "version": "3.9.7"
  }
 },
 "nbformat": 4,
 "nbformat_minor": 5
}
