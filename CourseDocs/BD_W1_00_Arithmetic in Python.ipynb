{
 "cells": [
  {
   "cell_type": "markdown",
   "id": "d75e89d1",
   "metadata": {},
   "source": [
    "# Python as a calculator\n",
    "\n",
    "\n",
    "### Arithmetic operators are used with numeric values to perform common mathematical operations:\n",
    "* Python understands negative numbers\n",
    "* In general white space doesn't matter\n",
    "* order of operations, just like in math class\n",
    "* variables also same as in math class"
   ]
  },
  {
   "cell_type": "markdown",
   "id": "8f5fdd13",
   "metadata": {},
   "source": [
    "## Addition"
   ]
  },
  {
   "cell_type": "code",
   "execution_count": null,
   "id": "8705a6e7",
   "metadata": {},
   "outputs": [],
   "source": [
    "2 + 2"
   ]
  },
  {
   "cell_type": "code",
   "execution_count": null,
   "id": "6b7c4831",
   "metadata": {},
   "outputs": [],
   "source": [
    "2 +                     2"
   ]
  },
  {
   "cell_type": "markdown",
   "id": "441f8f18",
   "metadata": {},
   "source": [
    "## Subtraction"
   ]
  },
  {
   "cell_type": "code",
   "execution_count": null,
   "id": "f437b693",
   "metadata": {},
   "outputs": [],
   "source": [
    "2 - 3"
   ]
  },
  {
   "cell_type": "markdown",
   "id": "31d4a3c2",
   "metadata": {},
   "source": [
    "## Multiplication"
   ]
  },
  {
   "cell_type": "code",
   "execution_count": null,
   "id": "ecb37f9e",
   "metadata": {},
   "outputs": [],
   "source": [
    "3 * 4"
   ]
  },
  {
   "cell_type": "markdown",
   "id": "ccaf30a8",
   "metadata": {},
   "source": [
    "## Division"
   ]
  },
  {
   "cell_type": "code",
   "execution_count": 1,
   "id": "e43f51c5",
   "metadata": {},
   "outputs": [
    {
     "data": {
      "text/plain": [
       "1.3333333333333333"
      ]
     },
     "execution_count": 1,
     "metadata": {},
     "output_type": "execute_result"
    }
   ],
   "source": [
    "4/3"
   ]
  },
  {
   "cell_type": "markdown",
   "id": "e189aeb4",
   "metadata": {},
   "source": [
    "## Integer Division (Floor Division)"
   ]
  },
  {
   "cell_type": "code",
   "execution_count": null,
   "id": "a61e5bc3",
   "metadata": {},
   "outputs": [],
   "source": [
    "29//10  # divides two numbers and rounds the result down to the nearest integer"
   ]
  },
  {
   "cell_type": "markdown",
   "id": "90c8c0f1",
   "metadata": {},
   "source": [
    "## Remainder or Modulus"
   ]
  },
  {
   "cell_type": "code",
   "execution_count": null,
   "id": "5acfacf5",
   "metadata": {},
   "outputs": [],
   "source": [
    "289 % 3  # when 3 divides 289 there is a remainder of 1,   289 mod 3 = 1 "
   ]
  },
  {
   "cell_type": "markdown",
   "id": "53397673",
   "metadata": {},
   "source": [
    "## Exponentiation"
   ]
  },
  {
   "cell_type": "code",
   "execution_count": null,
   "id": "17ec6708",
   "metadata": {},
   "outputs": [],
   "source": [
    "2 ** 32  # number of IPv4 addresses possible"
   ]
  },
  {
   "cell_type": "markdown",
   "id": "c3ad19d9",
   "metadata": {},
   "source": [
    "## Square root"
   ]
  },
  {
   "cell_type": "code",
   "execution_count": null,
   "id": "1f37c846",
   "metadata": {},
   "outputs": [],
   "source": [
    "sqrt(9)"
   ]
  },
  {
   "cell_type": "markdown",
   "id": "b9d893c0",
   "metadata": {},
   "source": [
    "## Order of Operations"
   ]
  },
  {
   "cell_type": "markdown",
   "id": "32aeb56c",
   "metadata": {},
   "source": [
    "### PEMDAS Rule in Python:\n",
    "\n",
    "Precedence in mathematics follows PEMDAS\n",
    "\n",
    "* P means parentheses\n",
    "* E means exponent\n",
    "* M means multiplication\n",
    "* D means division\n",
    "* A means addition\n",
    "* S means subtraction"
   ]
  },
  {
   "cell_type": "code",
   "execution_count": null,
   "id": "bc4c658d",
   "metadata": {},
   "outputs": [],
   "source": [
    "2 + 5 * 3 "
   ]
  },
  {
   "cell_type": "code",
   "execution_count": null,
   "id": "91143a0e",
   "metadata": {},
   "outputs": [],
   "source": [
    "(2 + 5) * 3"
   ]
  },
  {
   "cell_type": "markdown",
   "id": "8eac740d",
   "metadata": {},
   "source": [
    "## Variables are the same as in math class\n",
    "\t* `x = 4`\n",
    "\t* x is now a pointer to the number 4\n",
    "\t* use x in further expressions\n",
    "\t* `x*2`\n",
    "\t* `x + 5`"
   ]
  },
  {
   "cell_type": "code",
   "execution_count": null,
   "id": "0ba0e58c",
   "metadata": {},
   "outputs": [],
   "source": [
    "x = 4"
   ]
  },
  {
   "cell_type": "markdown",
   "id": "a540b444",
   "metadata": {},
   "source": [
    "* `x` is now a pointer to the number 4 \n",
    "* We can use `x` in further expressions"
   ]
  },
  {
   "cell_type": "code",
   "execution_count": null,
   "id": "20623795",
   "metadata": {},
   "outputs": [],
   "source": [
    "x * 2"
   ]
  },
  {
   "cell_type": "code",
   "execution_count": null,
   "id": "821fc7e6",
   "metadata": {},
   "outputs": [],
   "source": [
    "x + 5"
   ]
  },
  {
   "cell_type": "code",
   "execution_count": null,
   "id": "d78458c3",
   "metadata": {},
   "outputs": [],
   "source": [
    "y = x\n",
    "print(y)"
   ]
  }
 ],
 "metadata": {
  "kernelspec": {
   "display_name": "Python 3 (ipykernel)",
   "language": "python",
   "name": "python3"
  },
  "language_info": {
   "codemirror_mode": {
    "name": "ipython",
    "version": 3
   },
   "file_extension": ".py",
   "mimetype": "text/x-python",
   "name": "python",
   "nbconvert_exporter": "python",
   "pygments_lexer": "ipython3",
   "version": "3.9.7"
  }
 },
 "nbformat": 4,
 "nbformat_minor": 5
}
