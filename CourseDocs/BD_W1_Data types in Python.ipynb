{
 "cells": [
  {
   "cell_type": "code",
   "execution_count": 2,
   "id": "091b79d4",
   "metadata": {},
   "outputs": [
    {
     "data": {
      "text/plain": [
       "float"
      ]
     },
     "execution_count": 2,
     "metadata": {},
     "output_type": "execute_result"
    }
   ],
   "source": [
    "type(20.0)"
   ]
  },
  {
   "cell_type": "code",
   "execution_count": 25,
   "id": "51930d9c",
   "metadata": {},
   "outputs": [
    {
     "ename": "TypeError",
     "evalue": "__init__() takes 1 positional argument but 2 were given",
     "output_type": "error",
     "traceback": [
      "\u001b[1;31m---------------------------------------------------------------------------\u001b[0m",
      "\u001b[1;31mTypeError\u001b[0m                                 Traceback (most recent call last)",
      "\u001b[1;32m~\\AppData\\Local\\Temp/ipykernel_20348/61222273.py\u001b[0m in \u001b[0;36m<module>\u001b[1;34m\u001b[0m\n\u001b[0;32m     13\u001b[0m \u001b[1;33m\u001b[0m\u001b[0m\n\u001b[0;32m     14\u001b[0m \u001b[1;33m\u001b[0m\u001b[0m\n\u001b[1;32m---> 15\u001b[1;33m \u001b[0ma\u001b[0m \u001b[1;33m=\u001b[0m\u001b[0mmyData\u001b[0m\u001b[1;33m(\u001b[0m\u001b[1;36m1\u001b[0m\u001b[1;33m)\u001b[0m\u001b[1;33m\u001b[0m\u001b[1;33m\u001b[0m\u001b[0m\n\u001b[0m\u001b[0;32m     16\u001b[0m \u001b[0mtype\u001b[0m \u001b[1;33m(\u001b[0m\u001b[0ma\u001b[0m\u001b[1;33m)\u001b[0m\u001b[1;33m\u001b[0m\u001b[1;33m\u001b[0m\u001b[0m\n\u001b[0;32m     17\u001b[0m \u001b[0mprint\u001b[0m \u001b[1;33m(\u001b[0m\u001b[0ma\u001b[0m\u001b[1;33m.\u001b[0m\u001b[0mx\u001b[0m\u001b[1;33m)\u001b[0m\u001b[1;33m\u001b[0m\u001b[1;33m\u001b[0m\u001b[0m\n",
      "\u001b[1;31mTypeError\u001b[0m: __init__() takes 1 positional argument but 2 were given"
     ]
    }
   ],
   "source": [
    "# my own data type\n",
    "\n",
    "class myData:\n",
    "    x = 0\n",
    "    y = 0\n",
    "    def __init__(self, num):\n",
    "       self.x = num\n",
    "       self.y = num\n",
    "        \n",
    "    def __init__(self):\n",
    "       self.x = 1\n",
    "       self.y = 1\n",
    "\n",
    "\n",
    "a =myData(1)\n",
    "type (a)\n",
    "print (a.x)"
   ]
  },
  {
   "cell_type": "code",
   "execution_count": 5,
   "id": "a704a429",
   "metadata": {},
   "outputs": [
    {
     "name": "stdout",
     "output_type": "stream",
     "text": [
      "3\n"
     ]
    }
   ],
   "source": [
    "a.x = 3\n",
    "print (a.x)\n"
   ]
  },
  {
   "cell_type": "markdown",
   "id": "9f37045b",
   "metadata": {},
   "source": [
    "## Multiple constructors in Python"
   ]
  },
  {
   "cell_type": "code",
   "execution_count": 50,
   "id": "e7d80019",
   "metadata": {},
   "outputs": [
    {
     "name": "stdout",
     "output_type": "stream",
     "text": [
      "Sum of list : 15\n",
      "Square of int : 25\n",
      "String : Hello! GeeksforGeeks.\n",
      "String4 : 0\n",
      "<class '__main__.sample'>\n"
     ]
    }
   ],
   "source": [
    "class sample:\n",
    "    ans = 4\n",
    "    # constructor overloading\n",
    "    # based on args\n",
    "    def __init__(self, *args):\n",
    "  \n",
    "        # if args are more than 1\n",
    "        # sum of args\n",
    "        if len(args) == 0:\n",
    "            # doo nothing\n",
    "            self.ans = 0\n",
    "            \n",
    "        elif len(args) > 1:\n",
    "            self.ans = 0\n",
    "            for i in args:\n",
    "                self.ans += i\n",
    "  \n",
    "        # if arg is an integer\n",
    "        # square the arg\n",
    "        elif isinstance(args[0], int):\n",
    "            self.ans = args[0]*args[0]\n",
    "  \n",
    "        # if arg is string\n",
    "        # Print with hello\n",
    "        elif isinstance(args[0], str):\n",
    "            self.ans = \"Hello! \"+args[0]+\".\"\n",
    "            \n",
    "\n",
    "s1 = sample(1, 2, 3, 4, 5)\n",
    "print(\"Sum of list :\", s1.ans)\n",
    "  \n",
    "s2 = sample(5)\n",
    "print(\"Square of int :\", s2.ans)\n",
    "  \n",
    "s3 = sample(\"GeeksforGeeks\")\n",
    "print(\"String :\", s3.ans)\n",
    "\n",
    "s4 = sample()\n",
    "print(\"String4 :\", s4.ans)\n",
    "\n",
    "print(type(s4))"
   ]
  },
  {
   "cell_type": "code",
   "execution_count": 59,
   "id": "c14655e9",
   "metadata": {},
   "outputs": [
    {
     "name": "stdout",
     "output_type": "stream",
     "text": [
      "0\n",
      "1\n",
      "2\n"
     ]
    }
   ],
   "source": [
    "for i in range(0,3): print(i)\n"
   ]
  },
  {
   "cell_type": "code",
   "execution_count": null,
   "id": "f8a697eb",
   "metadata": {},
   "outputs": [],
   "source": []
  }
 ],
 "metadata": {
  "kernelspec": {
   "display_name": "Python 3 (ipykernel)",
   "language": "python",
   "name": "python3"
  },
  "language_info": {
   "codemirror_mode": {
    "name": "ipython",
    "version": 3
   },
   "file_extension": ".py",
   "mimetype": "text/x-python",
   "name": "python",
   "nbconvert_exporter": "python",
   "pygments_lexer": "ipython3",
   "version": "3.9.7"
  }
 },
 "nbformat": 4,
 "nbformat_minor": 5
}
