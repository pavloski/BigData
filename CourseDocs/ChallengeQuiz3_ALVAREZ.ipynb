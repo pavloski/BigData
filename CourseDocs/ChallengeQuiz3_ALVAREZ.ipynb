{
 "cells": [
  {
   "cell_type": "markdown",
   "id": "11eca6a1",
   "metadata": {},
   "source": [
    "# BIG DATA ANALYTICS COURSE\n",
    "\n",
    "## Quiz 3 Data Wrangling Mathematics"
   ]
  },
  {
   "cell_type": "markdown",
   "id": "712b4dad",
   "metadata": {},
   "source": [
    "In this Quiz you will apply what you have learned in the guided exercises to a new dataset. This dataset  is derived from a dataset used for a data mining competition hosted by DARPA. It is referred to as the KDD-99 intrusion detection dataset. The competition task was to build a network intrusion detector, a predictive model capable of distinguishing between “bad\" connections, called intrusions or attacks, and “good” normal connections.\n",
    "\n",
    "Details on the dataset can be accessed here: http://kdd.ics.uci.edu/databases/kddcup99/task.html.\n",
    "\n",
    "Course of Action: Using the techniques developed in the guided exercises, ingest the dataset, “wrangle the data,” and use your knowledge of Numpy and Python to answer the Quiz questions."
   ]
  },
  {
   "cell_type": "code",
   "execution_count": 2,
   "id": "63e1ec43",
   "metadata": {},
   "outputs": [
    {
     "data": {
      "text/html": [
       "<div>\n",
       "<style scoped>\n",
       "    .dataframe tbody tr th:only-of-type {\n",
       "        vertical-align: middle;\n",
       "    }\n",
       "\n",
       "    .dataframe tbody tr th {\n",
       "        vertical-align: top;\n",
       "    }\n",
       "\n",
       "    .dataframe thead th {\n",
       "        text-align: right;\n",
       "    }\n",
       "</style>\n",
       "<table border=\"1\" class=\"dataframe\">\n",
       "  <thead>\n",
       "    <tr style=\"text-align: right;\">\n",
       "      <th></th>\n",
       "      <th>duration</th>\n",
       "      <th>protocol_type</th>\n",
       "      <th>service</th>\n",
       "      <th>flag</th>\n",
       "      <th>src_bytes</th>\n",
       "      <th>dst_bytes</th>\n",
       "      <th>land</th>\n",
       "      <th>wrong_fragment</th>\n",
       "      <th>urgent</th>\n",
       "      <th>hot</th>\n",
       "      <th>...</th>\n",
       "      <th>dst_host_srv_count</th>\n",
       "      <th>dst_host_same_srv_rate</th>\n",
       "      <th>dst_host_diff_srv_rate</th>\n",
       "      <th>dst_host_same_src_port_rate</th>\n",
       "      <th>dst_host_srv_diff_host_rate</th>\n",
       "      <th>dst_host_serror_rate</th>\n",
       "      <th>dst_host_srv_serror_rate</th>\n",
       "      <th>dst_host_rerror_rate</th>\n",
       "      <th>dst_host_srv_rerror_rate</th>\n",
       "      <th>label</th>\n",
       "    </tr>\n",
       "  </thead>\n",
       "  <tbody>\n",
       "    <tr>\n",
       "      <th>0</th>\n",
       "      <td>0</td>\n",
       "      <td>tcp</td>\n",
       "      <td>http</td>\n",
       "      <td>SF</td>\n",
       "      <td>181</td>\n",
       "      <td>5450</td>\n",
       "      <td>0</td>\n",
       "      <td>0</td>\n",
       "      <td>0</td>\n",
       "      <td>0</td>\n",
       "      <td>...</td>\n",
       "      <td>9</td>\n",
       "      <td>1.0</td>\n",
       "      <td>0.0</td>\n",
       "      <td>0.11</td>\n",
       "      <td>0.0</td>\n",
       "      <td>0.0</td>\n",
       "      <td>0.0</td>\n",
       "      <td>0.0</td>\n",
       "      <td>0.0</td>\n",
       "      <td>normal</td>\n",
       "    </tr>\n",
       "    <tr>\n",
       "      <th>1</th>\n",
       "      <td>0</td>\n",
       "      <td>tcp</td>\n",
       "      <td>http</td>\n",
       "      <td>SF</td>\n",
       "      <td>239</td>\n",
       "      <td>486</td>\n",
       "      <td>0</td>\n",
       "      <td>0</td>\n",
       "      <td>0</td>\n",
       "      <td>0</td>\n",
       "      <td>...</td>\n",
       "      <td>19</td>\n",
       "      <td>1.0</td>\n",
       "      <td>0.0</td>\n",
       "      <td>0.05</td>\n",
       "      <td>0.0</td>\n",
       "      <td>0.0</td>\n",
       "      <td>0.0</td>\n",
       "      <td>0.0</td>\n",
       "      <td>0.0</td>\n",
       "      <td>normal</td>\n",
       "    </tr>\n",
       "    <tr>\n",
       "      <th>2</th>\n",
       "      <td>0</td>\n",
       "      <td>tcp</td>\n",
       "      <td>http</td>\n",
       "      <td>SF</td>\n",
       "      <td>235</td>\n",
       "      <td>1337</td>\n",
       "      <td>0</td>\n",
       "      <td>0</td>\n",
       "      <td>0</td>\n",
       "      <td>0</td>\n",
       "      <td>...</td>\n",
       "      <td>29</td>\n",
       "      <td>1.0</td>\n",
       "      <td>0.0</td>\n",
       "      <td>0.03</td>\n",
       "      <td>0.0</td>\n",
       "      <td>0.0</td>\n",
       "      <td>0.0</td>\n",
       "      <td>0.0</td>\n",
       "      <td>0.0</td>\n",
       "      <td>normal</td>\n",
       "    </tr>\n",
       "    <tr>\n",
       "      <th>3</th>\n",
       "      <td>0</td>\n",
       "      <td>tcp</td>\n",
       "      <td>http</td>\n",
       "      <td>SF</td>\n",
       "      <td>219</td>\n",
       "      <td>1337</td>\n",
       "      <td>0</td>\n",
       "      <td>0</td>\n",
       "      <td>0</td>\n",
       "      <td>0</td>\n",
       "      <td>...</td>\n",
       "      <td>39</td>\n",
       "      <td>1.0</td>\n",
       "      <td>0.0</td>\n",
       "      <td>0.03</td>\n",
       "      <td>0.0</td>\n",
       "      <td>0.0</td>\n",
       "      <td>0.0</td>\n",
       "      <td>0.0</td>\n",
       "      <td>0.0</td>\n",
       "      <td>normal</td>\n",
       "    </tr>\n",
       "    <tr>\n",
       "      <th>4</th>\n",
       "      <td>0</td>\n",
       "      <td>tcp</td>\n",
       "      <td>http</td>\n",
       "      <td>SF</td>\n",
       "      <td>217</td>\n",
       "      <td>2032</td>\n",
       "      <td>0</td>\n",
       "      <td>0</td>\n",
       "      <td>0</td>\n",
       "      <td>0</td>\n",
       "      <td>...</td>\n",
       "      <td>49</td>\n",
       "      <td>1.0</td>\n",
       "      <td>0.0</td>\n",
       "      <td>0.02</td>\n",
       "      <td>0.0</td>\n",
       "      <td>0.0</td>\n",
       "      <td>0.0</td>\n",
       "      <td>0.0</td>\n",
       "      <td>0.0</td>\n",
       "      <td>normal</td>\n",
       "    </tr>\n",
       "  </tbody>\n",
       "</table>\n",
       "<p>5 rows × 42 columns</p>\n",
       "</div>"
      ],
      "text/plain": [
       "   duration protocol_type service flag  src_bytes  dst_bytes  land  \\\n",
       "0         0           tcp    http   SF        181       5450     0   \n",
       "1         0           tcp    http   SF        239        486     0   \n",
       "2         0           tcp    http   SF        235       1337     0   \n",
       "3         0           tcp    http   SF        219       1337     0   \n",
       "4         0           tcp    http   SF        217       2032     0   \n",
       "\n",
       "   wrong_fragment  urgent  hot  ...  dst_host_srv_count  \\\n",
       "0               0       0    0  ...                   9   \n",
       "1               0       0    0  ...                  19   \n",
       "2               0       0    0  ...                  29   \n",
       "3               0       0    0  ...                  39   \n",
       "4               0       0    0  ...                  49   \n",
       "\n",
       "   dst_host_same_srv_rate  dst_host_diff_srv_rate  \\\n",
       "0                     1.0                     0.0   \n",
       "1                     1.0                     0.0   \n",
       "2                     1.0                     0.0   \n",
       "3                     1.0                     0.0   \n",
       "4                     1.0                     0.0   \n",
       "\n",
       "   dst_host_same_src_port_rate  dst_host_srv_diff_host_rate  \\\n",
       "0                         0.11                          0.0   \n",
       "1                         0.05                          0.0   \n",
       "2                         0.03                          0.0   \n",
       "3                         0.03                          0.0   \n",
       "4                         0.02                          0.0   \n",
       "\n",
       "   dst_host_serror_rate  dst_host_srv_serror_rate  dst_host_rerror_rate  \\\n",
       "0                   0.0                       0.0                   0.0   \n",
       "1                   0.0                       0.0                   0.0   \n",
       "2                   0.0                       0.0                   0.0   \n",
       "3                   0.0                       0.0                   0.0   \n",
       "4                   0.0                       0.0                   0.0   \n",
       "\n",
       "   dst_host_srv_rerror_rate   label  \n",
       "0                       0.0  normal  \n",
       "1                       0.0  normal  \n",
       "2                       0.0  normal  \n",
       "3                       0.0  normal  \n",
       "4                       0.0  normal  \n",
       "\n",
       "[5 rows x 42 columns]"
      ]
     },
     "execution_count": 2,
     "metadata": {},
     "output_type": "execute_result"
    }
   ],
   "source": [
    "import numpy as np\n",
    "import pandas as pd\n",
    "\n",
    "# Read in the dataset\n",
    "df = pd.read_csv('challenge_quiz_2.csv')\n",
    "df.head(5)"
   ]
  },
  {
   "cell_type": "markdown",
   "id": "b9580a59",
   "metadata": {},
   "source": [
    "### 1. How many observations are contained in the dataset?\n",
    "there are 494020 observations"
   ]
  },
  {
   "cell_type": "code",
   "execution_count": 3,
   "id": "3853f334",
   "metadata": {},
   "outputs": [
    {
     "data": {
      "text/plain": [
       "(494020, 42)"
      ]
     },
     "execution_count": 3,
     "metadata": {},
     "output_type": "execute_result"
    }
   ],
   "source": [
    "df.shape"
   ]
  },
  {
   "cell_type": "markdown",
   "id": "2b7b2b27",
   "metadata": {},
   "source": [
    "### 2. How many attributes are contained in the dataset?\n",
    "Atributes are the number of columns of the dataset"
   ]
  },
  {
   "cell_type": "code",
   "execution_count": 10,
   "id": "e9169d37",
   "metadata": {},
   "outputs": [
    {
     "data": {
      "text/plain": [
       "42"
      ]
     },
     "execution_count": 10,
     "metadata": {},
     "output_type": "execute_result"
    }
   ],
   "source": [
    "df.columns.size"
   ]
  },
  {
   "cell_type": "markdown",
   "id": "fa7790ab",
   "metadata": {},
   "source": [
    "### 3. What is the average length of a connection (in seconds)?"
   ]
  },
  {
   "cell_type": "code",
   "execution_count": 13,
   "id": "45d9135f",
   "metadata": {},
   "outputs": [
    {
     "data": {
      "text/plain": [
       "58329"
      ]
     },
     "execution_count": 13,
     "metadata": {},
     "output_type": "execute_result"
    }
   ],
   "source": [
    "np.max(df.duration)"
   ]
  },
  {
   "cell_type": "code",
   "execution_count": 15,
   "id": "11ab94e8",
   "metadata": {},
   "outputs": [
    {
     "data": {
      "text/plain": [
       "47.97939961944861"
      ]
     },
     "execution_count": 15,
     "metadata": {},
     "output_type": "execute_result"
    }
   ],
   "source": [
    "np.mean(df.duration)"
   ]
  },
  {
   "cell_type": "markdown",
   "id": "c8d3f7a6",
   "metadata": {},
   "source": [
    "### 4. How many different types of protocols are contained in the dataset?"
   ]
  },
  {
   "cell_type": "code",
   "execution_count": 17,
   "id": "8ecdb744",
   "metadata": {},
   "outputs": [
    {
     "data": {
      "text/plain": [
       "array(['tcp', 'udp', 'icmp'], dtype=object)"
      ]
     },
     "execution_count": 17,
     "metadata": {},
     "output_type": "execute_result"
    }
   ],
   "source": [
    "df.protocol_type.unique()"
   ]
  },
  {
   "cell_type": "markdown",
   "id": "f9f741bb",
   "metadata": {},
   "source": [
    "### 5. What is the maximum number of failed login attempts recorded in this dataset?\n",
    "we look first at column names to figure out where this data maya be stored. There is a column: ***'num_failed_logins'***"
   ]
  },
  {
   "cell_type": "code",
   "execution_count": 19,
   "id": "60593a0c",
   "metadata": {},
   "outputs": [
    {
     "data": {
      "text/plain": [
       "Index(['duration', 'protocol_type', 'service', 'flag', 'src_bytes',\n",
       "       'dst_bytes', 'land', 'wrong_fragment', 'urgent', 'hot',\n",
       "       'num_failed_logins', 'logged_in', 'lnum_compromised', 'lroot_shell',\n",
       "       'lsu_attempted', 'lnum_root', 'lnum_file_creations', 'lnum_shells',\n",
       "       'lnum_access_files', 'lnum_outbound_cmds', 'is_host_login',\n",
       "       'is_guest_login', 'count', 'srv_count', 'serror_rate',\n",
       "       'srv_serror_rate', 'rerror_rate', 'srv_rerror_rate', 'same_srv_rate',\n",
       "       'diff_srv_rate', 'srv_diff_host_rate', 'dst_host_count',\n",
       "       'dst_host_srv_count', 'dst_host_same_srv_rate',\n",
       "       'dst_host_diff_srv_rate', 'dst_host_same_src_port_rate',\n",
       "       'dst_host_srv_diff_host_rate', 'dst_host_serror_rate',\n",
       "       'dst_host_srv_serror_rate', 'dst_host_rerror_rate',\n",
       "       'dst_host_srv_rerror_rate', 'label'],\n",
       "      dtype='object')"
      ]
     },
     "execution_count": 19,
     "metadata": {},
     "output_type": "execute_result"
    }
   ],
   "source": [
    "df.columns"
   ]
  },
  {
   "cell_type": "markdown",
   "id": "8adfcac5",
   "metadata": {},
   "source": [
    "In order to look for the max number of fail attempts we use the ***max()*** funtion of dataframe. there was only ***one*** attempt with 5 log-in failures"
   ]
  },
  {
   "cell_type": "code",
   "execution_count": 20,
   "id": "d98b22f0",
   "metadata": {},
   "outputs": [
    {
     "data": {
      "text/plain": [
       "5"
      ]
     },
     "execution_count": 20,
     "metadata": {},
     "output_type": "execute_result"
    }
   ],
   "source": [
    "df.num_failed_logins.max()"
   ]
  },
  {
   "cell_type": "code",
   "execution_count": 21,
   "id": "e433c16b",
   "metadata": {},
   "outputs": [
    {
     "data": {
      "text/plain": [
       "0    493957\n",
       "1        57\n",
       "2         3\n",
       "5         1\n",
       "4         1\n",
       "3         1\n",
       "Name: num_failed_logins, dtype: int64"
      ]
     },
     "execution_count": 21,
     "metadata": {},
     "output_type": "execute_result"
    }
   ],
   "source": [
    "df.num_failed_logins.value_counts()"
   ]
  },
  {
   "cell_type": "markdown",
   "id": "7ec0af74",
   "metadata": {},
   "source": [
    "### 6. What was the duration (in seconds) of the connection when the maximum number of failed login attempts was recorded in the dataset?"
   ]
  },
  {
   "cell_type": "markdown",
   "id": "1f360b77",
   "metadata": {},
   "source": [
    "Since there was just only one attempt, we can look it up directly. It is observation num. 15699 and had a duration of 23"
   ]
  },
  {
   "cell_type": "code",
   "execution_count": 22,
   "id": "43467583",
   "metadata": {},
   "outputs": [
    {
     "data": {
      "text/plain": [
       "15699    23\n",
       "Name: duration, dtype: int64"
      ]
     },
     "execution_count": 22,
     "metadata": {},
     "output_type": "execute_result"
    }
   ],
   "source": [
    "df.duration[df.num_failed_logins == 5]"
   ]
  },
  {
   "cell_type": "code",
   "execution_count": 28,
   "id": "9ecf3ed3",
   "metadata": {},
   "outputs": [
    {
     "data": {
      "text/plain": [
       "15699    5\n",
       "Name: num_failed_logins, dtype: int64"
      ]
     },
     "execution_count": 28,
     "metadata": {},
     "output_type": "execute_result"
    }
   ],
   "source": [
    "df[15699:15700].num_failed_logins"
   ]
  },
  {
   "cell_type": "markdown",
   "id": "83ce23d7",
   "metadata": {},
   "source": [
    "### 7. Missing values are represented in the dataset by the integer -99999. In our case, there is one corrupted entry present. Replace this missing value with the average value of the column where it is present. What is the new average value for this column?"
   ]
  },
  {
   "cell_type": "markdown",
   "id": "8f6e2566",
   "metadata": {},
   "source": [
    "We can use an already existing complex function to look up a single value across all elements of the dataframe. It yields the row or rows that contain the look-up value (-99999)"
   ]
  },
  {
   "cell_type": "code",
   "execution_count": 12,
   "id": "e13d6ecb",
   "metadata": {},
   "outputs": [
    {
     "data": {
      "text/html": [
       "<div>\n",
       "<style scoped>\n",
       "    .dataframe tbody tr th:only-of-type {\n",
       "        vertical-align: middle;\n",
       "    }\n",
       "\n",
       "    .dataframe tbody tr th {\n",
       "        vertical-align: top;\n",
       "    }\n",
       "\n",
       "    .dataframe thead th {\n",
       "        text-align: right;\n",
       "    }\n",
       "</style>\n",
       "<table border=\"1\" class=\"dataframe\">\n",
       "  <thead>\n",
       "    <tr style=\"text-align: right;\">\n",
       "      <th></th>\n",
       "      <th>duration</th>\n",
       "      <th>protocol_type</th>\n",
       "      <th>service</th>\n",
       "      <th>flag</th>\n",
       "      <th>src_bytes</th>\n",
       "      <th>dst_bytes</th>\n",
       "      <th>land</th>\n",
       "      <th>wrong_fragment</th>\n",
       "      <th>urgent</th>\n",
       "      <th>hot</th>\n",
       "      <th>...</th>\n",
       "      <th>dst_host_srv_count</th>\n",
       "      <th>dst_host_same_srv_rate</th>\n",
       "      <th>dst_host_diff_srv_rate</th>\n",
       "      <th>dst_host_same_src_port_rate</th>\n",
       "      <th>dst_host_srv_diff_host_rate</th>\n",
       "      <th>dst_host_serror_rate</th>\n",
       "      <th>dst_host_srv_serror_rate</th>\n",
       "      <th>dst_host_rerror_rate</th>\n",
       "      <th>dst_host_srv_rerror_rate</th>\n",
       "      <th>label</th>\n",
       "    </tr>\n",
       "  </thead>\n",
       "  <tbody>\n",
       "    <tr>\n",
       "      <th>73</th>\n",
       "      <td>0</td>\n",
       "      <td>tcp</td>\n",
       "      <td>http</td>\n",
       "      <td>SF</td>\n",
       "      <td>164</td>\n",
       "      <td>-99999</td>\n",
       "      <td>0</td>\n",
       "      <td>0</td>\n",
       "      <td>0</td>\n",
       "      <td>0</td>\n",
       "      <td>...</td>\n",
       "      <td>255</td>\n",
       "      <td>1.0</td>\n",
       "      <td>0.0</td>\n",
       "      <td>0.01</td>\n",
       "      <td>0.02</td>\n",
       "      <td>0.0</td>\n",
       "      <td>0.0</td>\n",
       "      <td>0.0</td>\n",
       "      <td>0.0</td>\n",
       "      <td>normal</td>\n",
       "    </tr>\n",
       "  </tbody>\n",
       "</table>\n",
       "<p>1 rows × 42 columns</p>\n",
       "</div>"
      ],
      "text/plain": [
       "    duration protocol_type service flag  src_bytes  dst_bytes  land  \\\n",
       "73         0           tcp    http   SF        164     -99999     0   \n",
       "\n",
       "    wrong_fragment  urgent  hot  ...  dst_host_srv_count  \\\n",
       "73               0       0    0  ...                 255   \n",
       "\n",
       "    dst_host_same_srv_rate  dst_host_diff_srv_rate  \\\n",
       "73                     1.0                     0.0   \n",
       "\n",
       "    dst_host_same_src_port_rate  dst_host_srv_diff_host_rate  \\\n",
       "73                         0.01                         0.02   \n",
       "\n",
       "    dst_host_serror_rate  dst_host_srv_serror_rate  dst_host_rerror_rate  \\\n",
       "73                   0.0                       0.0                   0.0   \n",
       "\n",
       "    dst_host_srv_rerror_rate   label  \n",
       "73                       0.0  normal  \n",
       "\n",
       "[1 rows x 42 columns]"
      ]
     },
     "execution_count": 12,
     "metadata": {},
     "output_type": "execute_result"
    }
   ],
   "source": [
    "mask = np.column_stack([df[col].astype(str).str.contains(\"-99999\", na=False) for col in df])\n",
    "df.loc[mask.any(axis=1)]\n",
    "\n"
   ]
  },
  {
   "cell_type": "markdown",
   "id": "491e2940",
   "metadata": {},
   "source": [
    "the missing value sits in the **'dst_bytes'** attribute. The mean of the column with -99999 in it is:"
   ]
  },
  {
   "cell_type": "code",
   "execution_count": 67,
   "id": "8ab60e3c",
   "metadata": {},
   "outputs": [
    {
     "data": {
      "text/plain": [
       "868.3193271527468"
      ]
     },
     "execution_count": 67,
     "metadata": {},
     "output_type": "execute_result"
    }
   ],
   "source": [
    "df.dst_bytes.mean()"
   ]
  },
  {
   "cell_type": "markdown",
   "id": "3b2fe119",
   "metadata": {},
   "source": [
    "We create a new df with the dst_bytes column and replace -99999 with  **numpy.NaN**, which is ignored by mathematical functions such as mean()"
   ]
  },
  {
   "cell_type": "code",
   "execution_count": 70,
   "id": "52522aa4",
   "metadata": {},
   "outputs": [
    {
     "name": "stdout",
     "output_type": "stream",
     "text": [
      "nan\n"
     ]
    }
   ],
   "source": [
    "dfDst_bytes = df.dst_bytes.copy()\n",
    "dfDst_bytes[73] = np.nan\n",
    "print(dfDst_bytes[73])"
   ]
  },
  {
   "cell_type": "markdown",
   "id": "e2a1f77d",
   "metadata": {},
   "source": [
    "The new mean:"
   ]
  },
  {
   "cell_type": "code",
   "execution_count": 71,
   "id": "de20bb62",
   "metadata": {},
   "outputs": [
    {
     "data": {
      "text/plain": [
       "868.5235041567228"
      ]
     },
     "execution_count": 71,
     "metadata": {},
     "output_type": "execute_result"
    }
   ],
   "source": [
    "dfDst_bytes.mean()"
   ]
  },
  {
   "cell_type": "markdown",
   "id": "7586d40d",
   "metadata": {},
   "source": [
    "Now we relace the NaN value with the new mean 868.52350"
   ]
  },
  {
   "cell_type": "code",
   "execution_count": 72,
   "id": "3dd69d35",
   "metadata": {},
   "outputs": [
    {
     "name": "stdout",
     "output_type": "stream",
     "text": [
      "868.5235041567228\n"
     ]
    }
   ],
   "source": [
    "dfDst_bytes[73] = dfDst_bytes.mean()\n",
    "print(dfDst_bytes[73])"
   ]
  },
  {
   "cell_type": "markdown",
   "id": "22a54682",
   "metadata": {},
   "source": [
    "and we calculate the new mean()"
   ]
  },
  {
   "cell_type": "code",
   "execution_count": 73,
   "id": "fbbc5abc",
   "metadata": {},
   "outputs": [
    {
     "data": {
      "text/plain": [
       "868.5235041567227"
      ]
     },
     "execution_count": 73,
     "metadata": {},
     "output_type": "execute_result"
    }
   ],
   "source": [
    "dfDst_bytes.mean()"
   ]
  },
  {
   "cell_type": "code",
   "execution_count": 16,
   "id": "889c4683",
   "metadata": {},
   "outputs": [
    {
     "data": {
      "text/plain": [
       "0"
      ]
     },
     "execution_count": 16,
     "metadata": {},
     "output_type": "execute_result"
    }
   ],
   "source": [
    "np.sum(df['dst_bytes'] == '-99999')"
   ]
  },
  {
   "cell_type": "code",
   "execution_count": 20,
   "id": "6107d40d",
   "metadata": {},
   "outputs": [
    {
     "data": {
      "text/plain": [
       "1"
      ]
     },
     "execution_count": 20,
     "metadata": {},
     "output_type": "execute_result"
    }
   ],
   "source": [
    "np.sum(df['dst_bytes']==-99999)"
   ]
  },
  {
   "cell_type": "code",
   "execution_count": 38,
   "id": "76102343",
   "metadata": {},
   "outputs": [
    {
     "name": "stdout",
     "output_type": "stream",
     "text": [
      "[73]\n"
     ]
    }
   ],
   "source": [
    "for c in df.columns:\n",
    "    #df.loc[df[c] == -99999].index.values devuelve un array\n",
    "    if df.loc[df[c] == -99999].index.values.size>0:\n",
    "        print(df.loc[df[c] == -99999].index.values)"
   ]
  },
  {
   "cell_type": "markdown",
   "id": "40f90746",
   "metadata": {},
   "source": [
    "### 8. Write a function that converts seconds to milliseconds. Apply this function to all the elements in the 'duration' column and then find the average time of a connection in milliseconds."
   ]
  },
  {
   "cell_type": "code",
   "execution_count": 76,
   "id": "f46eab31",
   "metadata": {},
   "outputs": [
    {
     "data": {
      "text/plain": [
       "47979.3996194486"
      ]
     },
     "execution_count": 76,
     "metadata": {},
     "output_type": "execute_result"
    }
   ],
   "source": [
    "def converToMil (x):\n",
    "    return x * 1000\n",
    "\n",
    "df.duration.apply(converToMil).mean()"
   ]
  },
  {
   "cell_type": "markdown",
   "id": "fdd56c36",
   "metadata": {},
   "source": [
    "### 9. Extract all the observations where Internet Relay Chat was employed. How many observations were obtained? Save these observations to a new DataFrame."
   ]
  },
  {
   "cell_type": "code",
   "execution_count": 77,
   "id": "98a33218",
   "metadata": {},
   "outputs": [
    {
     "data": {
      "text/plain": [
       "array(['http', 'smtp', 'finger', 'domain_u', 'auth', 'telnet', 'ftp',\n",
       "       'eco_i', 'ntp_u', 'ecr_i', 'other', 'private', 'pop_3', 'ftp_data',\n",
       "       'rje', 'time', 'mtp', 'link', 'remote_job', 'gopher', 'ssh',\n",
       "       'name', 'whois', 'domain', 'login', 'imap4', 'daytime', 'ctf',\n",
       "       'nntp', 'shell', 'IRC', 'nnsp', 'http_443', 'exec', 'printer',\n",
       "       'efs', 'courier', 'uucp', 'klogin', 'kshell', 'echo', 'discard',\n",
       "       'systat', 'supdup', 'iso_tsap', 'hostnames', 'csnet_ns', 'pop_2',\n",
       "       'sunrpc', 'uucp_path', 'netbios_ns', 'netbios_ssn', 'netbios_dgm',\n",
       "       'sql_net', 'vmnet', 'bgp', 'Z39_50', 'ldap', 'netstat', 'urh_i',\n",
       "       'X11', 'urp_i', 'pm_dump', 'tftp_u', 'tim_i', 'red_i'],\n",
       "      dtype=object)"
      ]
     },
     "execution_count": 77,
     "metadata": {},
     "output_type": "execute_result"
    }
   ],
   "source": [
    "df.service.unique()"
   ]
  },
  {
   "cell_type": "markdown",
   "id": "2bd133ba",
   "metadata": {},
   "source": [
    "the following approach yields a boolean dataframe with **Trues** where 'IRC' is found, and **Falses** elsewhere. The sum across all df yields the number of observations "
   ]
  },
  {
   "cell_type": "code",
   "execution_count": 93,
   "id": "717b28d8",
   "metadata": {},
   "outputs": [
    {
     "data": {
      "text/plain": [
       "43"
      ]
     },
     "execution_count": 93,
     "metadata": {},
     "output_type": "execute_result"
    }
   ],
   "source": [
    "df_IRC = df['service']== 'IRC'\n",
    "df_IRC.sum()"
   ]
  },
  {
   "cell_type": "code",
   "execution_count": 81,
   "id": "30bcb515",
   "metadata": {},
   "outputs": [
    {
     "data": {
      "text/plain": [
       "(43, 42)"
      ]
     },
     "execution_count": 81,
     "metadata": {},
     "output_type": "execute_result"
    }
   ],
   "source": [
    "df_IRC2 =df[df[\"service\"]== 'IRC']\n",
    "df_IRC2.shape"
   ]
  },
  {
   "cell_type": "markdown",
   "id": "22af95e8",
   "metadata": {},
   "source": [
    "### 10. Group these new observations by the 'label' attribute. How many observations reveal evidence of an intrusion?"
   ]
  },
  {
   "cell_type": "code",
   "execution_count": 82,
   "id": "d7b42437",
   "metadata": {},
   "outputs": [
    {
     "data": {
      "text/html": [
       "<div>\n",
       "<style scoped>\n",
       "    .dataframe tbody tr th:only-of-type {\n",
       "        vertical-align: middle;\n",
       "    }\n",
       "\n",
       "    .dataframe tbody tr th {\n",
       "        vertical-align: top;\n",
       "    }\n",
       "\n",
       "    .dataframe thead th {\n",
       "        text-align: right;\n",
       "    }\n",
       "</style>\n",
       "<table border=\"1\" class=\"dataframe\">\n",
       "  <thead>\n",
       "    <tr style=\"text-align: right;\">\n",
       "      <th></th>\n",
       "      <th>duration</th>\n",
       "      <th>protocol_type</th>\n",
       "      <th>service</th>\n",
       "      <th>flag</th>\n",
       "      <th>src_bytes</th>\n",
       "      <th>dst_bytes</th>\n",
       "      <th>land</th>\n",
       "      <th>wrong_fragment</th>\n",
       "      <th>urgent</th>\n",
       "      <th>hot</th>\n",
       "      <th>...</th>\n",
       "      <th>dst_host_srv_count</th>\n",
       "      <th>dst_host_same_srv_rate</th>\n",
       "      <th>dst_host_diff_srv_rate</th>\n",
       "      <th>dst_host_same_src_port_rate</th>\n",
       "      <th>dst_host_srv_diff_host_rate</th>\n",
       "      <th>dst_host_serror_rate</th>\n",
       "      <th>dst_host_srv_serror_rate</th>\n",
       "      <th>dst_host_rerror_rate</th>\n",
       "      <th>dst_host_srv_rerror_rate</th>\n",
       "      <th>label</th>\n",
       "    </tr>\n",
       "  </thead>\n",
       "  <tbody>\n",
       "    <tr>\n",
       "      <th>491412</th>\n",
       "      <td>10469</td>\n",
       "      <td>tcp</td>\n",
       "      <td>IRC</td>\n",
       "      <td>RSTR</td>\n",
       "      <td>2182</td>\n",
       "      <td>9386.0</td>\n",
       "      <td>0</td>\n",
       "      <td>0</td>\n",
       "      <td>0</td>\n",
       "      <td>0</td>\n",
       "      <td>...</td>\n",
       "      <td>4</td>\n",
       "      <td>0.57</td>\n",
       "      <td>0.29</td>\n",
       "      <td>0.14</td>\n",
       "      <td>0.0</td>\n",
       "      <td>0.00</td>\n",
       "      <td>0.00</td>\n",
       "      <td>0.57</td>\n",
       "      <td>1.00</td>\n",
       "      <td>normal</td>\n",
       "    </tr>\n",
       "    <tr>\n",
       "      <th>148572</th>\n",
       "      <td>9170</td>\n",
       "      <td>tcp</td>\n",
       "      <td>IRC</td>\n",
       "      <td>RSTO</td>\n",
       "      <td>1508</td>\n",
       "      <td>5434.0</td>\n",
       "      <td>0</td>\n",
       "      <td>0</td>\n",
       "      <td>0</td>\n",
       "      <td>0</td>\n",
       "      <td>...</td>\n",
       "      <td>2</td>\n",
       "      <td>0.02</td>\n",
       "      <td>0.02</td>\n",
       "      <td>0.01</td>\n",
       "      <td>0.0</td>\n",
       "      <td>0.00</td>\n",
       "      <td>0.00</td>\n",
       "      <td>0.02</td>\n",
       "      <td>1.00</td>\n",
       "      <td>normal</td>\n",
       "    </tr>\n",
       "    <tr>\n",
       "      <th>74499</th>\n",
       "      <td>238</td>\n",
       "      <td>tcp</td>\n",
       "      <td>IRC</td>\n",
       "      <td>RSTO</td>\n",
       "      <td>132</td>\n",
       "      <td>1247.0</td>\n",
       "      <td>0</td>\n",
       "      <td>0</td>\n",
       "      <td>0</td>\n",
       "      <td>0</td>\n",
       "      <td>...</td>\n",
       "      <td>22</td>\n",
       "      <td>0.13</td>\n",
       "      <td>0.01</td>\n",
       "      <td>0.01</td>\n",
       "      <td>0.0</td>\n",
       "      <td>0.01</td>\n",
       "      <td>0.05</td>\n",
       "      <td>0.10</td>\n",
       "      <td>0.73</td>\n",
       "      <td>normal</td>\n",
       "    </tr>\n",
       "    <tr>\n",
       "      <th>371718</th>\n",
       "      <td>0</td>\n",
       "      <td>tcp</td>\n",
       "      <td>IRC</td>\n",
       "      <td>S1</td>\n",
       "      <td>1808</td>\n",
       "      <td>6788.0</td>\n",
       "      <td>0</td>\n",
       "      <td>0</td>\n",
       "      <td>0</td>\n",
       "      <td>0</td>\n",
       "      <td>...</td>\n",
       "      <td>1</td>\n",
       "      <td>1.00</td>\n",
       "      <td>0.00</td>\n",
       "      <td>1.00</td>\n",
       "      <td>0.0</td>\n",
       "      <td>1.00</td>\n",
       "      <td>1.00</td>\n",
       "      <td>0.00</td>\n",
       "      <td>0.00</td>\n",
       "      <td>normal</td>\n",
       "    </tr>\n",
       "    <tr>\n",
       "      <th>371720</th>\n",
       "      <td>8800</td>\n",
       "      <td>tcp</td>\n",
       "      <td>IRC</td>\n",
       "      <td>RSTR</td>\n",
       "      <td>1127</td>\n",
       "      <td>8103.0</td>\n",
       "      <td>0</td>\n",
       "      <td>0</td>\n",
       "      <td>0</td>\n",
       "      <td>0</td>\n",
       "      <td>...</td>\n",
       "      <td>8</td>\n",
       "      <td>0.38</td>\n",
       "      <td>0.10</td>\n",
       "      <td>0.05</td>\n",
       "      <td>0.0</td>\n",
       "      <td>0.10</td>\n",
       "      <td>0.25</td>\n",
       "      <td>0.19</td>\n",
       "      <td>0.50</td>\n",
       "      <td>normal</td>\n",
       "    </tr>\n",
       "  </tbody>\n",
       "</table>\n",
       "<p>5 rows × 42 columns</p>\n",
       "</div>"
      ],
      "text/plain": [
       "        duration protocol_type service  flag  src_bytes  dst_bytes  land  \\\n",
       "491412     10469           tcp     IRC  RSTR       2182     9386.0     0   \n",
       "148572      9170           tcp     IRC  RSTO       1508     5434.0     0   \n",
       "74499        238           tcp     IRC  RSTO        132     1247.0     0   \n",
       "371718         0           tcp     IRC    S1       1808     6788.0     0   \n",
       "371720      8800           tcp     IRC  RSTR       1127     8103.0     0   \n",
       "\n",
       "        wrong_fragment  urgent  hot  ...  dst_host_srv_count  \\\n",
       "491412               0       0    0  ...                   4   \n",
       "148572               0       0    0  ...                   2   \n",
       "74499                0       0    0  ...                  22   \n",
       "371718               0       0    0  ...                   1   \n",
       "371720               0       0    0  ...                   8   \n",
       "\n",
       "        dst_host_same_srv_rate  dst_host_diff_srv_rate  \\\n",
       "491412                    0.57                    0.29   \n",
       "148572                    0.02                    0.02   \n",
       "74499                     0.13                    0.01   \n",
       "371718                    1.00                    0.00   \n",
       "371720                    0.38                    0.10   \n",
       "\n",
       "        dst_host_same_src_port_rate  dst_host_srv_diff_host_rate  \\\n",
       "491412                         0.14                          0.0   \n",
       "148572                         0.01                          0.0   \n",
       "74499                          0.01                          0.0   \n",
       "371718                         1.00                          0.0   \n",
       "371720                         0.05                          0.0   \n",
       "\n",
       "        dst_host_serror_rate  dst_host_srv_serror_rate  dst_host_rerror_rate  \\\n",
       "491412                  0.00                      0.00                  0.57   \n",
       "148572                  0.00                      0.00                  0.02   \n",
       "74499                   0.01                      0.05                  0.10   \n",
       "371718                  1.00                      1.00                  0.00   \n",
       "371720                  0.10                      0.25                  0.19   \n",
       "\n",
       "        dst_host_srv_rerror_rate   label  \n",
       "491412                      1.00  normal  \n",
       "148572                      1.00  normal  \n",
       "74499                       0.73  normal  \n",
       "371718                      0.00  normal  \n",
       "371720                      0.50  normal  \n",
       "\n",
       "[5 rows x 42 columns]"
      ]
     },
     "execution_count": 82,
     "metadata": {},
     "output_type": "execute_result"
    }
   ],
   "source": [
    "df_IRC2.sample(5)"
   ]
  },
  {
   "cell_type": "code",
   "execution_count": 84,
   "id": "ccc8a8aa",
   "metadata": {},
   "outputs": [
    {
     "data": {
      "text/plain": [
       "array(['normal', 'satan'], dtype=object)"
      ]
     },
     "execution_count": 84,
     "metadata": {},
     "output_type": "execute_result"
    }
   ],
   "source": [
    "df_IRC2.label.unique()"
   ]
  },
  {
   "cell_type": "code",
   "execution_count": 87,
   "id": "44eef0ef",
   "metadata": {},
   "outputs": [
    {
     "data": {
      "text/plain": [
       "normal    42\n",
       "satan      1\n",
       "Name: label, dtype: int64"
      ]
     },
     "execution_count": 87,
     "metadata": {},
     "output_type": "execute_result"
    }
   ],
   "source": [
    "df_IRC2.label.value_counts()"
   ]
  }
 ],
 "metadata": {
  "kernelspec": {
   "display_name": "Python 3 (ipykernel)",
   "language": "python",
   "name": "python3"
  },
  "language_info": {
   "codemirror_mode": {
    "name": "ipython",
    "version": 3
   },
   "file_extension": ".py",
   "mimetype": "text/x-python",
   "name": "python",
   "nbconvert_exporter": "python",
   "pygments_lexer": "ipython3",
   "version": "3.9.7"
  }
 },
 "nbformat": 4,
 "nbformat_minor": 5
}
